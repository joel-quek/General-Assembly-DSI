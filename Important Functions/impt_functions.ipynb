{
 "cells": [
  {
   "cell_type": "markdown",
   "metadata": {},
   "source": [
    "### Problem 7: I flip my coin until I flip heads. I count up the number of coins I flipped and roll that many dice. What is the probability that the average roll will be between 3 and 4 (inclusive)?\n",
    "- Example 1: If I flip heads on my first coin flip, I roll one die and stop.\n",
    "- Example 2: If I flip tails on my first coin flip and heads on my second, I will roll two dice and average their values.\n",
    "- Example 3: If I flip tails on my first two coin flips and heads on my third, I will roll three dice and average their values."
   ]
  },
  {
   "cell_type": "code",
   "execution_count": null,
   "metadata": {},
   "outputs": [],
   "source": [
    "def between_three_and_four(n):              # define our function with one argument, n\n",
    "    successes = 0                           # Count 1: instantiate number of successes to be 0. ie successful trials where the average rolls are between 3 nd 4 inclusive\n",
    "    for i in range(n):                      # run our experiment n times\n",
    "        rolls = 1                           # Count 2: I know that I'll roll at least once!\n",
    "        \n",
    "        while np.random.randint(0,2) == 0:     # keep flipping coins if i get tails (0), until I flip heads(1). While coin toss is tails.\n",
    "            rolls += 1                      # every time I flip tails, add 1 to rolls\n",
    "            \n",
    "        values = 0                          # instantiate values. This denotes TOTAL sum of dice rolls.\n",
    "        for j in range(rolls):              # I need to roll my dice \"rolls\" times\n",
    "            values += np.random.randint(1,7)   # roll j dice and add result to values\n",
    "        if (values / rolls) >= 3 and (values / rolls) <= 4: # if average is between 3 and 4\n",
    "            successes += 1                  # add one to successes\n",
    "    return successes / n                    # divide number of successes by n"
   ]
  },
  {
   "cell_type": "markdown",
   "metadata": {},
   "source": [
    "### Plot Distribution Function"
   ]
  },
  {
   "cell_type": "code",
   "execution_count": null,
   "metadata": {},
   "outputs": [],
   "source": [
    "# A short function which plots a random variable's pdf (or cdf!) from\n",
    "# limits lb (lower bound) to ub (upper bound) \n",
    "def plot_distn(rv, lb, ub, kind=\"pdf\"): #rv = random variable, lb = lower bound, ub = upper bound. Default is pdf plot\n",
    "    xs = np.linspace(lb, ub, 1000) # linear space with lb and ub and step is 1000\n",
    "    \n",
    "    if kind == \"pdf\":\n",
    "        ys = rv.pdf(xs)\n",
    "    elif kind == \"cdf\":\n",
    "        ys = rv.cdf(xs)\n",
    "        \n",
    "    plt.figure(figsize=(14, 5))\n",
    "    plt.plot(xs, ys, linewidth=3, color=\"navy\") # xs = x parameters, ys = y parameters"
   ]
  },
  {
   "cell_type": "code",
   "execution_count": null,
   "metadata": {},
   "outputs": [],
   "source": [
    "# Thanks to scipy, we can have a sort of random variable object\n",
    "X = stats.expon(scale=6) # this is the random variable rv. 6 is used because every 6 minutes there is a new bus.\n",
    "plot_distn(X, 0, 60) # this is a pdf\n",
    "# x-axis is the time for the bus to arrive\n",
    "# https://het.as.utexas.edu/HET/Software/Scipy/generated/scipy.stats.expon.html"
   ]
  },
  {
   "cell_type": "markdown",
   "metadata": {},
   "source": [
    "### Another distribution Plotter \n",
    "**Below is a function that will plot a distribution (as a list of numbers). Plot the salary information using this function.**"
   ]
  },
  {
   "cell_type": "code",
   "execution_count": null,
   "metadata": {},
   "outputs": [],
   "source": [
    "def dist_plotter(sample):\n",
    "    fig, ax = plt.subplots(figsize=(8,6))\n",
    "    ax = sns.distplot(sample, bins=50, kde=False)"
   ]
  },
  {
   "cell_type": "markdown",
   "metadata": {},
   "source": [
    "### Sampler Function\n",
    "\n",
    "**Write a function that will take a random sample of size $n=30$ from this salary list 1000 times, calculate the means of the samples, and return the sample means as a new list.**\n",
    "\n",
    "*Hint: you can use `numpy`'s `np.random.choice` to perform your sampling.*"
   ]
  },
  {
   "cell_type": "code",
   "execution_count": null,
   "metadata": {},
   "outputs": [],
   "source": [
    "def sampler(population, n=30, k=1000):\n",
    "    sample_means = []\n",
    "    for i in range(k):\n",
    "        sample = np.random.choice(population, size=n, replace=True)\n",
    "        sample_means.append(np.mean(sample))\n",
    "    return sample_means"
   ]
  },
  {
   "cell_type": "markdown",
   "metadata": {},
   "source": [
    "### Confidence Interval "
   ]
  },
  {
   "cell_type": "code",
   "execution_count": null,
   "metadata": {},
   "outputs": [],
   "source": [
    "def conf_int(data):\n",
    "    sample_mean = np.mean(data)\n",
    "    sigma = np.std(data)\n",
    "    n = len(data)\n",
    "    \n",
    "    return (round(sample_mean - 1.96 * sigma / (n ** 0.5), 4), \n",
    "            round(sample_mean + 1.96 * sigma / (n ** 0.5), 4))"
   ]
  }
 ],
 "metadata": {
  "language_info": {
   "name": "python"
  },
  "orig_nbformat": 4
 },
 "nbformat": 4,
 "nbformat_minor": 2
}
