{
 "cells": [
  {
   "cell_type": "markdown",
   "metadata": {},
   "source": [
    "<img src=\"http://imgur.com/1ZcRyrc.png\" style=\"float: left; margin: 20px; height: 55px\">\n",
    "\n",
    "# Project 2 Regression Challenge\n",
    "\n",
    "_Authors: Joel Quek (SG)_"
   ]
  },
  {
   "cell_type": "markdown",
   "metadata": {},
   "source": [
    "# Problem Statement"
   ]
  },
  {
   "cell_type": "markdown",
   "metadata": {},
   "source": [
    "The question I wish to answer is: What are factors that have a great effect on housing price?\n",
    "\n",
    "I will create models for housing price prediction based on multiple key factors.\n"
   ]
  },
  {
   "cell_type": "markdown",
   "metadata": {},
   "source": [
    "# Table of Contents"
   ]
  },
  {
   "cell_type": "markdown",
   "metadata": {},
   "source": [
    "# Import Libraries "
   ]
  },
  {
   "cell_type": "code",
   "execution_count": 2739,
   "metadata": {},
   "outputs": [],
   "source": [
    "import pandas as pd\n",
    "import numpy as np\n",
    "import seaborn as sns\n",
    "import matplotlib.pyplot as plt\n",
    "from sklearn import metrics\n",
    "from sklearn import preprocessing\n",
    "from sklearn.linear_model import LinearRegression, Ridge, Lasso,RidgeCV, LassoCV\n",
    "from sklearn.model_selection import cross_val_score\n",
    "from sklearn.model_selection import train_test_split\n",
    "from sklearn.linear_model import LinearRegression\n",
    "from sklearn.metrics import r2_score, mean_squared_error\n",
    "from sklearn.feature_selection import RFE\n",
    "from statsmodels.stats.outliers_influence import variance_inflation_factor\n",
    "import statsmodels.api as sm  \n",
    "\n",
    "from IPython.display import display #display allows display of all columns with headers\n",
    "\n",
    "%matplotlib inline"
   ]
  },
  {
   "cell_type": "markdown",
   "metadata": {},
   "source": [
    "# Cleaned Data Sets and [Column Documentation](http://jse.amstat.org/v19n3/decock/DataDocumentation.txt)"
   ]
  },
  {
   "cell_type": "markdown",
   "metadata": {},
   "source": [
    "The data has been cleaned in another file titled 'project_2_data_clean.ipynb'\n",
    "\n",
    "I grouped the data according to different classes of factors affecting house value\n",
    "1. Location and Proximity to Amenities\n",
    "2. Quality and Condition of the Home\n",
    "3. Parts of the Home\n",
    "4. Dimensions\n",
    "5. Utilities and Intangible Factors\n",
    "6. Time Factors\n",
    "7. Price Factors\n",
    "\n",
    "Documentation of the column headers can be found at the [Journal of Statistics Education](http://jse.amstat.org/v19n3/decock/DataDocumentation.txt)"
   ]
  },
  {
   "cell_type": "code",
   "execution_count": 2740,
   "metadata": {},
   "outputs": [],
   "source": [
    "location_proximity_df=pd.read_csv('location_proximity.csv')\n",
    "quality_condition_df=pd.read_csv('quality_condition.csv')\n",
    "parts_of_home_df=pd.read_csv('parts_of_home.csv')\n",
    "dimensions_df=pd.read_csv('dimensions.csv')\n",
    "utilities_intangible_df=pd.read_csv('utilities_intangible.csv')\n",
    "time_factors_df=pd.read_csv('time_factors.csv')\n",
    "price_factors_df=pd.read_csv('price_factors.csv')"
   ]
  },
  {
   "cell_type": "markdown",
   "metadata": {},
   "source": [
    "# Factor 1: Location and Proximity "
   ]
  },
  {
   "cell_type": "code",
   "execution_count": 2741,
   "metadata": {},
   "outputs": [
    {
     "name": "stdout",
     "output_type": "stream",
     "text": [
      "(1887, 14)\n"
     ]
    },
    {
     "data": {
      "text/html": [
       "<div>\n",
       "<style scoped>\n",
       "    .dataframe tbody tr th:only-of-type {\n",
       "        vertical-align: middle;\n",
       "    }\n",
       "\n",
       "    .dataframe tbody tr th {\n",
       "        vertical-align: top;\n",
       "    }\n",
       "\n",
       "    .dataframe thead th {\n",
       "        text-align: right;\n",
       "    }\n",
       "</style>\n",
       "<table border=\"1\" class=\"dataframe\">\n",
       "  <thead>\n",
       "    <tr style=\"text-align: right;\">\n",
       "      <th></th>\n",
       "      <th>MS SubClass</th>\n",
       "      <th>MS Zoning</th>\n",
       "      <th>Lot Config</th>\n",
       "      <th>Neighborhood</th>\n",
       "      <th>Condition 1</th>\n",
       "      <th>Condition 2</th>\n",
       "      <th>Bldg Type</th>\n",
       "      <th>Land Contour</th>\n",
       "      <th>Land Slope</th>\n",
       "      <th>Street</th>\n",
       "      <th>Lot Shape</th>\n",
       "      <th>Sale Type</th>\n",
       "      <th>SalePrice</th>\n",
       "      <th>Price Per Sq Ft</th>\n",
       "    </tr>\n",
       "  </thead>\n",
       "  <tbody>\n",
       "    <tr>\n",
       "      <th>0</th>\n",
       "      <td>2 Storey 1946 Newer</td>\n",
       "      <td>Residential Low Density</td>\n",
       "      <td>CulDSac</td>\n",
       "      <td>Sawyer</td>\n",
       "      <td>RRAe</td>\n",
       "      <td>Norm</td>\n",
       "      <td>1Fam</td>\n",
       "      <td>Lvl</td>\n",
       "      <td>Gtl</td>\n",
       "      <td>Pave</td>\n",
       "      <td>IR1</td>\n",
       "      <td>WD</td>\n",
       "      <td>130500</td>\n",
       "      <td>9.654509</td>\n",
       "    </tr>\n",
       "    <tr>\n",
       "      <th>1</th>\n",
       "      <td>2 Storey 1946 Newer</td>\n",
       "      <td>Residential Low Density</td>\n",
       "      <td>CulDSac</td>\n",
       "      <td>SawyerW</td>\n",
       "      <td>Norm</td>\n",
       "      <td>Norm</td>\n",
       "      <td>1Fam</td>\n",
       "      <td>Lvl</td>\n",
       "      <td>Gtl</td>\n",
       "      <td>Pave</td>\n",
       "      <td>IR1</td>\n",
       "      <td>WD</td>\n",
       "      <td>220000</td>\n",
       "      <td>19.143752</td>\n",
       "    </tr>\n",
       "    <tr>\n",
       "      <th>2</th>\n",
       "      <td>1 Storey Newer All</td>\n",
       "      <td>Residential Low Density</td>\n",
       "      <td>Inside</td>\n",
       "      <td>NAmes</td>\n",
       "      <td>Norm</td>\n",
       "      <td>Norm</td>\n",
       "      <td>1Fam</td>\n",
       "      <td>Lvl</td>\n",
       "      <td>Gtl</td>\n",
       "      <td>Pave</td>\n",
       "      <td>Reg</td>\n",
       "      <td>WD</td>\n",
       "      <td>109000</td>\n",
       "      <td>13.759152</td>\n",
       "    </tr>\n",
       "  </tbody>\n",
       "</table>\n",
       "</div>"
      ],
      "text/plain": [
       "           MS SubClass                MS Zoning Lot Config Neighborhood  \\\n",
       "0  2 Storey 1946 Newer  Residential Low Density    CulDSac       Sawyer   \n",
       "1  2 Storey 1946 Newer  Residential Low Density    CulDSac      SawyerW   \n",
       "2   1 Storey Newer All  Residential Low Density     Inside        NAmes   \n",
       "\n",
       "  Condition 1 Condition 2 Bldg Type Land Contour Land Slope Street Lot Shape  \\\n",
       "0        RRAe        Norm      1Fam          Lvl        Gtl   Pave       IR1   \n",
       "1        Norm        Norm      1Fam          Lvl        Gtl   Pave       IR1   \n",
       "2        Norm        Norm      1Fam          Lvl        Gtl   Pave       Reg   \n",
       "\n",
       "  Sale Type  SalePrice  Price Per Sq Ft  \n",
       "0       WD      130500         9.654509  \n",
       "1       WD      220000        19.143752  \n",
       "2       WD      109000        13.759152  "
      ]
     },
     "execution_count": 2741,
     "metadata": {},
     "output_type": "execute_result"
    }
   ],
   "source": [
    "location_proximity_df.drop('Unnamed: 0', axis=1, inplace=True)\n",
    "price_factors_df.drop(['Unnamed: 0'], axis=1, inplace=True)\n",
    "location_proximity_price_df = location_proximity_df.join(price_factors_df, how='outer')\n",
    "print(location_proximity_price_df.shape)\n",
    "location_proximity_price_df.head(3)"
   ]
  },
  {
   "cell_type": "code",
   "execution_count": 2742,
   "metadata": {},
   "outputs": [
    {
     "name": "stdout",
     "output_type": "stream",
     "text": [
      "<class 'pandas.core.frame.DataFrame'>\n",
      "RangeIndex: 1887 entries, 0 to 1886\n",
      "Data columns (total 14 columns):\n",
      " #   Column           Non-Null Count  Dtype  \n",
      "---  ------           --------------  -----  \n",
      " 0   MS SubClass      1887 non-null   object \n",
      " 1   MS Zoning        1887 non-null   object \n",
      " 2   Lot Config       1887 non-null   object \n",
      " 3   Neighborhood     1887 non-null   object \n",
      " 4   Condition 1      1887 non-null   object \n",
      " 5   Condition 2      1887 non-null   object \n",
      " 6   Bldg Type        1887 non-null   object \n",
      " 7   Land Contour     1887 non-null   object \n",
      " 8   Land Slope       1887 non-null   object \n",
      " 9   Street           1887 non-null   object \n",
      " 10  Lot Shape        1887 non-null   object \n",
      " 11  Sale Type        1887 non-null   object \n",
      " 12  SalePrice        1887 non-null   int64  \n",
      " 13  Price Per Sq Ft  1887 non-null   float64\n",
      "dtypes: float64(1), int64(1), object(12)\n",
      "memory usage: 206.5+ KB\n"
     ]
    }
   ],
   "source": [
    "location_proximity_price_df.info()"
   ]
  },
  {
   "cell_type": "markdown",
   "metadata": {},
   "source": [
    "Given that most of the datatypes are objects, I will use K-NN or hot-encode the object data to model\n",
    "\n",
    "---"
   ]
  },
  {
   "cell_type": "markdown",
   "metadata": {},
   "source": [
    "## Hot Encode Categorical Data [via get_dummies]"
   ]
  },
  {
   "cell_type": "code",
   "execution_count": 2743,
   "metadata": {},
   "outputs": [
    {
     "data": {
      "text/plain": [
       "Index(['MS SubClass', 'MS Zoning', 'Lot Config', 'Neighborhood', 'Condition 1',\n",
       "       'Condition 2', 'Bldg Type', 'Land Contour', 'Land Slope', 'Street',\n",
       "       'Lot Shape', 'Sale Type', 'SalePrice', 'Price Per Sq Ft'],\n",
       "      dtype='object')"
      ]
     },
     "execution_count": 2743,
     "metadata": {},
     "output_type": "execute_result"
    }
   ],
   "source": [
    "location_proximity_price_df.columns"
   ]
  },
  {
   "cell_type": "code",
   "execution_count": 2744,
   "metadata": {},
   "outputs": [
    {
     "name": "stdout",
     "output_type": "stream",
     "text": [
      "(1887, 88)\n"
     ]
    },
    {
     "data": {
      "text/html": [
       "<div>\n",
       "<style scoped>\n",
       "    .dataframe tbody tr th:only-of-type {\n",
       "        vertical-align: middle;\n",
       "    }\n",
       "\n",
       "    .dataframe tbody tr th {\n",
       "        vertical-align: top;\n",
       "    }\n",
       "\n",
       "    .dataframe thead th {\n",
       "        text-align: right;\n",
       "    }\n",
       "</style>\n",
       "<table border=\"1\" class=\"dataframe\">\n",
       "  <thead>\n",
       "    <tr style=\"text-align: right;\">\n",
       "      <th></th>\n",
       "      <th>SalePrice</th>\n",
       "      <th>Price Per Sq Ft</th>\n",
       "      <th>MS SubClass_1 Storey Newer All</th>\n",
       "      <th>MS SubClass_1 Storey PUD</th>\n",
       "      <th>MS SubClass_1 Storey W/Finished Attic</th>\n",
       "      <th>MS SubClass_1.5 Finished</th>\n",
       "      <th>MS SubClass_1.5 Storey PUD</th>\n",
       "      <th>MS SubClass_1.5 Unfinished</th>\n",
       "      <th>MS SubClass_2 Storey 1946 Newer</th>\n",
       "      <th>MS SubClass_2 Storey 1946 Older</th>\n",
       "      <th>...</th>\n",
       "      <th>Lot Shape_IR3</th>\n",
       "      <th>Lot Shape_Reg</th>\n",
       "      <th>Sale Type_CWD</th>\n",
       "      <th>Sale Type_Con</th>\n",
       "      <th>Sale Type_ConLD</th>\n",
       "      <th>Sale Type_ConLI</th>\n",
       "      <th>Sale Type_ConLw</th>\n",
       "      <th>Sale Type_New</th>\n",
       "      <th>Sale Type_Oth</th>\n",
       "      <th>Sale Type_WD</th>\n",
       "    </tr>\n",
       "  </thead>\n",
       "  <tbody>\n",
       "    <tr>\n",
       "      <th>0</th>\n",
       "      <td>130500</td>\n",
       "      <td>9.654509</td>\n",
       "      <td>0</td>\n",
       "      <td>0</td>\n",
       "      <td>0</td>\n",
       "      <td>0</td>\n",
       "      <td>0</td>\n",
       "      <td>0</td>\n",
       "      <td>1</td>\n",
       "      <td>0</td>\n",
       "      <td>...</td>\n",
       "      <td>0</td>\n",
       "      <td>0</td>\n",
       "      <td>0</td>\n",
       "      <td>0</td>\n",
       "      <td>0</td>\n",
       "      <td>0</td>\n",
       "      <td>0</td>\n",
       "      <td>0</td>\n",
       "      <td>0</td>\n",
       "      <td>1</td>\n",
       "    </tr>\n",
       "    <tr>\n",
       "      <th>1</th>\n",
       "      <td>220000</td>\n",
       "      <td>19.143752</td>\n",
       "      <td>0</td>\n",
       "      <td>0</td>\n",
       "      <td>0</td>\n",
       "      <td>0</td>\n",
       "      <td>0</td>\n",
       "      <td>0</td>\n",
       "      <td>1</td>\n",
       "      <td>0</td>\n",
       "      <td>...</td>\n",
       "      <td>0</td>\n",
       "      <td>0</td>\n",
       "      <td>0</td>\n",
       "      <td>0</td>\n",
       "      <td>0</td>\n",
       "      <td>0</td>\n",
       "      <td>0</td>\n",
       "      <td>0</td>\n",
       "      <td>0</td>\n",
       "      <td>1</td>\n",
       "    </tr>\n",
       "    <tr>\n",
       "      <th>2</th>\n",
       "      <td>109000</td>\n",
       "      <td>13.759152</td>\n",
       "      <td>1</td>\n",
       "      <td>0</td>\n",
       "      <td>0</td>\n",
       "      <td>0</td>\n",
       "      <td>0</td>\n",
       "      <td>0</td>\n",
       "      <td>0</td>\n",
       "      <td>0</td>\n",
       "      <td>...</td>\n",
       "      <td>0</td>\n",
       "      <td>1</td>\n",
       "      <td>0</td>\n",
       "      <td>0</td>\n",
       "      <td>0</td>\n",
       "      <td>0</td>\n",
       "      <td>0</td>\n",
       "      <td>0</td>\n",
       "      <td>0</td>\n",
       "      <td>1</td>\n",
       "    </tr>\n",
       "  </tbody>\n",
       "</table>\n",
       "<p>3 rows × 88 columns</p>\n",
       "</div>"
      ],
      "text/plain": [
       "   SalePrice  Price Per Sq Ft  MS SubClass_1 Storey Newer All  \\\n",
       "0     130500         9.654509                               0   \n",
       "1     220000        19.143752                               0   \n",
       "2     109000        13.759152                               1   \n",
       "\n",
       "   MS SubClass_1 Storey PUD  MS SubClass_1 Storey W/Finished Attic  \\\n",
       "0                         0                                      0   \n",
       "1                         0                                      0   \n",
       "2                         0                                      0   \n",
       "\n",
       "   MS SubClass_1.5 Finished  MS SubClass_1.5 Storey PUD  \\\n",
       "0                         0                           0   \n",
       "1                         0                           0   \n",
       "2                         0                           0   \n",
       "\n",
       "   MS SubClass_1.5 Unfinished  MS SubClass_2 Storey 1946 Newer  \\\n",
       "0                           0                                1   \n",
       "1                           0                                1   \n",
       "2                           0                                0   \n",
       "\n",
       "   MS SubClass_2 Storey 1946 Older  ...  Lot Shape_IR3  Lot Shape_Reg  \\\n",
       "0                                0  ...              0              0   \n",
       "1                                0  ...              0              0   \n",
       "2                                0  ...              0              1   \n",
       "\n",
       "   Sale Type_CWD  Sale Type_Con  Sale Type_ConLD  Sale Type_ConLI  \\\n",
       "0              0              0                0                0   \n",
       "1              0              0                0                0   \n",
       "2              0              0                0                0   \n",
       "\n",
       "   Sale Type_ConLw  Sale Type_New  Sale Type_Oth  Sale Type_WD   \n",
       "0                0              0              0              1  \n",
       "1                0              0              0              1  \n",
       "2                0              0              0              1  \n",
       "\n",
       "[3 rows x 88 columns]"
      ]
     },
     "execution_count": 2744,
     "metadata": {},
     "output_type": "execute_result"
    }
   ],
   "source": [
    "location_proximity_price_dummies_df = pd.get_dummies(location_proximity_price_df,columns=['MS SubClass', 'MS Zoning', 'Lot Config', 'Neighborhood', 'Condition 1',\n",
    "       'Condition 2', 'Bldg Type', 'Land Contour', 'Land Slope', 'Street',\n",
    "       'Lot Shape', 'Sale Type'], drop_first=True)\n",
    "\n",
    "print(location_proximity_price_dummies_df.shape)\n",
    "location_proximity_price_dummies_df.head(3)\n"
   ]
  },
  {
   "cell_type": "markdown",
   "metadata": {},
   "source": [
    "## Correlation of Various Location and Proximity Factors"
   ]
  },
  {
   "cell_type": "code",
   "execution_count": 2745,
   "metadata": {},
   "outputs": [
    {
     "data": {
      "text/html": [
       "<div>\n",
       "<style scoped>\n",
       "    .dataframe tbody tr th:only-of-type {\n",
       "        vertical-align: middle;\n",
       "    }\n",
       "\n",
       "    .dataframe tbody tr th {\n",
       "        vertical-align: top;\n",
       "    }\n",
       "\n",
       "    .dataframe thead th {\n",
       "        text-align: right;\n",
       "    }\n",
       "</style>\n",
       "<table border=\"1\" class=\"dataframe\">\n",
       "  <thead>\n",
       "    <tr style=\"text-align: right;\">\n",
       "      <th></th>\n",
       "      <th>SalePrice</th>\n",
       "      <th>Price Per Sq Ft</th>\n",
       "      <th>MS SubClass_1 Storey Newer All</th>\n",
       "      <th>MS SubClass_1 Storey PUD</th>\n",
       "      <th>MS SubClass_1 Storey W/Finished Attic</th>\n",
       "      <th>MS SubClass_1.5 Finished</th>\n",
       "      <th>MS SubClass_1.5 Storey PUD</th>\n",
       "      <th>MS SubClass_1.5 Unfinished</th>\n",
       "      <th>MS SubClass_2 Storey 1946 Newer</th>\n",
       "      <th>MS SubClass_2 Storey 1946 Older</th>\n",
       "      <th>...</th>\n",
       "      <th>Lot Shape_IR3</th>\n",
       "      <th>Lot Shape_Reg</th>\n",
       "      <th>Sale Type_CWD</th>\n",
       "      <th>Sale Type_Con</th>\n",
       "      <th>Sale Type_ConLD</th>\n",
       "      <th>Sale Type_ConLI</th>\n",
       "      <th>Sale Type_ConLw</th>\n",
       "      <th>Sale Type_New</th>\n",
       "      <th>Sale Type_Oth</th>\n",
       "      <th>Sale Type_WD</th>\n",
       "    </tr>\n",
       "  </thead>\n",
       "  <tbody>\n",
       "    <tr>\n",
       "      <th>SalePrice</th>\n",
       "      <td>1.000000</td>\n",
       "      <td>0.271195</td>\n",
       "      <td>0.055966</td>\n",
       "      <td>0.083473</td>\n",
       "      <td>-0.040061</td>\n",
       "      <td>-0.191496</td>\n",
       "      <td>-0.011458</td>\n",
       "      <td>-0.060633</td>\n",
       "      <td>0.337426</td>\n",
       "      <td>-0.088395</td>\n",
       "      <td>...</td>\n",
       "      <td>0.004906</td>\n",
       "      <td>-0.290316</td>\n",
       "      <td>-0.000893</td>\n",
       "      <td>0.031715</td>\n",
       "      <td>-0.032787</td>\n",
       "      <td>0.025732</td>\n",
       "      <td>-0.041220</td>\n",
       "      <td>0.357685</td>\n",
       "      <td>-0.034243</td>\n",
       "      <td>-0.216067</td>\n",
       "    </tr>\n",
       "    <tr>\n",
       "      <th>Price Per Sq Ft</th>\n",
       "      <td>0.271195</td>\n",
       "      <td>1.000000</td>\n",
       "      <td>-0.249424</td>\n",
       "      <td>0.455424</td>\n",
       "      <td>-0.018491</td>\n",
       "      <td>-0.128728</td>\n",
       "      <td>0.115060</td>\n",
       "      <td>-0.018720</td>\n",
       "      <td>-0.000270</td>\n",
       "      <td>-0.042571</td>\n",
       "      <td>...</td>\n",
       "      <td>-0.048025</td>\n",
       "      <td>0.069209</td>\n",
       "      <td>-0.006848</td>\n",
       "      <td>-0.003297</td>\n",
       "      <td>0.006617</td>\n",
       "      <td>0.001816</td>\n",
       "      <td>-0.034370</td>\n",
       "      <td>0.164444</td>\n",
       "      <td>-0.025135</td>\n",
       "      <td>-0.092099</td>\n",
       "    </tr>\n",
       "    <tr>\n",
       "      <th>MS SubClass_1 Storey Newer All</th>\n",
       "      <td>0.055966</td>\n",
       "      <td>-0.249424</td>\n",
       "      <td>1.000000</td>\n",
       "      <td>-0.216712</td>\n",
       "      <td>-0.036569</td>\n",
       "      <td>-0.257649</td>\n",
       "      <td>-0.018270</td>\n",
       "      <td>-0.054927</td>\n",
       "      <td>-0.405632</td>\n",
       "      <td>-0.169113</td>\n",
       "      <td>...</td>\n",
       "      <td>-0.039129</td>\n",
       "      <td>-0.046402</td>\n",
       "      <td>0.002050</td>\n",
       "      <td>0.010760</td>\n",
       "      <td>-0.012941</td>\n",
       "      <td>-0.025479</td>\n",
       "      <td>-0.040896</td>\n",
       "      <td>0.072300</td>\n",
       "      <td>0.022975</td>\n",
       "      <td>-0.095670</td>\n",
       "    </tr>\n",
       "    <tr>\n",
       "      <th>MS SubClass_1 Storey PUD</th>\n",
       "      <td>0.083473</td>\n",
       "      <td>0.455424</td>\n",
       "      <td>-0.216712</td>\n",
       "      <td>1.000000</td>\n",
       "      <td>-0.012589</td>\n",
       "      <td>-0.088694</td>\n",
       "      <td>-0.006289</td>\n",
       "      <td>-0.018908</td>\n",
       "      <td>-0.139636</td>\n",
       "      <td>-0.058216</td>\n",
       "      <td>...</td>\n",
       "      <td>0.011354</td>\n",
       "      <td>-0.070503</td>\n",
       "      <td>0.008781</td>\n",
       "      <td>0.032745</td>\n",
       "      <td>-0.019936</td>\n",
       "      <td>-0.015426</td>\n",
       "      <td>-0.014078</td>\n",
       "      <td>0.061154</td>\n",
       "      <td>-0.010899</td>\n",
       "      <td>-0.031831</td>\n",
       "    </tr>\n",
       "    <tr>\n",
       "      <th>MS SubClass_1 Storey W/Finished Attic</th>\n",
       "      <td>-0.040061</td>\n",
       "      <td>-0.018491</td>\n",
       "      <td>-0.036569</td>\n",
       "      <td>-0.012589</td>\n",
       "      <td>1.000000</td>\n",
       "      <td>-0.014967</td>\n",
       "      <td>-0.001061</td>\n",
       "      <td>-0.003191</td>\n",
       "      <td>-0.023563</td>\n",
       "      <td>-0.009824</td>\n",
       "      <td>...</td>\n",
       "      <td>-0.003191</td>\n",
       "      <td>0.036528</td>\n",
       "      <td>-0.003364</td>\n",
       "      <td>-0.002124</td>\n",
       "      <td>-0.003364</td>\n",
       "      <td>-0.002603</td>\n",
       "      <td>-0.002376</td>\n",
       "      <td>-0.013885</td>\n",
       "      <td>-0.001839</td>\n",
       "      <td>0.018260</td>\n",
       "    </tr>\n",
       "    <tr>\n",
       "      <th>...</th>\n",
       "      <td>...</td>\n",
       "      <td>...</td>\n",
       "      <td>...</td>\n",
       "      <td>...</td>\n",
       "      <td>...</td>\n",
       "      <td>...</td>\n",
       "      <td>...</td>\n",
       "      <td>...</td>\n",
       "      <td>...</td>\n",
       "      <td>...</td>\n",
       "      <td>...</td>\n",
       "      <td>...</td>\n",
       "      <td>...</td>\n",
       "      <td>...</td>\n",
       "      <td>...</td>\n",
       "      <td>...</td>\n",
       "      <td>...</td>\n",
       "      <td>...</td>\n",
       "      <td>...</td>\n",
       "      <td>...</td>\n",
       "      <td>...</td>\n",
       "    </tr>\n",
       "    <tr>\n",
       "      <th>Sale Type_ConLI</th>\n",
       "      <td>0.025732</td>\n",
       "      <td>0.001816</td>\n",
       "      <td>-0.025479</td>\n",
       "      <td>-0.015426</td>\n",
       "      <td>-0.002603</td>\n",
       "      <td>0.045748</td>\n",
       "      <td>-0.001301</td>\n",
       "      <td>-0.003910</td>\n",
       "      <td>0.017575</td>\n",
       "      <td>-0.012038</td>\n",
       "      <td>...</td>\n",
       "      <td>-0.003910</td>\n",
       "      <td>-0.013250</td>\n",
       "      <td>-0.004122</td>\n",
       "      <td>-0.002603</td>\n",
       "      <td>-0.004122</td>\n",
       "      <td>1.000000</td>\n",
       "      <td>-0.002911</td>\n",
       "      <td>-0.017014</td>\n",
       "      <td>-0.002254</td>\n",
       "      <td>-0.142557</td>\n",
       "    </tr>\n",
       "    <tr>\n",
       "      <th>Sale Type_ConLw</th>\n",
       "      <td>-0.041220</td>\n",
       "      <td>-0.034370</td>\n",
       "      <td>-0.040896</td>\n",
       "      <td>-0.014078</td>\n",
       "      <td>-0.002376</td>\n",
       "      <td>0.053449</td>\n",
       "      <td>-0.001187</td>\n",
       "      <td>-0.003568</td>\n",
       "      <td>-0.000917</td>\n",
       "      <td>-0.010986</td>\n",
       "      <td>...</td>\n",
       "      <td>-0.003568</td>\n",
       "      <td>-0.001504</td>\n",
       "      <td>-0.003762</td>\n",
       "      <td>-0.002376</td>\n",
       "      <td>-0.003762</td>\n",
       "      <td>-0.002911</td>\n",
       "      <td>1.000000</td>\n",
       "      <td>-0.015528</td>\n",
       "      <td>-0.002057</td>\n",
       "      <td>-0.130101</td>\n",
       "    </tr>\n",
       "    <tr>\n",
       "      <th>Sale Type_New</th>\n",
       "      <td>0.357685</td>\n",
       "      <td>0.164444</td>\n",
       "      <td>0.072300</td>\n",
       "      <td>0.061154</td>\n",
       "      <td>-0.013885</td>\n",
       "      <td>-0.097824</td>\n",
       "      <td>-0.006937</td>\n",
       "      <td>-0.020855</td>\n",
       "      <td>0.111104</td>\n",
       "      <td>-0.064209</td>\n",
       "      <td>...</td>\n",
       "      <td>0.006996</td>\n",
       "      <td>-0.056879</td>\n",
       "      <td>-0.021988</td>\n",
       "      <td>-0.013885</td>\n",
       "      <td>-0.021988</td>\n",
       "      <td>-0.017014</td>\n",
       "      <td>-0.015528</td>\n",
       "      <td>1.000000</td>\n",
       "      <td>-0.012021</td>\n",
       "      <td>-0.760385</td>\n",
       "    </tr>\n",
       "    <tr>\n",
       "      <th>Sale Type_Oth</th>\n",
       "      <td>-0.034243</td>\n",
       "      <td>-0.025135</td>\n",
       "      <td>0.022975</td>\n",
       "      <td>-0.010899</td>\n",
       "      <td>-0.001839</td>\n",
       "      <td>-0.012958</td>\n",
       "      <td>-0.000919</td>\n",
       "      <td>-0.002762</td>\n",
       "      <td>-0.020401</td>\n",
       "      <td>-0.008505</td>\n",
       "      <td>...</td>\n",
       "      <td>-0.002762</td>\n",
       "      <td>0.004301</td>\n",
       "      <td>-0.002913</td>\n",
       "      <td>-0.001839</td>\n",
       "      <td>-0.002913</td>\n",
       "      <td>-0.002254</td>\n",
       "      <td>-0.002057</td>\n",
       "      <td>-0.012021</td>\n",
       "      <td>1.000000</td>\n",
       "      <td>-0.100723</td>\n",
       "    </tr>\n",
       "    <tr>\n",
       "      <th>Sale Type_WD</th>\n",
       "      <td>-0.216067</td>\n",
       "      <td>-0.092099</td>\n",
       "      <td>-0.095670</td>\n",
       "      <td>-0.031831</td>\n",
       "      <td>0.018260</td>\n",
       "      <td>0.060163</td>\n",
       "      <td>0.009123</td>\n",
       "      <td>0.027426</td>\n",
       "      <td>-0.030374</td>\n",
       "      <td>0.054080</td>\n",
       "      <td>...</td>\n",
       "      <td>0.004964</td>\n",
       "      <td>0.019825</td>\n",
       "      <td>-0.184236</td>\n",
       "      <td>-0.116335</td>\n",
       "      <td>-0.184236</td>\n",
       "      <td>-0.142557</td>\n",
       "      <td>-0.130101</td>\n",
       "      <td>-0.760385</td>\n",
       "      <td>-0.100723</td>\n",
       "      <td>1.000000</td>\n",
       "    </tr>\n",
       "  </tbody>\n",
       "</table>\n",
       "<p>88 rows × 88 columns</p>\n",
       "</div>"
      ],
      "text/plain": [
       "                                       SalePrice  Price Per Sq Ft  \\\n",
       "SalePrice                               1.000000         0.271195   \n",
       "Price Per Sq Ft                         0.271195         1.000000   \n",
       "MS SubClass_1 Storey Newer All          0.055966        -0.249424   \n",
       "MS SubClass_1 Storey PUD                0.083473         0.455424   \n",
       "MS SubClass_1 Storey W/Finished Attic  -0.040061        -0.018491   \n",
       "...                                          ...              ...   \n",
       "Sale Type_ConLI                         0.025732         0.001816   \n",
       "Sale Type_ConLw                        -0.041220        -0.034370   \n",
       "Sale Type_New                           0.357685         0.164444   \n",
       "Sale Type_Oth                          -0.034243        -0.025135   \n",
       "Sale Type_WD                           -0.216067        -0.092099   \n",
       "\n",
       "                                       MS SubClass_1 Storey Newer All  \\\n",
       "SalePrice                                                    0.055966   \n",
       "Price Per Sq Ft                                             -0.249424   \n",
       "MS SubClass_1 Storey Newer All                               1.000000   \n",
       "MS SubClass_1 Storey PUD                                    -0.216712   \n",
       "MS SubClass_1 Storey W/Finished Attic                       -0.036569   \n",
       "...                                                               ...   \n",
       "Sale Type_ConLI                                             -0.025479   \n",
       "Sale Type_ConLw                                             -0.040896   \n",
       "Sale Type_New                                                0.072300   \n",
       "Sale Type_Oth                                                0.022975   \n",
       "Sale Type_WD                                                -0.095670   \n",
       "\n",
       "                                       MS SubClass_1 Storey PUD  \\\n",
       "SalePrice                                              0.083473   \n",
       "Price Per Sq Ft                                        0.455424   \n",
       "MS SubClass_1 Storey Newer All                        -0.216712   \n",
       "MS SubClass_1 Storey PUD                               1.000000   \n",
       "MS SubClass_1 Storey W/Finished Attic                 -0.012589   \n",
       "...                                                         ...   \n",
       "Sale Type_ConLI                                       -0.015426   \n",
       "Sale Type_ConLw                                       -0.014078   \n",
       "Sale Type_New                                          0.061154   \n",
       "Sale Type_Oth                                         -0.010899   \n",
       "Sale Type_WD                                          -0.031831   \n",
       "\n",
       "                                       MS SubClass_1 Storey W/Finished Attic  \\\n",
       "SalePrice                                                          -0.040061   \n",
       "Price Per Sq Ft                                                    -0.018491   \n",
       "MS SubClass_1 Storey Newer All                                     -0.036569   \n",
       "MS SubClass_1 Storey PUD                                           -0.012589   \n",
       "MS SubClass_1 Storey W/Finished Attic                               1.000000   \n",
       "...                                                                      ...   \n",
       "Sale Type_ConLI                                                    -0.002603   \n",
       "Sale Type_ConLw                                                    -0.002376   \n",
       "Sale Type_New                                                      -0.013885   \n",
       "Sale Type_Oth                                                      -0.001839   \n",
       "Sale Type_WD                                                        0.018260   \n",
       "\n",
       "                                       MS SubClass_1.5 Finished  \\\n",
       "SalePrice                                             -0.191496   \n",
       "Price Per Sq Ft                                       -0.128728   \n",
       "MS SubClass_1 Storey Newer All                        -0.257649   \n",
       "MS SubClass_1 Storey PUD                              -0.088694   \n",
       "MS SubClass_1 Storey W/Finished Attic                 -0.014967   \n",
       "...                                                         ...   \n",
       "Sale Type_ConLI                                        0.045748   \n",
       "Sale Type_ConLw                                        0.053449   \n",
       "Sale Type_New                                         -0.097824   \n",
       "Sale Type_Oth                                         -0.012958   \n",
       "Sale Type_WD                                           0.060163   \n",
       "\n",
       "                                       MS SubClass_1.5 Storey PUD  \\\n",
       "SalePrice                                               -0.011458   \n",
       "Price Per Sq Ft                                          0.115060   \n",
       "MS SubClass_1 Storey Newer All                          -0.018270   \n",
       "MS SubClass_1 Storey PUD                                -0.006289   \n",
       "MS SubClass_1 Storey W/Finished Attic                   -0.001061   \n",
       "...                                                           ...   \n",
       "Sale Type_ConLI                                         -0.001301   \n",
       "Sale Type_ConLw                                         -0.001187   \n",
       "Sale Type_New                                           -0.006937   \n",
       "Sale Type_Oth                                           -0.000919   \n",
       "Sale Type_WD                                             0.009123   \n",
       "\n",
       "                                       MS SubClass_1.5 Unfinished  \\\n",
       "SalePrice                                               -0.060633   \n",
       "Price Per Sq Ft                                         -0.018720   \n",
       "MS SubClass_1 Storey Newer All                          -0.054927   \n",
       "MS SubClass_1 Storey PUD                                -0.018908   \n",
       "MS SubClass_1 Storey W/Finished Attic                   -0.003191   \n",
       "...                                                           ...   \n",
       "Sale Type_ConLI                                         -0.003910   \n",
       "Sale Type_ConLw                                         -0.003568   \n",
       "Sale Type_New                                           -0.020855   \n",
       "Sale Type_Oth                                           -0.002762   \n",
       "Sale Type_WD                                             0.027426   \n",
       "\n",
       "                                       MS SubClass_2 Storey 1946 Newer  \\\n",
       "SalePrice                                                     0.337426   \n",
       "Price Per Sq Ft                                              -0.000270   \n",
       "MS SubClass_1 Storey Newer All                               -0.405632   \n",
       "MS SubClass_1 Storey PUD                                     -0.139636   \n",
       "MS SubClass_1 Storey W/Finished Attic                        -0.023563   \n",
       "...                                                                ...   \n",
       "Sale Type_ConLI                                               0.017575   \n",
       "Sale Type_ConLw                                              -0.000917   \n",
       "Sale Type_New                                                 0.111104   \n",
       "Sale Type_Oth                                                -0.020401   \n",
       "Sale Type_WD                                                 -0.030374   \n",
       "\n",
       "                                       MS SubClass_2 Storey 1946 Older  ...  \\\n",
       "SalePrice                                                    -0.088395  ...   \n",
       "Price Per Sq Ft                                              -0.042571  ...   \n",
       "MS SubClass_1 Storey Newer All                               -0.169113  ...   \n",
       "MS SubClass_1 Storey PUD                                     -0.058216  ...   \n",
       "MS SubClass_1 Storey W/Finished Attic                        -0.009824  ...   \n",
       "...                                                                ...  ...   \n",
       "Sale Type_ConLI                                              -0.012038  ...   \n",
       "Sale Type_ConLw                                              -0.010986  ...   \n",
       "Sale Type_New                                                -0.064209  ...   \n",
       "Sale Type_Oth                                                -0.008505  ...   \n",
       "Sale Type_WD                                                  0.054080  ...   \n",
       "\n",
       "                                       Lot Shape_IR3  Lot Shape_Reg  \\\n",
       "SalePrice                                   0.004906      -0.290316   \n",
       "Price Per Sq Ft                            -0.048025       0.069209   \n",
       "MS SubClass_1 Storey Newer All             -0.039129      -0.046402   \n",
       "MS SubClass_1 Storey PUD                    0.011354      -0.070503   \n",
       "MS SubClass_1 Storey W/Finished Attic      -0.003191       0.036528   \n",
       "...                                              ...            ...   \n",
       "Sale Type_ConLI                            -0.003910      -0.013250   \n",
       "Sale Type_ConLw                            -0.003568      -0.001504   \n",
       "Sale Type_New                               0.006996      -0.056879   \n",
       "Sale Type_Oth                              -0.002762       0.004301   \n",
       "Sale Type_WD                                0.004964       0.019825   \n",
       "\n",
       "                                       Sale Type_CWD  Sale Type_Con  \\\n",
       "SalePrice                                  -0.000893       0.031715   \n",
       "Price Per Sq Ft                            -0.006848      -0.003297   \n",
       "MS SubClass_1 Storey Newer All              0.002050       0.010760   \n",
       "MS SubClass_1 Storey PUD                    0.008781       0.032745   \n",
       "MS SubClass_1 Storey W/Finished Attic      -0.003364      -0.002124   \n",
       "...                                              ...            ...   \n",
       "Sale Type_ConLI                            -0.004122      -0.002603   \n",
       "Sale Type_ConLw                            -0.003762      -0.002376   \n",
       "Sale Type_New                              -0.021988      -0.013885   \n",
       "Sale Type_Oth                              -0.002913      -0.001839   \n",
       "Sale Type_WD                               -0.184236      -0.116335   \n",
       "\n",
       "                                       Sale Type_ConLD  Sale Type_ConLI  \\\n",
       "SalePrice                                    -0.032787         0.025732   \n",
       "Price Per Sq Ft                               0.006617         0.001816   \n",
       "MS SubClass_1 Storey Newer All               -0.012941        -0.025479   \n",
       "MS SubClass_1 Storey PUD                     -0.019936        -0.015426   \n",
       "MS SubClass_1 Storey W/Finished Attic        -0.003364        -0.002603   \n",
       "...                                                ...              ...   \n",
       "Sale Type_ConLI                              -0.004122         1.000000   \n",
       "Sale Type_ConLw                              -0.003762        -0.002911   \n",
       "Sale Type_New                                -0.021988        -0.017014   \n",
       "Sale Type_Oth                                -0.002913        -0.002254   \n",
       "Sale Type_WD                                 -0.184236        -0.142557   \n",
       "\n",
       "                                       Sale Type_ConLw  Sale Type_New  \\\n",
       "SalePrice                                    -0.041220       0.357685   \n",
       "Price Per Sq Ft                              -0.034370       0.164444   \n",
       "MS SubClass_1 Storey Newer All               -0.040896       0.072300   \n",
       "MS SubClass_1 Storey PUD                     -0.014078       0.061154   \n",
       "MS SubClass_1 Storey W/Finished Attic        -0.002376      -0.013885   \n",
       "...                                                ...            ...   \n",
       "Sale Type_ConLI                              -0.002911      -0.017014   \n",
       "Sale Type_ConLw                               1.000000      -0.015528   \n",
       "Sale Type_New                                -0.015528       1.000000   \n",
       "Sale Type_Oth                                -0.002057      -0.012021   \n",
       "Sale Type_WD                                 -0.130101      -0.760385   \n",
       "\n",
       "                                       Sale Type_Oth  Sale Type_WD   \n",
       "SalePrice                                  -0.034243      -0.216067  \n",
       "Price Per Sq Ft                            -0.025135      -0.092099  \n",
       "MS SubClass_1 Storey Newer All              0.022975      -0.095670  \n",
       "MS SubClass_1 Storey PUD                   -0.010899      -0.031831  \n",
       "MS SubClass_1 Storey W/Finished Attic      -0.001839       0.018260  \n",
       "...                                              ...            ...  \n",
       "Sale Type_ConLI                            -0.002254      -0.142557  \n",
       "Sale Type_ConLw                            -0.002057      -0.130101  \n",
       "Sale Type_New                              -0.012021      -0.760385  \n",
       "Sale Type_Oth                               1.000000      -0.100723  \n",
       "Sale Type_WD                               -0.100723       1.000000  \n",
       "\n",
       "[88 rows x 88 columns]"
      ]
     },
     "execution_count": 2745,
     "metadata": {},
     "output_type": "execute_result"
    }
   ],
   "source": [
    "location_proximity_price_dummies_df.corr()"
   ]
  },
  {
   "cell_type": "markdown",
   "metadata": {},
   "source": [
    "## Linear Regression on Location and Proximity Factors"
   ]
  },
  {
   "cell_type": "markdown",
   "metadata": {},
   "source": [
    "### Step 1: Assemble our predictor variables (X) and our target (y) "
   ]
  },
  {
   "cell_type": "markdown",
   "metadata": {},
   "source": [
    "I will perform linear regression on Location and PRoximity Factors against the Price per Square Feet"
   ]
  },
  {
   "cell_type": "code",
   "execution_count": 2746,
   "metadata": {},
   "outputs": [],
   "source": [
    "X = location_proximity_price_dummies_df.drop(columns = [\"SalePrice\", \"Price Per Sq Ft\"])\n",
    "y = location_proximity_price_dummies_df[\"Price Per Sq Ft\"]"
   ]
  },
  {
   "cell_type": "markdown",
   "metadata": {},
   "source": [
    "Note that X has been \"dummified\" earlier"
   ]
  },
  {
   "cell_type": "code",
   "execution_count": 2747,
   "metadata": {},
   "outputs": [
    {
     "data": {
      "text/html": [
       "<div>\n",
       "<style scoped>\n",
       "    .dataframe tbody tr th:only-of-type {\n",
       "        vertical-align: middle;\n",
       "    }\n",
       "\n",
       "    .dataframe tbody tr th {\n",
       "        vertical-align: top;\n",
       "    }\n",
       "\n",
       "    .dataframe thead th {\n",
       "        text-align: right;\n",
       "    }\n",
       "</style>\n",
       "<table border=\"1\" class=\"dataframe\">\n",
       "  <thead>\n",
       "    <tr style=\"text-align: right;\">\n",
       "      <th></th>\n",
       "      <th>MS SubClass_1 Storey Newer All</th>\n",
       "      <th>MS SubClass_1 Storey PUD</th>\n",
       "      <th>MS SubClass_1 Storey W/Finished Attic</th>\n",
       "      <th>MS SubClass_1.5 Finished</th>\n",
       "      <th>MS SubClass_1.5 Storey PUD</th>\n",
       "      <th>MS SubClass_1.5 Unfinished</th>\n",
       "      <th>MS SubClass_2 Storey 1946 Newer</th>\n",
       "      <th>MS SubClass_2 Storey 1946 Older</th>\n",
       "      <th>MS SubClass_2 Storey PUD</th>\n",
       "      <th>MS SubClass_2.5 Story All</th>\n",
       "      <th>...</th>\n",
       "      <th>Lot Shape_IR3</th>\n",
       "      <th>Lot Shape_Reg</th>\n",
       "      <th>Sale Type_CWD</th>\n",
       "      <th>Sale Type_Con</th>\n",
       "      <th>Sale Type_ConLD</th>\n",
       "      <th>Sale Type_ConLI</th>\n",
       "      <th>Sale Type_ConLw</th>\n",
       "      <th>Sale Type_New</th>\n",
       "      <th>Sale Type_Oth</th>\n",
       "      <th>Sale Type_WD</th>\n",
       "    </tr>\n",
       "  </thead>\n",
       "  <tbody>\n",
       "    <tr>\n",
       "      <th>0</th>\n",
       "      <td>0</td>\n",
       "      <td>0</td>\n",
       "      <td>0</td>\n",
       "      <td>0</td>\n",
       "      <td>0</td>\n",
       "      <td>0</td>\n",
       "      <td>1</td>\n",
       "      <td>0</td>\n",
       "      <td>0</td>\n",
       "      <td>0</td>\n",
       "      <td>...</td>\n",
       "      <td>0</td>\n",
       "      <td>0</td>\n",
       "      <td>0</td>\n",
       "      <td>0</td>\n",
       "      <td>0</td>\n",
       "      <td>0</td>\n",
       "      <td>0</td>\n",
       "      <td>0</td>\n",
       "      <td>0</td>\n",
       "      <td>1</td>\n",
       "    </tr>\n",
       "    <tr>\n",
       "      <th>1</th>\n",
       "      <td>0</td>\n",
       "      <td>0</td>\n",
       "      <td>0</td>\n",
       "      <td>0</td>\n",
       "      <td>0</td>\n",
       "      <td>0</td>\n",
       "      <td>1</td>\n",
       "      <td>0</td>\n",
       "      <td>0</td>\n",
       "      <td>0</td>\n",
       "      <td>...</td>\n",
       "      <td>0</td>\n",
       "      <td>0</td>\n",
       "      <td>0</td>\n",
       "      <td>0</td>\n",
       "      <td>0</td>\n",
       "      <td>0</td>\n",
       "      <td>0</td>\n",
       "      <td>0</td>\n",
       "      <td>0</td>\n",
       "      <td>1</td>\n",
       "    </tr>\n",
       "    <tr>\n",
       "      <th>2</th>\n",
       "      <td>1</td>\n",
       "      <td>0</td>\n",
       "      <td>0</td>\n",
       "      <td>0</td>\n",
       "      <td>0</td>\n",
       "      <td>0</td>\n",
       "      <td>0</td>\n",
       "      <td>0</td>\n",
       "      <td>0</td>\n",
       "      <td>0</td>\n",
       "      <td>...</td>\n",
       "      <td>0</td>\n",
       "      <td>1</td>\n",
       "      <td>0</td>\n",
       "      <td>0</td>\n",
       "      <td>0</td>\n",
       "      <td>0</td>\n",
       "      <td>0</td>\n",
       "      <td>0</td>\n",
       "      <td>0</td>\n",
       "      <td>1</td>\n",
       "    </tr>\n",
       "    <tr>\n",
       "      <th>3</th>\n",
       "      <td>0</td>\n",
       "      <td>0</td>\n",
       "      <td>0</td>\n",
       "      <td>0</td>\n",
       "      <td>0</td>\n",
       "      <td>0</td>\n",
       "      <td>1</td>\n",
       "      <td>0</td>\n",
       "      <td>0</td>\n",
       "      <td>0</td>\n",
       "      <td>...</td>\n",
       "      <td>0</td>\n",
       "      <td>1</td>\n",
       "      <td>0</td>\n",
       "      <td>0</td>\n",
       "      <td>0</td>\n",
       "      <td>0</td>\n",
       "      <td>0</td>\n",
       "      <td>0</td>\n",
       "      <td>0</td>\n",
       "      <td>1</td>\n",
       "    </tr>\n",
       "    <tr>\n",
       "      <th>4</th>\n",
       "      <td>0</td>\n",
       "      <td>0</td>\n",
       "      <td>0</td>\n",
       "      <td>1</td>\n",
       "      <td>0</td>\n",
       "      <td>0</td>\n",
       "      <td>0</td>\n",
       "      <td>0</td>\n",
       "      <td>0</td>\n",
       "      <td>0</td>\n",
       "      <td>...</td>\n",
       "      <td>0</td>\n",
       "      <td>0</td>\n",
       "      <td>0</td>\n",
       "      <td>0</td>\n",
       "      <td>0</td>\n",
       "      <td>0</td>\n",
       "      <td>0</td>\n",
       "      <td>0</td>\n",
       "      <td>0</td>\n",
       "      <td>1</td>\n",
       "    </tr>\n",
       "  </tbody>\n",
       "</table>\n",
       "<p>5 rows × 86 columns</p>\n",
       "</div>"
      ],
      "text/plain": [
       "   MS SubClass_1 Storey Newer All  MS SubClass_1 Storey PUD  \\\n",
       "0                               0                         0   \n",
       "1                               0                         0   \n",
       "2                               1                         0   \n",
       "3                               0                         0   \n",
       "4                               0                         0   \n",
       "\n",
       "   MS SubClass_1 Storey W/Finished Attic  MS SubClass_1.5 Finished  \\\n",
       "0                                      0                         0   \n",
       "1                                      0                         0   \n",
       "2                                      0                         0   \n",
       "3                                      0                         0   \n",
       "4                                      0                         1   \n",
       "\n",
       "   MS SubClass_1.5 Storey PUD  MS SubClass_1.5 Unfinished  \\\n",
       "0                           0                           0   \n",
       "1                           0                           0   \n",
       "2                           0                           0   \n",
       "3                           0                           0   \n",
       "4                           0                           0   \n",
       "\n",
       "   MS SubClass_2 Storey 1946 Newer  MS SubClass_2 Storey 1946 Older  \\\n",
       "0                                1                                0   \n",
       "1                                1                                0   \n",
       "2                                0                                0   \n",
       "3                                1                                0   \n",
       "4                                0                                0   \n",
       "\n",
       "   MS SubClass_2 Storey PUD  MS SubClass_2.5 Story All  ...  Lot Shape_IR3  \\\n",
       "0                         0                          0  ...              0   \n",
       "1                         0                          0  ...              0   \n",
       "2                         0                          0  ...              0   \n",
       "3                         0                          0  ...              0   \n",
       "4                         0                          0  ...              0   \n",
       "\n",
       "   Lot Shape_Reg  Sale Type_CWD  Sale Type_Con  Sale Type_ConLD  \\\n",
       "0              0              0              0                0   \n",
       "1              0              0              0                0   \n",
       "2              1              0              0                0   \n",
       "3              1              0              0                0   \n",
       "4              0              0              0                0   \n",
       "\n",
       "   Sale Type_ConLI  Sale Type_ConLw  Sale Type_New  Sale Type_Oth  \\\n",
       "0                0                0              0              0   \n",
       "1                0                0              0              0   \n",
       "2                0                0              0              0   \n",
       "3                0                0              0              0   \n",
       "4                0                0              0              0   \n",
       "\n",
       "   Sale Type_WD   \n",
       "0              1  \n",
       "1              1  \n",
       "2              1  \n",
       "3              1  \n",
       "4              1  \n",
       "\n",
       "[5 rows x 86 columns]"
      ]
     },
     "execution_count": 2747,
     "metadata": {},
     "output_type": "execute_result"
    }
   ],
   "source": [
    "X.head()"
   ]
  },
  {
   "cell_type": "code",
   "execution_count": 2748,
   "metadata": {},
   "outputs": [
    {
     "data": {
      "text/plain": [
       "0        9.654509\n",
       "1       19.143752\n",
       "2       13.759152\n",
       "3       17.751479\n",
       "4        9.729540\n",
       "          ...    \n",
       "1882    26.094069\n",
       "1883     6.684492\n",
       "1884    23.418894\n",
       "1885    13.846154\n",
       "1886    25.200000\n",
       "Name: Price Per Sq Ft, Length: 1887, dtype: float64"
      ]
     },
     "execution_count": 2748,
     "metadata": {},
     "output_type": "execute_result"
    }
   ],
   "source": [
    "y"
   ]
  },
  {
   "cell_type": "markdown",
   "metadata": {},
   "source": [
    "### Step 2: Instantiate the model"
   ]
  },
  {
   "cell_type": "code",
   "execution_count": 2749,
   "metadata": {},
   "outputs": [],
   "source": [
    "model = LinearRegression()"
   ]
  },
  {
   "cell_type": "markdown",
   "metadata": {},
   "source": [
    "### Step 3: Fit the model"
   ]
  },
  {
   "cell_type": "code",
   "execution_count": 2750,
   "metadata": {},
   "outputs": [
    {
     "data": {
      "text/html": [
       "<style>#sk-container-id-93 {color: black;background-color: white;}#sk-container-id-93 pre{padding: 0;}#sk-container-id-93 div.sk-toggleable {background-color: white;}#sk-container-id-93 label.sk-toggleable__label {cursor: pointer;display: block;width: 100%;margin-bottom: 0;padding: 0.3em;box-sizing: border-box;text-align: center;}#sk-container-id-93 label.sk-toggleable__label-arrow:before {content: \"▸\";float: left;margin-right: 0.25em;color: #696969;}#sk-container-id-93 label.sk-toggleable__label-arrow:hover:before {color: black;}#sk-container-id-93 div.sk-estimator:hover label.sk-toggleable__label-arrow:before {color: black;}#sk-container-id-93 div.sk-toggleable__content {max-height: 0;max-width: 0;overflow: hidden;text-align: left;background-color: #f0f8ff;}#sk-container-id-93 div.sk-toggleable__content pre {margin: 0.2em;color: black;border-radius: 0.25em;background-color: #f0f8ff;}#sk-container-id-93 input.sk-toggleable__control:checked~div.sk-toggleable__content {max-height: 200px;max-width: 100%;overflow: auto;}#sk-container-id-93 input.sk-toggleable__control:checked~label.sk-toggleable__label-arrow:before {content: \"▾\";}#sk-container-id-93 div.sk-estimator input.sk-toggleable__control:checked~label.sk-toggleable__label {background-color: #d4ebff;}#sk-container-id-93 div.sk-label input.sk-toggleable__control:checked~label.sk-toggleable__label {background-color: #d4ebff;}#sk-container-id-93 input.sk-hidden--visually {border: 0;clip: rect(1px 1px 1px 1px);clip: rect(1px, 1px, 1px, 1px);height: 1px;margin: -1px;overflow: hidden;padding: 0;position: absolute;width: 1px;}#sk-container-id-93 div.sk-estimator {font-family: monospace;background-color: #f0f8ff;border: 1px dotted black;border-radius: 0.25em;box-sizing: border-box;margin-bottom: 0.5em;}#sk-container-id-93 div.sk-estimator:hover {background-color: #d4ebff;}#sk-container-id-93 div.sk-parallel-item::after {content: \"\";width: 100%;border-bottom: 1px solid gray;flex-grow: 1;}#sk-container-id-93 div.sk-label:hover label.sk-toggleable__label {background-color: #d4ebff;}#sk-container-id-93 div.sk-serial::before {content: \"\";position: absolute;border-left: 1px solid gray;box-sizing: border-box;top: 0;bottom: 0;left: 50%;z-index: 0;}#sk-container-id-93 div.sk-serial {display: flex;flex-direction: column;align-items: center;background-color: white;padding-right: 0.2em;padding-left: 0.2em;position: relative;}#sk-container-id-93 div.sk-item {position: relative;z-index: 1;}#sk-container-id-93 div.sk-parallel {display: flex;align-items: stretch;justify-content: center;background-color: white;position: relative;}#sk-container-id-93 div.sk-item::before, #sk-container-id-93 div.sk-parallel-item::before {content: \"\";position: absolute;border-left: 1px solid gray;box-sizing: border-box;top: 0;bottom: 0;left: 50%;z-index: -1;}#sk-container-id-93 div.sk-parallel-item {display: flex;flex-direction: column;z-index: 1;position: relative;background-color: white;}#sk-container-id-93 div.sk-parallel-item:first-child::after {align-self: flex-end;width: 50%;}#sk-container-id-93 div.sk-parallel-item:last-child::after {align-self: flex-start;width: 50%;}#sk-container-id-93 div.sk-parallel-item:only-child::after {width: 0;}#sk-container-id-93 div.sk-dashed-wrapped {border: 1px dashed gray;margin: 0 0.4em 0.5em 0.4em;box-sizing: border-box;padding-bottom: 0.4em;background-color: white;}#sk-container-id-93 div.sk-label label {font-family: monospace;font-weight: bold;display: inline-block;line-height: 1.2em;}#sk-container-id-93 div.sk-label-container {text-align: center;}#sk-container-id-93 div.sk-container {/* jupyter's `normalize.less` sets `[hidden] { display: none; }` but bootstrap.min.css set `[hidden] { display: none !important; }` so we also need the `!important` here to be able to override the default hidden behavior on the sphinx rendered scikit-learn.org. See: https://github.com/scikit-learn/scikit-learn/issues/21755 */display: inline-block !important;position: relative;}#sk-container-id-93 div.sk-text-repr-fallback {display: none;}</style><div id=\"sk-container-id-93\" class=\"sk-top-container\"><div class=\"sk-text-repr-fallback\"><pre>LinearRegression()</pre><b>In a Jupyter environment, please rerun this cell to show the HTML representation or trust the notebook. <br />On GitHub, the HTML representation is unable to render, please try loading this page with nbviewer.org.</b></div><div class=\"sk-container\" hidden><div class=\"sk-item\"><div class=\"sk-estimator sk-toggleable\"><input class=\"sk-toggleable__control sk-hidden--visually\" id=\"sk-estimator-id-93\" type=\"checkbox\" checked><label for=\"sk-estimator-id-93\" class=\"sk-toggleable__label sk-toggleable__label-arrow\">LinearRegression</label><div class=\"sk-toggleable__content\"><pre>LinearRegression()</pre></div></div></div></div></div>"
      ],
      "text/plain": [
       "LinearRegression()"
      ]
     },
     "execution_count": 2750,
     "metadata": {},
     "output_type": "execute_result"
    }
   ],
   "source": [
    "model.fit(X,y)"
   ]
  },
  {
   "cell_type": "markdown",
   "metadata": {},
   "source": [
    "### Step 4: Coefficients "
   ]
  },
  {
   "cell_type": "code",
   "execution_count": 2751,
   "metadata": {},
   "outputs": [
    {
     "data": {
      "text/plain": [
       "Index(['MS SubClass_1 Storey Newer All', 'MS SubClass_1 Storey PUD',\n",
       "       'MS SubClass_1 Storey W/Finished Attic', 'MS SubClass_1.5 Finished',\n",
       "       'MS SubClass_1.5 Storey PUD', 'MS SubClass_1.5 Unfinished',\n",
       "       'MS SubClass_2 Storey 1946 Newer', 'MS SubClass_2 Storey 1946 Older',\n",
       "       'MS SubClass_2 Storey PUD', 'MS SubClass_2.5 Story All',\n",
       "       'MS SubClass_Duplex All', 'MS SubClass_Family Conversion',\n",
       "       'MS SubClass_PUD Multi', 'MS SubClass_Split', 'MS SubClass_Split Foyer',\n",
       "       'MS Zoning_Floating Village Residential',\n",
       "       'MS Zoning_Residential High Density',\n",
       "       'MS Zoning_Residential Low Density',\n",
       "       'MS Zoning_Residential Medium Density', 'Lot Config_CulDSac',\n",
       "       'Lot Config_FR2', 'Lot Config_FR3', 'Lot Config_Inside',\n",
       "       'Neighborhood_Blueste', 'Neighborhood_BrDale', 'Neighborhood_BrkSide',\n",
       "       'Neighborhood_ClearCr', 'Neighborhood_CollgCr', 'Neighborhood_Crawfor',\n",
       "       'Neighborhood_Edwards', 'Neighborhood_Gilbert', 'Neighborhood_Greens',\n",
       "       'Neighborhood_GrnHill', 'Neighborhood_IDOTRR', 'Neighborhood_Landmrk',\n",
       "       'Neighborhood_MeadowV', 'Neighborhood_Mitchel', 'Neighborhood_NAmes',\n",
       "       'Neighborhood_NPkVill', 'Neighborhood_NWAmes', 'Neighborhood_NoRidge',\n",
       "       'Neighborhood_NridgHt', 'Neighborhood_OldTown', 'Neighborhood_SWISU',\n",
       "       'Neighborhood_Sawyer', 'Neighborhood_SawyerW', 'Neighborhood_Somerst',\n",
       "       'Neighborhood_StoneBr', 'Neighborhood_Timber', 'Neighborhood_Veenker',\n",
       "       'Condition 1_Feedr', 'Condition 1_Norm', 'Condition 1_PosA',\n",
       "       'Condition 1_PosN', 'Condition 1_RRAe', 'Condition 1_RRAn',\n",
       "       'Condition 1_RRNe', 'Condition 1_RRNn', 'Condition 2_Feedr',\n",
       "       'Condition 2_Norm', 'Condition 2_PosA', 'Condition 2_PosN',\n",
       "       'Condition 2_RRAe', 'Condition 2_RRAn', 'Condition 2_RRNn',\n",
       "       'Bldg Type_2fmCon', 'Bldg Type_Duplex', 'Bldg Type_Twnhs',\n",
       "       'Bldg Type_TwnhsE', 'Land Contour_HLS', 'Land Contour_Low',\n",
       "       'Land Contour_Lvl', 'Land Slope_Mod', 'Land Slope_Sev', 'Street_Pave',\n",
       "       'Lot Shape_IR2', 'Lot Shape_IR3', 'Lot Shape_Reg', 'Sale Type_CWD',\n",
       "       'Sale Type_Con', 'Sale Type_ConLD', 'Sale Type_ConLI',\n",
       "       'Sale Type_ConLw', 'Sale Type_New', 'Sale Type_Oth', 'Sale Type_WD '],\n",
       "      dtype='object')"
      ]
     },
     "execution_count": 2751,
     "metadata": {},
     "output_type": "execute_result"
    }
   ],
   "source": [
    "X.columns"
   ]
  },
  {
   "cell_type": "code",
   "execution_count": 2752,
   "metadata": {},
   "outputs": [
    {
     "data": {
      "text/plain": [
       "array([ 4.11618086e+00,  1.62973232e+01,  3.25553833e+00,  2.66879219e+00,\n",
       "        5.50351898e+01,  3.03495414e+00,  6.01193497e+00,  4.37327230e+00,\n",
       "        2.57131627e+01,  2.64254374e+00, -6.26309425e+13,  3.13935452e+00,\n",
       "        2.55016661e+01,  4.33905786e+00,  4.99312239e+00,  6.04121335e+00,\n",
       "        3.01767088e+00,  1.03826118e+00,  5.47451437e+00, -1.75361446e-01,\n",
       "       -1.59196061e+00, -3.68689550e+00,  1.13320646e+00, -1.11826056e+01,\n",
       "       -2.61224918e+01, -2.61593061e+01, -2.80119968e+01, -2.53514244e+01,\n",
       "       -2.47955941e+01, -3.11082915e+01, -2.70567493e+01, -1.97398178e+01,\n",
       "       -3.08516612e+01, -3.09970703e+01, -4.59145508e+01, -3.16380615e+01,\n",
       "       -2.90058594e+01, -2.98085938e+01, -1.52714844e+01, -2.83585205e+01,\n",
       "       -1.91054688e+01, -2.05664062e+01, -3.00507812e+01, -2.35957031e+01,\n",
       "       -2.99609375e+01, -2.71499023e+01, -2.14121094e+01, -2.17832031e+01,\n",
       "       -2.47441406e+01, -2.88712769e+01, -1.85546875e-02,  3.67187500e-01,\n",
       "       -8.33740234e-01,  3.12255859e+00, -3.08886719e+00, -1.58886719e+00,\n",
       "        1.17919922e+00,  4.46289062e-01,  2.50976562e+00,  3.17236328e+00,\n",
       "        9.04821777e+00,  6.07373047e+00, -2.28979492e+00, -8.67431641e-01,\n",
       "       -4.57861328e+00, -3.00585938e+00,  6.26309425e+13,  1.52406006e+01,\n",
       "        2.96191406e+00,  5.20703125e+00, -3.21191406e+00,  1.58447266e+00,\n",
       "        1.76953125e+00, -3.88110352e+00,  5.00512695e+00, -3.90625000e+00,\n",
       "       -6.78466797e+00,  4.51171875e-01,  2.16601562e+00,  1.91711426e-01,\n",
       "        1.16625977e+00,  4.53311157e+00, -6.12304688e-01,  3.39062500e+00,\n",
       "        1.09619141e+00,  1.53906250e+00])"
      ]
     },
     "execution_count": 2752,
     "metadata": {},
     "output_type": "execute_result"
    }
   ],
   "source": [
    "model.coef_"
   ]
  },
  {
   "cell_type": "code",
   "execution_count": 2753,
   "metadata": {},
   "outputs": [
    {
     "data": {
      "text/plain": [
       "{'MS SubClass_1 Storey Newer All': 4.116180861404746,\n",
       " 'MS SubClass_1 Storey PUD': 16.297323212071863,\n",
       " 'MS SubClass_1 Storey W/Finished Attic': 3.2555383329103478,\n",
       " 'MS SubClass_1.5 Finished': 2.668792185138585,\n",
       " 'MS SubClass_1.5 Storey PUD': 55.0351898488621,\n",
       " 'MS SubClass_1.5 Unfinished': 3.0349541371168685,\n",
       " 'MS SubClass_2 Storey 1946 Newer': 6.011934972189831,\n",
       " 'MS SubClass_2 Storey 1946 Older': 4.373272296288965,\n",
       " 'MS SubClass_2 Storey PUD': 25.713162655285526,\n",
       " 'MS SubClass_2.5 Story All': 2.6425437418483053,\n",
       " 'MS SubClass_Duplex All': -62630942528828.21,\n",
       " 'MS SubClass_Family Conversion': 3.139354517040153,\n",
       " 'MS SubClass_PUD Multi': 25.501666059415136,\n",
       " 'MS SubClass_Split': 4.339057864066492,\n",
       " 'MS SubClass_Split Foyer': 4.993122387314648,\n",
       " 'MS Zoning_Floating Village Residential': 6.041213354896681,\n",
       " 'MS Zoning_Residential High Density': 3.01767088349081,\n",
       " 'MS Zoning_Residential Low Density': 1.038261178995528,\n",
       " 'MS Zoning_Residential Medium Density': 5.474514369206437,\n",
       " 'Lot Config_CulDSac': -0.17536144596904357,\n",
       " 'Lot Config_FR2': -1.5919606052835622,\n",
       " 'Lot Config_FR3': -3.6868955014565703,\n",
       " 'Lot Config_Inside': 1.1332064578914212,\n",
       " 'Neighborhood_Blueste': -11.182605566683268,\n",
       " 'Neighborhood_BrDale': -26.1224917883007,\n",
       " 'Neighborhood_BrkSide': -26.1593060641109,\n",
       " 'Neighborhood_ClearCr': -28.011996803911224,\n",
       " 'Neighborhood_CollgCr': -25.351424439218345,\n",
       " 'Neighborhood_Crawfor': -24.795594076207543,\n",
       " 'Neighborhood_Edwards': -31.108291518347446,\n",
       " 'Neighborhood_Gilbert': -27.056749291113285,\n",
       " 'Neighborhood_Greens': -19.739817810650084,\n",
       " 'Neighborhood_GrnHill': -30.851661237697552,\n",
       " 'Neighborhood_IDOTRR': -30.9970703125,\n",
       " 'Neighborhood_Landmrk': -45.91455078125,\n",
       " 'Neighborhood_MeadowV': -31.6380615234375,\n",
       " 'Neighborhood_Mitchel': -29.005859375,\n",
       " 'Neighborhood_NAmes': -29.80859375,\n",
       " 'Neighborhood_NPkVill': -15.271484375,\n",
       " 'Neighborhood_NWAmes': -28.3585205078125,\n",
       " 'Neighborhood_NoRidge': -19.10546875,\n",
       " 'Neighborhood_NridgHt': -20.56640625,\n",
       " 'Neighborhood_OldTown': -30.05078125,\n",
       " 'Neighborhood_SWISU': -23.595703125,\n",
       " 'Neighborhood_Sawyer': -29.9609375,\n",
       " 'Neighborhood_SawyerW': -27.14990234375,\n",
       " 'Neighborhood_Somerst': -21.412109375,\n",
       " 'Neighborhood_StoneBr': -21.783203125,\n",
       " 'Neighborhood_Timber': -24.744140625,\n",
       " 'Neighborhood_Veenker': -28.87127685546875,\n",
       " 'Condition 1_Feedr': -0.0185546875,\n",
       " 'Condition 1_Norm': 0.3671875,\n",
       " 'Condition 1_PosA': -0.833740234375,\n",
       " 'Condition 1_PosN': 3.12255859375,\n",
       " 'Condition 1_RRAe': -3.0888671875,\n",
       " 'Condition 1_RRAn': -1.5888671875,\n",
       " 'Condition 1_RRNe': 1.17919921875,\n",
       " 'Condition 1_RRNn': 0.4462890625,\n",
       " 'Condition 2_Feedr': 2.509765625,\n",
       " 'Condition 2_Norm': 3.17236328125,\n",
       " 'Condition 2_PosA': 9.0482177734375,\n",
       " 'Condition 2_PosN': 6.07373046875,\n",
       " 'Condition 2_RRAe': -2.289794921875,\n",
       " 'Condition 2_RRAn': -0.867431640625,\n",
       " 'Condition 2_RRNn': -4.57861328125,\n",
       " 'Bldg Type_2fmCon': -3.005859375,\n",
       " 'Bldg Type_Duplex': 62630942528833.164,\n",
       " 'Bldg Type_Twnhs': 15.2406005859375,\n",
       " 'Bldg Type_TwnhsE': 2.9619140625,\n",
       " 'Land Contour_HLS': 5.20703125,\n",
       " 'Land Contour_Low': -3.2119140625,\n",
       " 'Land Contour_Lvl': 1.58447265625,\n",
       " 'Land Slope_Mod': 1.76953125,\n",
       " 'Land Slope_Sev': -3.881103515625,\n",
       " 'Street_Pave': 5.005126953125,\n",
       " 'Lot Shape_IR2': -3.90625,\n",
       " 'Lot Shape_IR3': -6.78466796875,\n",
       " 'Lot Shape_Reg': 0.451171875,\n",
       " 'Sale Type_CWD': 2.166015625,\n",
       " 'Sale Type_Con': 0.19171142578125,\n",
       " 'Sale Type_ConLD': 1.166259765625,\n",
       " 'Sale Type_ConLI': 4.533111572265625,\n",
       " 'Sale Type_ConLw': -0.6123046875,\n",
       " 'Sale Type_New': 3.390625,\n",
       " 'Sale Type_Oth': 1.09619140625,\n",
       " 'Sale Type_WD ': 1.5390625}"
      ]
     },
     "execution_count": 2753,
     "metadata": {},
     "output_type": "execute_result"
    }
   ],
   "source": [
    "coef_dict = dict(zip(X.columns, model.coef_))\n",
    "coef_dict"
   ]
  },
  {
   "cell_type": "markdown",
   "metadata": {},
   "source": [
    "Sort Coefficient Dictionary based on Coefficient Strength"
   ]
  },
  {
   "cell_type": "code",
   "execution_count": 2754,
   "metadata": {},
   "outputs": [
    {
     "data": {
      "text/plain": [
       "{'MS SubClass_Duplex All': -62630942528828.21,\n",
       " 'Neighborhood_Landmrk': -45.91455078125,\n",
       " 'Neighborhood_MeadowV': -31.6380615234375,\n",
       " 'Neighborhood_Edwards': -31.108291518347446,\n",
       " 'Neighborhood_IDOTRR': -30.9970703125,\n",
       " 'Neighborhood_GrnHill': -30.851661237697552,\n",
       " 'Neighborhood_OldTown': -30.05078125,\n",
       " 'Neighborhood_Sawyer': -29.9609375,\n",
       " 'Neighborhood_NAmes': -29.80859375,\n",
       " 'Neighborhood_Mitchel': -29.005859375,\n",
       " 'Neighborhood_Veenker': -28.87127685546875,\n",
       " 'Neighborhood_NWAmes': -28.3585205078125,\n",
       " 'Neighborhood_ClearCr': -28.011996803911224,\n",
       " 'Neighborhood_SawyerW': -27.14990234375,\n",
       " 'Neighborhood_Gilbert': -27.056749291113285,\n",
       " 'Neighborhood_BrkSide': -26.1593060641109,\n",
       " 'Neighborhood_BrDale': -26.1224917883007,\n",
       " 'Neighborhood_CollgCr': -25.351424439218345,\n",
       " 'Neighborhood_Crawfor': -24.795594076207543,\n",
       " 'Neighborhood_Timber': -24.744140625,\n",
       " 'Neighborhood_SWISU': -23.595703125,\n",
       " 'Neighborhood_StoneBr': -21.783203125,\n",
       " 'Neighborhood_Somerst': -21.412109375,\n",
       " 'Neighborhood_NridgHt': -20.56640625,\n",
       " 'Neighborhood_Greens': -19.739817810650084,\n",
       " 'Neighborhood_NoRidge': -19.10546875,\n",
       " 'Neighborhood_NPkVill': -15.271484375,\n",
       " 'Neighborhood_Blueste': -11.182605566683268,\n",
       " 'Lot Shape_IR3': -6.78466796875,\n",
       " 'Condition 2_RRNn': -4.57861328125,\n",
       " 'Lot Shape_IR2': -3.90625,\n",
       " 'Land Slope_Sev': -3.881103515625,\n",
       " 'Lot Config_FR3': -3.6868955014565703,\n",
       " 'Land Contour_Low': -3.2119140625,\n",
       " 'Condition 1_RRAe': -3.0888671875,\n",
       " 'Bldg Type_2fmCon': -3.005859375,\n",
       " 'Condition 2_RRAe': -2.289794921875,\n",
       " 'Lot Config_FR2': -1.5919606052835622,\n",
       " 'Condition 1_RRAn': -1.5888671875,\n",
       " 'Condition 2_RRAn': -0.867431640625,\n",
       " 'Condition 1_PosA': -0.833740234375,\n",
       " 'Sale Type_ConLw': -0.6123046875,\n",
       " 'Lot Config_CulDSac': -0.17536144596904357,\n",
       " 'Condition 1_Feedr': -0.0185546875,\n",
       " 'Sale Type_Con': 0.19171142578125,\n",
       " 'Condition 1_Norm': 0.3671875,\n",
       " 'Condition 1_RRNn': 0.4462890625,\n",
       " 'Lot Shape_Reg': 0.451171875,\n",
       " 'MS Zoning_Residential Low Density': 1.038261178995528,\n",
       " 'Sale Type_Oth': 1.09619140625,\n",
       " 'Lot Config_Inside': 1.1332064578914212,\n",
       " 'Sale Type_ConLD': 1.166259765625,\n",
       " 'Condition 1_RRNe': 1.17919921875,\n",
       " 'Sale Type_WD ': 1.5390625,\n",
       " 'Land Contour_Lvl': 1.58447265625,\n",
       " 'Land Slope_Mod': 1.76953125,\n",
       " 'Sale Type_CWD': 2.166015625,\n",
       " 'Condition 2_Feedr': 2.509765625,\n",
       " 'MS SubClass_2.5 Story All': 2.6425437418483053,\n",
       " 'MS SubClass_1.5 Finished': 2.668792185138585,\n",
       " 'Bldg Type_TwnhsE': 2.9619140625,\n",
       " 'MS Zoning_Residential High Density': 3.01767088349081,\n",
       " 'MS SubClass_1.5 Unfinished': 3.0349541371168685,\n",
       " 'Condition 1_PosN': 3.12255859375,\n",
       " 'MS SubClass_Family Conversion': 3.139354517040153,\n",
       " 'Condition 2_Norm': 3.17236328125,\n",
       " 'MS SubClass_1 Storey W/Finished Attic': 3.2555383329103478,\n",
       " 'Sale Type_New': 3.390625,\n",
       " 'MS SubClass_1 Storey Newer All': 4.116180861404746,\n",
       " 'MS SubClass_Split': 4.339057864066492,\n",
       " 'MS SubClass_2 Storey 1946 Older': 4.373272296288965,\n",
       " 'Sale Type_ConLI': 4.533111572265625,\n",
       " 'MS SubClass_Split Foyer': 4.993122387314648,\n",
       " 'Street_Pave': 5.005126953125,\n",
       " 'Land Contour_HLS': 5.20703125,\n",
       " 'MS Zoning_Residential Medium Density': 5.474514369206437,\n",
       " 'MS SubClass_2 Storey 1946 Newer': 6.011934972189831,\n",
       " 'MS Zoning_Floating Village Residential': 6.041213354896681,\n",
       " 'Condition 2_PosN': 6.07373046875,\n",
       " 'Condition 2_PosA': 9.0482177734375,\n",
       " 'Bldg Type_Twnhs': 15.2406005859375,\n",
       " 'MS SubClass_1 Storey PUD': 16.297323212071863,\n",
       " 'MS SubClass_PUD Multi': 25.501666059415136,\n",
       " 'MS SubClass_2 Storey PUD': 25.713162655285526,\n",
       " 'MS SubClass_1.5 Storey PUD': 55.0351898488621,\n",
       " 'Bldg Type_Duplex': 62630942528833.164}"
      ]
     },
     "execution_count": 2754,
     "metadata": {},
     "output_type": "execute_result"
    }
   ],
   "source": [
    "{k: v for k, v in sorted(coef_dict.items(), key=lambda item: item[1])}\n",
    "\n",
    "# source https://stackoverflow.com/questions/613183/how-do-i-sort-a-dictionary-by-value"
   ]
  },
  {
   "cell_type": "code",
   "execution_count": 2755,
   "metadata": {},
   "outputs": [
    {
     "data": {
      "text/plain": [
       "{'Bldg Type_Duplex': 62630942528833.164,\n",
       " 'MS SubClass_1.5 Storey PUD': 55.0351898488621,\n",
       " 'MS SubClass_2 Storey PUD': 25.713162655285526,\n",
       " 'MS SubClass_PUD Multi': 25.501666059415136,\n",
       " 'MS SubClass_1 Storey PUD': 16.297323212071863,\n",
       " 'Bldg Type_Twnhs': 15.2406005859375,\n",
       " 'Condition 2_PosA': 9.0482177734375,\n",
       " 'Condition 2_PosN': 6.07373046875,\n",
       " 'MS Zoning_Floating Village Residential': 6.041213354896681,\n",
       " 'MS SubClass_2 Storey 1946 Newer': 6.011934972189831,\n",
       " 'MS Zoning_Residential Medium Density': 5.474514369206437,\n",
       " 'Land Contour_HLS': 5.20703125,\n",
       " 'Street_Pave': 5.005126953125,\n",
       " 'MS SubClass_Split Foyer': 4.993122387314648,\n",
       " 'Sale Type_ConLI': 4.533111572265625,\n",
       " 'MS SubClass_2 Storey 1946 Older': 4.373272296288965,\n",
       " 'MS SubClass_Split': 4.339057864066492,\n",
       " 'MS SubClass_1 Storey Newer All': 4.116180861404746,\n",
       " 'Sale Type_New': 3.390625,\n",
       " 'MS SubClass_1 Storey W/Finished Attic': 3.2555383329103478,\n",
       " 'Condition 2_Norm': 3.17236328125,\n",
       " 'MS SubClass_Family Conversion': 3.139354517040153,\n",
       " 'Condition 1_PosN': 3.12255859375,\n",
       " 'MS SubClass_1.5 Unfinished': 3.0349541371168685,\n",
       " 'MS Zoning_Residential High Density': 3.01767088349081,\n",
       " 'Bldg Type_TwnhsE': 2.9619140625,\n",
       " 'MS SubClass_1.5 Finished': 2.668792185138585,\n",
       " 'MS SubClass_2.5 Story All': 2.6425437418483053,\n",
       " 'Condition 2_Feedr': 2.509765625,\n",
       " 'Sale Type_CWD': 2.166015625,\n",
       " 'Land Slope_Mod': 1.76953125,\n",
       " 'Land Contour_Lvl': 1.58447265625,\n",
       " 'Sale Type_WD ': 1.5390625,\n",
       " 'Condition 1_RRNe': 1.17919921875,\n",
       " 'Sale Type_ConLD': 1.166259765625,\n",
       " 'Lot Config_Inside': 1.1332064578914212,\n",
       " 'Sale Type_Oth': 1.09619140625,\n",
       " 'MS Zoning_Residential Low Density': 1.038261178995528,\n",
       " 'Lot Shape_Reg': 0.451171875,\n",
       " 'Condition 1_RRNn': 0.4462890625,\n",
       " 'Condition 1_Norm': 0.3671875,\n",
       " 'Sale Type_Con': 0.19171142578125,\n",
       " 'Condition 1_Feedr': -0.0185546875,\n",
       " 'Lot Config_CulDSac': -0.17536144596904357,\n",
       " 'Sale Type_ConLw': -0.6123046875,\n",
       " 'Condition 1_PosA': -0.833740234375,\n",
       " 'Condition 2_RRAn': -0.867431640625,\n",
       " 'Condition 1_RRAn': -1.5888671875,\n",
       " 'Lot Config_FR2': -1.5919606052835622,\n",
       " 'Condition 2_RRAe': -2.289794921875,\n",
       " 'Bldg Type_2fmCon': -3.005859375,\n",
       " 'Condition 1_RRAe': -3.0888671875,\n",
       " 'Land Contour_Low': -3.2119140625,\n",
       " 'Lot Config_FR3': -3.6868955014565703,\n",
       " 'Land Slope_Sev': -3.881103515625,\n",
       " 'Lot Shape_IR2': -3.90625,\n",
       " 'Condition 2_RRNn': -4.57861328125,\n",
       " 'Lot Shape_IR3': -6.78466796875,\n",
       " 'Neighborhood_Blueste': -11.182605566683268,\n",
       " 'Neighborhood_NPkVill': -15.271484375,\n",
       " 'Neighborhood_NoRidge': -19.10546875,\n",
       " 'Neighborhood_Greens': -19.739817810650084,\n",
       " 'Neighborhood_NridgHt': -20.56640625,\n",
       " 'Neighborhood_Somerst': -21.412109375,\n",
       " 'Neighborhood_StoneBr': -21.783203125,\n",
       " 'Neighborhood_SWISU': -23.595703125,\n",
       " 'Neighborhood_Timber': -24.744140625,\n",
       " 'Neighborhood_Crawfor': -24.795594076207543,\n",
       " 'Neighborhood_CollgCr': -25.351424439218345,\n",
       " 'Neighborhood_BrDale': -26.1224917883007,\n",
       " 'Neighborhood_BrkSide': -26.1593060641109,\n",
       " 'Neighborhood_Gilbert': -27.056749291113285,\n",
       " 'Neighborhood_SawyerW': -27.14990234375,\n",
       " 'Neighborhood_ClearCr': -28.011996803911224,\n",
       " 'Neighborhood_NWAmes': -28.3585205078125,\n",
       " 'Neighborhood_Veenker': -28.87127685546875,\n",
       " 'Neighborhood_Mitchel': -29.005859375,\n",
       " 'Neighborhood_NAmes': -29.80859375,\n",
       " 'Neighborhood_Sawyer': -29.9609375,\n",
       " 'Neighborhood_OldTown': -30.05078125,\n",
       " 'Neighborhood_GrnHill': -30.851661237697552,\n",
       " 'Neighborhood_IDOTRR': -30.9970703125,\n",
       " 'Neighborhood_Edwards': -31.108291518347446,\n",
       " 'Neighborhood_MeadowV': -31.6380615234375,\n",
       " 'Neighborhood_Landmrk': -45.91455078125,\n",
       " 'MS SubClass_Duplex All': -62630942528828.21}"
      ]
     },
     "execution_count": 2755,
     "metadata": {},
     "output_type": "execute_result"
    }
   ],
   "source": [
    "{k: v for k, v in sorted(coef_dict.items(), key=lambda item: item[1], reverse=True)}\n"
   ]
  },
  {
   "cell_type": "markdown",
   "metadata": {},
   "source": [
    "There are 86 coefficients due to dummification"
   ]
  },
  {
   "cell_type": "markdown",
   "metadata": {},
   "source": [
    "#### Interpretation of Coefficients"
   ]
  },
  {
   "cell_type": "markdown",
   "metadata": {},
   "source": [
    "Reminder to self: Refer to lecture 3.01 Linear Regression"
   ]
  },
  {
   "cell_type": "markdown",
   "metadata": {},
   "source": [
    "- The effect of a home being MS SubClass_1 Storey Newer All contributes to the price per square feet increasing by 10.041132589968962\n",
    "\n",
    "- The effect of a home being MS Zoning_Floating Village Residential contributes to the price per square feet increasing by 8.498955709179087\n",
    "\n",
    "Here are other effects on Price per Square Feet\n",
    "\n",
    "- 'MS SubClass_Split Foyer': 7.9002345473575515,\n",
    "- 'MS SubClass_1.5 Finished': 6.026154574733448,\n",
    "- 'MS SubClass_Split': 2.3465197376865445,\n",
    "- 'Lot Config_CulDSac': 2.257515725266754,\n",
    "- 'MS SubClass_2 Storey 1946 Older': 1.2833856211755341,\n",
    "- 'MS SubClass_1.5 Unfinished': 1.0296480826226686,"
   ]
  },
  {
   "cell_type": "markdown",
   "metadata": {},
   "source": [
    "### Step 5: Make Predictions"
   ]
  },
  {
   "cell_type": "code",
   "execution_count": 2756,
   "metadata": {},
   "outputs": [
    {
     "data": {
      "text/html": [
       "<div>\n",
       "<style scoped>\n",
       "    .dataframe tbody tr th:only-of-type {\n",
       "        vertical-align: middle;\n",
       "    }\n",
       "\n",
       "    .dataframe tbody tr th {\n",
       "        vertical-align: top;\n",
       "    }\n",
       "\n",
       "    .dataframe thead th {\n",
       "        text-align: right;\n",
       "    }\n",
       "</style>\n",
       "<table border=\"1\" class=\"dataframe\">\n",
       "  <thead>\n",
       "    <tr style=\"text-align: right;\">\n",
       "      <th></th>\n",
       "      <th>MS SubClass_1 Storey Newer All</th>\n",
       "      <th>MS SubClass_1 Storey PUD</th>\n",
       "      <th>MS SubClass_1 Storey W/Finished Attic</th>\n",
       "      <th>MS SubClass_1.5 Finished</th>\n",
       "      <th>MS SubClass_1.5 Storey PUD</th>\n",
       "      <th>MS SubClass_1.5 Unfinished</th>\n",
       "      <th>MS SubClass_2 Storey 1946 Newer</th>\n",
       "      <th>MS SubClass_2 Storey 1946 Older</th>\n",
       "      <th>MS SubClass_2 Storey PUD</th>\n",
       "      <th>MS SubClass_2.5 Story All</th>\n",
       "      <th>...</th>\n",
       "      <th>Lot Shape_IR3</th>\n",
       "      <th>Lot Shape_Reg</th>\n",
       "      <th>Sale Type_CWD</th>\n",
       "      <th>Sale Type_Con</th>\n",
       "      <th>Sale Type_ConLD</th>\n",
       "      <th>Sale Type_ConLI</th>\n",
       "      <th>Sale Type_ConLw</th>\n",
       "      <th>Sale Type_New</th>\n",
       "      <th>Sale Type_Oth</th>\n",
       "      <th>Sale Type_WD</th>\n",
       "    </tr>\n",
       "  </thead>\n",
       "  <tbody>\n",
       "    <tr>\n",
       "      <th>0</th>\n",
       "      <td>0</td>\n",
       "      <td>0</td>\n",
       "      <td>0</td>\n",
       "      <td>0</td>\n",
       "      <td>0</td>\n",
       "      <td>0</td>\n",
       "      <td>1</td>\n",
       "      <td>0</td>\n",
       "      <td>0</td>\n",
       "      <td>0</td>\n",
       "      <td>...</td>\n",
       "      <td>0</td>\n",
       "      <td>0</td>\n",
       "      <td>0</td>\n",
       "      <td>0</td>\n",
       "      <td>0</td>\n",
       "      <td>0</td>\n",
       "      <td>0</td>\n",
       "      <td>0</td>\n",
       "      <td>0</td>\n",
       "      <td>1</td>\n",
       "    </tr>\n",
       "    <tr>\n",
       "      <th>1</th>\n",
       "      <td>0</td>\n",
       "      <td>0</td>\n",
       "      <td>0</td>\n",
       "      <td>0</td>\n",
       "      <td>0</td>\n",
       "      <td>0</td>\n",
       "      <td>1</td>\n",
       "      <td>0</td>\n",
       "      <td>0</td>\n",
       "      <td>0</td>\n",
       "      <td>...</td>\n",
       "      <td>0</td>\n",
       "      <td>0</td>\n",
       "      <td>0</td>\n",
       "      <td>0</td>\n",
       "      <td>0</td>\n",
       "      <td>0</td>\n",
       "      <td>0</td>\n",
       "      <td>0</td>\n",
       "      <td>0</td>\n",
       "      <td>1</td>\n",
       "    </tr>\n",
       "    <tr>\n",
       "      <th>2</th>\n",
       "      <td>1</td>\n",
       "      <td>0</td>\n",
       "      <td>0</td>\n",
       "      <td>0</td>\n",
       "      <td>0</td>\n",
       "      <td>0</td>\n",
       "      <td>0</td>\n",
       "      <td>0</td>\n",
       "      <td>0</td>\n",
       "      <td>0</td>\n",
       "      <td>...</td>\n",
       "      <td>0</td>\n",
       "      <td>1</td>\n",
       "      <td>0</td>\n",
       "      <td>0</td>\n",
       "      <td>0</td>\n",
       "      <td>0</td>\n",
       "      <td>0</td>\n",
       "      <td>0</td>\n",
       "      <td>0</td>\n",
       "      <td>1</td>\n",
       "    </tr>\n",
       "  </tbody>\n",
       "</table>\n",
       "<p>3 rows × 86 columns</p>\n",
       "</div>"
      ],
      "text/plain": [
       "   MS SubClass_1 Storey Newer All  MS SubClass_1 Storey PUD  \\\n",
       "0                               0                         0   \n",
       "1                               0                         0   \n",
       "2                               1                         0   \n",
       "\n",
       "   MS SubClass_1 Storey W/Finished Attic  MS SubClass_1.5 Finished  \\\n",
       "0                                      0                         0   \n",
       "1                                      0                         0   \n",
       "2                                      0                         0   \n",
       "\n",
       "   MS SubClass_1.5 Storey PUD  MS SubClass_1.5 Unfinished  \\\n",
       "0                           0                           0   \n",
       "1                           0                           0   \n",
       "2                           0                           0   \n",
       "\n",
       "   MS SubClass_2 Storey 1946 Newer  MS SubClass_2 Storey 1946 Older  \\\n",
       "0                                1                                0   \n",
       "1                                1                                0   \n",
       "2                                0                                0   \n",
       "\n",
       "   MS SubClass_2 Storey PUD  MS SubClass_2.5 Story All  ...  Lot Shape_IR3  \\\n",
       "0                         0                          0  ...              0   \n",
       "1                         0                          0  ...              0   \n",
       "2                         0                          0  ...              0   \n",
       "\n",
       "   Lot Shape_Reg  Sale Type_CWD  Sale Type_Con  Sale Type_ConLD  \\\n",
       "0              0              0              0                0   \n",
       "1              0              0              0                0   \n",
       "2              1              0              0                0   \n",
       "\n",
       "   Sale Type_ConLI  Sale Type_ConLw  Sale Type_New  Sale Type_Oth  \\\n",
       "0                0                0              0              0   \n",
       "1                0                0              0              0   \n",
       "2                0                0              0              0   \n",
       "\n",
       "   Sale Type_WD   \n",
       "0              1  \n",
       "1              1  \n",
       "2              1  \n",
       "\n",
       "[3 rows x 86 columns]"
      ]
     },
     "execution_count": 2756,
     "metadata": {},
     "output_type": "execute_result"
    }
   ],
   "source": [
    "X.head(3)"
   ]
  },
  {
   "cell_type": "code",
   "execution_count": 2757,
   "metadata": {},
   "outputs": [
    {
     "data": {
      "text/plain": [
       "array([12.24826704, 18.51535688, 15.72065115, ..., 17.70178949,\n",
       "       14.58744469, 20.36824972])"
      ]
     },
     "execution_count": 2757,
     "metadata": {},
     "output_type": "execute_result"
    }
   ],
   "source": [
    "y_preds = model.predict(X)\n",
    "y_preds # y_preds are points on the regression plane \n",
    "# y_preds are the predicted price per square feet"
   ]
  },
  {
   "cell_type": "markdown",
   "metadata": {},
   "source": [
    "### Step 6: Evaluate the model"
   ]
  },
  {
   "cell_type": "markdown",
   "metadata": {},
   "source": [
    "$R^2$"
   ]
  },
  {
   "cell_type": "code",
   "execution_count": 2758,
   "metadata": {},
   "outputs": [
    {
     "data": {
      "text/plain": [
       "0.7898940574012766"
      ]
     },
     "execution_count": 2758,
     "metadata": {},
     "output_type": "execute_result"
    }
   ],
   "source": [
    "# R2:\n",
    "metrics.r2_score(y, y_preds)"
   ]
  },
  {
   "cell_type": "markdown",
   "metadata": {},
   "source": [
    "78.9% of the data fall on the regression plane. Not bad!"
   ]
  },
  {
   "cell_type": "markdown",
   "metadata": {},
   "source": [
    "MSE"
   ]
  },
  {
   "cell_type": "code",
   "execution_count": 2759,
   "metadata": {},
   "outputs": [
    {
     "data": {
      "text/plain": [
       "35.72971780623902"
      ]
     },
     "execution_count": 2759,
     "metadata": {},
     "output_type": "execute_result"
    }
   ],
   "source": [
    "# MSE:\n",
    "metrics.mean_squared_error(y, y_preds) "
   ]
  },
  {
   "cell_type": "markdown",
   "metadata": {},
   "source": [
    "How is our model?"
   ]
  },
  {
   "cell_type": "markdown",
   "metadata": {},
   "source": [
    "---"
   ]
  },
  {
   "cell_type": "markdown",
   "metadata": {},
   "source": [
    "# Factor 2: Quality and Condition of Home"
   ]
  },
  {
   "cell_type": "code",
   "execution_count": 2790,
   "metadata": {},
   "outputs": [
    {
     "data": {
      "text/html": [
       "<div>\n",
       "<style scoped>\n",
       "    .dataframe tbody tr th:only-of-type {\n",
       "        vertical-align: middle;\n",
       "    }\n",
       "\n",
       "    .dataframe tbody tr th {\n",
       "        vertical-align: top;\n",
       "    }\n",
       "\n",
       "    .dataframe thead th {\n",
       "        text-align: right;\n",
       "    }\n",
       "</style>\n",
       "<table border=\"1\" class=\"dataframe\">\n",
       "  <thead>\n",
       "    <tr style=\"text-align: right;\">\n",
       "      <th></th>\n",
       "      <th>Price Per Sq Ft</th>\n",
       "    </tr>\n",
       "  </thead>\n",
       "  <tbody>\n",
       "    <tr>\n",
       "      <th>0</th>\n",
       "      <td>9.654509</td>\n",
       "    </tr>\n",
       "    <tr>\n",
       "      <th>1</th>\n",
       "      <td>19.143752</td>\n",
       "    </tr>\n",
       "    <tr>\n",
       "      <th>2</th>\n",
       "      <td>13.759152</td>\n",
       "    </tr>\n",
       "    <tr>\n",
       "      <th>3</th>\n",
       "      <td>17.751479</td>\n",
       "    </tr>\n",
       "    <tr>\n",
       "      <th>4</th>\n",
       "      <td>9.729540</td>\n",
       "    </tr>\n",
       "  </tbody>\n",
       "</table>\n",
       "</div>"
      ],
      "text/plain": [
       "   Price Per Sq Ft\n",
       "0         9.654509\n",
       "1        19.143752\n",
       "2        13.759152\n",
       "3        17.751479\n",
       "4         9.729540"
      ]
     },
     "execution_count": 2790,
     "metadata": {},
     "output_type": "execute_result"
    }
   ],
   "source": [
    "price_factors_df.drop(['Sale Type','SalePrice'], axis=1, inplace=True)\n",
    "price_factors_df.head()"
   ]
  },
  {
   "cell_type": "code",
   "execution_count": 2791,
   "metadata": {},
   "outputs": [
    {
     "name": "stdout",
     "output_type": "stream",
     "text": [
      "(1887, 7)\n"
     ]
    },
    {
     "data": {
      "text/html": [
       "<div>\n",
       "<style scoped>\n",
       "    .dataframe tbody tr th:only-of-type {\n",
       "        vertical-align: middle;\n",
       "    }\n",
       "\n",
       "    .dataframe tbody tr th {\n",
       "        vertical-align: top;\n",
       "    }\n",
       "\n",
       "    .dataframe thead th {\n",
       "        text-align: right;\n",
       "    }\n",
       "</style>\n",
       "<table border=\"1\" class=\"dataframe\">\n",
       "  <thead>\n",
       "    <tr style=\"text-align: right;\">\n",
       "      <th></th>\n",
       "      <th>Overall Quality</th>\n",
       "      <th>Overall Condition</th>\n",
       "      <th>Exterior Quality</th>\n",
       "      <th>Exterior Condition</th>\n",
       "      <th>Functional</th>\n",
       "      <th>Garage Qual</th>\n",
       "      <th>Garage Cond</th>\n",
       "    </tr>\n",
       "  </thead>\n",
       "  <tbody>\n",
       "    <tr>\n",
       "      <th>0</th>\n",
       "      <td>6</td>\n",
       "      <td>8</td>\n",
       "      <td>4</td>\n",
       "      <td>3</td>\n",
       "      <td>Typ</td>\n",
       "      <td>TA</td>\n",
       "      <td>TA</td>\n",
       "    </tr>\n",
       "    <tr>\n",
       "      <th>1</th>\n",
       "      <td>7</td>\n",
       "      <td>5</td>\n",
       "      <td>4</td>\n",
       "      <td>3</td>\n",
       "      <td>Typ</td>\n",
       "      <td>TA</td>\n",
       "      <td>TA</td>\n",
       "    </tr>\n",
       "    <tr>\n",
       "      <th>2</th>\n",
       "      <td>5</td>\n",
       "      <td>7</td>\n",
       "      <td>3</td>\n",
       "      <td>4</td>\n",
       "      <td>Typ</td>\n",
       "      <td>TA</td>\n",
       "      <td>TA</td>\n",
       "    </tr>\n",
       "  </tbody>\n",
       "</table>\n",
       "</div>"
      ],
      "text/plain": [
       "   Overall Quality  Overall Condition  Exterior Quality  Exterior Condition  \\\n",
       "0                6                  8                 4                   3   \n",
       "1                7                  5                 4                   3   \n",
       "2                5                  7                 3                   4   \n",
       "\n",
       "  Functional Garage Qual Garage Cond  \n",
       "0        Typ          TA          TA  \n",
       "1        Typ          TA          TA  \n",
       "2        Typ          TA          TA  "
      ]
     },
     "execution_count": 2791,
     "metadata": {},
     "output_type": "execute_result"
    }
   ],
   "source": [
    "quality_condition_df.drop('Unnamed: 0', axis=1, inplace=True)\n",
    "# quality_condition_price_df = location_proximity_df.join(price_factors_df, how='outer')\n",
    "print(quality_condition_df.shape)\n",
    "quality_condition_df.head(3)"
   ]
  },
  {
   "cell_type": "code",
   "execution_count": 2792,
   "metadata": {},
   "outputs": [],
   "source": [
    "X2 = quality_condition_df\n",
    "y2 = price_factors_df"
   ]
  },
  {
   "cell_type": "code",
   "execution_count": 2793,
   "metadata": {},
   "outputs": [
    {
     "data": {
      "text/html": [
       "<div>\n",
       "<style scoped>\n",
       "    .dataframe tbody tr th:only-of-type {\n",
       "        vertical-align: middle;\n",
       "    }\n",
       "\n",
       "    .dataframe tbody tr th {\n",
       "        vertical-align: top;\n",
       "    }\n",
       "\n",
       "    .dataframe thead th {\n",
       "        text-align: right;\n",
       "    }\n",
       "</style>\n",
       "<table border=\"1\" class=\"dataframe\">\n",
       "  <thead>\n",
       "    <tr style=\"text-align: right;\">\n",
       "      <th></th>\n",
       "      <th>Overall Quality</th>\n",
       "      <th>Overall Condition</th>\n",
       "      <th>Exterior Quality</th>\n",
       "      <th>Exterior Condition</th>\n",
       "      <th>Functional_Maj2</th>\n",
       "      <th>Functional_Min1</th>\n",
       "      <th>Functional_Min2</th>\n",
       "      <th>Functional_Mod</th>\n",
       "      <th>Functional_Sal</th>\n",
       "      <th>Functional_Sev</th>\n",
       "      <th>Functional_Typ</th>\n",
       "      <th>Garage Qual_Fa</th>\n",
       "      <th>Garage Qual_Gd</th>\n",
       "      <th>Garage Qual_Po</th>\n",
       "      <th>Garage Qual_TA</th>\n",
       "      <th>Garage Cond_Fa</th>\n",
       "      <th>Garage Cond_Gd</th>\n",
       "      <th>Garage Cond_Po</th>\n",
       "      <th>Garage Cond_TA</th>\n",
       "    </tr>\n",
       "  </thead>\n",
       "  <tbody>\n",
       "    <tr>\n",
       "      <th>0</th>\n",
       "      <td>6</td>\n",
       "      <td>8</td>\n",
       "      <td>4</td>\n",
       "      <td>3</td>\n",
       "      <td>0</td>\n",
       "      <td>0</td>\n",
       "      <td>0</td>\n",
       "      <td>0</td>\n",
       "      <td>0</td>\n",
       "      <td>0</td>\n",
       "      <td>1</td>\n",
       "      <td>0</td>\n",
       "      <td>0</td>\n",
       "      <td>0</td>\n",
       "      <td>1</td>\n",
       "      <td>0</td>\n",
       "      <td>0</td>\n",
       "      <td>0</td>\n",
       "      <td>1</td>\n",
       "    </tr>\n",
       "    <tr>\n",
       "      <th>1</th>\n",
       "      <td>7</td>\n",
       "      <td>5</td>\n",
       "      <td>4</td>\n",
       "      <td>3</td>\n",
       "      <td>0</td>\n",
       "      <td>0</td>\n",
       "      <td>0</td>\n",
       "      <td>0</td>\n",
       "      <td>0</td>\n",
       "      <td>0</td>\n",
       "      <td>1</td>\n",
       "      <td>0</td>\n",
       "      <td>0</td>\n",
       "      <td>0</td>\n",
       "      <td>1</td>\n",
       "      <td>0</td>\n",
       "      <td>0</td>\n",
       "      <td>0</td>\n",
       "      <td>1</td>\n",
       "    </tr>\n",
       "    <tr>\n",
       "      <th>2</th>\n",
       "      <td>5</td>\n",
       "      <td>7</td>\n",
       "      <td>3</td>\n",
       "      <td>4</td>\n",
       "      <td>0</td>\n",
       "      <td>0</td>\n",
       "      <td>0</td>\n",
       "      <td>0</td>\n",
       "      <td>0</td>\n",
       "      <td>0</td>\n",
       "      <td>1</td>\n",
       "      <td>0</td>\n",
       "      <td>0</td>\n",
       "      <td>0</td>\n",
       "      <td>1</td>\n",
       "      <td>0</td>\n",
       "      <td>0</td>\n",
       "      <td>0</td>\n",
       "      <td>1</td>\n",
       "    </tr>\n",
       "    <tr>\n",
       "      <th>3</th>\n",
       "      <td>5</td>\n",
       "      <td>5</td>\n",
       "      <td>3</td>\n",
       "      <td>3</td>\n",
       "      <td>0</td>\n",
       "      <td>0</td>\n",
       "      <td>0</td>\n",
       "      <td>0</td>\n",
       "      <td>0</td>\n",
       "      <td>0</td>\n",
       "      <td>1</td>\n",
       "      <td>0</td>\n",
       "      <td>0</td>\n",
       "      <td>0</td>\n",
       "      <td>1</td>\n",
       "      <td>0</td>\n",
       "      <td>0</td>\n",
       "      <td>0</td>\n",
       "      <td>1</td>\n",
       "    </tr>\n",
       "    <tr>\n",
       "      <th>4</th>\n",
       "      <td>6</td>\n",
       "      <td>8</td>\n",
       "      <td>3</td>\n",
       "      <td>3</td>\n",
       "      <td>0</td>\n",
       "      <td>0</td>\n",
       "      <td>0</td>\n",
       "      <td>0</td>\n",
       "      <td>0</td>\n",
       "      <td>0</td>\n",
       "      <td>1</td>\n",
       "      <td>0</td>\n",
       "      <td>0</td>\n",
       "      <td>0</td>\n",
       "      <td>1</td>\n",
       "      <td>0</td>\n",
       "      <td>0</td>\n",
       "      <td>0</td>\n",
       "      <td>1</td>\n",
       "    </tr>\n",
       "  </tbody>\n",
       "</table>\n",
       "</div>"
      ],
      "text/plain": [
       "   Overall Quality  Overall Condition  Exterior Quality  Exterior Condition  \\\n",
       "0                6                  8                 4                   3   \n",
       "1                7                  5                 4                   3   \n",
       "2                5                  7                 3                   4   \n",
       "3                5                  5                 3                   3   \n",
       "4                6                  8                 3                   3   \n",
       "\n",
       "   Functional_Maj2  Functional_Min1  Functional_Min2  Functional_Mod  \\\n",
       "0                0                0                0               0   \n",
       "1                0                0                0               0   \n",
       "2                0                0                0               0   \n",
       "3                0                0                0               0   \n",
       "4                0                0                0               0   \n",
       "\n",
       "   Functional_Sal  Functional_Sev  Functional_Typ  Garage Qual_Fa  \\\n",
       "0               0               0               1               0   \n",
       "1               0               0               1               0   \n",
       "2               0               0               1               0   \n",
       "3               0               0               1               0   \n",
       "4               0               0               1               0   \n",
       "\n",
       "   Garage Qual_Gd  Garage Qual_Po  Garage Qual_TA  Garage Cond_Fa  \\\n",
       "0               0               0               1               0   \n",
       "1               0               0               1               0   \n",
       "2               0               0               1               0   \n",
       "3               0               0               1               0   \n",
       "4               0               0               1               0   \n",
       "\n",
       "   Garage Cond_Gd  Garage Cond_Po  Garage Cond_TA  \n",
       "0               0               0               1  \n",
       "1               0               0               1  \n",
       "2               0               0               1  \n",
       "3               0               0               1  \n",
       "4               0               0               1  "
      ]
     },
     "execution_count": 2793,
     "metadata": {},
     "output_type": "execute_result"
    }
   ],
   "source": [
    "X2 = pd.get_dummies(drop_first=True, data=X2)\n",
    "X2.head()"
   ]
  },
  {
   "cell_type": "code",
   "execution_count": 2794,
   "metadata": {},
   "outputs": [
    {
     "data": {
      "text/plain": [
       "(1887, 19)"
      ]
     },
     "execution_count": 2794,
     "metadata": {},
     "output_type": "execute_result"
    }
   ],
   "source": [
    "X2.shape"
   ]
  },
  {
   "cell_type": "markdown",
   "metadata": {},
   "source": [
    "### Step 2: Instantiate the model"
   ]
  },
  {
   "cell_type": "code",
   "execution_count": 2795,
   "metadata": {},
   "outputs": [],
   "source": [
    "model2 = LinearRegression()"
   ]
  },
  {
   "cell_type": "markdown",
   "metadata": {},
   "source": [
    "### Step 3: Fit the model"
   ]
  },
  {
   "cell_type": "code",
   "execution_count": 2796,
   "metadata": {},
   "outputs": [
    {
     "data": {
      "text/html": [
       "<style>#sk-container-id-94 {color: black;background-color: white;}#sk-container-id-94 pre{padding: 0;}#sk-container-id-94 div.sk-toggleable {background-color: white;}#sk-container-id-94 label.sk-toggleable__label {cursor: pointer;display: block;width: 100%;margin-bottom: 0;padding: 0.3em;box-sizing: border-box;text-align: center;}#sk-container-id-94 label.sk-toggleable__label-arrow:before {content: \"▸\";float: left;margin-right: 0.25em;color: #696969;}#sk-container-id-94 label.sk-toggleable__label-arrow:hover:before {color: black;}#sk-container-id-94 div.sk-estimator:hover label.sk-toggleable__label-arrow:before {color: black;}#sk-container-id-94 div.sk-toggleable__content {max-height: 0;max-width: 0;overflow: hidden;text-align: left;background-color: #f0f8ff;}#sk-container-id-94 div.sk-toggleable__content pre {margin: 0.2em;color: black;border-radius: 0.25em;background-color: #f0f8ff;}#sk-container-id-94 input.sk-toggleable__control:checked~div.sk-toggleable__content {max-height: 200px;max-width: 100%;overflow: auto;}#sk-container-id-94 input.sk-toggleable__control:checked~label.sk-toggleable__label-arrow:before {content: \"▾\";}#sk-container-id-94 div.sk-estimator input.sk-toggleable__control:checked~label.sk-toggleable__label {background-color: #d4ebff;}#sk-container-id-94 div.sk-label input.sk-toggleable__control:checked~label.sk-toggleable__label {background-color: #d4ebff;}#sk-container-id-94 input.sk-hidden--visually {border: 0;clip: rect(1px 1px 1px 1px);clip: rect(1px, 1px, 1px, 1px);height: 1px;margin: -1px;overflow: hidden;padding: 0;position: absolute;width: 1px;}#sk-container-id-94 div.sk-estimator {font-family: monospace;background-color: #f0f8ff;border: 1px dotted black;border-radius: 0.25em;box-sizing: border-box;margin-bottom: 0.5em;}#sk-container-id-94 div.sk-estimator:hover {background-color: #d4ebff;}#sk-container-id-94 div.sk-parallel-item::after {content: \"\";width: 100%;border-bottom: 1px solid gray;flex-grow: 1;}#sk-container-id-94 div.sk-label:hover label.sk-toggleable__label {background-color: #d4ebff;}#sk-container-id-94 div.sk-serial::before {content: \"\";position: absolute;border-left: 1px solid gray;box-sizing: border-box;top: 0;bottom: 0;left: 50%;z-index: 0;}#sk-container-id-94 div.sk-serial {display: flex;flex-direction: column;align-items: center;background-color: white;padding-right: 0.2em;padding-left: 0.2em;position: relative;}#sk-container-id-94 div.sk-item {position: relative;z-index: 1;}#sk-container-id-94 div.sk-parallel {display: flex;align-items: stretch;justify-content: center;background-color: white;position: relative;}#sk-container-id-94 div.sk-item::before, #sk-container-id-94 div.sk-parallel-item::before {content: \"\";position: absolute;border-left: 1px solid gray;box-sizing: border-box;top: 0;bottom: 0;left: 50%;z-index: -1;}#sk-container-id-94 div.sk-parallel-item {display: flex;flex-direction: column;z-index: 1;position: relative;background-color: white;}#sk-container-id-94 div.sk-parallel-item:first-child::after {align-self: flex-end;width: 50%;}#sk-container-id-94 div.sk-parallel-item:last-child::after {align-self: flex-start;width: 50%;}#sk-container-id-94 div.sk-parallel-item:only-child::after {width: 0;}#sk-container-id-94 div.sk-dashed-wrapped {border: 1px dashed gray;margin: 0 0.4em 0.5em 0.4em;box-sizing: border-box;padding-bottom: 0.4em;background-color: white;}#sk-container-id-94 div.sk-label label {font-family: monospace;font-weight: bold;display: inline-block;line-height: 1.2em;}#sk-container-id-94 div.sk-label-container {text-align: center;}#sk-container-id-94 div.sk-container {/* jupyter's `normalize.less` sets `[hidden] { display: none; }` but bootstrap.min.css set `[hidden] { display: none !important; }` so we also need the `!important` here to be able to override the default hidden behavior on the sphinx rendered scikit-learn.org. See: https://github.com/scikit-learn/scikit-learn/issues/21755 */display: inline-block !important;position: relative;}#sk-container-id-94 div.sk-text-repr-fallback {display: none;}</style><div id=\"sk-container-id-94\" class=\"sk-top-container\"><div class=\"sk-text-repr-fallback\"><pre>LinearRegression()</pre><b>In a Jupyter environment, please rerun this cell to show the HTML representation or trust the notebook. <br />On GitHub, the HTML representation is unable to render, please try loading this page with nbviewer.org.</b></div><div class=\"sk-container\" hidden><div class=\"sk-item\"><div class=\"sk-estimator sk-toggleable\"><input class=\"sk-toggleable__control sk-hidden--visually\" id=\"sk-estimator-id-94\" type=\"checkbox\" checked><label for=\"sk-estimator-id-94\" class=\"sk-toggleable__label sk-toggleable__label-arrow\">LinearRegression</label><div class=\"sk-toggleable__content\"><pre>LinearRegression()</pre></div></div></div></div></div>"
      ],
      "text/plain": [
       "LinearRegression()"
      ]
     },
     "execution_count": 2796,
     "metadata": {},
     "output_type": "execute_result"
    }
   ],
   "source": [
    "model2.fit(X2,y2)"
   ]
  },
  {
   "cell_type": "markdown",
   "metadata": {},
   "source": [
    "### Step 4: Check out and interpret our coefficients"
   ]
  },
  {
   "cell_type": "code",
   "execution_count": 2797,
   "metadata": {},
   "outputs": [
    {
     "name": "stdout",
     "output_type": "stream",
     "text": [
      "Overall Quality\n",
      "Overall Condition\n",
      "Exterior Quality\n",
      "Exterior Condition\n",
      "Functional_Maj2\n",
      "Functional_Min1\n",
      "Functional_Min2\n",
      "Functional_Mod\n",
      "Functional_Sal\n",
      "Functional_Sev\n",
      "Functional_Typ\n",
      "Garage Qual_Fa\n",
      "Garage Qual_Gd\n",
      "Garage Qual_Po\n",
      "Garage Qual_TA\n",
      "Garage Cond_Fa\n",
      "Garage Cond_Gd\n",
      "Garage Cond_Po\n",
      "Garage Cond_TA\n"
     ]
    }
   ],
   "source": [
    "for i in X2.columns:\n",
    "    print (i)"
   ]
  },
  {
   "cell_type": "code",
   "execution_count": 2798,
   "metadata": {},
   "outputs": [
    {
     "data": {
      "text/plain": [
       "array([[  2.50230015,  -0.42876963,   3.55971304,  -1.01740776,\n",
       "        -12.86829656,  -9.08154607,  -8.66780566, -12.89365284,\n",
       "        -15.80280806, -18.68481968,  -6.17826386,  10.12168182,\n",
       "         13.36226929,   3.26882522,  10.65509311,  -7.77105886,\n",
       "        -11.56426303,  -9.46265543,  -7.55655787]])"
      ]
     },
     "execution_count": 2798,
     "metadata": {},
     "output_type": "execute_result"
    }
   ],
   "source": [
    "model2.coef_"
   ]
  },
  {
   "cell_type": "code",
   "execution_count": 2799,
   "metadata": {},
   "outputs": [],
   "source": [
    "model2_coef = dict(zip(X2.columns, model2.coef_))\n"
   ]
  },
  {
   "cell_type": "code",
   "execution_count": 2800,
   "metadata": {},
   "outputs": [
    {
     "data": {
      "text/plain": [
       "{'Overall Quality': array([  2.50230015,  -0.42876963,   3.55971304,  -1.01740776,\n",
       "        -12.86829656,  -9.08154607,  -8.66780566, -12.89365284,\n",
       "        -15.80280806, -18.68481968,  -6.17826386,  10.12168182,\n",
       "         13.36226929,   3.26882522,  10.65509311,  -7.77105886,\n",
       "        -11.56426303,  -9.46265543,  -7.55655787])}"
      ]
     },
     "execution_count": 2800,
     "metadata": {},
     "output_type": "execute_result"
    }
   ],
   "source": [
    "{k: v for k, v in sorted(model2_coef.items(), key=lambda item: item[1], reverse=True)}\n"
   ]
  },
  {
   "cell_type": "markdown",
   "metadata": {},
   "source": [
    "Interpretation of Coefficients"
   ]
  },
  {
   "cell_type": "markdown",
   "metadata": {},
   "source": [
    "Key Findings:\n",
    "- 'Garage Qual_Gd': 13.362269290041825,\n",
    "- 'Garage Qual_TA': 10.655093109673714,\n",
    "- 'Garage Qual_Fa': 10.121681818748726,\n",
    "- 'Exterior Quality': 3.559713042651744,\n",
    "- 'Garage Qual_Po': 3.2688252152673734,\n",
    "- 'Overall Quality': 2.5023001456502363,"
   ]
  },
  {
   "cell_type": "markdown",
   "metadata": {},
   "source": [
    "### Step 5: Make predictions"
   ]
  },
  {
   "cell_type": "code",
   "execution_count": 2801,
   "metadata": {},
   "outputs": [
    {
     "data": {
      "text/html": [
       "<div>\n",
       "<style scoped>\n",
       "    .dataframe tbody tr th:only-of-type {\n",
       "        vertical-align: middle;\n",
       "    }\n",
       "\n",
       "    .dataframe tbody tr th {\n",
       "        vertical-align: top;\n",
       "    }\n",
       "\n",
       "    .dataframe thead th {\n",
       "        text-align: right;\n",
       "    }\n",
       "</style>\n",
       "<table border=\"1\" class=\"dataframe\">\n",
       "  <thead>\n",
       "    <tr style=\"text-align: right;\">\n",
       "      <th></th>\n",
       "      <th>Overall Quality</th>\n",
       "      <th>Overall Condition</th>\n",
       "      <th>Exterior Quality</th>\n",
       "      <th>Exterior Condition</th>\n",
       "      <th>Functional_Maj2</th>\n",
       "      <th>Functional_Min1</th>\n",
       "      <th>Functional_Min2</th>\n",
       "      <th>Functional_Mod</th>\n",
       "      <th>Functional_Sal</th>\n",
       "      <th>Functional_Sev</th>\n",
       "      <th>Functional_Typ</th>\n",
       "      <th>Garage Qual_Fa</th>\n",
       "      <th>Garage Qual_Gd</th>\n",
       "      <th>Garage Qual_Po</th>\n",
       "      <th>Garage Qual_TA</th>\n",
       "      <th>Garage Cond_Fa</th>\n",
       "      <th>Garage Cond_Gd</th>\n",
       "      <th>Garage Cond_Po</th>\n",
       "      <th>Garage Cond_TA</th>\n",
       "    </tr>\n",
       "  </thead>\n",
       "  <tbody>\n",
       "    <tr>\n",
       "      <th>0</th>\n",
       "      <td>6</td>\n",
       "      <td>8</td>\n",
       "      <td>4</td>\n",
       "      <td>3</td>\n",
       "      <td>0</td>\n",
       "      <td>0</td>\n",
       "      <td>0</td>\n",
       "      <td>0</td>\n",
       "      <td>0</td>\n",
       "      <td>0</td>\n",
       "      <td>1</td>\n",
       "      <td>0</td>\n",
       "      <td>0</td>\n",
       "      <td>0</td>\n",
       "      <td>1</td>\n",
       "      <td>0</td>\n",
       "      <td>0</td>\n",
       "      <td>0</td>\n",
       "      <td>1</td>\n",
       "    </tr>\n",
       "    <tr>\n",
       "      <th>1</th>\n",
       "      <td>7</td>\n",
       "      <td>5</td>\n",
       "      <td>4</td>\n",
       "      <td>3</td>\n",
       "      <td>0</td>\n",
       "      <td>0</td>\n",
       "      <td>0</td>\n",
       "      <td>0</td>\n",
       "      <td>0</td>\n",
       "      <td>0</td>\n",
       "      <td>1</td>\n",
       "      <td>0</td>\n",
       "      <td>0</td>\n",
       "      <td>0</td>\n",
       "      <td>1</td>\n",
       "      <td>0</td>\n",
       "      <td>0</td>\n",
       "      <td>0</td>\n",
       "      <td>1</td>\n",
       "    </tr>\n",
       "    <tr>\n",
       "      <th>2</th>\n",
       "      <td>5</td>\n",
       "      <td>7</td>\n",
       "      <td>3</td>\n",
       "      <td>4</td>\n",
       "      <td>0</td>\n",
       "      <td>0</td>\n",
       "      <td>0</td>\n",
       "      <td>0</td>\n",
       "      <td>0</td>\n",
       "      <td>0</td>\n",
       "      <td>1</td>\n",
       "      <td>0</td>\n",
       "      <td>0</td>\n",
       "      <td>0</td>\n",
       "      <td>1</td>\n",
       "      <td>0</td>\n",
       "      <td>0</td>\n",
       "      <td>0</td>\n",
       "      <td>1</td>\n",
       "    </tr>\n",
       "  </tbody>\n",
       "</table>\n",
       "</div>"
      ],
      "text/plain": [
       "   Overall Quality  Overall Condition  Exterior Quality  Exterior Condition  \\\n",
       "0                6                  8                 4                   3   \n",
       "1                7                  5                 4                   3   \n",
       "2                5                  7                 3                   4   \n",
       "\n",
       "   Functional_Maj2  Functional_Min1  Functional_Min2  Functional_Mod  \\\n",
       "0                0                0                0               0   \n",
       "1                0                0                0               0   \n",
       "2                0                0                0               0   \n",
       "\n",
       "   Functional_Sal  Functional_Sev  Functional_Typ  Garage Qual_Fa  \\\n",
       "0               0               0               1               0   \n",
       "1               0               0               1               0   \n",
       "2               0               0               1               0   \n",
       "\n",
       "   Garage Qual_Gd  Garage Qual_Po  Garage Qual_TA  Garage Cond_Fa  \\\n",
       "0               0               0               1               0   \n",
       "1               0               0               1               0   \n",
       "2               0               0               1               0   \n",
       "\n",
       "   Garage Cond_Gd  Garage Cond_Po  Garage Cond_TA  \n",
       "0               0               0               1  \n",
       "1               0               0               1  \n",
       "2               0               0               1  "
      ]
     },
     "execution_count": 2801,
     "metadata": {},
     "output_type": "execute_result"
    }
   ],
   "source": [
    "X2.head(3)"
   ]
  },
  {
   "cell_type": "code",
   "execution_count": 2802,
   "metadata": {},
   "outputs": [
    {
     "data": {
      "text/plain": [
       "array([[22.78923767],\n",
       "       [26.57784669],\n",
       "       [16.13858635],\n",
       "       ...,\n",
       "       [19.3391516 ],\n",
       "       [15.51123321],\n",
       "       [23.01813365]])"
      ]
     },
     "execution_count": 2802,
     "metadata": {},
     "output_type": "execute_result"
    }
   ],
   "source": [
    "y2_preds = model2.predict(X2)\n",
    "y2_preds # y_preds are points on the regression plane \n",
    "# y_preds are the predicted riders data"
   ]
  },
  {
   "cell_type": "markdown",
   "metadata": {},
   "source": [
    "### Step 6: Evaluate the model"
   ]
  },
  {
   "cell_type": "code",
   "execution_count": 2803,
   "metadata": {},
   "outputs": [
    {
     "data": {
      "text/plain": [
       "0.18554899368182243"
      ]
     },
     "execution_count": 2803,
     "metadata": {},
     "output_type": "execute_result"
    }
   ],
   "source": [
    "metrics.r2_score(y2, y2_preds)"
   ]
  },
  {
   "cell_type": "markdown",
   "metadata": {},
   "source": [
    "Only 18.5% of the data fall on the regression line. Terrible score."
   ]
  },
  {
   "cell_type": "code",
   "execution_count": 2804,
   "metadata": {},
   "outputs": [
    {
     "data": {
      "text/plain": [
       "138.50205407247103"
      ]
     },
     "execution_count": 2804,
     "metadata": {},
     "output_type": "execute_result"
    }
   ],
   "source": [
    "metrics.mean_squared_error(y2, y2_preds) # the error is HUGE"
   ]
  },
  {
   "cell_type": "markdown",
   "metadata": {},
   "source": [
    "How is our model?"
   ]
  },
  {
   "cell_type": "markdown",
   "metadata": {},
   "source": [
    "# Factor 3: Parts of the Home"
   ]
  },
  {
   "cell_type": "code",
   "execution_count": 2805,
   "metadata": {},
   "outputs": [
    {
     "data": {
      "text/html": [
       "<div>\n",
       "<style scoped>\n",
       "    .dataframe tbody tr th:only-of-type {\n",
       "        vertical-align: middle;\n",
       "    }\n",
       "\n",
       "    .dataframe tbody tr th {\n",
       "        vertical-align: top;\n",
       "    }\n",
       "\n",
       "    .dataframe thead th {\n",
       "        text-align: right;\n",
       "    }\n",
       "</style>\n",
       "<table border=\"1\" class=\"dataframe\">\n",
       "  <thead>\n",
       "    <tr style=\"text-align: right;\">\n",
       "      <th></th>\n",
       "      <th>Price Per Sq Ft</th>\n",
       "    </tr>\n",
       "  </thead>\n",
       "  <tbody>\n",
       "    <tr>\n",
       "      <th>0</th>\n",
       "      <td>9.654509</td>\n",
       "    </tr>\n",
       "    <tr>\n",
       "      <th>1</th>\n",
       "      <td>19.143752</td>\n",
       "    </tr>\n",
       "    <tr>\n",
       "      <th>2</th>\n",
       "      <td>13.759152</td>\n",
       "    </tr>\n",
       "    <tr>\n",
       "      <th>3</th>\n",
       "      <td>17.751479</td>\n",
       "    </tr>\n",
       "    <tr>\n",
       "      <th>4</th>\n",
       "      <td>9.729540</td>\n",
       "    </tr>\n",
       "    <tr>\n",
       "      <th>...</th>\n",
       "      <td>...</td>\n",
       "    </tr>\n",
       "    <tr>\n",
       "      <th>1882</th>\n",
       "      <td>26.094069</td>\n",
       "    </tr>\n",
       "    <tr>\n",
       "      <th>1883</th>\n",
       "      <td>6.684492</td>\n",
       "    </tr>\n",
       "    <tr>\n",
       "      <th>1884</th>\n",
       "      <td>23.418894</td>\n",
       "    </tr>\n",
       "    <tr>\n",
       "      <th>1885</th>\n",
       "      <td>13.846154</td>\n",
       "    </tr>\n",
       "    <tr>\n",
       "      <th>1886</th>\n",
       "      <td>25.200000</td>\n",
       "    </tr>\n",
       "  </tbody>\n",
       "</table>\n",
       "<p>1887 rows × 1 columns</p>\n",
       "</div>"
      ],
      "text/plain": [
       "      Price Per Sq Ft\n",
       "0            9.654509\n",
       "1           19.143752\n",
       "2           13.759152\n",
       "3           17.751479\n",
       "4            9.729540\n",
       "...               ...\n",
       "1882        26.094069\n",
       "1883         6.684492\n",
       "1884        23.418894\n",
       "1885        13.846154\n",
       "1886        25.200000\n",
       "\n",
       "[1887 rows x 1 columns]"
      ]
     },
     "execution_count": 2805,
     "metadata": {},
     "output_type": "execute_result"
    }
   ],
   "source": [
    "price_factors_df"
   ]
  },
  {
   "cell_type": "code",
   "execution_count": 2806,
   "metadata": {},
   "outputs": [
    {
     "data": {
      "text/plain": [
       "1492     1.324461\n",
       "438      1.742138\n",
       "880      2.504422\n",
       "641      2.622689\n",
       "684      2.797203\n",
       "          ...    \n",
       "376     83.845064\n",
       "1122    84.067393\n",
       "1389    87.294118\n",
       "482     87.319666\n",
       "1385    95.384615\n",
       "Name: Price Per Sq Ft, Length: 1887, dtype: float64"
      ]
     },
     "execution_count": 2806,
     "metadata": {},
     "output_type": "execute_result"
    }
   ],
   "source": [
    "price_factors_df['Price Per Sq Ft'].sort_values()"
   ]
  },
  {
   "cell_type": "code",
   "execution_count": 2807,
   "metadata": {},
   "outputs": [
    {
     "data": {
      "text/html": [
       "<div>\n",
       "<style scoped>\n",
       "    .dataframe tbody tr th:only-of-type {\n",
       "        vertical-align: middle;\n",
       "    }\n",
       "\n",
       "    .dataframe tbody tr th {\n",
       "        vertical-align: top;\n",
       "    }\n",
       "\n",
       "    .dataframe thead th {\n",
       "        text-align: right;\n",
       "    }\n",
       "</style>\n",
       "<table border=\"1\" class=\"dataframe\">\n",
       "  <thead>\n",
       "    <tr style=\"text-align: right;\">\n",
       "      <th></th>\n",
       "      <th>House Style</th>\n",
       "      <th>Roof Style</th>\n",
       "      <th>Roof Matl</th>\n",
       "      <th>Exterior 1st</th>\n",
       "      <th>Exterior 2nd</th>\n",
       "      <th>Foundation</th>\n",
       "      <th>Bsmt Qual</th>\n",
       "      <th>Bsmt Cond</th>\n",
       "      <th>Bsmt Exposure</th>\n",
       "      <th>BsmtFin Type 1</th>\n",
       "      <th>...</th>\n",
       "      <th>Half Bath</th>\n",
       "      <th>Bedroom AbvGr</th>\n",
       "      <th>Kitchen AbvGr</th>\n",
       "      <th>Kitchen Qual</th>\n",
       "      <th>TotRms AbvGrd</th>\n",
       "      <th>Fireplaces</th>\n",
       "      <th>Garage Type</th>\n",
       "      <th>Garage Finish</th>\n",
       "      <th>Garage Cars</th>\n",
       "      <th>Paved Drive</th>\n",
       "    </tr>\n",
       "  </thead>\n",
       "  <tbody>\n",
       "    <tr>\n",
       "      <th>0</th>\n",
       "      <td>2Story</td>\n",
       "      <td>Gable</td>\n",
       "      <td>CompShg</td>\n",
       "      <td>HdBoard</td>\n",
       "      <td>Plywood</td>\n",
       "      <td>CBlock</td>\n",
       "      <td>TA</td>\n",
       "      <td>TA</td>\n",
       "      <td>No</td>\n",
       "      <td>GLQ</td>\n",
       "      <td>...</td>\n",
       "      <td>1</td>\n",
       "      <td>3</td>\n",
       "      <td>1</td>\n",
       "      <td>Gd</td>\n",
       "      <td>6</td>\n",
       "      <td>0</td>\n",
       "      <td>Attchd</td>\n",
       "      <td>RFn</td>\n",
       "      <td>2.0</td>\n",
       "      <td>Y</td>\n",
       "    </tr>\n",
       "    <tr>\n",
       "      <th>1</th>\n",
       "      <td>2Story</td>\n",
       "      <td>Gable</td>\n",
       "      <td>CompShg</td>\n",
       "      <td>VinylSd</td>\n",
       "      <td>VinylSd</td>\n",
       "      <td>PConc</td>\n",
       "      <td>Gd</td>\n",
       "      <td>TA</td>\n",
       "      <td>No</td>\n",
       "      <td>GLQ</td>\n",
       "      <td>...</td>\n",
       "      <td>1</td>\n",
       "      <td>4</td>\n",
       "      <td>1</td>\n",
       "      <td>Gd</td>\n",
       "      <td>8</td>\n",
       "      <td>1</td>\n",
       "      <td>Attchd</td>\n",
       "      <td>RFn</td>\n",
       "      <td>2.0</td>\n",
       "      <td>Y</td>\n",
       "    </tr>\n",
       "    <tr>\n",
       "      <th>2</th>\n",
       "      <td>1Story</td>\n",
       "      <td>Gable</td>\n",
       "      <td>CompShg</td>\n",
       "      <td>VinylSd</td>\n",
       "      <td>VinylSd</td>\n",
       "      <td>CBlock</td>\n",
       "      <td>TA</td>\n",
       "      <td>TA</td>\n",
       "      <td>No</td>\n",
       "      <td>GLQ</td>\n",
       "      <td>...</td>\n",
       "      <td>0</td>\n",
       "      <td>3</td>\n",
       "      <td>1</td>\n",
       "      <td>Gd</td>\n",
       "      <td>5</td>\n",
       "      <td>0</td>\n",
       "      <td>Detchd</td>\n",
       "      <td>Unf</td>\n",
       "      <td>1.0</td>\n",
       "      <td>Y</td>\n",
       "    </tr>\n",
       "    <tr>\n",
       "      <th>3</th>\n",
       "      <td>2Story</td>\n",
       "      <td>Gable</td>\n",
       "      <td>CompShg</td>\n",
       "      <td>VinylSd</td>\n",
       "      <td>VinylSd</td>\n",
       "      <td>PConc</td>\n",
       "      <td>Gd</td>\n",
       "      <td>TA</td>\n",
       "      <td>No</td>\n",
       "      <td>Unf</td>\n",
       "      <td>...</td>\n",
       "      <td>1</td>\n",
       "      <td>3</td>\n",
       "      <td>1</td>\n",
       "      <td>TA</td>\n",
       "      <td>7</td>\n",
       "      <td>0</td>\n",
       "      <td>BuiltIn</td>\n",
       "      <td>Fin</td>\n",
       "      <td>2.0</td>\n",
       "      <td>Y</td>\n",
       "    </tr>\n",
       "    <tr>\n",
       "      <th>4</th>\n",
       "      <td>1.5Fin</td>\n",
       "      <td>Gable</td>\n",
       "      <td>CompShg</td>\n",
       "      <td>Wd Sdng</td>\n",
       "      <td>Plywood</td>\n",
       "      <td>PConc</td>\n",
       "      <td>Fa</td>\n",
       "      <td>Gd</td>\n",
       "      <td>No</td>\n",
       "      <td>Unf</td>\n",
       "      <td>...</td>\n",
       "      <td>0</td>\n",
       "      <td>3</td>\n",
       "      <td>1</td>\n",
       "      <td>TA</td>\n",
       "      <td>6</td>\n",
       "      <td>0</td>\n",
       "      <td>Detchd</td>\n",
       "      <td>Unf</td>\n",
       "      <td>2.0</td>\n",
       "      <td>N</td>\n",
       "    </tr>\n",
       "    <tr>\n",
       "      <th>...</th>\n",
       "      <td>...</td>\n",
       "      <td>...</td>\n",
       "      <td>...</td>\n",
       "      <td>...</td>\n",
       "      <td>...</td>\n",
       "      <td>...</td>\n",
       "      <td>...</td>\n",
       "      <td>...</td>\n",
       "      <td>...</td>\n",
       "      <td>...</td>\n",
       "      <td>...</td>\n",
       "      <td>...</td>\n",
       "      <td>...</td>\n",
       "      <td>...</td>\n",
       "      <td>...</td>\n",
       "      <td>...</td>\n",
       "      <td>...</td>\n",
       "      <td>...</td>\n",
       "      <td>...</td>\n",
       "      <td>...</td>\n",
       "      <td>...</td>\n",
       "    </tr>\n",
       "    <tr>\n",
       "      <th>1882</th>\n",
       "      <td>1Story</td>\n",
       "      <td>Gable</td>\n",
       "      <td>CompShg</td>\n",
       "      <td>VinylSd</td>\n",
       "      <td>VinylSd</td>\n",
       "      <td>PConc</td>\n",
       "      <td>Gd</td>\n",
       "      <td>TA</td>\n",
       "      <td>Av</td>\n",
       "      <td>GLQ</td>\n",
       "      <td>...</td>\n",
       "      <td>0</td>\n",
       "      <td>3</td>\n",
       "      <td>1</td>\n",
       "      <td>Gd</td>\n",
       "      <td>7</td>\n",
       "      <td>1</td>\n",
       "      <td>Attchd</td>\n",
       "      <td>Fin</td>\n",
       "      <td>2.0</td>\n",
       "      <td>Y</td>\n",
       "    </tr>\n",
       "    <tr>\n",
       "      <th>1883</th>\n",
       "      <td>1Story</td>\n",
       "      <td>Gable</td>\n",
       "      <td>CompShg</td>\n",
       "      <td>VinylSd</td>\n",
       "      <td>VinylSd</td>\n",
       "      <td>CBlock</td>\n",
       "      <td>TA</td>\n",
       "      <td>TA</td>\n",
       "      <td>No</td>\n",
       "      <td>BLQ</td>\n",
       "      <td>...</td>\n",
       "      <td>0</td>\n",
       "      <td>1</td>\n",
       "      <td>1</td>\n",
       "      <td>TA</td>\n",
       "      <td>4</td>\n",
       "      <td>0</td>\n",
       "      <td>Detchd</td>\n",
       "      <td>Unf</td>\n",
       "      <td>2.0</td>\n",
       "      <td>Y</td>\n",
       "    </tr>\n",
       "    <tr>\n",
       "      <th>1884</th>\n",
       "      <td>1.5Fin</td>\n",
       "      <td>Gable</td>\n",
       "      <td>CompShg</td>\n",
       "      <td>BrkFace</td>\n",
       "      <td>Stone</td>\n",
       "      <td>BrkTil</td>\n",
       "      <td>TA</td>\n",
       "      <td>TA</td>\n",
       "      <td>No</td>\n",
       "      <td>Unf</td>\n",
       "      <td>...</td>\n",
       "      <td>1</td>\n",
       "      <td>3</td>\n",
       "      <td>1</td>\n",
       "      <td>TA</td>\n",
       "      <td>9</td>\n",
       "      <td>1</td>\n",
       "      <td>Detchd</td>\n",
       "      <td>Unf</td>\n",
       "      <td>2.0</td>\n",
       "      <td>Y</td>\n",
       "    </tr>\n",
       "    <tr>\n",
       "      <th>1885</th>\n",
       "      <td>1Story</td>\n",
       "      <td>Gable</td>\n",
       "      <td>CompShg</td>\n",
       "      <td>Plywood</td>\n",
       "      <td>Plywood</td>\n",
       "      <td>CBlock</td>\n",
       "      <td>TA</td>\n",
       "      <td>TA</td>\n",
       "      <td>No</td>\n",
       "      <td>Rec</td>\n",
       "      <td>...</td>\n",
       "      <td>0</td>\n",
       "      <td>3</td>\n",
       "      <td>1</td>\n",
       "      <td>TA</td>\n",
       "      <td>6</td>\n",
       "      <td>2</td>\n",
       "      <td>Attchd</td>\n",
       "      <td>Unf</td>\n",
       "      <td>1.0</td>\n",
       "      <td>Y</td>\n",
       "    </tr>\n",
       "    <tr>\n",
       "      <th>1886</th>\n",
       "      <td>2Story</td>\n",
       "      <td>Gable</td>\n",
       "      <td>CompShg</td>\n",
       "      <td>VinylSd</td>\n",
       "      <td>VinylSd</td>\n",
       "      <td>PConc</td>\n",
       "      <td>TA</td>\n",
       "      <td>TA</td>\n",
       "      <td>No</td>\n",
       "      <td>Unf</td>\n",
       "      <td>...</td>\n",
       "      <td>1</td>\n",
       "      <td>3</td>\n",
       "      <td>1</td>\n",
       "      <td>Gd</td>\n",
       "      <td>7</td>\n",
       "      <td>1</td>\n",
       "      <td>Attchd</td>\n",
       "      <td>Fin</td>\n",
       "      <td>2.0</td>\n",
       "      <td>Y</td>\n",
       "    </tr>\n",
       "  </tbody>\n",
       "</table>\n",
       "<p>1887 rows × 24 columns</p>\n",
       "</div>"
      ],
      "text/plain": [
       "     House Style Roof Style Roof Matl Exterior 1st Exterior 2nd Foundation  \\\n",
       "0         2Story      Gable   CompShg      HdBoard      Plywood     CBlock   \n",
       "1         2Story      Gable   CompShg      VinylSd      VinylSd      PConc   \n",
       "2         1Story      Gable   CompShg      VinylSd      VinylSd     CBlock   \n",
       "3         2Story      Gable   CompShg      VinylSd      VinylSd      PConc   \n",
       "4         1.5Fin      Gable   CompShg      Wd Sdng      Plywood      PConc   \n",
       "...          ...        ...       ...          ...          ...        ...   \n",
       "1882      1Story      Gable   CompShg      VinylSd      VinylSd      PConc   \n",
       "1883      1Story      Gable   CompShg      VinylSd      VinylSd     CBlock   \n",
       "1884      1.5Fin      Gable   CompShg      BrkFace        Stone     BrkTil   \n",
       "1885      1Story      Gable   CompShg      Plywood      Plywood     CBlock   \n",
       "1886      2Story      Gable   CompShg      VinylSd      VinylSd      PConc   \n",
       "\n",
       "     Bsmt Qual Bsmt Cond Bsmt Exposure BsmtFin Type 1  ... Half Bath  \\\n",
       "0           TA        TA            No            GLQ  ...         1   \n",
       "1           Gd        TA            No            GLQ  ...         1   \n",
       "2           TA        TA            No            GLQ  ...         0   \n",
       "3           Gd        TA            No            Unf  ...         1   \n",
       "4           Fa        Gd            No            Unf  ...         0   \n",
       "...        ...       ...           ...            ...  ...       ...   \n",
       "1882        Gd        TA            Av            GLQ  ...         0   \n",
       "1883        TA        TA            No            BLQ  ...         0   \n",
       "1884        TA        TA            No            Unf  ...         1   \n",
       "1885        TA        TA            No            Rec  ...         0   \n",
       "1886        TA        TA            No            Unf  ...         1   \n",
       "\n",
       "      Bedroom AbvGr  Kitchen AbvGr  Kitchen Qual  TotRms AbvGrd  Fireplaces  \\\n",
       "0                 3              1            Gd              6           0   \n",
       "1                 4              1            Gd              8           1   \n",
       "2                 3              1            Gd              5           0   \n",
       "3                 3              1            TA              7           0   \n",
       "4                 3              1            TA              6           0   \n",
       "...             ...            ...           ...            ...         ...   \n",
       "1882              3              1            Gd              7           1   \n",
       "1883              1              1            TA              4           0   \n",
       "1884              3              1            TA              9           1   \n",
       "1885              3              1            TA              6           2   \n",
       "1886              3              1            Gd              7           1   \n",
       "\n",
       "      Garage Type Garage Finish  Garage Cars  Paved Drive  \n",
       "0          Attchd           RFn          2.0            Y  \n",
       "1          Attchd           RFn          2.0            Y  \n",
       "2          Detchd           Unf          1.0            Y  \n",
       "3         BuiltIn           Fin          2.0            Y  \n",
       "4          Detchd           Unf          2.0            N  \n",
       "...           ...           ...          ...          ...  \n",
       "1882       Attchd           Fin          2.0            Y  \n",
       "1883       Detchd           Unf          2.0            Y  \n",
       "1884       Detchd           Unf          2.0            Y  \n",
       "1885       Attchd           Unf          1.0            Y  \n",
       "1886       Attchd           Fin          2.0            Y  \n",
       "\n",
       "[1887 rows x 24 columns]"
      ]
     },
     "execution_count": 2807,
     "metadata": {},
     "output_type": "execute_result"
    }
   ],
   "source": [
    "parts_of_home_df.drop('Unnamed: 0', axis=1, inplace=True)\n",
    "parts_of_home_df\n"
   ]
  },
  {
   "cell_type": "code",
   "execution_count": 2808,
   "metadata": {},
   "outputs": [],
   "source": [
    "X3 = parts_of_home_df\n",
    "y3 = price_factors_df"
   ]
  },
  {
   "cell_type": "code",
   "execution_count": 2809,
   "metadata": {},
   "outputs": [
    {
     "data": {
      "text/html": [
       "<div>\n",
       "<style scoped>\n",
       "    .dataframe tbody tr th:only-of-type {\n",
       "        vertical-align: middle;\n",
       "    }\n",
       "\n",
       "    .dataframe tbody tr th {\n",
       "        vertical-align: top;\n",
       "    }\n",
       "\n",
       "    .dataframe thead th {\n",
       "        text-align: right;\n",
       "    }\n",
       "</style>\n",
       "<table border=\"1\" class=\"dataframe\">\n",
       "  <thead>\n",
       "    <tr style=\"text-align: right;\">\n",
       "      <th></th>\n",
       "      <th>Bsmt Full Bath</th>\n",
       "      <th>Bsmt Half Bath</th>\n",
       "      <th>Full Bath</th>\n",
       "      <th>Half Bath</th>\n",
       "      <th>Bedroom AbvGr</th>\n",
       "      <th>Kitchen AbvGr</th>\n",
       "      <th>TotRms AbvGrd</th>\n",
       "      <th>Fireplaces</th>\n",
       "      <th>Garage Cars</th>\n",
       "      <th>House Style_1.5Unf</th>\n",
       "      <th>...</th>\n",
       "      <th>Kitchen Qual_TA</th>\n",
       "      <th>Garage Type_Attchd</th>\n",
       "      <th>Garage Type_Basment</th>\n",
       "      <th>Garage Type_BuiltIn</th>\n",
       "      <th>Garage Type_CarPort</th>\n",
       "      <th>Garage Type_Detchd</th>\n",
       "      <th>Garage Finish_RFn</th>\n",
       "      <th>Garage Finish_Unf</th>\n",
       "      <th>Paved Drive_P</th>\n",
       "      <th>Paved Drive_Y</th>\n",
       "    </tr>\n",
       "  </thead>\n",
       "  <tbody>\n",
       "    <tr>\n",
       "      <th>0</th>\n",
       "      <td>0.0</td>\n",
       "      <td>0.0</td>\n",
       "      <td>2</td>\n",
       "      <td>1</td>\n",
       "      <td>3</td>\n",
       "      <td>1</td>\n",
       "      <td>6</td>\n",
       "      <td>0</td>\n",
       "      <td>2.0</td>\n",
       "      <td>0</td>\n",
       "      <td>...</td>\n",
       "      <td>0</td>\n",
       "      <td>1</td>\n",
       "      <td>0</td>\n",
       "      <td>0</td>\n",
       "      <td>0</td>\n",
       "      <td>0</td>\n",
       "      <td>1</td>\n",
       "      <td>0</td>\n",
       "      <td>0</td>\n",
       "      <td>1</td>\n",
       "    </tr>\n",
       "    <tr>\n",
       "      <th>1</th>\n",
       "      <td>1.0</td>\n",
       "      <td>0.0</td>\n",
       "      <td>2</td>\n",
       "      <td>1</td>\n",
       "      <td>4</td>\n",
       "      <td>1</td>\n",
       "      <td>8</td>\n",
       "      <td>1</td>\n",
       "      <td>2.0</td>\n",
       "      <td>0</td>\n",
       "      <td>...</td>\n",
       "      <td>0</td>\n",
       "      <td>1</td>\n",
       "      <td>0</td>\n",
       "      <td>0</td>\n",
       "      <td>0</td>\n",
       "      <td>0</td>\n",
       "      <td>1</td>\n",
       "      <td>0</td>\n",
       "      <td>0</td>\n",
       "      <td>1</td>\n",
       "    </tr>\n",
       "    <tr>\n",
       "      <th>2</th>\n",
       "      <td>1.0</td>\n",
       "      <td>0.0</td>\n",
       "      <td>1</td>\n",
       "      <td>0</td>\n",
       "      <td>3</td>\n",
       "      <td>1</td>\n",
       "      <td>5</td>\n",
       "      <td>0</td>\n",
       "      <td>1.0</td>\n",
       "      <td>0</td>\n",
       "      <td>...</td>\n",
       "      <td>0</td>\n",
       "      <td>0</td>\n",
       "      <td>0</td>\n",
       "      <td>0</td>\n",
       "      <td>0</td>\n",
       "      <td>1</td>\n",
       "      <td>0</td>\n",
       "      <td>1</td>\n",
       "      <td>0</td>\n",
       "      <td>1</td>\n",
       "    </tr>\n",
       "    <tr>\n",
       "      <th>3</th>\n",
       "      <td>0.0</td>\n",
       "      <td>0.0</td>\n",
       "      <td>2</td>\n",
       "      <td>1</td>\n",
       "      <td>3</td>\n",
       "      <td>1</td>\n",
       "      <td>7</td>\n",
       "      <td>0</td>\n",
       "      <td>2.0</td>\n",
       "      <td>0</td>\n",
       "      <td>...</td>\n",
       "      <td>1</td>\n",
       "      <td>0</td>\n",
       "      <td>0</td>\n",
       "      <td>1</td>\n",
       "      <td>0</td>\n",
       "      <td>0</td>\n",
       "      <td>0</td>\n",
       "      <td>0</td>\n",
       "      <td>0</td>\n",
       "      <td>1</td>\n",
       "    </tr>\n",
       "    <tr>\n",
       "      <th>4</th>\n",
       "      <td>0.0</td>\n",
       "      <td>0.0</td>\n",
       "      <td>2</td>\n",
       "      <td>0</td>\n",
       "      <td>3</td>\n",
       "      <td>1</td>\n",
       "      <td>6</td>\n",
       "      <td>0</td>\n",
       "      <td>2.0</td>\n",
       "      <td>0</td>\n",
       "      <td>...</td>\n",
       "      <td>1</td>\n",
       "      <td>0</td>\n",
       "      <td>0</td>\n",
       "      <td>0</td>\n",
       "      <td>0</td>\n",
       "      <td>1</td>\n",
       "      <td>0</td>\n",
       "      <td>1</td>\n",
       "      <td>0</td>\n",
       "      <td>0</td>\n",
       "    </tr>\n",
       "  </tbody>\n",
       "</table>\n",
       "<p>5 rows × 90 columns</p>\n",
       "</div>"
      ],
      "text/plain": [
       "   Bsmt Full Bath  Bsmt Half Bath  Full Bath  Half Bath  Bedroom AbvGr  \\\n",
       "0             0.0             0.0          2          1              3   \n",
       "1             1.0             0.0          2          1              4   \n",
       "2             1.0             0.0          1          0              3   \n",
       "3             0.0             0.0          2          1              3   \n",
       "4             0.0             0.0          2          0              3   \n",
       "\n",
       "   Kitchen AbvGr  TotRms AbvGrd  Fireplaces  Garage Cars  House Style_1.5Unf  \\\n",
       "0              1              6           0          2.0                   0   \n",
       "1              1              8           1          2.0                   0   \n",
       "2              1              5           0          1.0                   0   \n",
       "3              1              7           0          2.0                   0   \n",
       "4              1              6           0          2.0                   0   \n",
       "\n",
       "   ...  Kitchen Qual_TA  Garage Type_Attchd  Garage Type_Basment  \\\n",
       "0  ...                0                   1                    0   \n",
       "1  ...                0                   1                    0   \n",
       "2  ...                0                   0                    0   \n",
       "3  ...                1                   0                    0   \n",
       "4  ...                1                   0                    0   \n",
       "\n",
       "   Garage Type_BuiltIn  Garage Type_CarPort  Garage Type_Detchd  \\\n",
       "0                    0                    0                   0   \n",
       "1                    0                    0                   0   \n",
       "2                    0                    0                   1   \n",
       "3                    1                    0                   0   \n",
       "4                    0                    0                   1   \n",
       "\n",
       "   Garage Finish_RFn  Garage Finish_Unf  Paved Drive_P  Paved Drive_Y  \n",
       "0                  1                  0              0              1  \n",
       "1                  1                  0              0              1  \n",
       "2                  0                  1              0              1  \n",
       "3                  0                  0              0              1  \n",
       "4                  0                  1              0              0  \n",
       "\n",
       "[5 rows x 90 columns]"
      ]
     },
     "execution_count": 2809,
     "metadata": {},
     "output_type": "execute_result"
    }
   ],
   "source": [
    "X3 = pd.get_dummies(drop_first=True, data=X3)\n",
    "X3.head()"
   ]
  },
  {
   "cell_type": "markdown",
   "metadata": {},
   "source": [
    "### Step 2: Instantiate the model"
   ]
  },
  {
   "cell_type": "code",
   "execution_count": 2810,
   "metadata": {},
   "outputs": [],
   "source": [
    "model3 = LinearRegression()"
   ]
  },
  {
   "cell_type": "markdown",
   "metadata": {},
   "source": [
    "### Step 3: Fit the model"
   ]
  },
  {
   "cell_type": "code",
   "execution_count": 2811,
   "metadata": {},
   "outputs": [
    {
     "data": {
      "text/html": [
       "<style>#sk-container-id-95 {color: black;background-color: white;}#sk-container-id-95 pre{padding: 0;}#sk-container-id-95 div.sk-toggleable {background-color: white;}#sk-container-id-95 label.sk-toggleable__label {cursor: pointer;display: block;width: 100%;margin-bottom: 0;padding: 0.3em;box-sizing: border-box;text-align: center;}#sk-container-id-95 label.sk-toggleable__label-arrow:before {content: \"▸\";float: left;margin-right: 0.25em;color: #696969;}#sk-container-id-95 label.sk-toggleable__label-arrow:hover:before {color: black;}#sk-container-id-95 div.sk-estimator:hover label.sk-toggleable__label-arrow:before {color: black;}#sk-container-id-95 div.sk-toggleable__content {max-height: 0;max-width: 0;overflow: hidden;text-align: left;background-color: #f0f8ff;}#sk-container-id-95 div.sk-toggleable__content pre {margin: 0.2em;color: black;border-radius: 0.25em;background-color: #f0f8ff;}#sk-container-id-95 input.sk-toggleable__control:checked~div.sk-toggleable__content {max-height: 200px;max-width: 100%;overflow: auto;}#sk-container-id-95 input.sk-toggleable__control:checked~label.sk-toggleable__label-arrow:before {content: \"▾\";}#sk-container-id-95 div.sk-estimator input.sk-toggleable__control:checked~label.sk-toggleable__label {background-color: #d4ebff;}#sk-container-id-95 div.sk-label input.sk-toggleable__control:checked~label.sk-toggleable__label {background-color: #d4ebff;}#sk-container-id-95 input.sk-hidden--visually {border: 0;clip: rect(1px 1px 1px 1px);clip: rect(1px, 1px, 1px, 1px);height: 1px;margin: -1px;overflow: hidden;padding: 0;position: absolute;width: 1px;}#sk-container-id-95 div.sk-estimator {font-family: monospace;background-color: #f0f8ff;border: 1px dotted black;border-radius: 0.25em;box-sizing: border-box;margin-bottom: 0.5em;}#sk-container-id-95 div.sk-estimator:hover {background-color: #d4ebff;}#sk-container-id-95 div.sk-parallel-item::after {content: \"\";width: 100%;border-bottom: 1px solid gray;flex-grow: 1;}#sk-container-id-95 div.sk-label:hover label.sk-toggleable__label {background-color: #d4ebff;}#sk-container-id-95 div.sk-serial::before {content: \"\";position: absolute;border-left: 1px solid gray;box-sizing: border-box;top: 0;bottom: 0;left: 50%;z-index: 0;}#sk-container-id-95 div.sk-serial {display: flex;flex-direction: column;align-items: center;background-color: white;padding-right: 0.2em;padding-left: 0.2em;position: relative;}#sk-container-id-95 div.sk-item {position: relative;z-index: 1;}#sk-container-id-95 div.sk-parallel {display: flex;align-items: stretch;justify-content: center;background-color: white;position: relative;}#sk-container-id-95 div.sk-item::before, #sk-container-id-95 div.sk-parallel-item::before {content: \"\";position: absolute;border-left: 1px solid gray;box-sizing: border-box;top: 0;bottom: 0;left: 50%;z-index: -1;}#sk-container-id-95 div.sk-parallel-item {display: flex;flex-direction: column;z-index: 1;position: relative;background-color: white;}#sk-container-id-95 div.sk-parallel-item:first-child::after {align-self: flex-end;width: 50%;}#sk-container-id-95 div.sk-parallel-item:last-child::after {align-self: flex-start;width: 50%;}#sk-container-id-95 div.sk-parallel-item:only-child::after {width: 0;}#sk-container-id-95 div.sk-dashed-wrapped {border: 1px dashed gray;margin: 0 0.4em 0.5em 0.4em;box-sizing: border-box;padding-bottom: 0.4em;background-color: white;}#sk-container-id-95 div.sk-label label {font-family: monospace;font-weight: bold;display: inline-block;line-height: 1.2em;}#sk-container-id-95 div.sk-label-container {text-align: center;}#sk-container-id-95 div.sk-container {/* jupyter's `normalize.less` sets `[hidden] { display: none; }` but bootstrap.min.css set `[hidden] { display: none !important; }` so we also need the `!important` here to be able to override the default hidden behavior on the sphinx rendered scikit-learn.org. See: https://github.com/scikit-learn/scikit-learn/issues/21755 */display: inline-block !important;position: relative;}#sk-container-id-95 div.sk-text-repr-fallback {display: none;}</style><div id=\"sk-container-id-95\" class=\"sk-top-container\"><div class=\"sk-text-repr-fallback\"><pre>LinearRegression()</pre><b>In a Jupyter environment, please rerun this cell to show the HTML representation or trust the notebook. <br />On GitHub, the HTML representation is unable to render, please try loading this page with nbviewer.org.</b></div><div class=\"sk-container\" hidden><div class=\"sk-item\"><div class=\"sk-estimator sk-toggleable\"><input class=\"sk-toggleable__control sk-hidden--visually\" id=\"sk-estimator-id-95\" type=\"checkbox\" checked><label for=\"sk-estimator-id-95\" class=\"sk-toggleable__label sk-toggleable__label-arrow\">LinearRegression</label><div class=\"sk-toggleable__content\"><pre>LinearRegression()</pre></div></div></div></div></div>"
      ],
      "text/plain": [
       "LinearRegression()"
      ]
     },
     "execution_count": 2811,
     "metadata": {},
     "output_type": "execute_result"
    }
   ],
   "source": [
    "model3.fit(X3, y3) # X independent, y dependent"
   ]
  },
  {
   "cell_type": "markdown",
   "metadata": {},
   "source": [
    "### Step 4: Check out and interpret our coefficients"
   ]
  },
  {
   "cell_type": "code",
   "execution_count": 2812,
   "metadata": {},
   "outputs": [
    {
     "data": {
      "text/plain": [
       "Index(['Bsmt Full Bath', 'Bsmt Half Bath', 'Full Bath', 'Half Bath',\n",
       "       'Bedroom AbvGr', 'Kitchen AbvGr', 'TotRms AbvGrd', 'Fireplaces',\n",
       "       'Garage Cars', 'House Style_1.5Unf', 'House Style_1Story',\n",
       "       'House Style_2.5Fin', 'House Style_2.5Unf', 'House Style_2Story',\n",
       "       'House Style_SFoyer', 'House Style_SLvl', 'Roof Style_Gable',\n",
       "       'Roof Style_Gambrel', 'Roof Style_Hip', 'Roof Style_Mansard',\n",
       "       'Roof Style_Shed', 'Roof Matl_CompShg', 'Roof Matl_Membran',\n",
       "       'Roof Matl_Tar&Grv', 'Roof Matl_WdShake', 'Roof Matl_WdShngl',\n",
       "       'Exterior 1st_BrkComm', 'Exterior 1st_BrkFace', 'Exterior 1st_CBlock',\n",
       "       'Exterior 1st_CemntBd', 'Exterior 1st_HdBoard', 'Exterior 1st_ImStucc',\n",
       "       'Exterior 1st_MetalSd', 'Exterior 1st_Plywood', 'Exterior 1st_Stone',\n",
       "       'Exterior 1st_Stucco', 'Exterior 1st_VinylSd', 'Exterior 1st_Wd Sdng',\n",
       "       'Exterior 1st_WdShing', 'Exterior 2nd_AsphShn', 'Exterior 2nd_Brk Cmn',\n",
       "       'Exterior 2nd_BrkFace', 'Exterior 2nd_CBlock', 'Exterior 2nd_CmentBd',\n",
       "       'Exterior 2nd_HdBoard', 'Exterior 2nd_ImStucc', 'Exterior 2nd_MetalSd',\n",
       "       'Exterior 2nd_Plywood', 'Exterior 2nd_Stone', 'Exterior 2nd_Stucco',\n",
       "       'Exterior 2nd_VinylSd', 'Exterior 2nd_Wd Sdng', 'Exterior 2nd_Wd Shng',\n",
       "       'Foundation_CBlock', 'Foundation_PConc', 'Foundation_Stone',\n",
       "       'Foundation_Wood', 'Bsmt Qual_Fa', 'Bsmt Qual_Gd', 'Bsmt Qual_Po',\n",
       "       'Bsmt Qual_TA', 'Bsmt Cond_Fa', 'Bsmt Cond_Gd', 'Bsmt Cond_Po',\n",
       "       'Bsmt Cond_TA', 'Bsmt Exposure_Gd', 'Bsmt Exposure_Mn',\n",
       "       'Bsmt Exposure_No', 'BsmtFin Type 1_BLQ', 'BsmtFin Type 1_GLQ',\n",
       "       'BsmtFin Type 1_LwQ', 'BsmtFin Type 1_Rec', 'BsmtFin Type 1_Unf',\n",
       "       'BsmtFin Type 2_BLQ', 'BsmtFin Type 2_GLQ', 'BsmtFin Type 2_LwQ',\n",
       "       'BsmtFin Type 2_Rec', 'BsmtFin Type 2_Unf', 'Kitchen Qual_Fa',\n",
       "       'Kitchen Qual_Gd', 'Kitchen Qual_TA', 'Garage Type_Attchd',\n",
       "       'Garage Type_Basment', 'Garage Type_BuiltIn', 'Garage Type_CarPort',\n",
       "       'Garage Type_Detchd', 'Garage Finish_RFn', 'Garage Finish_Unf',\n",
       "       'Paved Drive_P', 'Paved Drive_Y'],\n",
       "      dtype='object')"
      ]
     },
     "execution_count": 2812,
     "metadata": {},
     "output_type": "execute_result"
    }
   ],
   "source": [
    "X3.columns"
   ]
  },
  {
   "cell_type": "code",
   "execution_count": 2813,
   "metadata": {},
   "outputs": [
    {
     "data": {
      "text/plain": [
       "array([[ -0.53729211,   1.21567041,   3.66576167,   0.71950311,\n",
       "         -3.8772861 ,   3.41730756,  -1.08818222,   0.32082078,\n",
       "         -1.56560548,  -3.76741424,  -2.14967409,   1.36306876,\n",
       "          4.79230695,   4.42890372,  -7.27825528,  -3.25719317,\n",
       "          4.40286175,   4.62206891,   4.50226006,  -5.01057697,\n",
       "          2.98612259,  32.82643693,  25.93067903,  32.0809337 ,\n",
       "         40.34668044,  25.45510574, -41.1276666 ,   0.9549497 ,\n",
       "         -2.97883074,  -6.95901999,  -2.39940683, -10.43178781,\n",
       "         -2.79028608,  -4.57821461, -12.86093442,  -0.66231515,\n",
       "          5.33370827,  -3.65244791,  -4.75643109,   6.58505223,\n",
       "         43.90629843,   1.68091263,  -2.97883074,  17.6575772 ,\n",
       "          5.10410898,   5.17483531,   7.54254218,   4.53754909,\n",
       "          3.37059043,   4.31495126,  -5.00612247,   4.29850398,\n",
       "          7.12485252,   1.62289892,   4.4369397 ,  -0.60398427,\n",
       "         11.97471551,  -7.88471235,  -3.1692751 ,  -9.33045775,\n",
       "         -4.45384122,  -3.00180419,  -1.66149056, -13.19048616,\n",
       "         -1.3766441 ,  -0.21068275,  -2.01690414,  -1.28938389,\n",
       "         -0.98953409,   2.43352119,  -0.97922491,  -1.8197692 ,\n",
       "         -1.78659471,  -0.48209354,   2.93725479,   0.65859209,\n",
       "         -0.65338417,   1.31017327, -10.70201245,  -2.0468628 ,\n",
       "         -4.78664306,  -1.60765904,   2.30086573,  -1.62050194,\n",
       "         -0.99043253,   3.6619483 ,  -1.52795875,  -2.25526726,\n",
       "          2.49105546,   6.10764956]])"
      ]
     },
     "execution_count": 2813,
     "metadata": {},
     "output_type": "execute_result"
    }
   ],
   "source": [
    "model3.coef_"
   ]
  },
  {
   "cell_type": "code",
   "execution_count": 2814,
   "metadata": {},
   "outputs": [
    {
     "data": {
      "text/plain": [
       "{'Bsmt Full Bath': -0.5372921050967943,\n",
       " 'Bsmt Half Bath': 1.2156704076284321,\n",
       " 'Full Bath': 3.66576167367035,\n",
       " 'Half Bath': 0.7195031079924631,\n",
       " 'Bedroom AbvGr': -3.8772860957694038,\n",
       " 'Kitchen AbvGr': 3.4173075565701136,\n",
       " 'TotRms AbvGrd': -1.0881822204087013,\n",
       " 'Fireplaces': 0.32082077996320724,\n",
       " 'Garage Cars': -1.5656054757165925,\n",
       " 'House Style_1.5Unf': -3.7674142417517227,\n",
       " 'House Style_1Story': -2.1496740897970614,\n",
       " 'House Style_2.5Fin': 1.3630687648644706,\n",
       " 'House Style_2.5Unf': 4.792306950759734,\n",
       " 'House Style_2Story': 4.428903720915317,\n",
       " 'House Style_SFoyer': -7.278255279838527,\n",
       " 'House Style_SLvl': -3.257193165209404,\n",
       " 'Roof Style_Gable': 4.402861752726798,\n",
       " 'Roof Style_Gambrel': 4.622068907094407,\n",
       " 'Roof Style_Hip': 4.502260062585852,\n",
       " 'Roof Style_Mansard': -5.0105769673806275,\n",
       " 'Roof Style_Shed': 2.986122587330186,\n",
       " 'Roof Matl_CompShg': 32.82643692950508,\n",
       " 'Roof Matl_Membran': 25.930679030037687,\n",
       " 'Roof Matl_Tar&Grv': 32.080933701438305,\n",
       " 'Roof Matl_WdShake': 40.34668043601546,\n",
       " 'Roof Matl_WdShngl': 25.455105738782294,\n",
       " 'Exterior 1st_BrkComm': -41.127666599488975,\n",
       " 'Exterior 1st_BrkFace': 0.9549497000773082,\n",
       " 'Exterior 1st_CBlock': -2.9788307443220177,\n",
       " 'Exterior 1st_CemntBd': -6.9590199912038635,\n",
       " 'Exterior 1st_HdBoard': -2.3994068314572914,\n",
       " 'Exterior 1st_ImStucc': -10.431787811700154,\n",
       " 'Exterior 1st_MetalSd': -2.7902860802708025,\n",
       " 'Exterior 1st_Plywood': -4.57821461360171,\n",
       " 'Exterior 1st_Stone': -12.86093442237606,\n",
       " 'Exterior 1st_Stucco': -0.6623151478713201,\n",
       " 'Exterior 1st_VinylSd': 5.333708267484377,\n",
       " 'Exterior 1st_Wd Sdng': -3.6524479123365126,\n",
       " 'Exterior 1st_WdShing': -4.756431092900833,\n",
       " 'Exterior 2nd_AsphShn': 6.585052231125616,\n",
       " 'Exterior 2nd_Brk Cmn': 43.906298429440035,\n",
       " 'Exterior 2nd_BrkFace': 1.6809126345434517,\n",
       " 'Exterior 2nd_CBlock': -2.9788307443223427,\n",
       " 'Exterior 2nd_CmentBd': 17.657577202706157,\n",
       " 'Exterior 2nd_HdBoard': 5.104108978193459,\n",
       " 'Exterior 2nd_ImStucc': 5.174835309786947,\n",
       " 'Exterior 2nd_MetalSd': 7.542542183302732,\n",
       " 'Exterior 2nd_Plywood': 4.537549089962425,\n",
       " 'Exterior 2nd_Stone': 3.3705904307227117,\n",
       " 'Exterior 2nd_Stucco': 4.314951262216282,\n",
       " 'Exterior 2nd_VinylSd': -5.006122467565708,\n",
       " 'Exterior 2nd_Wd Sdng': 4.2985039836564525,\n",
       " 'Exterior 2nd_Wd Shng': 7.124852522137576,\n",
       " 'Foundation_CBlock': 1.622898917003809,\n",
       " 'Foundation_PConc': 4.436939699762604,\n",
       " 'Foundation_Stone': -0.6039842684868866,\n",
       " 'Foundation_Wood': 11.974715510867185,\n",
       " 'Bsmt Qual_Fa': -7.884712349860305,\n",
       " 'Bsmt Qual_Gd': -3.1692751016482603,\n",
       " 'Bsmt Qual_Po': -9.330457747360065,\n",
       " 'Bsmt Qual_TA': -4.453841221496141,\n",
       " 'Bsmt Cond_Fa': -3.0018041918205736,\n",
       " 'Bsmt Cond_Gd': -1.6614905571771565,\n",
       " 'Bsmt Cond_Po': -13.190486160624875,\n",
       " 'Bsmt Cond_TA': -1.3766441049716196,\n",
       " 'Bsmt Exposure_Gd': -0.2106827522834882,\n",
       " 'Bsmt Exposure_Mn': -2.0169041415516347,\n",
       " 'Bsmt Exposure_No': -1.2893838861917004,\n",
       " 'BsmtFin Type 1_BLQ': -0.9895340907524535,\n",
       " 'BsmtFin Type 1_GLQ': 2.4335211898416853,\n",
       " 'BsmtFin Type 1_LwQ': -0.9792249109051685,\n",
       " 'BsmtFin Type 1_Rec': -1.8197692032357011,\n",
       " 'BsmtFin Type 1_Unf': -1.7865947126011168,\n",
       " 'BsmtFin Type 2_BLQ': -0.4820935364568042,\n",
       " 'BsmtFin Type 2_GLQ': 2.937254793470326,\n",
       " 'BsmtFin Type 2_LwQ': 0.6585920852417981,\n",
       " 'BsmtFin Type 2_Rec': -0.6533841730942882,\n",
       " 'BsmtFin Type 2_Unf': 1.3101732657229883,\n",
       " 'Kitchen Qual_Fa': -10.702012450581858,\n",
       " 'Kitchen Qual_Gd': -2.0468628045382573,\n",
       " 'Kitchen Qual_TA': -4.786643059925746,\n",
       " 'Garage Type_Attchd': -1.6076590353469218,\n",
       " 'Garage Type_Basment': 2.3008657262260876,\n",
       " 'Garage Type_BuiltIn': -1.6205019405627326,\n",
       " 'Garage Type_CarPort': -0.990432525831134,\n",
       " 'Garage Type_Detchd': 3.6619483049017347,\n",
       " 'Garage Finish_RFn': -1.5279587509371844,\n",
       " 'Garage Finish_Unf': -2.2552672645172995,\n",
       " 'Paved Drive_P': 2.491055456418324,\n",
       " 'Paved Drive_Y': 6.1076495560664075}"
      ]
     },
     "execution_count": 2814,
     "metadata": {},
     "output_type": "execute_result"
    }
   ],
   "source": [
    "model3_coef = dict(zip(X3.columns, model3.coef_[0]))\n",
    "model3_coef"
   ]
  },
  {
   "cell_type": "code",
   "execution_count": 2815,
   "metadata": {},
   "outputs": [
    {
     "data": {
      "text/plain": [
       "{'Exterior 2nd_Brk Cmn': 43.906298429440035,\n",
       " 'Roof Matl_WdShake': 40.34668043601546,\n",
       " 'Roof Matl_CompShg': 32.82643692950508,\n",
       " 'Roof Matl_Tar&Grv': 32.080933701438305,\n",
       " 'Roof Matl_Membran': 25.930679030037687,\n",
       " 'Roof Matl_WdShngl': 25.455105738782294,\n",
       " 'Exterior 2nd_CmentBd': 17.657577202706157,\n",
       " 'Foundation_Wood': 11.974715510867185,\n",
       " 'Exterior 2nd_MetalSd': 7.542542183302732,\n",
       " 'Exterior 2nd_Wd Shng': 7.124852522137576,\n",
       " 'Exterior 2nd_AsphShn': 6.585052231125616,\n",
       " 'Paved Drive_Y': 6.1076495560664075,\n",
       " 'Exterior 1st_VinylSd': 5.333708267484377,\n",
       " 'Exterior 2nd_ImStucc': 5.174835309786947,\n",
       " 'Exterior 2nd_HdBoard': 5.104108978193459,\n",
       " 'House Style_2.5Unf': 4.792306950759734,\n",
       " 'Roof Style_Gambrel': 4.622068907094407,\n",
       " 'Exterior 2nd_Plywood': 4.537549089962425,\n",
       " 'Roof Style_Hip': 4.502260062585852,\n",
       " 'Foundation_PConc': 4.436939699762604,\n",
       " 'House Style_2Story': 4.428903720915317,\n",
       " 'Roof Style_Gable': 4.402861752726798,\n",
       " 'Exterior 2nd_Stucco': 4.314951262216282,\n",
       " 'Exterior 2nd_Wd Sdng': 4.2985039836564525,\n",
       " 'Full Bath': 3.66576167367035,\n",
       " 'Garage Type_Detchd': 3.6619483049017347,\n",
       " 'Kitchen AbvGr': 3.4173075565701136,\n",
       " 'Exterior 2nd_Stone': 3.3705904307227117,\n",
       " 'Roof Style_Shed': 2.986122587330186,\n",
       " 'BsmtFin Type 2_GLQ': 2.937254793470326,\n",
       " 'Paved Drive_P': 2.491055456418324,\n",
       " 'BsmtFin Type 1_GLQ': 2.4335211898416853,\n",
       " 'Garage Type_Basment': 2.3008657262260876,\n",
       " 'Exterior 2nd_BrkFace': 1.6809126345434517,\n",
       " 'Foundation_CBlock': 1.622898917003809,\n",
       " 'House Style_2.5Fin': 1.3630687648644706,\n",
       " 'BsmtFin Type 2_Unf': 1.3101732657229883,\n",
       " 'Bsmt Half Bath': 1.2156704076284321,\n",
       " 'Exterior 1st_BrkFace': 0.9549497000773082,\n",
       " 'Half Bath': 0.7195031079924631,\n",
       " 'BsmtFin Type 2_LwQ': 0.6585920852417981,\n",
       " 'Fireplaces': 0.32082077996320724,\n",
       " 'Bsmt Exposure_Gd': -0.2106827522834882,\n",
       " 'BsmtFin Type 2_BLQ': -0.4820935364568042,\n",
       " 'Bsmt Full Bath': -0.5372921050967943,\n",
       " 'Foundation_Stone': -0.6039842684868866,\n",
       " 'BsmtFin Type 2_Rec': -0.6533841730942882,\n",
       " 'Exterior 1st_Stucco': -0.6623151478713201,\n",
       " 'BsmtFin Type 1_LwQ': -0.9792249109051685,\n",
       " 'BsmtFin Type 1_BLQ': -0.9895340907524535,\n",
       " 'Garage Type_CarPort': -0.990432525831134,\n",
       " 'TotRms AbvGrd': -1.0881822204087013,\n",
       " 'Bsmt Exposure_No': -1.2893838861917004,\n",
       " 'Bsmt Cond_TA': -1.3766441049716196,\n",
       " 'Garage Finish_RFn': -1.5279587509371844,\n",
       " 'Garage Cars': -1.5656054757165925,\n",
       " 'Garage Type_Attchd': -1.6076590353469218,\n",
       " 'Garage Type_BuiltIn': -1.6205019405627326,\n",
       " 'Bsmt Cond_Gd': -1.6614905571771565,\n",
       " 'BsmtFin Type 1_Unf': -1.7865947126011168,\n",
       " 'BsmtFin Type 1_Rec': -1.8197692032357011,\n",
       " 'Bsmt Exposure_Mn': -2.0169041415516347,\n",
       " 'Kitchen Qual_Gd': -2.0468628045382573,\n",
       " 'House Style_1Story': -2.1496740897970614,\n",
       " 'Garage Finish_Unf': -2.2552672645172995,\n",
       " 'Exterior 1st_HdBoard': -2.3994068314572914,\n",
       " 'Exterior 1st_MetalSd': -2.7902860802708025,\n",
       " 'Exterior 1st_CBlock': -2.9788307443220177,\n",
       " 'Exterior 2nd_CBlock': -2.9788307443223427,\n",
       " 'Bsmt Cond_Fa': -3.0018041918205736,\n",
       " 'Bsmt Qual_Gd': -3.1692751016482603,\n",
       " 'House Style_SLvl': -3.257193165209404,\n",
       " 'Exterior 1st_Wd Sdng': -3.6524479123365126,\n",
       " 'House Style_1.5Unf': -3.7674142417517227,\n",
       " 'Bedroom AbvGr': -3.8772860957694038,\n",
       " 'Bsmt Qual_TA': -4.453841221496141,\n",
       " 'Exterior 1st_Plywood': -4.57821461360171,\n",
       " 'Exterior 1st_WdShing': -4.756431092900833,\n",
       " 'Kitchen Qual_TA': -4.786643059925746,\n",
       " 'Exterior 2nd_VinylSd': -5.006122467565708,\n",
       " 'Roof Style_Mansard': -5.0105769673806275,\n",
       " 'Exterior 1st_CemntBd': -6.9590199912038635,\n",
       " 'House Style_SFoyer': -7.278255279838527,\n",
       " 'Bsmt Qual_Fa': -7.884712349860305,\n",
       " 'Bsmt Qual_Po': -9.330457747360065,\n",
       " 'Exterior 1st_ImStucc': -10.431787811700154,\n",
       " 'Kitchen Qual_Fa': -10.702012450581858,\n",
       " 'Exterior 1st_Stone': -12.86093442237606,\n",
       " 'Bsmt Cond_Po': -13.190486160624875,\n",
       " 'Exterior 1st_BrkComm': -41.127666599488975}"
      ]
     },
     "execution_count": 2815,
     "metadata": {},
     "output_type": "execute_result"
    }
   ],
   "source": [
    "{k: v for k, v in sorted(model3_coef.items(), key=lambda item: item[1], reverse=True)}\n"
   ]
  },
  {
   "cell_type": "markdown",
   "metadata": {},
   "source": [
    "#### Interpretation of coefficients\n"
   ]
  },
  {
   "cell_type": "markdown",
   "metadata": {},
   "source": [
    "### Step 5: Make predictions"
   ]
  },
  {
   "cell_type": "code",
   "execution_count": 2816,
   "metadata": {},
   "outputs": [
    {
     "data": {
      "text/html": [
       "<div>\n",
       "<style scoped>\n",
       "    .dataframe tbody tr th:only-of-type {\n",
       "        vertical-align: middle;\n",
       "    }\n",
       "\n",
       "    .dataframe tbody tr th {\n",
       "        vertical-align: top;\n",
       "    }\n",
       "\n",
       "    .dataframe thead th {\n",
       "        text-align: right;\n",
       "    }\n",
       "</style>\n",
       "<table border=\"1\" class=\"dataframe\">\n",
       "  <thead>\n",
       "    <tr style=\"text-align: right;\">\n",
       "      <th></th>\n",
       "      <th>Bsmt Full Bath</th>\n",
       "      <th>Bsmt Half Bath</th>\n",
       "      <th>Full Bath</th>\n",
       "      <th>Half Bath</th>\n",
       "      <th>Bedroom AbvGr</th>\n",
       "      <th>Kitchen AbvGr</th>\n",
       "      <th>TotRms AbvGrd</th>\n",
       "      <th>Fireplaces</th>\n",
       "      <th>Garage Cars</th>\n",
       "      <th>House Style_1.5Unf</th>\n",
       "      <th>...</th>\n",
       "      <th>Kitchen Qual_TA</th>\n",
       "      <th>Garage Type_Attchd</th>\n",
       "      <th>Garage Type_Basment</th>\n",
       "      <th>Garage Type_BuiltIn</th>\n",
       "      <th>Garage Type_CarPort</th>\n",
       "      <th>Garage Type_Detchd</th>\n",
       "      <th>Garage Finish_RFn</th>\n",
       "      <th>Garage Finish_Unf</th>\n",
       "      <th>Paved Drive_P</th>\n",
       "      <th>Paved Drive_Y</th>\n",
       "    </tr>\n",
       "  </thead>\n",
       "  <tbody>\n",
       "    <tr>\n",
       "      <th>0</th>\n",
       "      <td>0.0</td>\n",
       "      <td>0.0</td>\n",
       "      <td>2</td>\n",
       "      <td>1</td>\n",
       "      <td>3</td>\n",
       "      <td>1</td>\n",
       "      <td>6</td>\n",
       "      <td>0</td>\n",
       "      <td>2.0</td>\n",
       "      <td>0</td>\n",
       "      <td>...</td>\n",
       "      <td>0</td>\n",
       "      <td>1</td>\n",
       "      <td>0</td>\n",
       "      <td>0</td>\n",
       "      <td>0</td>\n",
       "      <td>0</td>\n",
       "      <td>1</td>\n",
       "      <td>0</td>\n",
       "      <td>0</td>\n",
       "      <td>1</td>\n",
       "    </tr>\n",
       "    <tr>\n",
       "      <th>1</th>\n",
       "      <td>1.0</td>\n",
       "      <td>0.0</td>\n",
       "      <td>2</td>\n",
       "      <td>1</td>\n",
       "      <td>4</td>\n",
       "      <td>1</td>\n",
       "      <td>8</td>\n",
       "      <td>1</td>\n",
       "      <td>2.0</td>\n",
       "      <td>0</td>\n",
       "      <td>...</td>\n",
       "      <td>0</td>\n",
       "      <td>1</td>\n",
       "      <td>0</td>\n",
       "      <td>0</td>\n",
       "      <td>0</td>\n",
       "      <td>0</td>\n",
       "      <td>1</td>\n",
       "      <td>0</td>\n",
       "      <td>0</td>\n",
       "      <td>1</td>\n",
       "    </tr>\n",
       "    <tr>\n",
       "      <th>2</th>\n",
       "      <td>1.0</td>\n",
       "      <td>0.0</td>\n",
       "      <td>1</td>\n",
       "      <td>0</td>\n",
       "      <td>3</td>\n",
       "      <td>1</td>\n",
       "      <td>5</td>\n",
       "      <td>0</td>\n",
       "      <td>1.0</td>\n",
       "      <td>0</td>\n",
       "      <td>...</td>\n",
       "      <td>0</td>\n",
       "      <td>0</td>\n",
       "      <td>0</td>\n",
       "      <td>0</td>\n",
       "      <td>0</td>\n",
       "      <td>1</td>\n",
       "      <td>0</td>\n",
       "      <td>1</td>\n",
       "      <td>0</td>\n",
       "      <td>1</td>\n",
       "    </tr>\n",
       "    <tr>\n",
       "      <th>3</th>\n",
       "      <td>0.0</td>\n",
       "      <td>0.0</td>\n",
       "      <td>2</td>\n",
       "      <td>1</td>\n",
       "      <td>3</td>\n",
       "      <td>1</td>\n",
       "      <td>7</td>\n",
       "      <td>0</td>\n",
       "      <td>2.0</td>\n",
       "      <td>0</td>\n",
       "      <td>...</td>\n",
       "      <td>1</td>\n",
       "      <td>0</td>\n",
       "      <td>0</td>\n",
       "      <td>1</td>\n",
       "      <td>0</td>\n",
       "      <td>0</td>\n",
       "      <td>0</td>\n",
       "      <td>0</td>\n",
       "      <td>0</td>\n",
       "      <td>1</td>\n",
       "    </tr>\n",
       "    <tr>\n",
       "      <th>4</th>\n",
       "      <td>0.0</td>\n",
       "      <td>0.0</td>\n",
       "      <td>2</td>\n",
       "      <td>0</td>\n",
       "      <td>3</td>\n",
       "      <td>1</td>\n",
       "      <td>6</td>\n",
       "      <td>0</td>\n",
       "      <td>2.0</td>\n",
       "      <td>0</td>\n",
       "      <td>...</td>\n",
       "      <td>1</td>\n",
       "      <td>0</td>\n",
       "      <td>0</td>\n",
       "      <td>0</td>\n",
       "      <td>0</td>\n",
       "      <td>1</td>\n",
       "      <td>0</td>\n",
       "      <td>1</td>\n",
       "      <td>0</td>\n",
       "      <td>0</td>\n",
       "    </tr>\n",
       "  </tbody>\n",
       "</table>\n",
       "<p>5 rows × 90 columns</p>\n",
       "</div>"
      ],
      "text/plain": [
       "   Bsmt Full Bath  Bsmt Half Bath  Full Bath  Half Bath  Bedroom AbvGr  \\\n",
       "0             0.0             0.0          2          1              3   \n",
       "1             1.0             0.0          2          1              4   \n",
       "2             1.0             0.0          1          0              3   \n",
       "3             0.0             0.0          2          1              3   \n",
       "4             0.0             0.0          2          0              3   \n",
       "\n",
       "   Kitchen AbvGr  TotRms AbvGrd  Fireplaces  Garage Cars  House Style_1.5Unf  \\\n",
       "0              1              6           0          2.0                   0   \n",
       "1              1              8           1          2.0                   0   \n",
       "2              1              5           0          1.0                   0   \n",
       "3              1              7           0          2.0                   0   \n",
       "4              1              6           0          2.0                   0   \n",
       "\n",
       "   ...  Kitchen Qual_TA  Garage Type_Attchd  Garage Type_Basment  \\\n",
       "0  ...                0                   1                    0   \n",
       "1  ...                0                   1                    0   \n",
       "2  ...                0                   0                    0   \n",
       "3  ...                1                   0                    0   \n",
       "4  ...                1                   0                    0   \n",
       "\n",
       "   Garage Type_BuiltIn  Garage Type_CarPort  Garage Type_Detchd  \\\n",
       "0                    0                    0                   0   \n",
       "1                    0                    0                   0   \n",
       "2                    0                    0                   1   \n",
       "3                    1                    0                   0   \n",
       "4                    0                    0                   1   \n",
       "\n",
       "   Garage Finish_RFn  Garage Finish_Unf  Paved Drive_P  Paved Drive_Y  \n",
       "0                  1                  0              0              1  \n",
       "1                  1                  0              0              1  \n",
       "2                  0                  1              0              1  \n",
       "3                  0                  0              0              1  \n",
       "4                  0                  1              0              0  \n",
       "\n",
       "[5 rows x 90 columns]"
      ]
     },
     "execution_count": 2816,
     "metadata": {},
     "output_type": "execute_result"
    }
   ],
   "source": [
    "X3.head()"
   ]
  },
  {
   "cell_type": "code",
   "execution_count": 2817,
   "metadata": {},
   "outputs": [
    {
     "data": {
      "text/plain": [
       "array([[28.43677713],\n",
       "       [24.45470572],\n",
       "       [22.3211725 ],\n",
       "       ...,\n",
       "       [15.54528748],\n",
       "       [ 8.59212135],\n",
       "       [25.98074287]])"
      ]
     },
     "execution_count": 2817,
     "metadata": {},
     "output_type": "execute_result"
    }
   ],
   "source": [
    "y3_preds = model3.predict(X3)\n",
    "y3_preds"
   ]
  },
  {
   "cell_type": "markdown",
   "metadata": {},
   "source": [
    "### Step 6: Evaluate the model"
   ]
  },
  {
   "cell_type": "markdown",
   "metadata": {},
   "source": [
    "$R^2$"
   ]
  },
  {
   "cell_type": "code",
   "execution_count": 2818,
   "metadata": {},
   "outputs": [
    {
     "data": {
      "text/plain": [
       "0.4360549128263883"
      ]
     },
     "execution_count": 2818,
     "metadata": {},
     "output_type": "execute_result"
    }
   ],
   "source": [
    "metrics.r2_score(y3, y3_preds)"
   ]
  },
  {
   "cell_type": "code",
   "execution_count": 2819,
   "metadata": {},
   "outputs": [
    {
     "data": {
      "text/plain": [
       "95.90208907803847"
      ]
     },
     "execution_count": 2819,
     "metadata": {},
     "output_type": "execute_result"
    }
   ],
   "source": [
    "metrics.mean_squared_error(y3, y3_preds) # the error is HUGE"
   ]
  },
  {
   "cell_type": "markdown",
   "metadata": {},
   "source": [
    "# Factor 4: Utilities and Intangible Factors"
   ]
  },
  {
   "cell_type": "code",
   "execution_count": 2820,
   "metadata": {},
   "outputs": [
    {
     "data": {
      "text/html": [
       "<div>\n",
       "<style scoped>\n",
       "    .dataframe tbody tr th:only-of-type {\n",
       "        vertical-align: middle;\n",
       "    }\n",
       "\n",
       "    .dataframe tbody tr th {\n",
       "        vertical-align: top;\n",
       "    }\n",
       "\n",
       "    .dataframe thead th {\n",
       "        text-align: right;\n",
       "    }\n",
       "</style>\n",
       "<table border=\"1\" class=\"dataframe\">\n",
       "  <thead>\n",
       "    <tr style=\"text-align: right;\">\n",
       "      <th></th>\n",
       "      <th>Price Per Sq Ft</th>\n",
       "    </tr>\n",
       "  </thead>\n",
       "  <tbody>\n",
       "    <tr>\n",
       "      <th>0</th>\n",
       "      <td>9.654509</td>\n",
       "    </tr>\n",
       "    <tr>\n",
       "      <th>1</th>\n",
       "      <td>19.143752</td>\n",
       "    </tr>\n",
       "    <tr>\n",
       "      <th>2</th>\n",
       "      <td>13.759152</td>\n",
       "    </tr>\n",
       "    <tr>\n",
       "      <th>3</th>\n",
       "      <td>17.751479</td>\n",
       "    </tr>\n",
       "    <tr>\n",
       "      <th>4</th>\n",
       "      <td>9.729540</td>\n",
       "    </tr>\n",
       "    <tr>\n",
       "      <th>...</th>\n",
       "      <td>...</td>\n",
       "    </tr>\n",
       "    <tr>\n",
       "      <th>1882</th>\n",
       "      <td>26.094069</td>\n",
       "    </tr>\n",
       "    <tr>\n",
       "      <th>1883</th>\n",
       "      <td>6.684492</td>\n",
       "    </tr>\n",
       "    <tr>\n",
       "      <th>1884</th>\n",
       "      <td>23.418894</td>\n",
       "    </tr>\n",
       "    <tr>\n",
       "      <th>1885</th>\n",
       "      <td>13.846154</td>\n",
       "    </tr>\n",
       "    <tr>\n",
       "      <th>1886</th>\n",
       "      <td>25.200000</td>\n",
       "    </tr>\n",
       "  </tbody>\n",
       "</table>\n",
       "<p>1887 rows × 1 columns</p>\n",
       "</div>"
      ],
      "text/plain": [
       "      Price Per Sq Ft\n",
       "0            9.654509\n",
       "1           19.143752\n",
       "2           13.759152\n",
       "3           17.751479\n",
       "4            9.729540\n",
       "...               ...\n",
       "1882        26.094069\n",
       "1883         6.684492\n",
       "1884        23.418894\n",
       "1885        13.846154\n",
       "1886        25.200000\n",
       "\n",
       "[1887 rows x 1 columns]"
      ]
     },
     "execution_count": 2820,
     "metadata": {},
     "output_type": "execute_result"
    }
   ],
   "source": [
    "price_factors_df"
   ]
  },
  {
   "cell_type": "code",
   "execution_count": 2821,
   "metadata": {},
   "outputs": [
    {
     "data": {
      "text/html": [
       "<div>\n",
       "<style scoped>\n",
       "    .dataframe tbody tr th:only-of-type {\n",
       "        vertical-align: middle;\n",
       "    }\n",
       "\n",
       "    .dataframe tbody tr th {\n",
       "        vertical-align: top;\n",
       "    }\n",
       "\n",
       "    .dataframe thead th {\n",
       "        text-align: right;\n",
       "    }\n",
       "</style>\n",
       "<table border=\"1\" class=\"dataframe\">\n",
       "  <thead>\n",
       "    <tr style=\"text-align: right;\">\n",
       "      <th></th>\n",
       "      <th>Heating</th>\n",
       "      <th>Heating QC</th>\n",
       "      <th>Central Air</th>\n",
       "      <th>Electrical</th>\n",
       "      <th>Utilities</th>\n",
       "    </tr>\n",
       "  </thead>\n",
       "  <tbody>\n",
       "    <tr>\n",
       "      <th>0</th>\n",
       "      <td>GasA</td>\n",
       "      <td>Ex</td>\n",
       "      <td>Y</td>\n",
       "      <td>SBrkr</td>\n",
       "      <td>AllPub</td>\n",
       "    </tr>\n",
       "    <tr>\n",
       "      <th>1</th>\n",
       "      <td>GasA</td>\n",
       "      <td>Ex</td>\n",
       "      <td>Y</td>\n",
       "      <td>SBrkr</td>\n",
       "      <td>AllPub</td>\n",
       "    </tr>\n",
       "    <tr>\n",
       "      <th>2</th>\n",
       "      <td>GasA</td>\n",
       "      <td>TA</td>\n",
       "      <td>Y</td>\n",
       "      <td>SBrkr</td>\n",
       "      <td>AllPub</td>\n",
       "    </tr>\n",
       "    <tr>\n",
       "      <th>3</th>\n",
       "      <td>GasA</td>\n",
       "      <td>Gd</td>\n",
       "      <td>Y</td>\n",
       "      <td>SBrkr</td>\n",
       "      <td>AllPub</td>\n",
       "    </tr>\n",
       "    <tr>\n",
       "      <th>4</th>\n",
       "      <td>GasA</td>\n",
       "      <td>TA</td>\n",
       "      <td>Y</td>\n",
       "      <td>SBrkr</td>\n",
       "      <td>AllPub</td>\n",
       "    </tr>\n",
       "    <tr>\n",
       "      <th>...</th>\n",
       "      <td>...</td>\n",
       "      <td>...</td>\n",
       "      <td>...</td>\n",
       "      <td>...</td>\n",
       "      <td>...</td>\n",
       "    </tr>\n",
       "    <tr>\n",
       "      <th>1882</th>\n",
       "      <td>GasA</td>\n",
       "      <td>Ex</td>\n",
       "      <td>Y</td>\n",
       "      <td>SBrkr</td>\n",
       "      <td>AllPub</td>\n",
       "    </tr>\n",
       "    <tr>\n",
       "      <th>1883</th>\n",
       "      <td>GasA</td>\n",
       "      <td>Ex</td>\n",
       "      <td>Y</td>\n",
       "      <td>SBrkr</td>\n",
       "      <td>AllPub</td>\n",
       "    </tr>\n",
       "    <tr>\n",
       "      <th>1884</th>\n",
       "      <td>GasA</td>\n",
       "      <td>Gd</td>\n",
       "      <td>Y</td>\n",
       "      <td>SBrkr</td>\n",
       "      <td>AllPub</td>\n",
       "    </tr>\n",
       "    <tr>\n",
       "      <th>1885</th>\n",
       "      <td>GasA</td>\n",
       "      <td>TA</td>\n",
       "      <td>Y</td>\n",
       "      <td>SBrkr</td>\n",
       "      <td>AllPub</td>\n",
       "    </tr>\n",
       "    <tr>\n",
       "      <th>1886</th>\n",
       "      <td>GasA</td>\n",
       "      <td>Gd</td>\n",
       "      <td>Y</td>\n",
       "      <td>SBrkr</td>\n",
       "      <td>AllPub</td>\n",
       "    </tr>\n",
       "  </tbody>\n",
       "</table>\n",
       "<p>1887 rows × 5 columns</p>\n",
       "</div>"
      ],
      "text/plain": [
       "     Heating Heating QC Central Air Electrical Utilities\n",
       "0       GasA         Ex           Y      SBrkr    AllPub\n",
       "1       GasA         Ex           Y      SBrkr    AllPub\n",
       "2       GasA         TA           Y      SBrkr    AllPub\n",
       "3       GasA         Gd           Y      SBrkr    AllPub\n",
       "4       GasA         TA           Y      SBrkr    AllPub\n",
       "...      ...        ...         ...        ...       ...\n",
       "1882    GasA         Ex           Y      SBrkr    AllPub\n",
       "1883    GasA         Ex           Y      SBrkr    AllPub\n",
       "1884    GasA         Gd           Y      SBrkr    AllPub\n",
       "1885    GasA         TA           Y      SBrkr    AllPub\n",
       "1886    GasA         Gd           Y      SBrkr    AllPub\n",
       "\n",
       "[1887 rows x 5 columns]"
      ]
     },
     "execution_count": 2821,
     "metadata": {},
     "output_type": "execute_result"
    }
   ],
   "source": [
    "utilities_intangible_df.drop('Unnamed: 0', axis=1, inplace=True)\n",
    "utilities_intangible_df"
   ]
  },
  {
   "cell_type": "code",
   "execution_count": 2822,
   "metadata": {},
   "outputs": [],
   "source": [
    "X4 = utilities_intangible_df\n",
    "y4 = price_factors_df"
   ]
  },
  {
   "cell_type": "code",
   "execution_count": 2823,
   "metadata": {},
   "outputs": [
    {
     "data": {
      "text/html": [
       "<div>\n",
       "<style scoped>\n",
       "    .dataframe tbody tr th:only-of-type {\n",
       "        vertical-align: middle;\n",
       "    }\n",
       "\n",
       "    .dataframe tbody tr th {\n",
       "        vertical-align: top;\n",
       "    }\n",
       "\n",
       "    .dataframe thead th {\n",
       "        text-align: right;\n",
       "    }\n",
       "</style>\n",
       "<table border=\"1\" class=\"dataframe\">\n",
       "  <thead>\n",
       "    <tr style=\"text-align: right;\">\n",
       "      <th></th>\n",
       "      <th>Heating_GasW</th>\n",
       "      <th>Heating_Grav</th>\n",
       "      <th>Heating_OthW</th>\n",
       "      <th>Heating QC_Fa</th>\n",
       "      <th>Heating QC_Gd</th>\n",
       "      <th>Heating QC_Po</th>\n",
       "      <th>Heating QC_TA</th>\n",
       "      <th>Central Air_Y</th>\n",
       "      <th>Electrical_FuseF</th>\n",
       "      <th>Electrical_FuseP</th>\n",
       "      <th>Electrical_Mix</th>\n",
       "      <th>Electrical_SBrkr</th>\n",
       "      <th>Utilities_NoSeWa</th>\n",
       "    </tr>\n",
       "  </thead>\n",
       "  <tbody>\n",
       "    <tr>\n",
       "      <th>0</th>\n",
       "      <td>0</td>\n",
       "      <td>0</td>\n",
       "      <td>0</td>\n",
       "      <td>0</td>\n",
       "      <td>0</td>\n",
       "      <td>0</td>\n",
       "      <td>0</td>\n",
       "      <td>1</td>\n",
       "      <td>0</td>\n",
       "      <td>0</td>\n",
       "      <td>0</td>\n",
       "      <td>1</td>\n",
       "      <td>0</td>\n",
       "    </tr>\n",
       "    <tr>\n",
       "      <th>1</th>\n",
       "      <td>0</td>\n",
       "      <td>0</td>\n",
       "      <td>0</td>\n",
       "      <td>0</td>\n",
       "      <td>0</td>\n",
       "      <td>0</td>\n",
       "      <td>0</td>\n",
       "      <td>1</td>\n",
       "      <td>0</td>\n",
       "      <td>0</td>\n",
       "      <td>0</td>\n",
       "      <td>1</td>\n",
       "      <td>0</td>\n",
       "    </tr>\n",
       "    <tr>\n",
       "      <th>2</th>\n",
       "      <td>0</td>\n",
       "      <td>0</td>\n",
       "      <td>0</td>\n",
       "      <td>0</td>\n",
       "      <td>0</td>\n",
       "      <td>0</td>\n",
       "      <td>1</td>\n",
       "      <td>1</td>\n",
       "      <td>0</td>\n",
       "      <td>0</td>\n",
       "      <td>0</td>\n",
       "      <td>1</td>\n",
       "      <td>0</td>\n",
       "    </tr>\n",
       "    <tr>\n",
       "      <th>3</th>\n",
       "      <td>0</td>\n",
       "      <td>0</td>\n",
       "      <td>0</td>\n",
       "      <td>0</td>\n",
       "      <td>1</td>\n",
       "      <td>0</td>\n",
       "      <td>0</td>\n",
       "      <td>1</td>\n",
       "      <td>0</td>\n",
       "      <td>0</td>\n",
       "      <td>0</td>\n",
       "      <td>1</td>\n",
       "      <td>0</td>\n",
       "    </tr>\n",
       "    <tr>\n",
       "      <th>4</th>\n",
       "      <td>0</td>\n",
       "      <td>0</td>\n",
       "      <td>0</td>\n",
       "      <td>0</td>\n",
       "      <td>0</td>\n",
       "      <td>0</td>\n",
       "      <td>1</td>\n",
       "      <td>1</td>\n",
       "      <td>0</td>\n",
       "      <td>0</td>\n",
       "      <td>0</td>\n",
       "      <td>1</td>\n",
       "      <td>0</td>\n",
       "    </tr>\n",
       "  </tbody>\n",
       "</table>\n",
       "</div>"
      ],
      "text/plain": [
       "   Heating_GasW  Heating_Grav  Heating_OthW  Heating QC_Fa  Heating QC_Gd  \\\n",
       "0             0             0             0              0              0   \n",
       "1             0             0             0              0              0   \n",
       "2             0             0             0              0              0   \n",
       "3             0             0             0              0              1   \n",
       "4             0             0             0              0              0   \n",
       "\n",
       "   Heating QC_Po  Heating QC_TA  Central Air_Y  Electrical_FuseF  \\\n",
       "0              0              0              1                 0   \n",
       "1              0              0              1                 0   \n",
       "2              0              1              1                 0   \n",
       "3              0              0              1                 0   \n",
       "4              0              1              1                 0   \n",
       "\n",
       "   Electrical_FuseP  Electrical_Mix  Electrical_SBrkr  Utilities_NoSeWa  \n",
       "0                 0               0                 1                 0  \n",
       "1                 0               0                 1                 0  \n",
       "2                 0               0                 1                 0  \n",
       "3                 0               0                 1                 0  \n",
       "4                 0               0                 1                 0  "
      ]
     },
     "execution_count": 2823,
     "metadata": {},
     "output_type": "execute_result"
    }
   ],
   "source": [
    "X4 = pd.get_dummies(drop_first=True, data=X4) \n",
    "X4.head()"
   ]
  },
  {
   "cell_type": "markdown",
   "metadata": {},
   "source": [
    "### Step 2: Instantiate the model"
   ]
  },
  {
   "cell_type": "code",
   "execution_count": 2824,
   "metadata": {},
   "outputs": [],
   "source": [
    "model4 = LinearRegression()"
   ]
  },
  {
   "cell_type": "markdown",
   "metadata": {},
   "source": [
    "### Step 3: Fit the model"
   ]
  },
  {
   "cell_type": "code",
   "execution_count": 2825,
   "metadata": {},
   "outputs": [
    {
     "data": {
      "text/html": [
       "<style>#sk-container-id-96 {color: black;background-color: white;}#sk-container-id-96 pre{padding: 0;}#sk-container-id-96 div.sk-toggleable {background-color: white;}#sk-container-id-96 label.sk-toggleable__label {cursor: pointer;display: block;width: 100%;margin-bottom: 0;padding: 0.3em;box-sizing: border-box;text-align: center;}#sk-container-id-96 label.sk-toggleable__label-arrow:before {content: \"▸\";float: left;margin-right: 0.25em;color: #696969;}#sk-container-id-96 label.sk-toggleable__label-arrow:hover:before {color: black;}#sk-container-id-96 div.sk-estimator:hover label.sk-toggleable__label-arrow:before {color: black;}#sk-container-id-96 div.sk-toggleable__content {max-height: 0;max-width: 0;overflow: hidden;text-align: left;background-color: #f0f8ff;}#sk-container-id-96 div.sk-toggleable__content pre {margin: 0.2em;color: black;border-radius: 0.25em;background-color: #f0f8ff;}#sk-container-id-96 input.sk-toggleable__control:checked~div.sk-toggleable__content {max-height: 200px;max-width: 100%;overflow: auto;}#sk-container-id-96 input.sk-toggleable__control:checked~label.sk-toggleable__label-arrow:before {content: \"▾\";}#sk-container-id-96 div.sk-estimator input.sk-toggleable__control:checked~label.sk-toggleable__label {background-color: #d4ebff;}#sk-container-id-96 div.sk-label input.sk-toggleable__control:checked~label.sk-toggleable__label {background-color: #d4ebff;}#sk-container-id-96 input.sk-hidden--visually {border: 0;clip: rect(1px 1px 1px 1px);clip: rect(1px, 1px, 1px, 1px);height: 1px;margin: -1px;overflow: hidden;padding: 0;position: absolute;width: 1px;}#sk-container-id-96 div.sk-estimator {font-family: monospace;background-color: #f0f8ff;border: 1px dotted black;border-radius: 0.25em;box-sizing: border-box;margin-bottom: 0.5em;}#sk-container-id-96 div.sk-estimator:hover {background-color: #d4ebff;}#sk-container-id-96 div.sk-parallel-item::after {content: \"\";width: 100%;border-bottom: 1px solid gray;flex-grow: 1;}#sk-container-id-96 div.sk-label:hover label.sk-toggleable__label {background-color: #d4ebff;}#sk-container-id-96 div.sk-serial::before {content: \"\";position: absolute;border-left: 1px solid gray;box-sizing: border-box;top: 0;bottom: 0;left: 50%;z-index: 0;}#sk-container-id-96 div.sk-serial {display: flex;flex-direction: column;align-items: center;background-color: white;padding-right: 0.2em;padding-left: 0.2em;position: relative;}#sk-container-id-96 div.sk-item {position: relative;z-index: 1;}#sk-container-id-96 div.sk-parallel {display: flex;align-items: stretch;justify-content: center;background-color: white;position: relative;}#sk-container-id-96 div.sk-item::before, #sk-container-id-96 div.sk-parallel-item::before {content: \"\";position: absolute;border-left: 1px solid gray;box-sizing: border-box;top: 0;bottom: 0;left: 50%;z-index: -1;}#sk-container-id-96 div.sk-parallel-item {display: flex;flex-direction: column;z-index: 1;position: relative;background-color: white;}#sk-container-id-96 div.sk-parallel-item:first-child::after {align-self: flex-end;width: 50%;}#sk-container-id-96 div.sk-parallel-item:last-child::after {align-self: flex-start;width: 50%;}#sk-container-id-96 div.sk-parallel-item:only-child::after {width: 0;}#sk-container-id-96 div.sk-dashed-wrapped {border: 1px dashed gray;margin: 0 0.4em 0.5em 0.4em;box-sizing: border-box;padding-bottom: 0.4em;background-color: white;}#sk-container-id-96 div.sk-label label {font-family: monospace;font-weight: bold;display: inline-block;line-height: 1.2em;}#sk-container-id-96 div.sk-label-container {text-align: center;}#sk-container-id-96 div.sk-container {/* jupyter's `normalize.less` sets `[hidden] { display: none; }` but bootstrap.min.css set `[hidden] { display: none !important; }` so we also need the `!important` here to be able to override the default hidden behavior on the sphinx rendered scikit-learn.org. See: https://github.com/scikit-learn/scikit-learn/issues/21755 */display: inline-block !important;position: relative;}#sk-container-id-96 div.sk-text-repr-fallback {display: none;}</style><div id=\"sk-container-id-96\" class=\"sk-top-container\"><div class=\"sk-text-repr-fallback\"><pre>LinearRegression()</pre><b>In a Jupyter environment, please rerun this cell to show the HTML representation or trust the notebook. <br />On GitHub, the HTML representation is unable to render, please try loading this page with nbviewer.org.</b></div><div class=\"sk-container\" hidden><div class=\"sk-item\"><div class=\"sk-estimator sk-toggleable\"><input class=\"sk-toggleable__control sk-hidden--visually\" id=\"sk-estimator-id-96\" type=\"checkbox\" checked><label for=\"sk-estimator-id-96\" class=\"sk-toggleable__label sk-toggleable__label-arrow\">LinearRegression</label><div class=\"sk-toggleable__content\"><pre>LinearRegression()</pre></div></div></div></div></div>"
      ],
      "text/plain": [
       "LinearRegression()"
      ]
     },
     "execution_count": 2825,
     "metadata": {},
     "output_type": "execute_result"
    }
   ],
   "source": [
    "model4.fit(X4, y4) # X independent, y dependent"
   ]
  },
  {
   "cell_type": "markdown",
   "metadata": {},
   "source": [
    "### Step 4: Check out and interpret our coefficients"
   ]
  },
  {
   "cell_type": "code",
   "execution_count": 2826,
   "metadata": {},
   "outputs": [
    {
     "data": {
      "text/plain": [
       "array([[-3.38135252, -4.07687976, -1.88205118, -6.48316732, -4.73624302,\n",
       "        -3.7318669 , -5.58860498,  3.29188438, -1.15815834, -1.8589328 ,\n",
       "        -8.21199173,  4.72661025, -6.11861553]])"
      ]
     },
     "execution_count": 2826,
     "metadata": {},
     "output_type": "execute_result"
    }
   ],
   "source": [
    "model4.coef_\n"
   ]
  },
  {
   "cell_type": "code",
   "execution_count": 2827,
   "metadata": {},
   "outputs": [
    {
     "data": {
      "text/plain": [
       "{'Heating_GasW': -3.3813525192458513,\n",
       " 'Heating_Grav': -4.076879759809788,\n",
       " 'Heating_OthW': -1.8820511795736872,\n",
       " 'Heating QC_Fa': -6.483167315274364,\n",
       " 'Heating QC_Gd': -4.736243024109155,\n",
       " 'Heating QC_Po': -3.731866897076041,\n",
       " 'Heating QC_TA': -5.588604975101771,\n",
       " 'Central Air_Y': 3.291884375814464,\n",
       " 'Electrical_FuseF': -1.1581583379629967,\n",
       " 'Electrical_FuseP': -1.8589328041442659,\n",
       " 'Electrical_Mix': -8.211991730474253,\n",
       " 'Electrical_SBrkr': 4.726610253917774,\n",
       " 'Utilities_NoSeWa': -6.118615534664452}"
      ]
     },
     "execution_count": 2827,
     "metadata": {},
     "output_type": "execute_result"
    }
   ],
   "source": [
    "model4_coef = dict(zip(X4.columns, model4.coef_[0]))\n",
    "model4_coef\n"
   ]
  },
  {
   "cell_type": "code",
   "execution_count": 2828,
   "metadata": {},
   "outputs": [
    {
     "data": {
      "text/plain": [
       "{'Electrical_SBrkr': 4.726610253917774,\n",
       " 'Central Air_Y': 3.291884375814464,\n",
       " 'Electrical_FuseF': -1.1581583379629967,\n",
       " 'Electrical_FuseP': -1.8589328041442659,\n",
       " 'Heating_OthW': -1.8820511795736872,\n",
       " 'Heating_GasW': -3.3813525192458513,\n",
       " 'Heating QC_Po': -3.731866897076041,\n",
       " 'Heating_Grav': -4.076879759809788,\n",
       " 'Heating QC_Gd': -4.736243024109155,\n",
       " 'Heating QC_TA': -5.588604975101771,\n",
       " 'Utilities_NoSeWa': -6.118615534664452,\n",
       " 'Heating QC_Fa': -6.483167315274364,\n",
       " 'Electrical_Mix': -8.211991730474253}"
      ]
     },
     "execution_count": 2828,
     "metadata": {},
     "output_type": "execute_result"
    }
   ],
   "source": [
    "{k: v for k, v in sorted(model4_coef.items(), key=lambda item: item[1], reverse=True)}\n"
   ]
  },
  {
   "cell_type": "markdown",
   "metadata": {},
   "source": [
    "- 'Electrical_SBrkr': 4.726610253917774,\n",
    "- 'Central Air_Y': 3.291884375814464,"
   ]
  },
  {
   "cell_type": "markdown",
   "metadata": {},
   "source": [
    "### Step 5: Make predictions"
   ]
  },
  {
   "cell_type": "code",
   "execution_count": 2829,
   "metadata": {},
   "outputs": [
    {
     "data": {
      "text/plain": [
       "array([[25.1466862 ],\n",
       "       [25.1466862 ],\n",
       "       [19.55808123],\n",
       "       ...,\n",
       "       [20.41044318],\n",
       "       [19.55808123],\n",
       "       [20.41044318]])"
      ]
     },
     "execution_count": 2829,
     "metadata": {},
     "output_type": "execute_result"
    }
   ],
   "source": [
    "y4_preds = model4.predict(X4)\n",
    "y4_preds"
   ]
  },
  {
   "cell_type": "markdown",
   "metadata": {},
   "source": [
    "### Step 6: Evaluate the model"
   ]
  },
  {
   "cell_type": "code",
   "execution_count": 2830,
   "metadata": {},
   "outputs": [
    {
     "data": {
      "text/plain": [
       "0.07380656652948436"
      ]
     },
     "execution_count": 2830,
     "metadata": {},
     "output_type": "execute_result"
    }
   ],
   "source": [
    "metrics.r2_score(y4, y4_preds)"
   ]
  },
  {
   "cell_type": "code",
   "execution_count": 2831,
   "metadata": {},
   "outputs": [
    {
     "data": {
      "text/plain": [
       "157.50449322176485"
      ]
     },
     "execution_count": 2831,
     "metadata": {},
     "output_type": "execute_result"
    }
   ],
   "source": [
    "metrics.mean_squared_error(y4, y4_preds) # the error is HUGE"
   ]
  },
  {
   "cell_type": "markdown",
   "metadata": {},
   "source": [
    "# Factor 5: Time Factors"
   ]
  },
  {
   "cell_type": "code",
   "execution_count": 2832,
   "metadata": {},
   "outputs": [
    {
     "data": {
      "text/html": [
       "<div>\n",
       "<style scoped>\n",
       "    .dataframe tbody tr th:only-of-type {\n",
       "        vertical-align: middle;\n",
       "    }\n",
       "\n",
       "    .dataframe tbody tr th {\n",
       "        vertical-align: top;\n",
       "    }\n",
       "\n",
       "    .dataframe thead th {\n",
       "        text-align: right;\n",
       "    }\n",
       "</style>\n",
       "<table border=\"1\" class=\"dataframe\">\n",
       "  <thead>\n",
       "    <tr style=\"text-align: right;\">\n",
       "      <th></th>\n",
       "      <th>Price Per Sq Ft</th>\n",
       "    </tr>\n",
       "  </thead>\n",
       "  <tbody>\n",
       "    <tr>\n",
       "      <th>0</th>\n",
       "      <td>9.654509</td>\n",
       "    </tr>\n",
       "    <tr>\n",
       "      <th>1</th>\n",
       "      <td>19.143752</td>\n",
       "    </tr>\n",
       "    <tr>\n",
       "      <th>2</th>\n",
       "      <td>13.759152</td>\n",
       "    </tr>\n",
       "    <tr>\n",
       "      <th>3</th>\n",
       "      <td>17.751479</td>\n",
       "    </tr>\n",
       "    <tr>\n",
       "      <th>4</th>\n",
       "      <td>9.729540</td>\n",
       "    </tr>\n",
       "    <tr>\n",
       "      <th>...</th>\n",
       "      <td>...</td>\n",
       "    </tr>\n",
       "    <tr>\n",
       "      <th>1882</th>\n",
       "      <td>26.094069</td>\n",
       "    </tr>\n",
       "    <tr>\n",
       "      <th>1883</th>\n",
       "      <td>6.684492</td>\n",
       "    </tr>\n",
       "    <tr>\n",
       "      <th>1884</th>\n",
       "      <td>23.418894</td>\n",
       "    </tr>\n",
       "    <tr>\n",
       "      <th>1885</th>\n",
       "      <td>13.846154</td>\n",
       "    </tr>\n",
       "    <tr>\n",
       "      <th>1886</th>\n",
       "      <td>25.200000</td>\n",
       "    </tr>\n",
       "  </tbody>\n",
       "</table>\n",
       "<p>1887 rows × 1 columns</p>\n",
       "</div>"
      ],
      "text/plain": [
       "      Price Per Sq Ft\n",
       "0            9.654509\n",
       "1           19.143752\n",
       "2           13.759152\n",
       "3           17.751479\n",
       "4            9.729540\n",
       "...               ...\n",
       "1882        26.094069\n",
       "1883         6.684492\n",
       "1884        23.418894\n",
       "1885        13.846154\n",
       "1886        25.200000\n",
       "\n",
       "[1887 rows x 1 columns]"
      ]
     },
     "execution_count": 2832,
     "metadata": {},
     "output_type": "execute_result"
    }
   ],
   "source": [
    "\n",
    "price_factors_df"
   ]
  },
  {
   "cell_type": "code",
   "execution_count": 2833,
   "metadata": {},
   "outputs": [
    {
     "data": {
      "text/html": [
       "<div>\n",
       "<style scoped>\n",
       "    .dataframe tbody tr th:only-of-type {\n",
       "        vertical-align: middle;\n",
       "    }\n",
       "\n",
       "    .dataframe tbody tr th {\n",
       "        vertical-align: top;\n",
       "    }\n",
       "\n",
       "    .dataframe thead th {\n",
       "        text-align: right;\n",
       "    }\n",
       "</style>\n",
       "<table border=\"1\" class=\"dataframe\">\n",
       "  <thead>\n",
       "    <tr style=\"text-align: right;\">\n",
       "      <th></th>\n",
       "      <th>Mo Sold</th>\n",
       "      <th>Yr Sold</th>\n",
       "      <th>Year Built</th>\n",
       "      <th>Year Remod/Add</th>\n",
       "      <th>Garage Yr Blt</th>\n",
       "    </tr>\n",
       "  </thead>\n",
       "  <tbody>\n",
       "    <tr>\n",
       "      <th>0</th>\n",
       "      <td>3</td>\n",
       "      <td>2010</td>\n",
       "      <td>1976</td>\n",
       "      <td>2005</td>\n",
       "      <td>1976.0</td>\n",
       "    </tr>\n",
       "    <tr>\n",
       "      <th>1</th>\n",
       "      <td>4</td>\n",
       "      <td>2009</td>\n",
       "      <td>1996</td>\n",
       "      <td>1997</td>\n",
       "      <td>1997.0</td>\n",
       "    </tr>\n",
       "    <tr>\n",
       "      <th>2</th>\n",
       "      <td>1</td>\n",
       "      <td>2010</td>\n",
       "      <td>1953</td>\n",
       "      <td>2007</td>\n",
       "      <td>1953.0</td>\n",
       "    </tr>\n",
       "    <tr>\n",
       "      <th>3</th>\n",
       "      <td>4</td>\n",
       "      <td>2010</td>\n",
       "      <td>2006</td>\n",
       "      <td>2007</td>\n",
       "      <td>2007.0</td>\n",
       "    </tr>\n",
       "    <tr>\n",
       "      <th>4</th>\n",
       "      <td>3</td>\n",
       "      <td>2010</td>\n",
       "      <td>1900</td>\n",
       "      <td>1993</td>\n",
       "      <td>1957.0</td>\n",
       "    </tr>\n",
       "    <tr>\n",
       "      <th>...</th>\n",
       "      <td>...</td>\n",
       "      <td>...</td>\n",
       "      <td>...</td>\n",
       "      <td>...</td>\n",
       "      <td>...</td>\n",
       "    </tr>\n",
       "    <tr>\n",
       "      <th>1882</th>\n",
       "      <td>1</td>\n",
       "      <td>2008</td>\n",
       "      <td>2007</td>\n",
       "      <td>2007</td>\n",
       "      <td>2007.0</td>\n",
       "    </tr>\n",
       "    <tr>\n",
       "      <th>1883</th>\n",
       "      <td>3</td>\n",
       "      <td>2009</td>\n",
       "      <td>1940</td>\n",
       "      <td>1950</td>\n",
       "      <td>1961.0</td>\n",
       "    </tr>\n",
       "    <tr>\n",
       "      <th>1884</th>\n",
       "      <td>3</td>\n",
       "      <td>2009</td>\n",
       "      <td>1928</td>\n",
       "      <td>1950</td>\n",
       "      <td>1929.0</td>\n",
       "    </tr>\n",
       "    <tr>\n",
       "      <th>1885</th>\n",
       "      <td>11</td>\n",
       "      <td>2009</td>\n",
       "      <td>1956</td>\n",
       "      <td>1956</td>\n",
       "      <td>1956.0</td>\n",
       "    </tr>\n",
       "    <tr>\n",
       "      <th>1886</th>\n",
       "      <td>6</td>\n",
       "      <td>2010</td>\n",
       "      <td>1999</td>\n",
       "      <td>1999</td>\n",
       "      <td>1999.0</td>\n",
       "    </tr>\n",
       "  </tbody>\n",
       "</table>\n",
       "<p>1887 rows × 5 columns</p>\n",
       "</div>"
      ],
      "text/plain": [
       "      Mo Sold  Yr Sold  Year Built  Year Remod/Add  Garage Yr Blt\n",
       "0           3     2010        1976            2005         1976.0\n",
       "1           4     2009        1996            1997         1997.0\n",
       "2           1     2010        1953            2007         1953.0\n",
       "3           4     2010        2006            2007         2007.0\n",
       "4           3     2010        1900            1993         1957.0\n",
       "...       ...      ...         ...             ...            ...\n",
       "1882        1     2008        2007            2007         2007.0\n",
       "1883        3     2009        1940            1950         1961.0\n",
       "1884        3     2009        1928            1950         1929.0\n",
       "1885       11     2009        1956            1956         1956.0\n",
       "1886        6     2010        1999            1999         1999.0\n",
       "\n",
       "[1887 rows x 5 columns]"
      ]
     },
     "execution_count": 2833,
     "metadata": {},
     "output_type": "execute_result"
    }
   ],
   "source": [
    "time_factors_df.drop('Unnamed: 0', axis=1, inplace=True)\n",
    "time_factors_df"
   ]
  },
  {
   "cell_type": "markdown",
   "metadata": {},
   "source": [
    "### Feature Engineering: Age of Home Sold"
   ]
  },
  {
   "cell_type": "code",
   "execution_count": 2834,
   "metadata": {},
   "outputs": [],
   "source": [
    "time_factors_df['Built Age'] = time_factors_df['Yr Sold'] - time_factors_df['Year Built']"
   ]
  },
  {
   "cell_type": "code",
   "execution_count": 2850,
   "metadata": {},
   "outputs": [],
   "source": [
    "time_factors_df['Remod Age'] = time_factors_df['Yr Sold'] - time_factors_df['Year Remod/Add']"
   ]
  },
  {
   "cell_type": "code",
   "execution_count": 2851,
   "metadata": {},
   "outputs": [
    {
     "data": {
      "text/html": [
       "<div>\n",
       "<style scoped>\n",
       "    .dataframe tbody tr th:only-of-type {\n",
       "        vertical-align: middle;\n",
       "    }\n",
       "\n",
       "    .dataframe tbody tr th {\n",
       "        vertical-align: top;\n",
       "    }\n",
       "\n",
       "    .dataframe thead th {\n",
       "        text-align: right;\n",
       "    }\n",
       "</style>\n",
       "<table border=\"1\" class=\"dataframe\">\n",
       "  <thead>\n",
       "    <tr style=\"text-align: right;\">\n",
       "      <th></th>\n",
       "      <th>Mo Sold</th>\n",
       "      <th>Yr Sold</th>\n",
       "      <th>Year Built</th>\n",
       "      <th>Year Remod/Add</th>\n",
       "      <th>Garage Yr Blt</th>\n",
       "      <th>Built Age</th>\n",
       "      <th>Remod Age</th>\n",
       "    </tr>\n",
       "  </thead>\n",
       "  <tbody>\n",
       "    <tr>\n",
       "      <th>0</th>\n",
       "      <td>3</td>\n",
       "      <td>2010</td>\n",
       "      <td>1976</td>\n",
       "      <td>2005</td>\n",
       "      <td>1976.0</td>\n",
       "      <td>34</td>\n",
       "      <td>5</td>\n",
       "    </tr>\n",
       "    <tr>\n",
       "      <th>1</th>\n",
       "      <td>4</td>\n",
       "      <td>2009</td>\n",
       "      <td>1996</td>\n",
       "      <td>1997</td>\n",
       "      <td>1997.0</td>\n",
       "      <td>13</td>\n",
       "      <td>12</td>\n",
       "    </tr>\n",
       "    <tr>\n",
       "      <th>2</th>\n",
       "      <td>1</td>\n",
       "      <td>2010</td>\n",
       "      <td>1953</td>\n",
       "      <td>2007</td>\n",
       "      <td>1953.0</td>\n",
       "      <td>57</td>\n",
       "      <td>3</td>\n",
       "    </tr>\n",
       "  </tbody>\n",
       "</table>\n",
       "</div>"
      ],
      "text/plain": [
       "   Mo Sold  Yr Sold  Year Built  Year Remod/Add  Garage Yr Blt  Built Age  \\\n",
       "0        3     2010        1976            2005         1976.0         34   \n",
       "1        4     2009        1996            1997         1997.0         13   \n",
       "2        1     2010        1953            2007         1953.0         57   \n",
       "\n",
       "   Remod Age  \n",
       "0          5  \n",
       "1         12  \n",
       "2          3  "
      ]
     },
     "execution_count": 2851,
     "metadata": {},
     "output_type": "execute_result"
    }
   ],
   "source": [
    "time_factors_df.head(3)"
   ]
  },
  {
   "cell_type": "markdown",
   "metadata": {},
   "source": [
    "### Scale Engineered Feature"
   ]
  },
  {
   "cell_type": "markdown",
   "metadata": {},
   "source": [
    "I will need to scale the data \n",
    "\n",
    "Reminder to self: Refer to Lecture 3.05 Feature Engineering"
   ]
  },
  {
   "cell_type": "code",
   "execution_count": 2852,
   "metadata": {},
   "outputs": [],
   "source": [
    "X5 = time_factors_df.drop(['Mo Sold','Yr Sold','Year Built','Year Remod/Add','Garage Yr Blt'], axis=1)\n",
    "y5 = price_factors_df"
   ]
  },
  {
   "cell_type": "code",
   "execution_count": 2853,
   "metadata": {},
   "outputs": [],
   "source": [
    "from sklearn.preprocessing import StandardScaler, PolynomialFeatures"
   ]
  },
  {
   "cell_type": "code",
   "execution_count": 2854,
   "metadata": {},
   "outputs": [
    {
     "data": {
      "text/plain": [
       "array([[-2.16940873e-04, -8.51199672e-01],\n",
       "       [-7.16609938e-01, -5.11527261e-01],\n",
       "       [ 7.84403961e-01, -9.48248932e-01],\n",
       "       ...,\n",
       "       [ 1.60313881e+00,  1.76913035e+00],\n",
       "       [ 6.47948152e-01,  1.47798257e+00],\n",
       "       [-7.84837842e-01, -5.60051892e-01]])"
      ]
     },
     "execution_count": 2854,
     "metadata": {},
     "output_type": "execute_result"
    }
   ],
   "source": [
    "ss = StandardScaler() # instantiate the standard scaler class\n",
    "ss.fit(X5)\n",
    "X5_scaled = ss.transform(X5)\n",
    "X5_scaled"
   ]
  },
  {
   "cell_type": "code",
   "execution_count": 2855,
   "metadata": {},
   "outputs": [],
   "source": [
    "X5 = pd.get_dummies(drop_first=True, data=X5)\n",
    "# this is actually unnecessary"
   ]
  },
  {
   "cell_type": "code",
   "execution_count": 2856,
   "metadata": {},
   "outputs": [
    {
     "data": {
      "text/html": [
       "<div>\n",
       "<style scoped>\n",
       "    .dataframe tbody tr th:only-of-type {\n",
       "        vertical-align: middle;\n",
       "    }\n",
       "\n",
       "    .dataframe tbody tr th {\n",
       "        vertical-align: top;\n",
       "    }\n",
       "\n",
       "    .dataframe thead th {\n",
       "        text-align: right;\n",
       "    }\n",
       "</style>\n",
       "<table border=\"1\" class=\"dataframe\">\n",
       "  <thead>\n",
       "    <tr style=\"text-align: right;\">\n",
       "      <th></th>\n",
       "      <th>Built Age</th>\n",
       "      <th>Remod Age</th>\n",
       "    </tr>\n",
       "  </thead>\n",
       "  <tbody>\n",
       "    <tr>\n",
       "      <th>0</th>\n",
       "      <td>34</td>\n",
       "      <td>5</td>\n",
       "    </tr>\n",
       "    <tr>\n",
       "      <th>1</th>\n",
       "      <td>13</td>\n",
       "      <td>12</td>\n",
       "    </tr>\n",
       "    <tr>\n",
       "      <th>2</th>\n",
       "      <td>57</td>\n",
       "      <td>3</td>\n",
       "    </tr>\n",
       "    <tr>\n",
       "      <th>3</th>\n",
       "      <td>4</td>\n",
       "      <td>3</td>\n",
       "    </tr>\n",
       "    <tr>\n",
       "      <th>4</th>\n",
       "      <td>110</td>\n",
       "      <td>17</td>\n",
       "    </tr>\n",
       "  </tbody>\n",
       "</table>\n",
       "</div>"
      ],
      "text/plain": [
       "   Built Age  Remod Age\n",
       "0         34          5\n",
       "1         13         12\n",
       "2         57          3\n",
       "3          4          3\n",
       "4        110         17"
      ]
     },
     "execution_count": 2856,
     "metadata": {},
     "output_type": "execute_result"
    }
   ],
   "source": [
    "X5.head()"
   ]
  },
  {
   "cell_type": "markdown",
   "metadata": {},
   "source": [
    "### Step 2: Instantiate the model"
   ]
  },
  {
   "cell_type": "code",
   "execution_count": 2857,
   "metadata": {},
   "outputs": [],
   "source": [
    "model5 = LinearRegression()"
   ]
  },
  {
   "cell_type": "markdown",
   "metadata": {},
   "source": [
    "### Step 3: Fit the model"
   ]
  },
  {
   "cell_type": "code",
   "execution_count": 2858,
   "metadata": {},
   "outputs": [
    {
     "data": {
      "text/html": [
       "<style>#sk-container-id-98 {color: black;background-color: white;}#sk-container-id-98 pre{padding: 0;}#sk-container-id-98 div.sk-toggleable {background-color: white;}#sk-container-id-98 label.sk-toggleable__label {cursor: pointer;display: block;width: 100%;margin-bottom: 0;padding: 0.3em;box-sizing: border-box;text-align: center;}#sk-container-id-98 label.sk-toggleable__label-arrow:before {content: \"▸\";float: left;margin-right: 0.25em;color: #696969;}#sk-container-id-98 label.sk-toggleable__label-arrow:hover:before {color: black;}#sk-container-id-98 div.sk-estimator:hover label.sk-toggleable__label-arrow:before {color: black;}#sk-container-id-98 div.sk-toggleable__content {max-height: 0;max-width: 0;overflow: hidden;text-align: left;background-color: #f0f8ff;}#sk-container-id-98 div.sk-toggleable__content pre {margin: 0.2em;color: black;border-radius: 0.25em;background-color: #f0f8ff;}#sk-container-id-98 input.sk-toggleable__control:checked~div.sk-toggleable__content {max-height: 200px;max-width: 100%;overflow: auto;}#sk-container-id-98 input.sk-toggleable__control:checked~label.sk-toggleable__label-arrow:before {content: \"▾\";}#sk-container-id-98 div.sk-estimator input.sk-toggleable__control:checked~label.sk-toggleable__label {background-color: #d4ebff;}#sk-container-id-98 div.sk-label input.sk-toggleable__control:checked~label.sk-toggleable__label {background-color: #d4ebff;}#sk-container-id-98 input.sk-hidden--visually {border: 0;clip: rect(1px 1px 1px 1px);clip: rect(1px, 1px, 1px, 1px);height: 1px;margin: -1px;overflow: hidden;padding: 0;position: absolute;width: 1px;}#sk-container-id-98 div.sk-estimator {font-family: monospace;background-color: #f0f8ff;border: 1px dotted black;border-radius: 0.25em;box-sizing: border-box;margin-bottom: 0.5em;}#sk-container-id-98 div.sk-estimator:hover {background-color: #d4ebff;}#sk-container-id-98 div.sk-parallel-item::after {content: \"\";width: 100%;border-bottom: 1px solid gray;flex-grow: 1;}#sk-container-id-98 div.sk-label:hover label.sk-toggleable__label {background-color: #d4ebff;}#sk-container-id-98 div.sk-serial::before {content: \"\";position: absolute;border-left: 1px solid gray;box-sizing: border-box;top: 0;bottom: 0;left: 50%;z-index: 0;}#sk-container-id-98 div.sk-serial {display: flex;flex-direction: column;align-items: center;background-color: white;padding-right: 0.2em;padding-left: 0.2em;position: relative;}#sk-container-id-98 div.sk-item {position: relative;z-index: 1;}#sk-container-id-98 div.sk-parallel {display: flex;align-items: stretch;justify-content: center;background-color: white;position: relative;}#sk-container-id-98 div.sk-item::before, #sk-container-id-98 div.sk-parallel-item::before {content: \"\";position: absolute;border-left: 1px solid gray;box-sizing: border-box;top: 0;bottom: 0;left: 50%;z-index: -1;}#sk-container-id-98 div.sk-parallel-item {display: flex;flex-direction: column;z-index: 1;position: relative;background-color: white;}#sk-container-id-98 div.sk-parallel-item:first-child::after {align-self: flex-end;width: 50%;}#sk-container-id-98 div.sk-parallel-item:last-child::after {align-self: flex-start;width: 50%;}#sk-container-id-98 div.sk-parallel-item:only-child::after {width: 0;}#sk-container-id-98 div.sk-dashed-wrapped {border: 1px dashed gray;margin: 0 0.4em 0.5em 0.4em;box-sizing: border-box;padding-bottom: 0.4em;background-color: white;}#sk-container-id-98 div.sk-label label {font-family: monospace;font-weight: bold;display: inline-block;line-height: 1.2em;}#sk-container-id-98 div.sk-label-container {text-align: center;}#sk-container-id-98 div.sk-container {/* jupyter's `normalize.less` sets `[hidden] { display: none; }` but bootstrap.min.css set `[hidden] { display: none !important; }` so we also need the `!important` here to be able to override the default hidden behavior on the sphinx rendered scikit-learn.org. See: https://github.com/scikit-learn/scikit-learn/issues/21755 */display: inline-block !important;position: relative;}#sk-container-id-98 div.sk-text-repr-fallback {display: none;}</style><div id=\"sk-container-id-98\" class=\"sk-top-container\"><div class=\"sk-text-repr-fallback\"><pre>LinearRegression()</pre><b>In a Jupyter environment, please rerun this cell to show the HTML representation or trust the notebook. <br />On GitHub, the HTML representation is unable to render, please try loading this page with nbviewer.org.</b></div><div class=\"sk-container\" hidden><div class=\"sk-item\"><div class=\"sk-estimator sk-toggleable\"><input class=\"sk-toggleable__control sk-hidden--visually\" id=\"sk-estimator-id-98\" type=\"checkbox\" checked><label for=\"sk-estimator-id-98\" class=\"sk-toggleable__label sk-toggleable__label-arrow\">LinearRegression</label><div class=\"sk-toggleable__content\"><pre>LinearRegression()</pre></div></div></div></div></div>"
      ],
      "text/plain": [
       "LinearRegression()"
      ]
     },
     "execution_count": 2858,
     "metadata": {},
     "output_type": "execute_result"
    }
   ],
   "source": [
    "model5.fit(X5, y5) # X independent, y dependent"
   ]
  },
  {
   "cell_type": "markdown",
   "metadata": {},
   "source": [
    "### Step 4: Check out and interpret our coefficients"
   ]
  },
  {
   "cell_type": "code",
   "execution_count": 2859,
   "metadata": {},
   "outputs": [
    {
     "data": {
      "text/plain": [
       "array([[-0.12680071, -0.09558967]])"
      ]
     },
     "execution_count": 2859,
     "metadata": {},
     "output_type": "execute_result"
    }
   ],
   "source": [
    "model5.coef_\n"
   ]
  },
  {
   "cell_type": "code",
   "execution_count": 2860,
   "metadata": {},
   "outputs": [
    {
     "data": {
      "text/plain": [
       "{'Built Age': -0.12680070868533594, 'Remod Age': -0.09558966544856497}"
      ]
     },
     "execution_count": 2860,
     "metadata": {},
     "output_type": "execute_result"
    }
   ],
   "source": [
    "model5_coef = dict(zip(X5.columns, model5.coef_[0]))\n",
    "model5_coef\n"
   ]
  },
  {
   "cell_type": "code",
   "execution_count": 2861,
   "metadata": {},
   "outputs": [
    {
     "data": {
      "text/plain": [
       "{'Remod Age': -0.09558966544856497, 'Built Age': -0.12680070868533594}"
      ]
     },
     "execution_count": 2861,
     "metadata": {},
     "output_type": "execute_result"
    }
   ],
   "source": [
    "{k: v for k, v in sorted(model5_coef.items(), key=lambda item: item[1], reverse=True)}\n"
   ]
  },
  {
   "cell_type": "markdown",
   "metadata": {},
   "source": [
    "It makes sense that the price per square foot will decrease as the age increases, which can be seen from the coefficients."
   ]
  },
  {
   "cell_type": "markdown",
   "metadata": {},
   "source": [
    "### Step 5: Make predictions"
   ]
  },
  {
   "cell_type": "code",
   "execution_count": 2862,
   "metadata": {},
   "outputs": [
    {
     "data": {
      "text/plain": [
       "array([[23.81050475],\n",
       "       [25.80419197],\n",
       "       [21.08526778],\n",
       "       ...,\n",
       "       [12.6890295 ],\n",
       "       [16.81298734],\n",
       "       [26.15338305]])"
      ]
     },
     "execution_count": 2862,
     "metadata": {},
     "output_type": "execute_result"
    }
   ],
   "source": [
    "y5_preds = model5.predict(X5)\n",
    "y5_preds # y_preds are points on the regression plane "
   ]
  },
  {
   "cell_type": "markdown",
   "metadata": {},
   "source": [
    "### Step 6: Evaluate the model"
   ]
  },
  {
   "cell_type": "code",
   "execution_count": 2863,
   "metadata": {},
   "outputs": [
    {
     "data": {
      "text/plain": [
       "0.1603759302885206"
      ]
     },
     "execution_count": 2863,
     "metadata": {},
     "output_type": "execute_result"
    }
   ],
   "source": [
    "# R2:\n",
    "metrics.r2_score(y5, y5_preds)"
   ]
  },
  {
   "cell_type": "code",
   "execution_count": 2864,
   "metadata": {},
   "outputs": [
    {
     "data": {
      "text/plain": [
       "142.78287754769767"
      ]
     },
     "execution_count": 2864,
     "metadata": {},
     "output_type": "execute_result"
    }
   ],
   "source": [
    "metrics.mean_squared_error(y5, y5_preds) # the error is HUGE"
   ]
  },
  {
   "cell_type": "markdown",
   "metadata": {},
   "source": [
    "### KIV: I need to scale my Time Factors data. The coefficients are too huge!\n",
    "\n",
    "Post: Settled. I cannot mix dates with age. Chee Yong gave me the solution."
   ]
  },
  {
   "cell_type": "markdown",
   "metadata": {},
   "source": [
    "# Factor 6: Price Factors"
   ]
  },
  {
   "cell_type": "code",
   "execution_count": 2849,
   "metadata": {},
   "outputs": [
    {
     "data": {
      "text/html": [
       "<div>\n",
       "<style scoped>\n",
       "    .dataframe tbody tr th:only-of-type {\n",
       "        vertical-align: middle;\n",
       "    }\n",
       "\n",
       "    .dataframe tbody tr th {\n",
       "        vertical-align: top;\n",
       "    }\n",
       "\n",
       "    .dataframe thead th {\n",
       "        text-align: right;\n",
       "    }\n",
       "</style>\n",
       "<table border=\"1\" class=\"dataframe\">\n",
       "  <thead>\n",
       "    <tr style=\"text-align: right;\">\n",
       "      <th></th>\n",
       "      <th>Price Per Sq Ft</th>\n",
       "    </tr>\n",
       "  </thead>\n",
       "  <tbody>\n",
       "    <tr>\n",
       "      <th>0</th>\n",
       "      <td>9.654509</td>\n",
       "    </tr>\n",
       "    <tr>\n",
       "      <th>1</th>\n",
       "      <td>19.143752</td>\n",
       "    </tr>\n",
       "    <tr>\n",
       "      <th>2</th>\n",
       "      <td>13.759152</td>\n",
       "    </tr>\n",
       "    <tr>\n",
       "      <th>3</th>\n",
       "      <td>17.751479</td>\n",
       "    </tr>\n",
       "    <tr>\n",
       "      <th>4</th>\n",
       "      <td>9.729540</td>\n",
       "    </tr>\n",
       "    <tr>\n",
       "      <th>...</th>\n",
       "      <td>...</td>\n",
       "    </tr>\n",
       "    <tr>\n",
       "      <th>1882</th>\n",
       "      <td>26.094069</td>\n",
       "    </tr>\n",
       "    <tr>\n",
       "      <th>1883</th>\n",
       "      <td>6.684492</td>\n",
       "    </tr>\n",
       "    <tr>\n",
       "      <th>1884</th>\n",
       "      <td>23.418894</td>\n",
       "    </tr>\n",
       "    <tr>\n",
       "      <th>1885</th>\n",
       "      <td>13.846154</td>\n",
       "    </tr>\n",
       "    <tr>\n",
       "      <th>1886</th>\n",
       "      <td>25.200000</td>\n",
       "    </tr>\n",
       "  </tbody>\n",
       "</table>\n",
       "<p>1887 rows × 1 columns</p>\n",
       "</div>"
      ],
      "text/plain": [
       "      Price Per Sq Ft\n",
       "0            9.654509\n",
       "1           19.143752\n",
       "2           13.759152\n",
       "3           17.751479\n",
       "4            9.729540\n",
       "...               ...\n",
       "1882        26.094069\n",
       "1883         6.684492\n",
       "1884        23.418894\n",
       "1885        13.846154\n",
       "1886        25.200000\n",
       "\n",
       "[1887 rows x 1 columns]"
      ]
     },
     "execution_count": 2849,
     "metadata": {},
     "output_type": "execute_result"
    }
   ],
   "source": [
    "price_factors_df"
   ]
  },
  {
   "cell_type": "markdown",
   "metadata": {},
   "source": []
  },
  {
   "cell_type": "markdown",
   "metadata": {},
   "source": [
    "# Regularization [Improve Scores of all Models]"
   ]
  }
 ],
 "metadata": {
  "kernelspec": {
   "display_name": "Python 3.10.5 64-bit",
   "language": "python",
   "name": "python3"
  },
  "language_info": {
   "codemirror_mode": {
    "name": "ipython",
    "version": 3
   },
   "file_extension": ".py",
   "mimetype": "text/x-python",
   "name": "python",
   "nbconvert_exporter": "python",
   "pygments_lexer": "ipython3",
   "version": "3.10.5"
  },
  "orig_nbformat": 4,
  "vscode": {
   "interpreter": {
    "hash": "f1131d84b9e97d700f196cec3f143c1c5ca4787d89ba01101505d30befb8a4c0"
   }
  }
 },
 "nbformat": 4,
 "nbformat_minor": 2
}
