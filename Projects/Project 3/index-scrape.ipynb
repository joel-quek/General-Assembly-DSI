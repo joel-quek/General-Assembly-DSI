{
 "cells": [
  {
   "cell_type": "markdown",
   "metadata": {},
   "source": [
    "<img src=\"http://imgur.com/1ZcRyrc.png\" style=\"float: left; margin: 20px; height: 55px\">\n",
    "\n",
    "# Project 3 Web APIs and NLP\n",
    "\n",
    "_Authors: Joel Quek (SG)_"
   ]
  },
  {
   "cell_type": "markdown",
   "metadata": {},
   "source": [
    "# Web Scraping for Stock Index Data [QQQ and SPY]"
   ]
  },
  {
   "cell_type": "markdown",
   "metadata": {},
   "source": [
    "https://towardsdatascience.com/moving-average-technical-analysis-with-python-2e77633929cb\n",
    "\n",
    "https://www.youtube.com/watch?v=-_ejnRYnPms"
   ]
  },
  {
   "cell_type": "code",
   "execution_count": 19,
   "metadata": {},
   "outputs": [
    {
     "name": "stdout",
     "output_type": "stream",
     "text": [
      "Collecting yfinance\n",
      "  Downloading yfinance-0.1.84-py2.py3-none-any.whl (29 kB)\n",
      "Collecting appdirs>=1.4.4\n",
      "  Downloading appdirs-1.4.4-py2.py3-none-any.whl (9.6 kB)\n",
      "Requirement already satisfied: lxml>=4.5.1 in c:\\users\\redoc\\appdata\\local\\programs\\python\\python310\\lib\\site-packages (from yfinance) (4.9.1)\n",
      "Requirement already satisfied: requests>=2.26 in c:\\users\\redoc\\appdata\\local\\programs\\python\\python310\\lib\\site-packages (from yfinance) (2.28.1)\n",
      "Requirement already satisfied: numpy>=1.15 in c:\\users\\redoc\\appdata\\local\\programs\\python\\python310\\lib\\site-packages (from yfinance) (1.23.1)\n",
      "Collecting multitasking>=0.0.7\n",
      "  Downloading multitasking-0.0.11-py3-none-any.whl (8.5 kB)\n",
      "Requirement already satisfied: pandas>=0.24.0 in c:\\users\\redoc\\appdata\\local\\programs\\python\\python310\\lib\\site-packages (from yfinance) (1.4.3)\n",
      "Requirement already satisfied: python-dateutil>=2.8.1 in c:\\users\\redoc\\appdata\\local\\programs\\python\\python310\\lib\\site-packages (from pandas>=0.24.0->yfinance) (2.8.2)\n",
      "Requirement already satisfied: pytz>=2020.1 in c:\\users\\redoc\\appdata\\local\\programs\\python\\python310\\lib\\site-packages (from pandas>=0.24.0->yfinance) (2022.1)\n",
      "Requirement already satisfied: urllib3<1.27,>=1.21.1 in c:\\users\\redoc\\appdata\\local\\programs\\python\\python310\\lib\\site-packages (from requests>=2.26->yfinance) (1.26.12)\n",
      "Requirement already satisfied: certifi>=2017.4.17 in c:\\users\\redoc\\appdata\\local\\programs\\python\\python310\\lib\\site-packages (from requests>=2.26->yfinance) (2022.9.24)\n",
      "Requirement already satisfied: charset-normalizer<3,>=2 in c:\\users\\redoc\\appdata\\local\\programs\\python\\python310\\lib\\site-packages (from requests>=2.26->yfinance) (2.1.1)\n",
      "Requirement already satisfied: idna<4,>=2.5 in c:\\users\\redoc\\appdata\\local\\programs\\python\\python310\\lib\\site-packages (from requests>=2.26->yfinance) (3.4)\n",
      "Requirement already satisfied: six>=1.5 in c:\\users\\redoc\\appdata\\local\\programs\\python\\python310\\lib\\site-packages (from python-dateutil>=2.8.1->pandas>=0.24.0->yfinance) (1.16.0)\n",
      "Installing collected packages: multitasking, appdirs, yfinance\n",
      "Successfully installed appdirs-1.4.4 multitasking-0.0.11 yfinance-0.1.84\n"
     ]
    }
   ],
   "source": [
    "import sys\n",
    "!{sys.executable} -m pip install yfinance"
   ]
  },
  {
   "cell_type": "code",
   "execution_count": 24,
   "metadata": {},
   "outputs": [],
   "source": [
    "import requests\n",
    "import pandas as pd\n",
    "import matplotlib.pyplot as plt\n",
    "import yfinance as yf\n",
    "\n",
    "import time\n",
    "from datetime import datetime\n",
    "\n",
    "import matplotlib.pyplot as plt"
   ]
  },
  {
   "cell_type": "code",
   "execution_count": 22,
   "metadata": {},
   "outputs": [
    {
     "name": "stdout",
     "output_type": "stream",
     "text": [
      "[*********************100%***********************]  1 of 1 completed\n"
     ]
    }
   ],
   "source": [
    "stock_data = yf.download('QQQ','2022-08-01')"
   ]
  },
  {
   "cell_type": "code",
   "execution_count": 25,
   "metadata": {},
   "outputs": [
    {
     "data": {
      "text/plain": [
       "<AxesSubplot:xlabel='Date'>"
      ]
     },
     "execution_count": 25,
     "metadata": {},
     "output_type": "execute_result"
    },
    {
     "data": {
      "image/png": "[encoded data removed]",
      "text/plain": [
       "<Figure size 432x288 with 1 Axes>"
      ]
     },
     "metadata": {},
     "output_type": "display_data"
    }
   ],
   "source": [
    "stock_data.Close.plot()"
   ]
  },
  {
   "cell_type": "code",
   "execution_count": 26,
   "metadata": {},
   "outputs": [
    {
     "data": {
      "text/html": [
       "<div>\n",
       "<style scoped>\n",
       "    .dataframe tbody tr th:only-of-type {\n",
       "        vertical-align: middle;\n",
       "    }\n",
       "\n",
       "    .dataframe tbody tr th {\n",
       "        vertical-align: top;\n",
       "    }\n",
       "\n",
       "    .dataframe thead th {\n",
       "        text-align: right;\n",
       "    }\n",
       "</style>\n",
       "<table border=\"1\" class=\"dataframe\">\n",
       "  <thead>\n",
       "    <tr style=\"text-align: right;\">\n",
       "      <th></th>\n",
       "      <th>Open</th>\n",
       "      <th>High</th>\n",
       "      <th>Low</th>\n",
       "      <th>Close</th>\n",
       "      <th>Adj Close</th>\n",
       "      <th>Volume</th>\n",
       "    </tr>\n",
       "    <tr>\n",
       "      <th>Date</th>\n",
       "      <th></th>\n",
       "      <th></th>\n",
       "      <th></th>\n",
       "      <th></th>\n",
       "      <th></th>\n",
       "      <th></th>\n",
       "    </tr>\n",
       "  </thead>\n",
       "  <tbody>\n",
       "    <tr>\n",
       "      <th>2022-08-01</th>\n",
       "      <td>313.649994</td>\n",
       "      <td>318.809998</td>\n",
       "      <td>312.529999</td>\n",
       "      <td>315.269989</td>\n",
       "      <td>314.704437</td>\n",
       "      <td>46358800</td>\n",
       "    </tr>\n",
       "    <tr>\n",
       "      <th>2022-08-02</th>\n",
       "      <td>312.920013</td>\n",
       "      <td>318.549988</td>\n",
       "      <td>311.839996</td>\n",
       "      <td>314.329987</td>\n",
       "      <td>313.766113</td>\n",
       "      <td>48676500</td>\n",
       "    </tr>\n",
       "    <tr>\n",
       "      <th>2022-08-03</th>\n",
       "      <td>316.049988</td>\n",
       "      <td>323.730011</td>\n",
       "      <td>315.989990</td>\n",
       "      <td>322.890015</td>\n",
       "      <td>322.310791</td>\n",
       "      <td>53735700</td>\n",
       "    </tr>\n",
       "    <tr>\n",
       "      <th>2022-08-04</th>\n",
       "      <td>322.970001</td>\n",
       "      <td>324.720001</td>\n",
       "      <td>320.769989</td>\n",
       "      <td>324.399994</td>\n",
       "      <td>323.818054</td>\n",
       "      <td>38973700</td>\n",
       "    </tr>\n",
       "    <tr>\n",
       "      <th>2022-08-05</th>\n",
       "      <td>319.190002</td>\n",
       "      <td>323.829987</td>\n",
       "      <td>318.390015</td>\n",
       "      <td>321.750000</td>\n",
       "      <td>321.172821</td>\n",
       "      <td>53894000</td>\n",
       "    </tr>\n",
       "    <tr>\n",
       "      <th>...</th>\n",
       "      <td>...</td>\n",
       "      <td>...</td>\n",
       "      <td>...</td>\n",
       "      <td>...</td>\n",
       "      <td>...</td>\n",
       "      <td>...</td>\n",
       "    </tr>\n",
       "    <tr>\n",
       "      <th>2022-10-25</th>\n",
       "      <td>279.410004</td>\n",
       "      <td>284.600006</td>\n",
       "      <td>277.899994</td>\n",
       "      <td>284.209991</td>\n",
       "      <td>284.209991</td>\n",
       "      <td>59014500</td>\n",
       "    </tr>\n",
       "    <tr>\n",
       "      <th>2022-10-26</th>\n",
       "      <td>278.459991</td>\n",
       "      <td>283.980011</td>\n",
       "      <td>277.429993</td>\n",
       "      <td>277.929993</td>\n",
       "      <td>277.929993</td>\n",
       "      <td>63492400</td>\n",
       "    </tr>\n",
       "    <tr>\n",
       "      <th>2022-10-27</th>\n",
       "      <td>276.790009</td>\n",
       "      <td>278.279999</td>\n",
       "      <td>272.339996</td>\n",
       "      <td>272.869995</td>\n",
       "      <td>272.869995</td>\n",
       "      <td>57760300</td>\n",
       "    </tr>\n",
       "    <tr>\n",
       "      <th>2022-10-28</th>\n",
       "      <td>272.230011</td>\n",
       "      <td>281.700012</td>\n",
       "      <td>272.059998</td>\n",
       "      <td>281.220001</td>\n",
       "      <td>281.220001</td>\n",
       "      <td>62577000</td>\n",
       "    </tr>\n",
       "    <tr>\n",
       "      <th>2022-10-31</th>\n",
       "      <td>278.920013</td>\n",
       "      <td>279.760010</td>\n",
       "      <td>275.989990</td>\n",
       "      <td>277.950012</td>\n",
       "      <td>277.950012</td>\n",
       "      <td>47668600</td>\n",
       "    </tr>\n",
       "  </tbody>\n",
       "</table>\n",
       "<p>65 rows × 6 columns</p>\n",
       "</div>"
      ],
      "text/plain": [
       "                  Open        High         Low       Close   Adj Close  \\\n",
       "Date                                                                     \n",
       "2022-08-01  313.649994  318.809998  312.529999  315.269989  314.704437   \n",
       "2022-08-02  312.920013  318.549988  311.839996  314.329987  313.766113   \n",
       "2022-08-03  316.049988  323.730011  315.989990  322.890015  322.310791   \n",
       "2022-08-04  322.970001  324.720001  320.769989  324.399994  323.818054   \n",
       "2022-08-05  319.190002  323.829987  318.390015  321.750000  321.172821   \n",
       "...                ...         ...         ...         ...         ...   \n",
       "2022-10-25  279.410004  284.600006  277.899994  284.209991  284.209991   \n",
       "2022-10-26  278.459991  283.980011  277.429993  277.929993  277.929993   \n",
       "2022-10-27  276.790009  278.279999  272.339996  272.869995  272.869995   \n",
       "2022-10-28  272.230011  281.700012  272.059998  281.220001  281.220001   \n",
       "2022-10-31  278.920013  279.760010  275.989990  277.950012  277.950012   \n",
       "\n",
       "              Volume  \n",
       "Date                  \n",
       "2022-08-01  46358800  \n",
       "2022-08-02  48676500  \n",
       "2022-08-03  53735700  \n",
       "2022-08-04  38973700  \n",
       "2022-08-05  53894000  \n",
       "...              ...  \n",
       "2022-10-25  59014500  \n",
       "2022-10-26  63492400  \n",
       "2022-10-27  57760300  \n",
       "2022-10-28  62577000  \n",
       "2022-10-31  47668600  \n",
       "\n",
       "[65 rows x 6 columns]"
      ]
     },
     "execution_count": 26,
     "metadata": {},
     "output_type": "execute_result"
    }
   ],
   "source": [
    "pd.DataFrame(stock_data)"
   ]
  }
 ],
 "metadata": {
  "kernelspec": {
   "display_name": "Python 3.10.5 64-bit",
   "language": "python",
   "name": "python3"
  },
  "language_info": {
   "codemirror_mode": {
    "name": "ipython",
    "version": 3
   },
   "file_extension": ".py",
   "mimetype": "text/x-python",
   "name": "python",
   "nbconvert_exporter": "python",
   "pygments_lexer": "ipython3",
   "version": "3.10.5"
  },
  "orig_nbformat": 4,
  "vscode": {
   "interpreter": {
    "hash": "f1131d84b9e97d700f196cec3f143c1c5ca4787d89ba01101505d30befb8a4c0"
   }
  }
 },
 "nbformat": 4,
 "nbformat_minor": 2
}
