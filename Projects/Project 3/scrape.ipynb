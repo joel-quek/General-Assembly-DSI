{
 "cells": [
  {
   "cell_type": "markdown",
   "metadata": {},
   "source": [
    "<img src=\"http://imgur.com/1ZcRyrc.png\" style=\"float: left; margin: 20px; height: 55px\">\n",
    "\n",
    "# Project 3 Web APIs and NLP\n",
    "\n",
    "_Authors: Joel Quek (SG)_"
   ]
  },
  {
   "cell_type": "markdown",
   "metadata": {},
   "source": [
    "# Web Scraping for r/investing"
   ]
  },
  {
   "cell_type": "code",
   "execution_count": 96,
   "metadata": {},
   "outputs": [],
   "source": [
    "import requests\n",
    "import pandas as pd\n",
    "import time\n",
    "from datetime import datetime\n",
    "\n",
    "import random\n",
    "\n",
    "import json\n",
    "import csv"
   ]
  },
  {
   "cell_type": "code",
   "execution_count": 97,
   "metadata": {},
   "outputs": [],
   "source": [
    "url = 'https://api.pushshift.io/reddit/search/submission'"
   ]
  },
  {
   "cell_type": "markdown",
   "metadata": {},
   "source": [
    "# Function to Pull 5000 rows of data"
   ]
  },
  {
   "cell_type": "markdown",
   "metadata": {},
   "source": [
    "## Current Unix Timestamp"
   ]
  },
  {
   "cell_type": "code",
   "execution_count": 98,
   "metadata": {},
   "outputs": [
    {
     "name": "stdout",
     "output_type": "stream",
     "text": [
      "1667312094.527157\n"
     ]
    }
   ],
   "source": [
    "presentDate = datetime.now()\n",
    "unix_timestamp = datetime.timestamp(presentDate)\n",
    "print(unix_timestamp)"
   ]
  },
  {
   "cell_type": "markdown",
   "metadata": {},
   "source": [
    "https://www.epochconverter.com/"
   ]
  },
  {
   "cell_type": "markdown",
   "metadata": {},
   "source": [
    "## Function "
   ]
  },
  {
   "cell_type": "code",
   "execution_count": 99,
   "metadata": {},
   "outputs": [],
   "source": [
    "def PushShift5000(sub, size, present):\n",
    "    url = 'https://api.pushshift.io/reddit/search/submission'\n",
    "    #-----------------------------------------------------------------\n",
    "    params ={\n",
    "        'subreddit': str(sub),\n",
    "        'size': int(size),\n",
    "        'before': int(present)\n",
    "    }\n",
    "    res = requests.get(url,params)\n",
    "    data=res.json()\n",
    "    posts = data['data']\n",
    "    df=pd.DataFrame(posts)\n",
    "    max_size = df.shape[0]-1\n",
    "    #------------------------------------------------------------------\n",
    "    while df.shape[0] < size:\n",
    "        params2 ={\n",
    "            'subreddit': str(sub),\n",
    "            'size': int(size),\n",
    "            'before': posts[max_size]['created_utc']\n",
    "        }\n",
    "        res2 = requests.get(url,params2)\n",
    "        data2=res2.json()\n",
    "        posts = data2['data']\n",
    "        df2=pd.DataFrame(posts) \n",
    "        df=pd.concat([df,df2],ignore_index=True)\n",
    "    return df"
   ]
  },
  {
   "cell_type": "markdown",
   "metadata": {},
   "source": [
    "# r/investing"
   ]
  },
  {
   "cell_type": "code",
   "execution_count": 100,
   "metadata": {},
   "outputs": [],
   "source": [
    "investing = PushShift5000('investing', 3600, unix_timestamp)"
   ]
  },
  {
   "cell_type": "code",
   "execution_count": 101,
   "metadata": {},
   "outputs": [
    {
     "data": {
      "text/html": [
       "<div>\n",
       "<style scoped>\n",
       "    .dataframe tbody tr th:only-of-type {\n",
       "        vertical-align: middle;\n",
       "    }\n",
       "\n",
       "    .dataframe tbody tr th {\n",
       "        vertical-align: top;\n",
       "    }\n",
       "\n",
       "    .dataframe thead th {\n",
       "        text-align: right;\n",
       "    }\n",
       "</style>\n",
       "<table border=\"1\" class=\"dataframe\">\n",
       "  <thead>\n",
       "    <tr style=\"text-align: right;\">\n",
       "      <th></th>\n",
       "      <th>all_awardings</th>\n",
       "      <th>allow_live_comments</th>\n",
       "      <th>author</th>\n",
       "      <th>author_flair_css_class</th>\n",
       "      <th>author_flair_richtext</th>\n",
       "      <th>author_flair_text</th>\n",
       "      <th>author_flair_type</th>\n",
       "      <th>author_fullname</th>\n",
       "      <th>author_is_blocked</th>\n",
       "      <th>author_patreon_flair</th>\n",
       "      <th>...</th>\n",
       "      <th>removed_by_category</th>\n",
       "      <th>suggested_sort</th>\n",
       "      <th>author_flair_background_color</th>\n",
       "      <th>author_flair_text_color</th>\n",
       "      <th>banned_by</th>\n",
       "      <th>author_cakeday</th>\n",
       "      <th>link_flair_template_id</th>\n",
       "      <th>link_flair_text</th>\n",
       "      <th>call_to_action</th>\n",
       "      <th>category</th>\n",
       "    </tr>\n",
       "  </thead>\n",
       "  <tbody>\n",
       "    <tr>\n",
       "      <th>0</th>\n",
       "      <td>[]</td>\n",
       "      <td>False</td>\n",
       "      <td>hydrocyanide</td>\n",
       "      <td>None</td>\n",
       "      <td>[]</td>\n",
       "      <td>None</td>\n",
       "      <td>text</td>\n",
       "      <td>t2_ejq52</td>\n",
       "      <td>False</td>\n",
       "      <td>False</td>\n",
       "      <td>...</td>\n",
       "      <td>NaN</td>\n",
       "      <td>NaN</td>\n",
       "      <td>NaN</td>\n",
       "      <td>NaN</td>\n",
       "      <td>NaN</td>\n",
       "      <td>NaN</td>\n",
       "      <td>NaN</td>\n",
       "      <td>NaN</td>\n",
       "      <td>NaN</td>\n",
       "      <td>NaN</td>\n",
       "    </tr>\n",
       "    <tr>\n",
       "      <th>1</th>\n",
       "      <td>[]</td>\n",
       "      <td>False</td>\n",
       "      <td>KyloRenSucks</td>\n",
       "      <td>None</td>\n",
       "      <td>[]</td>\n",
       "      <td>None</td>\n",
       "      <td>text</td>\n",
       "      <td>t2_4ydl1bh9</td>\n",
       "      <td>False</td>\n",
       "      <td>False</td>\n",
       "      <td>...</td>\n",
       "      <td>moderator</td>\n",
       "      <td>NaN</td>\n",
       "      <td>NaN</td>\n",
       "      <td>NaN</td>\n",
       "      <td>NaN</td>\n",
       "      <td>NaN</td>\n",
       "      <td>NaN</td>\n",
       "      <td>NaN</td>\n",
       "      <td>NaN</td>\n",
       "      <td>NaN</td>\n",
       "    </tr>\n",
       "    <tr>\n",
       "      <th>2</th>\n",
       "      <td>[]</td>\n",
       "      <td>False</td>\n",
       "      <td>Electronic_Ad_701</td>\n",
       "      <td>None</td>\n",
       "      <td>[]</td>\n",
       "      <td>None</td>\n",
       "      <td>text</td>\n",
       "      <td>t2_atg5vj2m</td>\n",
       "      <td>False</td>\n",
       "      <td>False</td>\n",
       "      <td>...</td>\n",
       "      <td>moderator</td>\n",
       "      <td>NaN</td>\n",
       "      <td>NaN</td>\n",
       "      <td>NaN</td>\n",
       "      <td>NaN</td>\n",
       "      <td>NaN</td>\n",
       "      <td>NaN</td>\n",
       "      <td>NaN</td>\n",
       "      <td>NaN</td>\n",
       "      <td>NaN</td>\n",
       "    </tr>\n",
       "    <tr>\n",
       "      <th>3</th>\n",
       "      <td>[]</td>\n",
       "      <td>False</td>\n",
       "      <td>Quiet-Literature2251</td>\n",
       "      <td>None</td>\n",
       "      <td>[]</td>\n",
       "      <td>None</td>\n",
       "      <td>text</td>\n",
       "      <td>t2_9nw9mt1x</td>\n",
       "      <td>False</td>\n",
       "      <td>False</td>\n",
       "      <td>...</td>\n",
       "      <td>NaN</td>\n",
       "      <td>NaN</td>\n",
       "      <td>NaN</td>\n",
       "      <td>NaN</td>\n",
       "      <td>NaN</td>\n",
       "      <td>NaN</td>\n",
       "      <td>NaN</td>\n",
       "      <td>NaN</td>\n",
       "      <td>NaN</td>\n",
       "      <td>NaN</td>\n",
       "    </tr>\n",
       "    <tr>\n",
       "      <th>4</th>\n",
       "      <td>[]</td>\n",
       "      <td>False</td>\n",
       "      <td>4619</td>\n",
       "      <td>None</td>\n",
       "      <td>[]</td>\n",
       "      <td>None</td>\n",
       "      <td>text</td>\n",
       "      <td>t2_3at2tvkk</td>\n",
       "      <td>False</td>\n",
       "      <td>False</td>\n",
       "      <td>...</td>\n",
       "      <td>moderator</td>\n",
       "      <td>NaN</td>\n",
       "      <td>NaN</td>\n",
       "      <td>NaN</td>\n",
       "      <td>NaN</td>\n",
       "      <td>NaN</td>\n",
       "      <td>NaN</td>\n",
       "      <td>NaN</td>\n",
       "      <td>NaN</td>\n",
       "      <td>NaN</td>\n",
       "    </tr>\n",
       "  </tbody>\n",
       "</table>\n",
       "<p>5 rows × 71 columns</p>\n",
       "</div>"
      ],
      "text/plain": [
       "  all_awardings  allow_live_comments                author  \\\n",
       "0            []                False          hydrocyanide   \n",
       "1            []                False          KyloRenSucks   \n",
       "2            []                False     Electronic_Ad_701   \n",
       "3            []                False  Quiet-Literature2251   \n",
       "4            []                False                  4619   \n",
       "\n",
       "  author_flair_css_class author_flair_richtext author_flair_text  \\\n",
       "0                   None                    []              None   \n",
       "1                   None                    []              None   \n",
       "2                   None                    []              None   \n",
       "3                   None                    []              None   \n",
       "4                   None                    []              None   \n",
       "\n",
       "  author_flair_type author_fullname  author_is_blocked author_patreon_flair  \\\n",
       "0              text        t2_ejq52              False                False   \n",
       "1              text     t2_4ydl1bh9              False                False   \n",
       "2              text     t2_atg5vj2m              False                False   \n",
       "3              text     t2_9nw9mt1x              False                False   \n",
       "4              text     t2_3at2tvkk              False                False   \n",
       "\n",
       "   ... removed_by_category suggested_sort  author_flair_background_color  \\\n",
       "0  ...                 NaN            NaN                            NaN   \n",
       "1  ...           moderator            NaN                            NaN   \n",
       "2  ...           moderator            NaN                            NaN   \n",
       "3  ...                 NaN            NaN                            NaN   \n",
       "4  ...           moderator            NaN                            NaN   \n",
       "\n",
       "   author_flair_text_color  banned_by author_cakeday link_flair_template_id  \\\n",
       "0                      NaN        NaN            NaN                    NaN   \n",
       "1                      NaN        NaN            NaN                    NaN   \n",
       "2                      NaN        NaN            NaN                    NaN   \n",
       "3                      NaN        NaN            NaN                    NaN   \n",
       "4                      NaN        NaN            NaN                    NaN   \n",
       "\n",
       "  link_flair_text call_to_action  category  \n",
       "0             NaN            NaN       NaN  \n",
       "1             NaN            NaN       NaN  \n",
       "2             NaN            NaN       NaN  \n",
       "3             NaN            NaN       NaN  \n",
       "4             NaN            NaN       NaN  \n",
       "\n",
       "[5 rows x 71 columns]"
      ]
     },
     "execution_count": 101,
     "metadata": {},
     "output_type": "execute_result"
    }
   ],
   "source": [
    "investing.head()"
   ]
  },
  {
   "cell_type": "code",
   "execution_count": 102,
   "metadata": {},
   "outputs": [
    {
     "data": {
      "text/plain": [
       "3750"
      ]
     },
     "execution_count": 102,
     "metadata": {},
     "output_type": "execute_result"
    }
   ],
   "source": [
    "investing.shape[0]"
   ]
  },
  {
   "cell_type": "code",
   "execution_count": 103,
   "metadata": {},
   "outputs": [
    {
     "data": {
      "text/plain": [
       "1662568942"
      ]
     },
     "execution_count": 103,
     "metadata": {},
     "output_type": "execute_result"
    }
   ],
   "source": [
    "investing.iloc[investing.shape[0]-1]['created_utc']"
   ]
  },
  {
   "cell_type": "code",
   "execution_count": 108,
   "metadata": {},
   "outputs": [],
   "source": [
    "investing2 = PushShift5000('investing', 1250, investing.iloc[investing.shape[0]-1]['created_utc'])"
   ]
  },
  {
   "cell_type": "code",
   "execution_count": 112,
   "metadata": {},
   "outputs": [
    {
     "data": {
      "text/plain": [
       "1498"
      ]
     },
     "execution_count": 112,
     "metadata": {},
     "output_type": "execute_result"
    }
   ],
   "source": [
    "investing2.shape[0]"
   ]
  },
  {
   "cell_type": "code",
   "execution_count": 113,
   "metadata": {},
   "outputs": [
    {
     "data": {
      "text/plain": [
       "(5248, 71)"
      ]
     },
     "execution_count": 113,
     "metadata": {},
     "output_type": "execute_result"
    }
   ],
   "source": [
    "investing=pd.concat([investing,investing2],ignore_index=True)\n",
    "investing.shape"
   ]
  },
  {
   "cell_type": "code",
   "execution_count": 114,
   "metadata": {},
   "outputs": [
    {
     "data": {
      "text/html": [
       "<div>\n",
       "<style scoped>\n",
       "    .dataframe tbody tr th:only-of-type {\n",
       "        vertical-align: middle;\n",
       "    }\n",
       "\n",
       "    .dataframe tbody tr th {\n",
       "        vertical-align: top;\n",
       "    }\n",
       "\n",
       "    .dataframe thead th {\n",
       "        text-align: right;\n",
       "    }\n",
       "</style>\n",
       "<table border=\"1\" class=\"dataframe\">\n",
       "  <thead>\n",
       "    <tr style=\"text-align: right;\">\n",
       "      <th></th>\n",
       "      <th>subreddit</th>\n",
       "      <th>author</th>\n",
       "      <th>selftext</th>\n",
       "      <th>title</th>\n",
       "    </tr>\n",
       "  </thead>\n",
       "  <tbody>\n",
       "    <tr>\n",
       "      <th>0</th>\n",
       "      <td>investing</td>\n",
       "      <td>hydrocyanide</td>\n",
       "      <td>https://www.treasurydirect.gov/savings-bonds/i...</td>\n",
       "      <td>New Series I savings bond rate is 6.89% (0.40%...</td>\n",
       "    </tr>\n",
       "    <tr>\n",
       "      <th>1</th>\n",
       "      <td>investing</td>\n",
       "      <td>KyloRenSucks</td>\n",
       "      <td>[removed]</td>\n",
       "      <td>Treasury announces new Series I bond rate of 6...</td>\n",
       "    </tr>\n",
       "    <tr>\n",
       "      <th>2</th>\n",
       "      <td>investing</td>\n",
       "      <td>Electronic_Ad_701</td>\n",
       "      <td>[removed]</td>\n",
       "      <td>Investment question? New to this and 19 I’m eager</td>\n",
       "    </tr>\n",
       "    <tr>\n",
       "      <th>3</th>\n",
       "      <td>investing</td>\n",
       "      <td>Quiet-Literature2251</td>\n",
       "      <td>Hey, this is my current plan. I'm in sales and...</td>\n",
       "      <td>Making substantial money now but not sure what...</td>\n",
       "    </tr>\n",
       "    <tr>\n",
       "      <th>4</th>\n",
       "      <td>investing</td>\n",
       "      <td>4619</td>\n",
       "      <td>[removed]</td>\n",
       "      <td>What happens in an emerging markets ETF when a...</td>\n",
       "    </tr>\n",
       "    <tr>\n",
       "      <th>5</th>\n",
       "      <td>investing</td>\n",
       "      <td>MillerEmma90</td>\n",
       "      <td>[removed]</td>\n",
       "      <td>sFOX Review: Features, Pros, Cons &amp;amp; Best s...</td>\n",
       "    </tr>\n",
       "    <tr>\n",
       "      <th>6</th>\n",
       "      <td>investing</td>\n",
       "      <td>Background_Stock1212</td>\n",
       "      <td>In Morgan Stanley's 2019 The Recession Playboo...</td>\n",
       "      <td>History suggests that the Japanese yen will st...</td>\n",
       "    </tr>\n",
       "    <tr>\n",
       "      <th>7</th>\n",
       "      <td>investing</td>\n",
       "      <td>AutoModerator</td>\n",
       "      <td>Have a general question?  Want to offer some c...</td>\n",
       "      <td>Daily General Discussion and Advice Thread - N...</td>\n",
       "    </tr>\n",
       "    <tr>\n",
       "      <th>8</th>\n",
       "      <td>investing</td>\n",
       "      <td>Darkfuel1</td>\n",
       "      <td>I'm a bit perplexed regarding the difference b...</td>\n",
       "      <td>Question about open int. Vs vol</td>\n",
       "    </tr>\n",
       "    <tr>\n",
       "      <th>9</th>\n",
       "      <td>investing</td>\n",
       "      <td>HonestSoldier7</td>\n",
       "      <td>I'm a little curious about this. It's easy eno...</td>\n",
       "      <td>Dogs of the Dow Strategy --- Do you close all ...</td>\n",
       "    </tr>\n",
       "    <tr>\n",
       "      <th>10</th>\n",
       "      <td>investing</td>\n",
       "      <td>Void_Seeker_</td>\n",
       "      <td>Hello everyone, \\n\\nCurrently, I'm working as ...</td>\n",
       "      <td>How to book a business meeting with the CEO</td>\n",
       "    </tr>\n",
       "    <tr>\n",
       "      <th>11</th>\n",
       "      <td>investing</td>\n",
       "      <td>nonseqseq</td>\n",
       "      <td>[removed]</td>\n",
       "      <td>Confused about T bill yield (warning noob ques...</td>\n",
       "    </tr>\n",
       "    <tr>\n",
       "      <th>12</th>\n",
       "      <td>investing</td>\n",
       "      <td>shilpeebrainfoster</td>\n",
       "      <td>[removed]</td>\n",
       "      <td>Private investigation Agency</td>\n",
       "    </tr>\n",
       "    <tr>\n",
       "      <th>13</th>\n",
       "      <td>investing</td>\n",
       "      <td>Bwoi27</td>\n",
       "      <td>Curious to hear what problems you all encounte...</td>\n",
       "      <td>What are some problems you face with the curre...</td>\n",
       "    </tr>\n",
       "    <tr>\n",
       "      <th>14</th>\n",
       "      <td>investing</td>\n",
       "      <td>Dear-Adhesiveness-27</td>\n",
       "      <td>https://theintercept.com/2022/10/31/social-med...</td>\n",
       "      <td>Documents show Facebook and Twitter closely co...</td>\n",
       "    </tr>\n",
       "    <tr>\n",
       "      <th>15</th>\n",
       "      <td>investing</td>\n",
       "      <td>[deleted]</td>\n",
       "      <td>NaN</td>\n",
       "      <td>Documents show Facebook and Twitter closely co...</td>\n",
       "    </tr>\n",
       "    <tr>\n",
       "      <th>16</th>\n",
       "      <td>investing</td>\n",
       "      <td>Additional_Swimmer20</td>\n",
       "      <td>[removed]</td>\n",
       "      <td>Paying $10 to sign up with my referral link</td>\n",
       "    </tr>\n",
       "    <tr>\n",
       "      <th>17</th>\n",
       "      <td>investing</td>\n",
       "      <td>coreofapples-</td>\n",
       "      <td>[removed]</td>\n",
       "      <td>Young, high compensation (250k yr), no idea wh...</td>\n",
       "    </tr>\n",
       "    <tr>\n",
       "      <th>18</th>\n",
       "      <td>investing</td>\n",
       "      <td>General_Tophat_</td>\n",
       "      <td>[removed]</td>\n",
       "      <td>Investing Platform Survey</td>\n",
       "    </tr>\n",
       "    <tr>\n",
       "      <th>19</th>\n",
       "      <td>investing</td>\n",
       "      <td>Upset-Principle9457</td>\n",
       "      <td>I want to find out which is the best Internat...</td>\n",
       "      <td>Which is best international Real estate market...</td>\n",
       "    </tr>\n",
       "  </tbody>\n",
       "</table>\n",
       "</div>"
      ],
      "text/plain": [
       "    subreddit                author  \\\n",
       "0   investing          hydrocyanide   \n",
       "1   investing          KyloRenSucks   \n",
       "2   investing     Electronic_Ad_701   \n",
       "3   investing  Quiet-Literature2251   \n",
       "4   investing                  4619   \n",
       "5   investing          MillerEmma90   \n",
       "6   investing  Background_Stock1212   \n",
       "7   investing         AutoModerator   \n",
       "8   investing             Darkfuel1   \n",
       "9   investing        HonestSoldier7   \n",
       "10  investing          Void_Seeker_   \n",
       "11  investing             nonseqseq   \n",
       "12  investing    shilpeebrainfoster   \n",
       "13  investing                Bwoi27   \n",
       "14  investing  Dear-Adhesiveness-27   \n",
       "15  investing             [deleted]   \n",
       "16  investing  Additional_Swimmer20   \n",
       "17  investing         coreofapples-   \n",
       "18  investing       General_Tophat_   \n",
       "19  investing   Upset-Principle9457   \n",
       "\n",
       "                                             selftext  \\\n",
       "0   https://www.treasurydirect.gov/savings-bonds/i...   \n",
       "1                                           [removed]   \n",
       "2                                           [removed]   \n",
       "3   Hey, this is my current plan. I'm in sales and...   \n",
       "4                                           [removed]   \n",
       "5                                           [removed]   \n",
       "6   In Morgan Stanley's 2019 The Recession Playboo...   \n",
       "7   Have a general question?  Want to offer some c...   \n",
       "8   I'm a bit perplexed regarding the difference b...   \n",
       "9   I'm a little curious about this. It's easy eno...   \n",
       "10  Hello everyone, \\n\\nCurrently, I'm working as ...   \n",
       "11                                          [removed]   \n",
       "12                                          [removed]   \n",
       "13  Curious to hear what problems you all encounte...   \n",
       "14  https://theintercept.com/2022/10/31/social-med...   \n",
       "15                                                NaN   \n",
       "16                                          [removed]   \n",
       "17                                          [removed]   \n",
       "18                                          [removed]   \n",
       "19   I want to find out which is the best Internat...   \n",
       "\n",
       "                                                title  \n",
       "0   New Series I savings bond rate is 6.89% (0.40%...  \n",
       "1   Treasury announces new Series I bond rate of 6...  \n",
       "2   Investment question? New to this and 19 I’m eager  \n",
       "3   Making substantial money now but not sure what...  \n",
       "4   What happens in an emerging markets ETF when a...  \n",
       "5   sFOX Review: Features, Pros, Cons &amp; Best s...  \n",
       "6   History suggests that the Japanese yen will st...  \n",
       "7   Daily General Discussion and Advice Thread - N...  \n",
       "8                     Question about open int. Vs vol  \n",
       "9   Dogs of the Dow Strategy --- Do you close all ...  \n",
       "10        How to book a business meeting with the CEO  \n",
       "11  Confused about T bill yield (warning noob ques...  \n",
       "12                       Private investigation Agency  \n",
       "13  What are some problems you face with the curre...  \n",
       "14  Documents show Facebook and Twitter closely co...  \n",
       "15  Documents show Facebook and Twitter closely co...  \n",
       "16        Paying $10 to sign up with my referral link  \n",
       "17  Young, high compensation (250k yr), no idea wh...  \n",
       "18                          Investing Platform Survey  \n",
       "19  Which is best international Real estate market...  "
      ]
     },
     "execution_count": 114,
     "metadata": {},
     "output_type": "execute_result"
    }
   ],
   "source": [
    "investing[['subreddit', 'author', 'selftext', 'title']].head(20)"
   ]
  },
  {
   "cell_type": "markdown",
   "metadata": {},
   "source": [
    "# r/stockmarket"
   ]
  },
  {
   "cell_type": "code",
   "execution_count": 105,
   "metadata": {},
   "outputs": [
    {
     "ename": "TypeError",
     "evalue": "PushShift5000() missing 1 required positional argument: 'present'",
     "output_type": "error",
     "traceback": [
      "\u001b[1;31m---------------------------------------------------------------------------\u001b[0m",
      "\u001b[1;31mTypeError\u001b[0m                                 Traceback (most recent call last)",
      "\u001b[1;32mc:\\Users\\redoc\\OneDrive\\Desktop\\DSI-Roughpaper\\0. project_3\\scrape.ipynb Cell 18\u001b[0m in \u001b[0;36m<cell line: 1>\u001b[1;34m()\u001b[0m\n\u001b[1;32m----> <a href='vscode-notebook-cell:/c%3A/Users/redoc/OneDrive/Desktop/DSI-Roughpaper/0.%20project_3/scrape.ipynb#X30sZmlsZQ%3D%3D?line=0'>1</a>\u001b[0m stockmarket \u001b[39m=\u001b[39m PushShift5000(\u001b[39m'\u001b[39;49m\u001b[39mStockMarket\u001b[39;49m\u001b[39m'\u001b[39;49m, \u001b[39m2500\u001b[39;49m)\n",
      "\u001b[1;31mTypeError\u001b[0m: PushShift5000() missing 1 required positional argument: 'present'"
     ]
    }
   ],
   "source": [
    "stockmarket = PushShift5000('StockMarket', 2500, unix_timestamp)"
   ]
  },
  {
   "cell_type": "code",
   "execution_count": null,
   "metadata": {},
   "outputs": [],
   "source": [
    "stockmarket.shape"
   ]
  },
  {
   "cell_type": "code",
   "execution_count": null,
   "metadata": {},
   "outputs": [],
   "source": [
    "stockmarket.iloc[2499]['created_utc']"
   ]
  },
  {
   "cell_type": "markdown",
   "metadata": {},
   "source": [
    "# r/wallstreetbets"
   ]
  },
  {
   "cell_type": "code",
   "execution_count": null,
   "metadata": {},
   "outputs": [],
   "source": [
    "wallstreetbets = PushShift5000('stockmarket', 2500, unix_timestamp)"
   ]
  }
 ],
 "metadata": {
  "kernelspec": {
   "display_name": "Python 3.10.5 64-bit",
   "language": "python",
   "name": "python3"
  },
  "language_info": {
   "codemirror_mode": {
    "name": "ipython",
    "version": 3
   },
   "file_extension": ".py",
   "mimetype": "text/x-python",
   "name": "python",
   "nbconvert_exporter": "python",
   "pygments_lexer": "ipython3",
   "version": "3.10.5"
  },
  "orig_nbformat": 4,
  "vscode": {
   "interpreter": {
    "hash": "f1131d84b9e97d700f196cec3f143c1c5ca4787d89ba01101505d30befb8a4c0"
   }
  }
 },
 "nbformat": 4,
 "nbformat_minor": 2
}
