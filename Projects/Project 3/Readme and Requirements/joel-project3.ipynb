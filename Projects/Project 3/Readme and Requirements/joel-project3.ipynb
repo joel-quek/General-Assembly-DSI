{
 "cells": [
  {
   "cell_type": "markdown",
   "metadata": {},
   "source": [
    "<img src=\"http://imgur.com/1ZcRyrc.png\" style=\"float: left; margin: 20px; height: 55px\">\n",
    "\n",
    "# Project 3 Web APIs and NLP\n",
    "\n",
    "_Authors: Joel Quek (SG)_"
   ]
  },
  {
   "cell_type": "markdown",
   "metadata": {},
   "source": [
    "# [Delete Later]\n",
    "\n",
    "For project 3, your goal is two-fold:\n",
    "\n",
    "1. Using Pushshift's API, you'll collect posts from two subreddits of your choosing.\n",
    "2. You'll then use NLP to train a classifier on which subreddit a given post came from. This is a binary classification problem."
   ]
  },
  {
   "cell_type": "markdown",
   "metadata": {},
   "source": [
    "# Problem Statement"
   ]
  },
  {
   "cell_type": "markdown",
   "metadata": {},
   "source": [
    "Do Reddit posts affect stock index movements?\n",
    "\n",
    "Model the effect of reddit posts on the price movements of QQQ and SPY"
   ]
  },
  {
   "cell_type": "markdown",
   "metadata": {},
   "source": [
    "# Exploratory Data Analysis"
   ]
  },
  {
   "cell_type": "markdown",
   "metadata": {},
   "source": [
    "## Import Libraries"
   ]
  },
  {
   "cell_type": "code",
   "execution_count": 2,
   "metadata": {},
   "outputs": [],
   "source": [
    "#All libraries used in this project are listed here\n",
    "import pandas as pd\n",
    "import numpy as np\n",
    "import matplotlib.pyplot as plt\n",
    "\n",
    "import nltk\n",
    "from nltk.stem import WordNetLemmatizer\n",
    "from nltk.tokenize import RegexpTokenizer\n",
    "from nltk.corpus import stopwords\n",
    "\n",
    "import re\n",
    "from bs4 import BeautifulSoup \n",
    "\n",
    "from sklearn.feature_extraction.text import CountVectorizer,TfidfVectorizer\n",
    "from sklearn.pipeline import Pipeline\n",
    "from sklearn.model_selection import train_test_split, GridSearchCV,cross_val_score\n",
    "from sklearn.linear_model import LogisticRegression\n",
    "from sklearn.metrics import confusion_matrix, classification_report\n",
    "from sklearn.naive_bayes import MultinomialNB\n",
    "from sklearn.metrics import roc_auc_score, make_scorer, recall_score, precision_score,accuracy_score"
   ]
  },
  {
   "cell_type": "markdown",
   "metadata": {},
   "source": [
    "# Open Scraped Datasets"
   ]
  },
  {
   "cell_type": "code",
   "execution_count": 3,
   "metadata": {},
   "outputs": [],
   "source": [
    "investing_df = pd.read_csv('datasets/investing.csv')\n",
    "stockmarket_df = pd.read_csv('datasets/stockmarket.csv')\n",
    "wallstreetbets_df = pd.read_csv('datasets/wallstreetbets.csv')"
   ]
  },
  {
   "cell_type": "markdown",
   "metadata": {},
   "source": [
    "## r/investing"
   ]
  },
  {
   "cell_type": "code",
   "execution_count": 7,
   "metadata": {},
   "outputs": [
    {
     "data": {
      "text/plain": [
       "(5248, 72)"
      ]
     },
     "execution_count": 7,
     "metadata": {},
     "output_type": "execute_result"
    }
   ],
   "source": [
    "investing_df.shape"
   ]
  },
  {
   "cell_type": "code",
   "execution_count": 4,
   "metadata": {},
   "outputs": [
    {
     "data": {
      "text/html": [
       "<div>\n",
       "<style scoped>\n",
       "    .dataframe tbody tr th:only-of-type {\n",
       "        vertical-align: middle;\n",
       "    }\n",
       "\n",
       "    .dataframe tbody tr th {\n",
       "        vertical-align: top;\n",
       "    }\n",
       "\n",
       "    .dataframe thead th {\n",
       "        text-align: right;\n",
       "    }\n",
       "</style>\n",
       "<table border=\"1\" class=\"dataframe\">\n",
       "  <thead>\n",
       "    <tr style=\"text-align: right;\">\n",
       "      <th></th>\n",
       "      <th>subreddit</th>\n",
       "      <th>author</th>\n",
       "      <th>selftext</th>\n",
       "      <th>title</th>\n",
       "    </tr>\n",
       "  </thead>\n",
       "  <tbody>\n",
       "    <tr>\n",
       "      <th>0</th>\n",
       "      <td>investing</td>\n",
       "      <td>hydrocyanide</td>\n",
       "      <td>https://www.treasurydirect.gov/savings-bonds/i...</td>\n",
       "      <td>New Series I savings bond rate is 6.89% (0.40%...</td>\n",
       "    </tr>\n",
       "    <tr>\n",
       "      <th>1</th>\n",
       "      <td>investing</td>\n",
       "      <td>KyloRenSucks</td>\n",
       "      <td>[removed]</td>\n",
       "      <td>Treasury announces new Series I bond rate of 6...</td>\n",
       "    </tr>\n",
       "    <tr>\n",
       "      <th>2</th>\n",
       "      <td>investing</td>\n",
       "      <td>Electronic_Ad_701</td>\n",
       "      <td>[removed]</td>\n",
       "      <td>Investment question? New to this and 19 I’m eager</td>\n",
       "    </tr>\n",
       "    <tr>\n",
       "      <th>3</th>\n",
       "      <td>investing</td>\n",
       "      <td>Quiet-Literature2251</td>\n",
       "      <td>Hey, this is my current plan. I'm in sales and...</td>\n",
       "      <td>Making substantial money now but not sure what...</td>\n",
       "    </tr>\n",
       "    <tr>\n",
       "      <th>4</th>\n",
       "      <td>investing</td>\n",
       "      <td>4619</td>\n",
       "      <td>[removed]</td>\n",
       "      <td>What happens in an emerging markets ETF when a...</td>\n",
       "    </tr>\n",
       "  </tbody>\n",
       "</table>\n",
       "</div>"
      ],
      "text/plain": [
       "   subreddit                author  \\\n",
       "0  investing          hydrocyanide   \n",
       "1  investing          KyloRenSucks   \n",
       "2  investing     Electronic_Ad_701   \n",
       "3  investing  Quiet-Literature2251   \n",
       "4  investing                  4619   \n",
       "\n",
       "                                            selftext  \\\n",
       "0  https://www.treasurydirect.gov/savings-bonds/i...   \n",
       "1                                          [removed]   \n",
       "2                                          [removed]   \n",
       "3  Hey, this is my current plan. I'm in sales and...   \n",
       "4                                          [removed]   \n",
       "\n",
       "                                               title  \n",
       "0  New Series I savings bond rate is 6.89% (0.40%...  \n",
       "1  Treasury announces new Series I bond rate of 6...  \n",
       "2  Investment question? New to this and 19 I’m eager  \n",
       "3  Making substantial money now but not sure what...  \n",
       "4  What happens in an emerging markets ETF when a...  "
      ]
     },
     "execution_count": 4,
     "metadata": {},
     "output_type": "execute_result"
    }
   ],
   "source": [
    "investing_df[['subreddit', 'author', 'selftext', 'title']].head()"
   ]
  },
  {
   "cell_type": "markdown",
   "metadata": {},
   "source": [
    "## r/stockmarket"
   ]
  },
  {
   "cell_type": "code",
   "execution_count": 8,
   "metadata": {},
   "outputs": [
    {
     "data": {
      "text/plain": [
       "(5245, 81)"
      ]
     },
     "execution_count": 8,
     "metadata": {},
     "output_type": "execute_result"
    }
   ],
   "source": [
    "stockmarket_df.shape"
   ]
  },
  {
   "cell_type": "code",
   "execution_count": 5,
   "metadata": {},
   "outputs": [
    {
     "data": {
      "text/html": [
       "<div>\n",
       "<style scoped>\n",
       "    .dataframe tbody tr th:only-of-type {\n",
       "        vertical-align: middle;\n",
       "    }\n",
       "\n",
       "    .dataframe tbody tr th {\n",
       "        vertical-align: top;\n",
       "    }\n",
       "\n",
       "    .dataframe thead th {\n",
       "        text-align: right;\n",
       "    }\n",
       "</style>\n",
       "<table border=\"1\" class=\"dataframe\">\n",
       "  <thead>\n",
       "    <tr style=\"text-align: right;\">\n",
       "      <th></th>\n",
       "      <th>subreddit</th>\n",
       "      <th>author</th>\n",
       "      <th>selftext</th>\n",
       "      <th>title</th>\n",
       "    </tr>\n",
       "  </thead>\n",
       "  <tbody>\n",
       "    <tr>\n",
       "      <th>0</th>\n",
       "      <td>StockMarket</td>\n",
       "      <td>nikola28</td>\n",
       "      <td>NaN</td>\n",
       "      <td>Avatrade Leverage Trading: Everything You Need...</td>\n",
       "    </tr>\n",
       "    <tr>\n",
       "      <th>1</th>\n",
       "      <td>StockMarket</td>\n",
       "      <td>Philip19967</td>\n",
       "      <td>NaN</td>\n",
       "      <td>Fobi Signs Strategic Partnership Agreement Wit...</td>\n",
       "    </tr>\n",
       "    <tr>\n",
       "      <th>2</th>\n",
       "      <td>StockMarket</td>\n",
       "      <td>ad3lyt</td>\n",
       "      <td>NaN</td>\n",
       "      <td>The Metaverse Is Dying</td>\n",
       "    </tr>\n",
       "    <tr>\n",
       "      <th>3</th>\n",
       "      <td>StockMarket</td>\n",
       "      <td>irahuo</td>\n",
       "      <td>NaN</td>\n",
       "      <td>Dogecoin increases by 29% as the Musk-Fueled M...</td>\n",
       "    </tr>\n",
       "    <tr>\n",
       "      <th>4</th>\n",
       "      <td>StockMarket</td>\n",
       "      <td>predictany007</td>\n",
       "      <td>\\n\\n* **CNBC’s Jim Cramer on Monday warned in...</td>\n",
       "      <td>‘Hold your nose and sell’ to brace for a possi...</td>\n",
       "    </tr>\n",
       "  </tbody>\n",
       "</table>\n",
       "</div>"
      ],
      "text/plain": [
       "     subreddit         author  \\\n",
       "0  StockMarket       nikola28   \n",
       "1  StockMarket    Philip19967   \n",
       "2  StockMarket         ad3lyt   \n",
       "3  StockMarket         irahuo   \n",
       "4  StockMarket  predictany007   \n",
       "\n",
       "                                            selftext  \\\n",
       "0                                                NaN   \n",
       "1                                                NaN   \n",
       "2                                                NaN   \n",
       "3                                                NaN   \n",
       "4   \\n\\n* **CNBC’s Jim Cramer on Monday warned in...   \n",
       "\n",
       "                                               title  \n",
       "0  Avatrade Leverage Trading: Everything You Need...  \n",
       "1  Fobi Signs Strategic Partnership Agreement Wit...  \n",
       "2                             The Metaverse Is Dying  \n",
       "3  Dogecoin increases by 29% as the Musk-Fueled M...  \n",
       "4  ‘Hold your nose and sell’ to brace for a possi...  "
      ]
     },
     "execution_count": 5,
     "metadata": {},
     "output_type": "execute_result"
    }
   ],
   "source": [
    "stockmarket_df[['subreddit', 'author', 'selftext', 'title']].head()"
   ]
  },
  {
   "cell_type": "markdown",
   "metadata": {},
   "source": [
    "## r/wallstreetbets"
   ]
  },
  {
   "cell_type": "code",
   "execution_count": 9,
   "metadata": {},
   "outputs": [
    {
     "data": {
      "text/plain": [
       "(1249, 83)"
      ]
     },
     "execution_count": 9,
     "metadata": {},
     "output_type": "execute_result"
    }
   ],
   "source": [
    "wallstreetbets_df.shape"
   ]
  },
  {
   "cell_type": "code",
   "execution_count": 6,
   "metadata": {},
   "outputs": [
    {
     "data": {
      "text/html": [
       "<div>\n",
       "<style scoped>\n",
       "    .dataframe tbody tr th:only-of-type {\n",
       "        vertical-align: middle;\n",
       "    }\n",
       "\n",
       "    .dataframe tbody tr th {\n",
       "        vertical-align: top;\n",
       "    }\n",
       "\n",
       "    .dataframe thead th {\n",
       "        text-align: right;\n",
       "    }\n",
       "</style>\n",
       "<table border=\"1\" class=\"dataframe\">\n",
       "  <thead>\n",
       "    <tr style=\"text-align: right;\">\n",
       "      <th></th>\n",
       "      <th>subreddit</th>\n",
       "      <th>author</th>\n",
       "      <th>selftext</th>\n",
       "      <th>title</th>\n",
       "    </tr>\n",
       "  </thead>\n",
       "  <tbody>\n",
       "    <tr>\n",
       "      <th>0</th>\n",
       "      <td>wallstreetbets</td>\n",
       "      <td>Ellarael</td>\n",
       "      <td>This is what buffet was talking about right? N...</td>\n",
       "      <td>bullish on meta</td>\n",
       "    </tr>\n",
       "    <tr>\n",
       "      <th>1</th>\n",
       "      <td>wallstreetbets</td>\n",
       "      <td>Remote-Ad-3</td>\n",
       "      <td>NaN</td>\n",
       "      <td>Avis budget group</td>\n",
       "    </tr>\n",
       "    <tr>\n",
       "      <th>2</th>\n",
       "      <td>wallstreetbets</td>\n",
       "      <td>Lija_2016</td>\n",
       "      <td>NaN</td>\n",
       "      <td>Lillian Finance [$LY] is getting listed on TWO...</td>\n",
       "    </tr>\n",
       "    <tr>\n",
       "      <th>3</th>\n",
       "      <td>wallstreetbets</td>\n",
       "      <td>infurnus89</td>\n",
       "      <td>NaN</td>\n",
       "      <td>$CINE Cineworld settles with landlords. Price ...</td>\n",
       "    </tr>\n",
       "    <tr>\n",
       "      <th>4</th>\n",
       "      <td>wallstreetbets</td>\n",
       "      <td>0x11C3P</td>\n",
       "      <td>NaN</td>\n",
       "      <td>JOLTS + Others</td>\n",
       "    </tr>\n",
       "  </tbody>\n",
       "</table>\n",
       "</div>"
      ],
      "text/plain": [
       "        subreddit       author  \\\n",
       "0  wallstreetbets     Ellarael   \n",
       "1  wallstreetbets  Remote-Ad-3   \n",
       "2  wallstreetbets    Lija_2016   \n",
       "3  wallstreetbets   infurnus89   \n",
       "4  wallstreetbets      0x11C3P   \n",
       "\n",
       "                                            selftext  \\\n",
       "0  This is what buffet was talking about right? N...   \n",
       "1                                                NaN   \n",
       "2                                                NaN   \n",
       "3                                                NaN   \n",
       "4                                                NaN   \n",
       "\n",
       "                                               title  \n",
       "0                                    bullish on meta  \n",
       "1                                  Avis budget group  \n",
       "2  Lillian Finance [$LY] is getting listed on TWO...  \n",
       "3  $CINE Cineworld settles with landlords. Price ...  \n",
       "4                                     JOLTS + Others  "
      ]
     },
     "execution_count": 6,
     "metadata": {},
     "output_type": "execute_result"
    }
   ],
   "source": [
    "wallstreetbets_df[['subreddit', 'author', 'selftext', 'title']].head()"
   ]
  },
  {
   "cell_type": "markdown",
   "metadata": {},
   "source": [
    "# Index Data [QQQ and SPY]"
   ]
  }
 ],
 "metadata": {
  "kernelspec": {
   "display_name": "Python 3.10.5 64-bit",
   "language": "python",
   "name": "python3"
  },
  "language_info": {
   "codemirror_mode": {
    "name": "ipython",
    "version": 3
   },
   "file_extension": ".py",
   "mimetype": "text/x-python",
   "name": "python",
   "nbconvert_exporter": "python",
   "pygments_lexer": "ipython3",
   "version": "3.10.5"
  },
  "orig_nbformat": 4,
  "vscode": {
   "interpreter": {
    "hash": "f1131d84b9e97d700f196cec3f143c1c5ca4787d89ba01101505d30befb8a4c0"
   }
  }
 },
 "nbformat": 4,
 "nbformat_minor": 2
}
