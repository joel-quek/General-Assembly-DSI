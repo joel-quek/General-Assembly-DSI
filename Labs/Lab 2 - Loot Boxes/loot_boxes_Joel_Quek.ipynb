{
 "cells": [
  {
   "cell_type": "markdown",
   "metadata": {},
   "source": [
    "# \"Fun with Loot Boxes\" Lab\n",
    "\n",
    "> Author: Caroline Schmitt, Matt Brems\n",
    "\n",
    "### Scenario:\n",
    "\n",
    "You're an analyst for [Zynga](https://en.wikipedia.org/wiki/Zynga), a gaming studio working on an event for an MMO (massively multiplayer online) game. This event is going to include **loot boxes**.\n",
    "\n",
    "<img src=\"https://vignette.wikia.nocookie.net/2007scape/images/0/06/Culinaromancer%27s_chest.png/revision/latest?cb=20180403231423\" alt=\"drawing\" width=\"150\"/> \n",
    "\n",
    "A loot box is basically a treasure chest in a game. This loot box can be opened to reveal a variety of items: some items are very rare and valuable, other items are common and less valuable. (You may consult [the esteemed Wikipedia](https://en.wikipedia.org/wiki/Loot_box) for a more extensive definition.)\n",
    "\n",
    "In our specific game, suppose that loot boxes can be obtained in one of two ways: \n",
    "- After every three hours of playing the game, a user will earn one loot box.\n",
    "- If the user wishes to purchase a loot box, they may pay $1 (in real money!) for a loot box.\n",
    "\n",
    "These loot boxes are very good for our business!\n",
    "- If a player earns a loot box, it means they are spending lots of time on the game. This often leads to advertisement revenue, they may tell their friends to join the game, etc.\n",
    "- If the player purchases a loot box, it means we've earned $1 from our customer.\n",
    "\n",
    "Suppose each loot box is opened to reveal either:\n",
    "- magical elixir (super rare, very valuable), or\n",
    "- nothing.\n",
    "\n",
    "Whether each loot box contains the elixir or nothing is **random**. Our boss wants some guidance on what sort of randomness to use on these loot boxes! \n",
    "- If the magical elixir is too rare, then users may not be motivated to try to get them, because they believe they'll never find the magical elixir.\n",
    "- If the magical elixir is too common, then users may not be motivated to try to get them, because the game has so much of the magical elixir that it isn't worthwhile to try to get it.\n",
    "\n",
    "However, our boss isn't a math-y type person! When explaining things to our boss, we need to explain the impact of our choices on the game as concretely as possible.\n",
    "\n",
    "### Version 1\n",
    "In our first version of the game, we'll say that loot boxes contain magical elixir 15% of the time and nothing 85% of the time.\n",
    "\n",
    "#### 1. Our boss asks, \"If a user buys 100 loot boxes, how many elixirs will they get?\" How would you respond?"
   ]
  },
  {
   "cell_type": "markdown",
   "metadata": {},
   "source": [
    "### Response\n",
    "\n",
    "15 Elixirs. 0.15 multiplied by 100."
   ]
  },
  {
   "cell_type": "markdown",
   "metadata": {},
   "source": [
    "#### 2. Our boss asks, \"How many loot boxes does someone have to purchase in order to definitely get elixir?\" How would you respond?"
   ]
  },
  {
   "cell_type": "markdown",
   "metadata": {},
   "source": [
    "### Response\n",
    "\n",
    "This is not a question that can be answered. All loot boxes possess independent variables. We are modelling this set-up using a Binomial distribution where probability of success is 0.15 while the complement is 0.85. Each bernoulli trial is independent and random. So we do not know the exact number."
   ]
  },
  {
   "cell_type": "markdown",
   "metadata": {},
   "source": [
    "#### 3. Our boss asks, \"If a user earns 100 loot boxes, what is the chance that a user gets more than 20 elixirs?\" This is a bit more complicated, so let's break it down before answering."
   ]
  },
  {
   "cell_type": "markdown",
   "metadata": {},
   "source": [
    "### Response\n",
    "\n",
    "Binomial distribution with two bernoulli trials which are 'exilir' and 'empty'. We let 'empty' be a failed bernoulli trial while 'elixir' is 'success'\n",
    "\n",
    "Probability of success is P(elixir)\n",
    "\n",
    "and number of trials is 100\n",
    "\n",
    "The discrete random variable can be modelled by the Binomial Random variable\n",
    "\n",
    "X ~ B(100, P(elixir))\n",
    "\n",
    "To find out what the probability of getting more than 20 elixirs is, we need to calculate P(X > 20). \n",
    "\n",
    "I am assuming from the phrasing that the inequality is exclusive of 20."
   ]
  },
  {
   "cell_type": "markdown",
   "metadata": {},
   "source": [
    "#### 3a. Let's suppose my random variable $X$ counts up how many elixirs I observe out of my 100 loot boxes. Why is $X$ a discrete random variable?"
   ]
  },
  {
   "cell_type": "markdown",
   "metadata": {},
   "source": [
    "### Response\n",
    "\n",
    "It is discrete because each trial will give either a success or failure and nothing in between (ie non continuous). \n",
    "\n",
    "The outcomes are positive integers and hence countable."
   ]
  },
  {
   "cell_type": "markdown",
   "metadata": {},
   "source": [
    "#### 3b. Recall our discrete distributions: discrete uniform, Bernoulli, binomial, Poisson. Let's suppose my random variable $X$ counts up how many elixirs I observe out of my 100 loot boxes. What distribution is best suited for $X$? Why?\n",
    "- Hint: It may help to consider getting the magical elixir a \"success\" and getting nothing a \"failure.\" "
   ]
  },
  {
   "cell_type": "markdown",
   "metadata": {},
   "source": [
    "### Response\n",
    "\n",
    "The Binomial Distribution is best suited for this.\n",
    "\n",
    "X ~ B(100, P(elixir))\n",
    "\n",
    "1. There is a fixed number of Bernoulli trials\n",
    "\n",
    "2. the trials are all independent\n",
    "\n",
    "3. There is a success event and a failure event\n",
    "\n",
    "4. The probability of success is defined (hence the probability of failure is also defined)\n"
   ]
  },
  {
   "cell_type": "markdown",
   "metadata": {},
   "source": [
    "#### 3c. Our boss asks, \"If a user earns 100 loot boxes, what is the chance that a user gets more than 20 elixirs?\" Use the probability mass function to answer the boss' question."
   ]
  },
  {
   "cell_type": "code",
   "execution_count": 6,
   "metadata": {},
   "outputs": [
    {
     "data": {
      "text/plain": [
       "[1, 2, 3, 4, 5, 6, 7, 8, 9, 10, 11, 12, 13, 14, 15, 16, 17, 18, 19, 20]"
      ]
     },
     "execution_count": 6,
     "metadata": {},
     "output_type": "execute_result"
    }
   ],
   "source": [
    "list(range(1,21))"
   ]
  },
  {
   "cell_type": "code",
   "execution_count": 10,
   "metadata": {},
   "outputs": [
    {
     "data": {
      "text/plain": [
       "0.06631985329561829"
      ]
     },
     "execution_count": 10,
     "metadata": {},
     "output_type": "execute_result"
    }
   ],
   "source": [
    "# Show your work; leave your answer in a comment.\n",
    "import scipy.stats \n",
    "from scipy.stats import binom\n",
    "\n",
    "n = 100\n",
    "p = 0.15\n",
    "cumulative = 0\n",
    "for k in range(1,21):\n",
    "    cumulative += binom.pmf(k, n, p)  \n",
    "\n",
    "result = 1 - cumulative\n",
    "result\n"
   ]
  },
  {
   "cell_type": "markdown",
   "metadata": {},
   "source": [
    "### Response to 3c\n",
    "\n",
    "Probability that user gets more than 20 elixirs out of 100 loot boxes is \n",
    "\n",
    "0.066319"
   ]
  },
  {
   "cell_type": "markdown",
   "metadata": {},
   "source": [
    "#### 3d. Our boss asks, \"If a user earns 100 loot boxes, what is the chance that a user gets more than 20 elixirs?\" Use the cumulative distribution function to answer the boss' question."
   ]
  },
  {
   "cell_type": "code",
   "execution_count": 3,
   "metadata": {},
   "outputs": [
    {
     "data": {
      "text/plain": [
       "0.06631976581888166"
      ]
     },
     "execution_count": 3,
     "metadata": {},
     "output_type": "execute_result"
    }
   ],
   "source": [
    "# Show your work; leave your answer in a comment.\n",
    "import scipy.stats \n",
    "from scipy.stats import binom\n",
    "\n",
    "n = 100\n",
    "p = 0.15\n",
    "k = 20\n",
    "# we want to find P(X > 20)\n",
    "result = 1 - binom.cdf(k, n, p)  # binom cdf gives probability of having k successes or less out of n trials\n",
    "# https://www.google.com/search?q=python+binomial+distribution+calculate+probability&sxsrf=ALiCzsZEOXnHkqh97RD7BhylO_P4cCMqVg%3A1661868672101&ei=gBoOY8HkBfS13LUPvJqh-AE&ved=0ahUKEwjBpPSe3-75AhX0GrcAHTxNCB8Q4dUDCA4&uact=5&oq=python+binomial+distribution+calculate+probability&gs_lcp=Cgdnd3Mtd2l6EAMyBQghEKABMggIIRAeEBYQHToHCAAQRxCwAzoHCAAQsAMQQzoFCAAQgAQ6BggAEB4QFjoICAAQHhAPEBY6BQgAEIYDOggIABAeEAgQDToHCCEQoAEQCkoECEEYAEoECEYYAFCFBFjCJGCNJmgCcAF4AIABgwGIAbQNkgEEMjEuMpgBAKABAcgBCsABAQ&sclient=gws-wiz#kpvalbx=_7hoOY6ycGrWK3LUPz8WfwAk_19\n",
    "result "
   ]
  },
  {
   "cell_type": "markdown",
   "metadata": {},
   "source": [
    "### Response to 3d\n",
    "\n",
    "Probability that user gets more than 20 elixirs out of 100 loot boxes is \n",
    "\n",
    "0.066319 (same as 3c)"
   ]
  },
  {
   "cell_type": "markdown",
   "metadata": {},
   "source": [
    "#### 3e. Our boss asks, \"If a user earns 100 loot boxes, what is the chance that a user gets more than 20 elixirs?\" Answer your boss' question. *Remember that your boss is not a math-y person!*"
   ]
  },
  {
   "cell_type": "markdown",
   "metadata": {},
   "source": [
    "### Response to 3e\n",
    "\n",
    "\"Chance\" is another word for \"probability\"\n",
    "\n",
    "If I have 100 players and each of these 100 players earned 100 loot boxes,\n",
    "\n",
    "then it is likely that around 6 to 7 of these players will get more than 20 elixirs."
   ]
  },
  {
   "cell_type": "markdown",
   "metadata": {},
   "source": [
    "#### 4. Your boss wants to know how many people purchased how many loot boxes last month. \n",
    "> For example, last month, 70% of users did not purchase any loot boxes. 10% of people purchased one loot box. 5% of people purchased two loot boxes... and so on.\n",
    "\n",
    "#### 4a. Recall our discrete distributions: discrete uniform, Bernoulli, binomial, Poisson. Let's suppose my random variable $Y$ counts up how many loot boxes each person purchased through the game last month. What distribution is best suited for $Y$? Why?"
   ]
  },
  {
   "cell_type": "markdown",
   "metadata": {},
   "source": [
    "### Response to 4a\n",
    "\n",
    "Poisson Distribution\n",
    "\n",
    "1. The time interval is fixed as last month\n",
    "\n",
    "2. Counting up how many loot boxes each person purchased through the game is best measured as the mean. Hence the distribution has a mean.\n",
    "\n",
    "X - Pois (mean)"
   ]
  },
  {
   "cell_type": "markdown",
   "metadata": {},
   "source": [
    "#### 4b. Suppose that, on average, your customers purchased 2.7 loot boxes last month. In order for your revenue to be at least $500,000, at least how many users would you need on your platform? (Round your answer up to the nearest thousand.) "
   ]
  },
  {
   "cell_type": "code",
   "execution_count": 20,
   "metadata": {},
   "outputs": [
    {
     "name": "stdout",
     "output_type": "stream",
     "text": [
      "We will need at least 185000.0 users to earn $500,000 in revenue.\n"
     ]
    }
   ],
   "source": [
    "# Show your work; leave your answer in a comment.\n",
    "# X  ~ Pois (2.7)\n",
    "# Each loot box is $1\n",
    "\n",
    "x= 500000/2.7\n",
    "people = round(x,-3)\n",
    "\n",
    "print(f\"We will need at least {people} users to earn $500,000 in revenue.\")\n"
   ]
  },
  {
   "cell_type": "markdown",
   "metadata": {},
   "source": [
    "#### 4c. Assume that your platform has the numer of users you mentioned in your last answer. Suppose that your platform calls anyone who purchases 5 or more loot boxes in a month a \"high value user.\" How much money do you expect to have earned from \"high value users?\" How about \"low value users?\""
   ]
  },
  {
   "cell_type": "code",
   "execution_count": 22,
   "metadata": {},
   "outputs": [
    {
     "data": {
      "text/plain": [
       "0.1370921373174332"
      ]
     },
     "execution_count": 22,
     "metadata": {},
     "output_type": "execute_result"
    }
   ],
   "source": [
    "# Show your work; leave your answer in a comment.\n",
    "# I am guessing from the word \"Expect\" that you are looking for the statistical expectation E(X)\n",
    "\n",
    "from scipy.stats import poisson\n",
    "\n",
    "result = 1 - poisson.cdf(4,2.7) # is use 4 because I must find out 5 or more (inclusive of 5). So i only minus <=4\n",
    "\n",
    "result \n",
    "\n",
    "# this is the probability of someone purchasing 5 or more loot boxes\n",
    "# https://www.statology.org/poisson-distribution-python/ "
   ]
  },
  {
   "cell_type": "code",
   "execution_count": 24,
   "metadata": {},
   "outputs": [
    {
     "name": "stdout",
     "output_type": "stream",
     "text": [
      "$126810.22701862571\n"
     ]
    }
   ],
   "source": [
    "# E(X) = P(X) * X\n",
    "\n",
    "expectation = result*5*people # need to multiply by \"people\" as I am calculating the probable number of people out of the min group that purchased more than 5 loot boxes\n",
    "\n",
    "print(f\"${expectation}\")"
   ]
  },
  {
   "cell_type": "markdown",
   "metadata": {},
   "source": [
    "#### 4d. Suppose that you want to summarize how many people purchased how many loot boxes last month for your boss. Since your boss isn't math-y, what are 2-4 summary numbers you might use to summarize this for your boss? (Your answers will vary here - use your judgment!)"
   ]
  },
  {
   "cell_type": "markdown",
   "metadata": {},
   "source": [
    "**NOTE**: When your Jupyter notebook is open, double-click on this Markdown cell! You can delete this text and put your answer to the previous problem in here."
   ]
  },
  {
   "cell_type": "markdown",
   "metadata": {},
   "source": [
    "#### 5. Your boss asks \"How many loot boxes does it take before someone gets their first elixir?\" Using `np.random.choice`, simulate how many loot boxes it takes somone to get their first elixir. \n",
    "- Start an empty list.\n",
    "- Use control flow to have someone open loot boxes repeatedly.\n",
    "- Once they open a loot box containing an elixir, record the number of loot boxes it took in the empty list.\n",
    "- Repeat this process 100,000 times. \n",
    "\n",
    "This simulates how long it takes for someone to open a loot box containing elixir. Share the 5th, 25th, 50th, 75th, and 95th percentiles.\n",
    "\n",
    "> You may find [this documentation](https://docs.scipy.org/doc/numpy/reference/generated/numpy.random.choice.html)  and [this documentation](https://docs.scipy.org/doc/numpy/reference/generated/numpy.percentile.html) helpful."
   ]
  },
  {
   "cell_type": "code",
   "execution_count": 1,
   "metadata": {},
   "outputs": [],
   "source": [
    "import numpy as np\n",
    "import scipy.stats\n",
    "from scipy.stats import binom"
   ]
  },
  {
   "cell_type": "code",
   "execution_count": 21,
   "metadata": {},
   "outputs": [
    {
     "data": {
      "text/plain": [
       "'empty'"
      ]
     },
     "execution_count": 21,
     "metadata": {},
     "output_type": "execute_result"
    }
   ],
   "source": [
    "# start by coding an elixir trial\n",
    "p_elixir = 0.15 # based on version 1, an elixir occurs 15% of the time\n",
    "loot_box = np.random.choice(['elixir', 'empty'], p=[p_elixir, 1-p_elixir])\n",
    "\n",
    "loot_box\n"
   ]
  },
  {
   "cell_type": "code",
   "execution_count": 22,
   "metadata": {},
   "outputs": [],
   "source": [
    "# This code doesn't work. The next one does.\n",
    "def first_elixir(n, p_elixir = 0.15): # for this function, run it 100,000 times.Hence, n = 100,000.\n",
    "    first_prize = []\n",
    "    for i in range(n): # simulate n trials\n",
    "        count = 0\n",
    "        # loot_box\n",
    "        while np.random.choice(['elixir', 'empty'], p=[p_elixir, 1-p_elixir]) == 'empty': # while no elixir, keep opening loot box\n",
    "            count += 1\n",
    "        \n",
    "        first_prize.append(count)\n",
    "            \n",
    "    return first_prize\n",
    "\n",
    "        #refer to problem 7"
   ]
  },
  {
   "cell_type": "code",
   "execution_count": 27,
   "metadata": {},
   "outputs": [],
   "source": [
    "def first_elixir2(n, p_elixir = 0.15): # for this function, run it 100,000 times.Hence, n = 100,000.\n",
    "    first_prize = []\n",
    "    count = 1 # by default, we will open at least one box\n",
    "    for i in range(n):\n",
    "        while True: # will continue until we break\n",
    "            loot_box = np.random.choice(['elixir', 'empty'], p=[p_elixir, 1-p_elixir]) # simulate one loot box opening\n",
    "            if loot_box == 'empty':\n",
    "                count += 1\n",
    "            else:\n",
    "                first_prize.append(count)\n",
    "                break\n",
    "    return first_prize \n",
    "    # refer to problem 11"
   ]
  },
  {
   "cell_type": "code",
   "execution_count": 30,
   "metadata": {},
   "outputs": [
    {
     "data": {
      "text/plain": [
       "[6, 6, 19, 24, 32, 47, 48, 64, 65, 67]"
      ]
     },
     "execution_count": 30,
     "metadata": {},
     "output_type": "execute_result"
    }
   ],
   "source": [
    "first_elixir2(10, 0.15)"
   ]
  },
  {
   "cell_type": "code",
   "execution_count": 31,
   "metadata": {},
   "outputs": [
    {
     "data": {
      "text/plain": [
       "29288.95"
      ]
     },
     "execution_count": 31,
     "metadata": {},
     "output_type": "execute_result"
    }
   ],
   "source": [
    "array = first_elixir2(100000, 0.15)\n",
    "\n",
    "np.percentile(array, 5)\n",
    "\n",
    "# 5, 25, 50, 75, 95"
   ]
  },
  {
   "cell_type": "code",
   "execution_count": 33,
   "metadata": {},
   "outputs": [
    {
     "data": {
      "text/plain": [
       "86572.79999999999"
      ]
     },
     "execution_count": 33,
     "metadata": {},
     "output_type": "execute_result"
    }
   ],
   "source": [
    "array = first_elixir2(100000, 0.15)\n",
    "\n",
    "np.percentile(array, 15)"
   ]
  },
  {
   "cell_type": "code",
   "execution_count": 34,
   "metadata": {},
   "outputs": [
    {
     "name": "stdout",
     "output_type": "stream",
     "text": [
      "The 5th percentile is 28357.95\n",
      "The 25th percentile is 143620.25\n",
      "The 50th percentile is 285515.5\n",
      "The 75th percentile is 426559.25\n",
      "The 95th percentile is 540812.05\n"
     ]
    }
   ],
   "source": [
    "for i in [5, 25,50, 75, 95]:\n",
    "    percentile_ = np.percentile(array, i)\n",
    "    print (f\"The {i}th percentile is {percentile_}\")"
   ]
  },
  {
   "cell_type": "markdown",
   "metadata": {},
   "source": [
    "### Version 2\n",
    "\n",
    "After a substantial update to the game, suppose every loot box can be opened to reveal *one of four different* items:\n",
    "- magical elixir (occurs 1% of the time, most valuable)\n",
    "- golden pendant (occurs 9% of the time, valuable)\n",
    "- steel armor (occurs 30% of the time, semi-valuable)\n",
    "- bronze coin (occurs 60% of the time, least valuable)"
   ]
  },
  {
   "cell_type": "markdown",
   "metadata": {},
   "source": [
    "#### 6. Suppose you want repeat problem 5 above, but do that for the version 2 loot boxes so you can track how many loot boxes are needed to get each item? (e.g. You'd like to be able to say that on average it takes 10 trials to get a golden pendant, 3 trials to get steel armor, and so on.) What Python datatype is the best way to store this data? Why?"
   ]
  },
  {
   "cell_type": "markdown",
   "metadata": {},
   "source": [
    "**NOTE**: When your Jupyter notebook is open, double-click on this Markdown cell! You can delete this text and put your answer to the previous problem in here."
   ]
  },
  {
   "cell_type": "markdown",
   "metadata": {},
   "source": [
    "#### 7. Suppose you and your boss want to measure whether \"Version 2\" is better than \"Version 1.\" What metrics do you think are important to measure? (Your answers will vary here - use your judgment!)"
   ]
  },
  {
   "cell_type": "markdown",
   "metadata": {},
   "source": [
    "**NOTE**: When your Jupyter notebook is open, double-click on this Markdown cell! You can delete this text and put your answer to the previous problem in here."
   ]
  }
 ],
 "metadata": {
  "kernelspec": {
   "display_name": "Python 3.10.5 64-bit",
   "language": "python",
   "name": "python3"
  },
  "language_info": {
   "codemirror_mode": {
    "name": "ipython",
    "version": 3
   },
   "file_extension": ".py",
   "mimetype": "text/x-python",
   "name": "python",
   "nbconvert_exporter": "python",
   "pygments_lexer": "ipython3",
   "version": "3.10.5"
  },
  "vscode": {
   "interpreter": {
    "hash": "f1131d84b9e97d700f196cec3f143c1c5ca4787d89ba01101505d30befb8a4c0"
   }
  }
 },
 "nbformat": 4,
 "nbformat_minor": 2
}
