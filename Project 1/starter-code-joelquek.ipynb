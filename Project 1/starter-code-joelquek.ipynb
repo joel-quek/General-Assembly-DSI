{
 "cells": [
  {
   "cell_type": "markdown",
   "metadata": {},
   "source": [
    "<img src=\"http://imgur.com/1ZcRyrc.png\" style=\"float: left; margin: 20px; height: 55px\">\n",
    "\n",
    "# Project 1: Standardized Test Analysis"
   ]
  },
  {
   "cell_type": "markdown",
   "metadata": {},
   "source": [
    "--- \n",
    "# Part 1\n",
    "\n",
    "Part 1 requires knowledge of basic Python.\n",
    "\n",
    "---"
   ]
  },
  {
   "cell_type": "markdown",
   "metadata": {},
   "source": [
    "## Problem Statement"
   ]
  },
  {
   "cell_type": "markdown",
   "metadata": {},
   "source": [
    "It is often said that wealth inequality is a barrier to education and social mobility. As a data scientist, I am keen to find out if that is true. To approach this, I will study the correlation between the Gross Domestic Products of respective states in the United States of America with their average SAT and ACT scores. \n",
    "\n",
    "Source: https://www.urban.org/sites/default/files/publication/89976/wealth_and_education_4.pdf "
   ]
  },
  {
   "cell_type": "markdown",
   "metadata": {},
   "source": [
    "### Contents:\n",
    "- [Background](#Background)\n",
    "- [Data Import & Cleaning](#Data-Import-and-Cleaning)\n",
    "- [Exploratory Data Analysis](#Exploratory-Data-Analysis)\n",
    "- [Data Visualization](#Visualize-the-Data)\n",
    "- [Conclusions and Recommendations](#Conclusions-and-Recommendations)"
   ]
  },
  {
   "cell_type": "markdown",
   "metadata": {},
   "source": [
    "## Background"
   ]
  },
  {
   "cell_type": "markdown",
   "metadata": {},
   "source": [
    "The SAT and ACT are standardized tests that many colleges and universities in the United States require for their admissions process. This score is used along with other materials such as grade point average (GPA) and essay responses to determine whether or not a potential student will be accepted to the university.\n",
    "\n",
    "The SAT has two sections of the test: Evidence-Based Reading and Writing and Math ([*source*](https://www.princetonreview.com/college/sat-sections)). The ACT has 4 sections: English, Mathematics, Reading, and Science, with an additional optional writing section ([*source*](https://www.act.org/content/act/en/products-and-services/the-act/scores/understanding-your-scores.html)). They have different score ranges, which you can read more about on their websites or additional outside sources (a quick Google search will help you understand the scores for each test):\n",
    "* [SAT](https://collegereadiness.collegeboard.org/sat)\n",
    "* [ACT](https://www.act.org/content/act/en.html)\n",
    "\n",
    "Standardized tests have long been a controversial topic for students, administrators, and legislators. Since the 1940's, an increasing number of colleges have been using scores from sudents' performances on tests like the SAT and the ACT as a measure for college readiness and aptitude ([*source*](https://www.minotdailynews.com/news/local-news/2017/04/a-brief-history-of-the-sat-and-act/)). Supporters of these tests argue that these scores can be used as an objective measure to determine college admittance. Opponents of these tests claim that these tests are not accurate measures of students potential or ability and serve as an inequitable barrier to entry. Lately, more and more schools are opting to drop the SAT/ACT requirement for their Fall 2021 applications ([*read more about this here*](https://www.cnn.com/2020/04/14/us/coronavirus-colleges-sat-act-test-trnd/index.html))."
   ]
  },
  {
   "cell_type": "markdown",
   "metadata": {},
   "source": [
    "I will be using the data provided by General Assembly, and also online sources like [Ivy League Entry Requirements](https://www.bestcolleges.com/blog/good-sat-score-ivy-league/) and [College Entry Requirements](https://www.compassprep.com/college-profiles/) for my analysis."
   ]
  },
  {
   "cell_type": "markdown",
   "metadata": {},
   "source": [
    "### Choose your Data\n",
    "\n",
    "There are 10 datasets included in the [`data`](./data/) folder for this project. You are required to pick **at least two** of these to complete your analysis. Feel free to use more than two if you would like, or add other relevant datasets you find online.\n",
    "\n",
    "* [`act_2017.csv`](./data/act_2017.csv): 2017 ACT Scores by State\n",
    "* [`act_2018.csv`](./data/act_2018.csv): 2018 ACT Scores by State\n",
    "* [`act_2019.csv`](./data/act_2019.csv): 2019 ACT Scores by State\n",
    "* [`act_2019_ca.csv`](./data/act_2019_ca.csv): 2019 ACT Scores in California by School\n",
    "* [`sat_2017.csv`](./data/sat_2017.csv): 2017 SAT Scores by State\n",
    "* [`sat_2018.csv`](./data/sat_2018.csv): 2018 SAT Scores by State\n",
    "* [`sat_2019.csv`](./data/sat_2019.csv): 2019 SAT Scores by State\n",
    "* [`sat_2019_by_intended_college_major.csv`](./data/sat_2019_by_intended_college_major.csv): 2019 SAT Scores by Intended College Major\n",
    "* [`sat_2019_ca.csv`](./data/sat_2019_ca.csv): 2019 SAT Scores in California by School\n",
    "* [`sat_act_by_college.csv`](./data/sat_act_by_college.csv): Ranges of Accepted ACT & SAT Student Scores by Colleges"
   ]
  },
  {
   "cell_type": "markdown",
   "metadata": {},
   "source": [
    "### I will be using the following datasets in my project:\n",
    "\n",
    "ACT Scores\n",
    "* [`act_2017.csv`](./data/act_2017.csv): 2017 ACT Scores by State\n",
    "* [`act_2018.csv`](./data/act_2018.csv): 2018 ACT Scores by State\n",
    "* [`act_2019.csv`](./data/act_2019.csv): 2019 ACT Scores by State\n",
    "\n",
    "SAT Scores\n",
    "* [`sat_2017.csv`](./data/sat_2017.csv): 2017 SAT Scores by State\n",
    "* [`sat_2018.csv`](./data/sat_2018.csv): 2018 SAT Scores by State\n",
    "* [`sat_2019.csv`](./data/sat_2019.csv): 2019 SAT Scores by State\n",
    "\n",
    "GDP By States [External Source]\n",
    "* ['gdp_by_states2019.csv'](./data/gdp_by_states2019.csv): GDP By States\n",
    "\n",
    "Source: https://coast.noaa.gov/digitalcoast/data/gdp.html\n"
   ]
  },
  {
   "cell_type": "markdown",
   "metadata": {},
   "source": [
    "### Outside Research"
   ]
  },
  {
   "cell_type": "markdown",
   "metadata": {},
   "source": [
    "Based on your problem statement and your chosen datasets, spend some time doing outside research on state policies or additional information that might be relevant. Summarize your findings below. If you bring in any outside tables or charts, make sure you are explicit about having borrowed them. If you quote any text, make sure that it renders as being quoted. **Make sure that you cite your sources.**"
   ]
  },
  {
   "cell_type": "markdown",
   "metadata": {},
   "source": [
    "Inspiration: https://www.urban.org/sites/default/files/publication/89976/wealth_and_education_4.pdf \n",
    "\n",
    "Data Source: https://coast.noaa.gov/digitalcoast/data/gdp.html\n",
    "\n",
    "CSV Source: https://apps.bea.gov/itable/iTable.cfm?ReqID=70&step=1\n",
    "\n",
    "Extra Readings: https://education.seattlepi.com/factors-influencing-sat-scores-2589.html "
   ]
  },
  {
   "cell_type": "markdown",
   "metadata": {},
   "source": [
    "### Coding Challenges\n",
    "\n",
    "1. Manually calculate mean:\n",
    "\n",
    "    Write a function that takes in values and returns the mean of the values. Create a list of numbers that you test on your function to check to make sure your function works!\n",
    "    \n",
    "    *Note*: Do not use any mean methods built-in to any Python libraries to do this! This should be done without importing any additional libraries."
   ]
  },
  {
   "cell_type": "code",
   "execution_count": 23,
   "metadata": {},
   "outputs": [],
   "source": [
    "# Code:\n",
    "def my_mean(list_):\n",
    "    count = 0\n",
    "    total = len(list_)\n",
    "    for i in list_: \n",
    "        count+= float(i)\n",
    "    output = count/total\n",
    "    return output\n",
    "\n"
   ]
  },
  {
   "cell_type": "code",
   "execution_count": 24,
   "metadata": {},
   "outputs": [],
   "source": [
    "sample_list = [12, 23, 44, 223, 21]"
   ]
  },
  {
   "cell_type": "code",
   "execution_count": 25,
   "metadata": {},
   "outputs": [
    {
     "data": {
      "text/plain": [
       "64.6"
      ]
     },
     "execution_count": 25,
     "metadata": {},
     "output_type": "execute_result"
    }
   ],
   "source": [
    "my_mean(sample_list)"
   ]
  },
  {
   "cell_type": "markdown",
   "metadata": {},
   "source": [
    "2. Manually calculate standard deviation:\n",
    "\n",
    "    The formula for standard deviation is below:\n",
    "\n",
    "    $$\\sigma = \\sqrt{\\frac{1}{n}\\sum_{i=1}^n(x_i - \\mu)^2}$$\n",
    "\n",
    "    Where $x_i$ represents each value in the dataset, $\\mu$ represents the mean of all values in the dataset and $n$ represents the number of values in the dataset.\n",
    "\n",
    "    Write a function that takes in values and returns the standard deviation of the values using the formula above. Hint: use the function you wrote above to calculate the mean! Use the list of numbers you created above to test on your function.\n",
    "    \n",
    "    *Note*: Do not use any standard deviation methods built-in to any Python libraries to do this! This should be done without importing any additional libraries."
   ]
  },
  {
   "cell_type": "code",
   "execution_count": 26,
   "metadata": {},
   "outputs": [],
   "source": [
    "# Code:\n",
    "def my_sd(list_):\n",
    "    miu = my_mean(list_)\n",
    "    n = len(list_)\n",
    "    count = 0\n",
    "    for i in list_:\n",
    "        delta = (float(i)-miu)**2\n",
    "        count += delta\n",
    "    sd_ = (count/n)**0.5\n",
    "    return sd_"
   ]
  },
  {
   "cell_type": "code",
   "execution_count": 27,
   "metadata": {},
   "outputs": [
    {
     "data": {
      "text/plain": [
       "79.89142632347979"
      ]
     },
     "execution_count": 27,
     "metadata": {},
     "output_type": "execute_result"
    }
   ],
   "source": [
    "my_sd(sample_list)"
   ]
  },
  {
   "cell_type": "markdown",
   "metadata": {},
   "source": [
    "3. Data cleaning function:\n",
    "    \n",
    "    Write a function that takes in a string that is a number and a percent symbol (ex. '50%', '30.5%', etc.) and converts this to a float that is the decimal approximation of the percent. For example, inputting '50%' in your function should return 0.5, '30.5%' should return 0.305, etc. Make sure to test your function to make sure it works!\n",
    "\n",
    "You will use these functions later on in the project!"
   ]
  },
  {
   "cell_type": "code",
   "execution_count": 28,
   "metadata": {},
   "outputs": [],
   "source": [
    "# Code:\n",
    "def perc_to_dec(x):\n",
    "    x=x.split('%') # '53.5%'.split('%') outputs ['53.5', '']\n",
    "    x=float(x[0])/100\n",
    "    return x\n"
   ]
  },
  {
   "cell_type": "code",
   "execution_count": 29,
   "metadata": {},
   "outputs": [
    {
     "data": {
      "text/plain": [
       "0.535"
      ]
     },
     "execution_count": 29,
     "metadata": {},
     "output_type": "execute_result"
    }
   ],
   "source": [
    "perc_to_dec(\"53.5%\")"
   ]
  },
  {
   "cell_type": "code",
   "execution_count": 30,
   "metadata": {},
   "outputs": [
    {
     "data": {
      "text/plain": [
       "0.07856"
      ]
     },
     "execution_count": 30,
     "metadata": {},
     "output_type": "execute_result"
    }
   ],
   "source": [
    "perc_to_dec(\"7.856%\")"
   ]
  },
  {
   "cell_type": "markdown",
   "metadata": {},
   "source": [
    "--- \n",
    "# Part 2\n",
    "\n",
    "Part 2 requires knowledge of Pandas, EDA, data cleaning, and data visualization.\n",
    "\n",
    "---"
   ]
  },
  {
   "cell_type": "markdown",
   "metadata": {},
   "source": [
    "*All libraries used should be added here*"
   ]
  },
  {
   "cell_type": "code",
   "execution_count": 31,
   "metadata": {},
   "outputs": [],
   "source": [
    "import numpy as np\n",
    "import pandas as pd\n",
    "import matplotlib.pyplot as plt\n",
    "import seaborn as sns "
   ]
  },
  {
   "cell_type": "markdown",
   "metadata": {},
   "source": [
    "## Data Import and Cleaning"
   ]
  },
  {
   "cell_type": "markdown",
   "metadata": {},
   "source": [
    "### Data Import & Cleaning\n",
    "\n",
    "Import the datasets that you selected for this project and go through the following steps at a minimum. You are welcome to do further cleaning as you feel necessary:\n",
    "1. Display the data: print the first 5 rows of each dataframe to your Jupyter notebook.\n",
    "2. Check for missing values.\n",
    "3. Check for any obvious issues with the observations (keep in mind the minimum & maximum possible values for each test/subtest).\n",
    "4. Fix any errors you identified in steps 2-3.\n",
    "5. Display the data types of each feature.\n",
    "6. Fix any incorrect data types found in step 5.\n",
    "    - Fix any individual values preventing other columns from being the appropriate type.\n",
    "    - If your dataset has a column of percents (ex. '50%', '30.5%', etc.), use the function you wrote in Part 1 (coding challenges, number 3) to convert this to floats! *Hint*: use `.map()` or `.apply()`.\n",
    "7. Rename Columns.\n",
    "    - Column names should be all lowercase.\n",
    "    - Column names should not contain spaces (underscores will suffice--this allows for using the `df.column_name` method to access columns in addition to `df['column_name']`).\n",
    "    - Column names should be unique and informative.\n",
    "8. Drop unnecessary rows (if needed).\n",
    "9. Merge dataframes that can be merged.\n",
    "10. Perform any additional cleaning that you feel is necessary.\n",
    "11. Save your cleaned and merged dataframes as csv files."
   ]
  },
  {
   "cell_type": "markdown",
   "metadata": {},
   "source": [
    "### Separate File for Data Cleaning (data_clean.ipynb)\n",
    "\n",
    "I have done the data cleaning in the attached file named data_clean.ipynb\n",
    "\n",
    "- ACT Data Cleaning\n",
    "- SAT Data Cleaning\n",
    "- California Data Cleaning\n",
    "- College Data Cleaning\n",
    "- GDP By States Data Cleaning (external data source)\n",
    "\n",
    "I cleaned all datasets because I was initially unsure of what problem statement to use. After deciding on the problem statement, the essential data are consolidated in the dataframe below."
   ]
  },
  {
   "cell_type": "code",
   "execution_count": 32,
   "metadata": {},
   "outputs": [
    {
     "data": {
      "text/html": [
       "<div>\n",
       "<style scoped>\n",
       "    .dataframe tbody tr th:only-of-type {\n",
       "        vertical-align: middle;\n",
       "    }\n",
       "\n",
       "    .dataframe tbody tr th {\n",
       "        vertical-align: top;\n",
       "    }\n",
       "\n",
       "    .dataframe thead th {\n",
       "        text-align: right;\n",
       "    }\n",
       "</style>\n",
       "<table border=\"1\" class=\"dataframe\">\n",
       "  <thead>\n",
       "    <tr style=\"text-align: right;\">\n",
       "      <th></th>\n",
       "      <th>State</th>\n",
       "      <th>2017 SAT Participation</th>\n",
       "      <th>2017 SAT Total</th>\n",
       "      <th>2018 SAT Participation</th>\n",
       "      <th>2018 SAT Total</th>\n",
       "      <th>2019 SAT Participation</th>\n",
       "      <th>2019 SAT Total</th>\n",
       "      <th>2017 ACT Participation</th>\n",
       "      <th>2017 ACT Composite</th>\n",
       "      <th>2018 ACT Participation</th>\n",
       "      <th>2018 ACT Composite</th>\n",
       "      <th>2019 ACT Participation</th>\n",
       "      <th>2019 ACT Composite</th>\n",
       "      <th>2019 Total GDP (Millions USD)</th>\n",
       "    </tr>\n",
       "  </thead>\n",
       "  <tbody>\n",
       "    <tr>\n",
       "      <th>0</th>\n",
       "      <td>Alabama</td>\n",
       "      <td>5%</td>\n",
       "      <td>1165.0</td>\n",
       "      <td>6%</td>\n",
       "      <td>1166.0</td>\n",
       "      <td>7%</td>\n",
       "      <td>1143.0</td>\n",
       "      <td>100%</td>\n",
       "      <td>19.2</td>\n",
       "      <td>100%</td>\n",
       "      <td>19.1</td>\n",
       "      <td>100%</td>\n",
       "      <td>18.9</td>\n",
       "      <td>813535.6</td>\n",
       "    </tr>\n",
       "    <tr>\n",
       "      <th>1</th>\n",
       "      <td>Alaska</td>\n",
       "      <td>38%</td>\n",
       "      <td>1080.0</td>\n",
       "      <td>43%</td>\n",
       "      <td>1106.0</td>\n",
       "      <td>41%</td>\n",
       "      <td>1097.0</td>\n",
       "      <td>65%</td>\n",
       "      <td>19.8</td>\n",
       "      <td>33%</td>\n",
       "      <td>20.8</td>\n",
       "      <td>38%</td>\n",
       "      <td>20.1</td>\n",
       "      <td>213345.9</td>\n",
       "    </tr>\n",
       "    <tr>\n",
       "      <th>2</th>\n",
       "      <td>Arizona</td>\n",
       "      <td>30%</td>\n",
       "      <td>1116.0</td>\n",
       "      <td>29%</td>\n",
       "      <td>1149.0</td>\n",
       "      <td>31%</td>\n",
       "      <td>1134.0</td>\n",
       "      <td>62%</td>\n",
       "      <td>19.7</td>\n",
       "      <td>66%</td>\n",
       "      <td>19.2</td>\n",
       "      <td>73%</td>\n",
       "      <td>19.0</td>\n",
       "      <td>1295577.4</td>\n",
       "    </tr>\n",
       "    <tr>\n",
       "      <th>3</th>\n",
       "      <td>Arkansas</td>\n",
       "      <td>3%</td>\n",
       "      <td>1208.0</td>\n",
       "      <td>5%</td>\n",
       "      <td>1169.0</td>\n",
       "      <td>6%</td>\n",
       "      <td>1141.0</td>\n",
       "      <td>100%</td>\n",
       "      <td>19.4</td>\n",
       "      <td>100%</td>\n",
       "      <td>19.4</td>\n",
       "      <td>100%</td>\n",
       "      <td>19.3</td>\n",
       "      <td>467163.8</td>\n",
       "    </tr>\n",
       "    <tr>\n",
       "      <th>4</th>\n",
       "      <td>California</td>\n",
       "      <td>53%</td>\n",
       "      <td>1055.0</td>\n",
       "      <td>60%</td>\n",
       "      <td>1076.0</td>\n",
       "      <td>63%</td>\n",
       "      <td>1065.0</td>\n",
       "      <td>31%</td>\n",
       "      <td>22.8</td>\n",
       "      <td>27%</td>\n",
       "      <td>22.7</td>\n",
       "      <td>23%</td>\n",
       "      <td>22.6</td>\n",
       "      <td>10957373.7</td>\n",
       "    </tr>\n",
       "  </tbody>\n",
       "</table>\n",
       "</div>"
      ],
      "text/plain": [
       "        State 2017 SAT Participation  2017 SAT Total 2018 SAT Participation  \\\n",
       "0     Alabama                     5%          1165.0                     6%   \n",
       "1      Alaska                    38%          1080.0                    43%   \n",
       "2     Arizona                    30%          1116.0                    29%   \n",
       "3    Arkansas                     3%          1208.0                     5%   \n",
       "4  California                    53%          1055.0                    60%   \n",
       "\n",
       "   2018 SAT Total 2019 SAT Participation  2019 SAT Total  \\\n",
       "0          1166.0                     7%          1143.0   \n",
       "1          1106.0                    41%          1097.0   \n",
       "2          1149.0                    31%          1134.0   \n",
       "3          1169.0                     6%          1141.0   \n",
       "4          1076.0                    63%          1065.0   \n",
       "\n",
       "  2017 ACT Participation 2017 ACT Composite 2018 ACT Participation  \\\n",
       "0                   100%               19.2                   100%   \n",
       "1                    65%               19.8                    33%   \n",
       "2                    62%               19.7                    66%   \n",
       "3                   100%               19.4                   100%   \n",
       "4                    31%               22.8                    27%   \n",
       "\n",
       "   2018 ACT Composite 2019 ACT Participation  2019 ACT Composite  \\\n",
       "0                19.1                   100%                18.9   \n",
       "1                20.8                    38%                20.1   \n",
       "2                19.2                    73%                19.0   \n",
       "3                19.4                   100%                19.3   \n",
       "4                22.7                    23%                22.6   \n",
       "\n",
       "   2019 Total GDP (Millions USD)  \n",
       "0                       813535.6  \n",
       "1                       213345.9  \n",
       "2                      1295577.4  \n",
       "3                       467163.8  \n",
       "4                     10957373.7  "
      ]
     },
     "execution_count": 32,
     "metadata": {},
     "output_type": "execute_result"
    }
   ],
   "source": [
    "merged_gdp_sat_act_file = 'merged_gdp_sat_act.csv'\n",
    "merged_gdp_sat_act_df = pd.read_csv(merged_gdp_sat_act_file)\n",
    "merged_gdp_sat_act_df.head()"
   ]
  },
  {
   "cell_type": "code",
   "execution_count": 33,
   "metadata": {},
   "outputs": [
    {
     "name": "stdout",
     "output_type": "stream",
     "text": [
      "<class 'pandas.core.frame.DataFrame'>\n",
      "RangeIndex: 51 entries, 0 to 50\n",
      "Data columns (total 14 columns):\n",
      " #   Column                         Non-Null Count  Dtype  \n",
      "---  ------                         --------------  -----  \n",
      " 0   State                          51 non-null     object \n",
      " 1   2017 SAT Participation         51 non-null     object \n",
      " 2   2017 SAT Total                 51 non-null     float64\n",
      " 3   2018 SAT Participation         51 non-null     object \n",
      " 4   2018 SAT Total                 51 non-null     float64\n",
      " 5   2019 SAT Participation         51 non-null     object \n",
      " 6   2019 SAT Total                 51 non-null     float64\n",
      " 7   2017 ACT Participation         51 non-null     object \n",
      " 8   2017 ACT Composite             51 non-null     object \n",
      " 9   2018 ACT Participation         51 non-null     object \n",
      " 10  2018 ACT Composite             51 non-null     float64\n",
      " 11  2019 ACT Participation         51 non-null     object \n",
      " 12  2019 ACT Composite             51 non-null     float64\n",
      " 13  2019 Total GDP (Millions USD)  51 non-null     float64\n",
      "dtypes: float64(6), object(8)\n",
      "memory usage: 5.7+ KB\n"
     ]
    }
   ],
   "source": [
    "merged_gdp_sat_act_df.info()"
   ]
  },
  {
   "cell_type": "markdown",
   "metadata": {},
   "source": [
    "### Data Dictionary\n",
    "\n",
    "Now that we've fixed our data, and given it appropriate names, let's create a [data dictionary](http://library.ucmerced.edu/node/10249). \n",
    "\n",
    "A data dictionary provides a quick overview of features/variables/columns, alongside data types and descriptions. The more descriptive you can be, the more useful this document is.\n",
    "\n",
    "Example of a Fictional Data Dictionary Entry: \n",
    "\n",
    "|Feature|Type|Dataset|Description|\n",
    "|---|---|---|---|\n",
    "|**county_pop**|*integer*|2010 census|The population of the county (units in thousands, where 2.5 represents 2500 people).| \n",
    "|**per_poverty**|*float*|2010 census|The percent of the county over the age of 18 living below the 200% of official US poverty rate (units percent to two decimal places 98.10 means 98.1%)|\n",
    "\n",
    "[Here's a quick link to a short guide for formatting markdown in Jupyter notebooks](https://jupyter-notebook.readthedocs.io/en/stable/examples/Notebook/Working%20With%20Markdown%20Cells.html).\n",
    "\n",
    "Provided is the skeleton for formatting a markdown table, with columns headers that will help you create a data dictionary to quickly summarize your data, as well as some examples. **This would be a great thing to copy and paste into your custom README for this project.**\n",
    "\n",
    "*Note*: if you are unsure of what a feature is, check the source of the data! This can be found in the README."
   ]
  },
  {
   "cell_type": "markdown",
   "metadata": {},
   "source": [
    "**To-Do:** *Edit the table below to create your own data dictionary for the datasets you chose.*\n",
    "\n",
    "|Feature|Type|Dataset|Description|\n",
    "|---|---|---|---| \n",
    "|2017 SAT Participation|string|SAT 2017|The participation rate by state in the 2017 SAT|\n",
    "|2017 SAT Total|float|SAT 2017|The average total score by state in the 2017 SAT|\n",
    "|2018 SAT Participation|string|SAT 2018|The participation rate by state in the 2018 SAT|\n",
    "|2018 SAT Total|float|SAT 2018|The average total score by state in the 2018 SAT|\n",
    "|2019 SAT Participation|string|SAT 2019|The participation rate by state in the 2019 SAT|\n",
    "|2019 SAT Total|float|SAT 2019|The average total score by state in the 2019 SAT|\n",
    "|2017 ACT Participation|string|ACT 2017|The participation rate by state in the 2017 ACT|\n",
    "|2017 ACT Composite|float|ACT 2017|The average total score by state in the 2017 ACT|\n",
    "|2018 ACT Participation|string|ACT 2018|The participation rate by state in the 2018 ACT|\n",
    "|2018 ACT Composite|float|ACT 2018|The average total score by state in the 2018 ACT|\n",
    "|2019 ACT Participation|string|ACT 2019|The participation rate by state in the 2019 ACT|\n",
    "|2019 ACT Composite|float|ACT 2019|The average total score by state in the 2019 ACT|\n",
    "|2019 Total GDP (Millions USD)|float|GDP By States 2019|The Gross Domestic Product of each state in Millions in 2019|"
   ]
  },
  {
   "cell_type": "markdown",
   "metadata": {},
   "source": [
    "## Exploratory Data Analysis\n",
    "\n",
    "Complete the following steps to explore your data. You are welcome to do more EDA than the steps outlined here as you feel necessary:\n",
    "1. Summary Statistics.\n",
    "2. Use a **dictionary comprehension** to apply the standard deviation function you create in part 1 to each numeric column in the dataframe.  **No loops**.\n",
    "    - Assign the output to variable `sd` as a dictionary where: \n",
    "        - Each column name is now a key \n",
    "        - That standard deviation of the column is the value \n",
    "        - *Example Output :* `{'ACT_Math': 120, 'ACT_Reading': 120, ...}`\n",
    "3. Investigate trends in the data.\n",
    "    - Using sorting and/or masking (along with the `.head()` method to avoid printing our entire dataframe), consider questions relevant to your problem statement. Some examples are provided below (but feel free to change these questions for your specific problem):\n",
    "        - Which states have the highest and lowest participation rates for the 2017, 2019, or 2019 SAT and ACT?\n",
    "        - Which states have the highest and lowest mean total/composite scores for the 2017, 2019, or 2019 SAT and ACT?\n",
    "        - Do any states with 100% participation on a given test have a rate change year-to-year?\n",
    "        - Do any states show have >50% participation on *both* tests each year?\n",
    "        - Which colleges have the highest median SAT and ACT scores for admittance?\n",
    "        - Which California school districts have the highest and lowest mean test scores?\n",
    "    - **You should comment on your findings at each step in a markdown cell below your code block**. Make sure you include at least one example of sorting your dataframe by a column, and one example of using boolean filtering (i.e., masking) to select a subset of the dataframe."
   ]
  },
  {
   "cell_type": "markdown",
   "metadata": {},
   "source": [
    "1. Summary Statistics"
   ]
  },
  {
   "cell_type": "code",
   "execution_count": 36,
   "metadata": {},
   "outputs": [
    {
     "data": {
      "text/html": [
       "<div>\n",
       "<style scoped>\n",
       "    .dataframe tbody tr th:only-of-type {\n",
       "        vertical-align: middle;\n",
       "    }\n",
       "\n",
       "    .dataframe tbody tr th {\n",
       "        vertical-align: top;\n",
       "    }\n",
       "\n",
       "    .dataframe thead th {\n",
       "        text-align: right;\n",
       "    }\n",
       "</style>\n",
       "<table border=\"1\" class=\"dataframe\">\n",
       "  <thead>\n",
       "    <tr style=\"text-align: right;\">\n",
       "      <th></th>\n",
       "      <th>2017 SAT Total</th>\n",
       "      <th>2018 SAT Total</th>\n",
       "      <th>2019 SAT Total</th>\n",
       "      <th>2018 ACT Composite</th>\n",
       "      <th>2019 ACT Composite</th>\n",
       "      <th>2019 Total GDP (Millions USD)</th>\n",
       "    </tr>\n",
       "  </thead>\n",
       "  <tbody>\n",
       "    <tr>\n",
       "      <th>count</th>\n",
       "      <td>51.000000</td>\n",
       "      <td>51.000000</td>\n",
       "      <td>51.000000</td>\n",
       "      <td>51.000000</td>\n",
       "      <td>51.000000</td>\n",
       "      <td>5.100000e+01</td>\n",
       "    </tr>\n",
       "    <tr>\n",
       "      <th>mean</th>\n",
       "      <td>1127.313725</td>\n",
       "      <td>1120.725490</td>\n",
       "      <td>1113.823529</td>\n",
       "      <td>21.503922</td>\n",
       "      <td>21.480392</td>\n",
       "      <td>1.475265e+06</td>\n",
       "    </tr>\n",
       "    <tr>\n",
       "      <th>std</th>\n",
       "      <td>90.520382</td>\n",
       "      <td>93.191433</td>\n",
       "      <td>96.259380</td>\n",
       "      <td>2.120279</td>\n",
       "      <td>2.212150</td>\n",
       "      <td>1.938876e+06</td>\n",
       "    </tr>\n",
       "    <tr>\n",
       "      <th>min</th>\n",
       "      <td>996.000000</td>\n",
       "      <td>998.000000</td>\n",
       "      <td>943.000000</td>\n",
       "      <td>17.700000</td>\n",
       "      <td>17.900000</td>\n",
       "      <td>1.196114e+05</td>\n",
       "    </tr>\n",
       "    <tr>\n",
       "      <th>25%</th>\n",
       "      <td>1055.500000</td>\n",
       "      <td>1057.500000</td>\n",
       "      <td>1038.000000</td>\n",
       "      <td>19.950000</td>\n",
       "      <td>19.800000</td>\n",
       "      <td>3.126038e+05</td>\n",
       "    </tr>\n",
       "    <tr>\n",
       "      <th>50%</th>\n",
       "      <td>1107.000000</td>\n",
       "      <td>1098.000000</td>\n",
       "      <td>1097.000000</td>\n",
       "      <td>21.300000</td>\n",
       "      <td>21.100000</td>\n",
       "      <td>8.499314e+05</td>\n",
       "    </tr>\n",
       "    <tr>\n",
       "      <th>75%</th>\n",
       "      <td>1212.000000</td>\n",
       "      <td>1204.000000</td>\n",
       "      <td>1210.000000</td>\n",
       "      <td>23.750000</td>\n",
       "      <td>23.900000</td>\n",
       "      <td>1.909104e+06</td>\n",
       "    </tr>\n",
       "    <tr>\n",
       "      <th>max</th>\n",
       "      <td>1295.000000</td>\n",
       "      <td>1298.000000</td>\n",
       "      <td>1284.000000</td>\n",
       "      <td>25.600000</td>\n",
       "      <td>25.500000</td>\n",
       "      <td>1.095737e+07</td>\n",
       "    </tr>\n",
       "  </tbody>\n",
       "</table>\n",
       "</div>"
      ],
      "text/plain": [
       "       2017 SAT Total  2018 SAT Total  2019 SAT Total  2018 ACT Composite  \\\n",
       "count       51.000000       51.000000       51.000000           51.000000   \n",
       "mean      1127.313725     1120.725490     1113.823529           21.503922   \n",
       "std         90.520382       93.191433       96.259380            2.120279   \n",
       "min        996.000000      998.000000      943.000000           17.700000   \n",
       "25%       1055.500000     1057.500000     1038.000000           19.950000   \n",
       "50%       1107.000000     1098.000000     1097.000000           21.300000   \n",
       "75%       1212.000000     1204.000000     1210.000000           23.750000   \n",
       "max       1295.000000     1298.000000     1284.000000           25.600000   \n",
       "\n",
       "       2019 ACT Composite  2019 Total GDP (Millions USD)  \n",
       "count           51.000000                   5.100000e+01  \n",
       "mean            21.480392                   1.475265e+06  \n",
       "std              2.212150                   1.938876e+06  \n",
       "min             17.900000                   1.196114e+05  \n",
       "25%             19.800000                   3.126038e+05  \n",
       "50%             21.100000                   8.499314e+05  \n",
       "75%             23.900000                   1.909104e+06  \n",
       "max             25.500000                   1.095737e+07  "
      ]
     },
     "execution_count": 36,
     "metadata": {},
     "output_type": "execute_result"
    }
   ],
   "source": [
    "#Code:\n",
    "merged_gdp_sat_act_df.describe()"
   ]
  },
  {
   "cell_type": "markdown",
   "metadata": {},
   "source": [
    "2. Dictionary Comprehension/Standard Deviation"
   ]
  },
  {
   "cell_type": "code",
   "execution_count": 38,
   "metadata": {},
   "outputs": [],
   "source": [
    "sd_dict = {}"
   ]
  },
  {
   "cell_type": "code",
   "execution_count": 49,
   "metadata": {},
   "outputs": [],
   "source": [
    "sd_dict['2017 SAT Total'.rstrip()]=my_sd(merged_gdp_sat_act_df['2017 SAT Total'])\n",
    "sd_dict['2018 SAT Total']=my_sd(merged_gdp_sat_act_df['2018 SAT Total'])\n",
    "sd_dict['2019 SAT Total']=my_sd(merged_gdp_sat_act_df['2019 SAT Total'])\n",
    "sd_dict['2018 ACT Composite']=my_sd(merged_gdp_sat_act_df['2018 ACT Composite'])\n",
    "sd_dict['2019 ACT Composite']=my_sd(merged_gdp_sat_act_df['2019 ACT Composite'])\n",
    "sd_dict['2019 Total GDP (Millions USD)\t']=my_sd(merged_gdp_sat_act_df['2019 Total GDP (Millions USD)'])\n"
   ]
  },
  {
   "cell_type": "code",
   "execution_count": 51,
   "metadata": {},
   "outputs": [
    {
     "data": {
      "text/plain": [
       "{'2017 SAT Total\\t': 89.62853410235164,\n",
       " '2017 SAT Total': 89.62853410235164,\n",
       " '2018 SAT Total': 92.273268159942,\n",
       " '2019 SAT Total': 95.31098858162156,\n",
       " '2018 ACT Composite': 2.099389340187203,\n",
       " '2019 ACT Composite': 2.1903549365739288,\n",
       " '2019 Total GDP (Millions USD)\\t': 1919772.9074819398,\n",
       " '2017 SAT Total ': 89.62853410235164}"
      ]
     },
     "execution_count": 51,
     "metadata": {},
     "output_type": "execute_result"
    }
   ],
   "source": [
    "sd_dict # how to get rid of \\t ?"
   ]
  },
  {
   "cell_type": "markdown",
   "metadata": {},
   "source": [
    "3. Investigate Trends in Data"
   ]
  },
  {
   "cell_type": "markdown",
   "metadata": {},
   "source": [
    "**To-Do:** *Edit this cell with your findings on trends in the data (step 3 above).*"
   ]
  },
  {
   "cell_type": "markdown",
   "metadata": {},
   "source": [
    "## Visualize the Data\n",
    "\n",
    "There's not a magic bullet recommendation for the right number of plots to understand a given dataset, but visualizing your data is *always* a good idea. Not only does it allow you to quickly convey your findings (even if you have a non-technical audience), it will often reveal trends in your data that escaped you when you were looking only at numbers. It is important to not only create visualizations, but to **interpret your visualizations** as well.\n",
    "\n",
    "**Every plot should**:\n",
    "- Have a title\n",
    "- Have axis labels\n",
    "- Have appropriate tick labels\n",
    "- Text is legible in a plot\n",
    "- Plots demonstrate meaningful and valid relationships\n",
    "- Have an interpretation to aid understanding\n",
    "\n",
    "Here is an example of what your plots should look like following the above guidelines. Note that while the content of this example is unrelated, the principles of visualization hold:\n",
    "\n",
    "![](https://snag.gy/hCBR1U.jpg)\n",
    "*Interpretation: The above image shows that as we increase our spending on advertising, our sales numbers also tend to increase. There is a positive correlation between advertising spending and sales.*\n",
    "\n",
    "---\n",
    "\n",
    "Here are some prompts to get you started with visualizations. Feel free to add additional visualizations as you see fit:\n",
    "1. Use Seaborn's heatmap with pandas `.corr()` to visualize correlations between all numeric features.\n",
    "    - Heatmaps are generally not appropriate for presentations, and should often be excluded from reports as they can be visually overwhelming. **However**, they can be extremely useful in identify relationships of potential interest (as well as identifying potential collinearity before modeling).\n",
    "    - Please take time to format your output, adding a title. Look through some of the additional arguments and options. (Axis labels aren't really necessary, as long as the title is informative).\n",
    "2. Visualize distributions using histograms. If you have a lot, consider writing a custom function and use subplots.\n",
    "    - *OPTIONAL*: Summarize the underlying distributions of your features (in words & statistics)\n",
    "         - Be thorough in your verbal description of these distributions.\n",
    "         - Be sure to back up these summaries with statistics.\n",
    "         - We generally assume that data we sample from a population will be normally distributed. Do we observe this trend? Explain your answers for each distribution and how you think this will affect estimates made from these data.\n",
    "3. Plot and interpret boxplots. \n",
    "    - Boxplots demonstrate central tendency and spread in variables. In a certain sense, these are somewhat redundant with histograms, but you may be better able to identify clear outliers or differences in IQR, etc.\n",
    "    - Multiple values can be plotted to a single boxplot as long as they are of the same relative scale (meaning they have similar min/max values).\n",
    "    - Each boxplot should:\n",
    "        - Only include variables of a similar scale\n",
    "        - Have clear labels for each variable\n",
    "        - Have appropriate titles and labels\n",
    "4. Plot and interpret scatter plots to view relationships between features. Feel free to write a custom function, and subplot if you'd like. Functions save both time and space.\n",
    "    - Your plots should have:\n",
    "        - Two clearly labeled axes\n",
    "        - A proper title\n",
    "        - Colors and symbols that are clear and unmistakable\n",
    "5. Additional plots of your choosing.\n",
    "    - Are there any additional trends or relationships you haven't explored? Was there something interesting you saw that you'd like to dive further into? It's likely that there are a few more plots you might want to generate to support your narrative and recommendations that you are building toward. **As always, make sure you're interpreting your plots as you go**."
   ]
  },
  {
   "cell_type": "code",
   "execution_count": 52,
   "metadata": {},
   "outputs": [
    {
     "data": {
      "text/html": [
       "<div>\n",
       "<style scoped>\n",
       "    .dataframe tbody tr th:only-of-type {\n",
       "        vertical-align: middle;\n",
       "    }\n",
       "\n",
       "    .dataframe tbody tr th {\n",
       "        vertical-align: top;\n",
       "    }\n",
       "\n",
       "    .dataframe thead th {\n",
       "        text-align: right;\n",
       "    }\n",
       "</style>\n",
       "<table border=\"1\" class=\"dataframe\">\n",
       "  <thead>\n",
       "    <tr style=\"text-align: right;\">\n",
       "      <th></th>\n",
       "      <th>State</th>\n",
       "      <th>2017 SAT Participation</th>\n",
       "      <th>2017 SAT Total</th>\n",
       "      <th>2018 SAT Participation</th>\n",
       "      <th>2018 SAT Total</th>\n",
       "      <th>2019 SAT Participation</th>\n",
       "      <th>2019 SAT Total</th>\n",
       "      <th>2017 ACT Participation</th>\n",
       "      <th>2017 ACT Composite</th>\n",
       "      <th>2018 ACT Participation</th>\n",
       "      <th>2018 ACT Composite</th>\n",
       "      <th>2019 ACT Participation</th>\n",
       "      <th>2019 ACT Composite</th>\n",
       "      <th>2019 Total GDP (Millions USD)</th>\n",
       "    </tr>\n",
       "  </thead>\n",
       "  <tbody>\n",
       "    <tr>\n",
       "      <th>0</th>\n",
       "      <td>Alabama</td>\n",
       "      <td>5%</td>\n",
       "      <td>1165.0</td>\n",
       "      <td>6%</td>\n",
       "      <td>1166.0</td>\n",
       "      <td>7%</td>\n",
       "      <td>1143.0</td>\n",
       "      <td>100%</td>\n",
       "      <td>19.2</td>\n",
       "      <td>100%</td>\n",
       "      <td>19.1</td>\n",
       "      <td>100%</td>\n",
       "      <td>18.9</td>\n",
       "      <td>813535.6</td>\n",
       "    </tr>\n",
       "    <tr>\n",
       "      <th>1</th>\n",
       "      <td>Alaska</td>\n",
       "      <td>38%</td>\n",
       "      <td>1080.0</td>\n",
       "      <td>43%</td>\n",
       "      <td>1106.0</td>\n",
       "      <td>41%</td>\n",
       "      <td>1097.0</td>\n",
       "      <td>65%</td>\n",
       "      <td>19.8</td>\n",
       "      <td>33%</td>\n",
       "      <td>20.8</td>\n",
       "      <td>38%</td>\n",
       "      <td>20.1</td>\n",
       "      <td>213345.9</td>\n",
       "    </tr>\n",
       "    <tr>\n",
       "      <th>2</th>\n",
       "      <td>Arizona</td>\n",
       "      <td>30%</td>\n",
       "      <td>1116.0</td>\n",
       "      <td>29%</td>\n",
       "      <td>1149.0</td>\n",
       "      <td>31%</td>\n",
       "      <td>1134.0</td>\n",
       "      <td>62%</td>\n",
       "      <td>19.7</td>\n",
       "      <td>66%</td>\n",
       "      <td>19.2</td>\n",
       "      <td>73%</td>\n",
       "      <td>19.0</td>\n",
       "      <td>1295577.4</td>\n",
       "    </tr>\n",
       "    <tr>\n",
       "      <th>3</th>\n",
       "      <td>Arkansas</td>\n",
       "      <td>3%</td>\n",
       "      <td>1208.0</td>\n",
       "      <td>5%</td>\n",
       "      <td>1169.0</td>\n",
       "      <td>6%</td>\n",
       "      <td>1141.0</td>\n",
       "      <td>100%</td>\n",
       "      <td>19.4</td>\n",
       "      <td>100%</td>\n",
       "      <td>19.4</td>\n",
       "      <td>100%</td>\n",
       "      <td>19.3</td>\n",
       "      <td>467163.8</td>\n",
       "    </tr>\n",
       "    <tr>\n",
       "      <th>4</th>\n",
       "      <td>California</td>\n",
       "      <td>53%</td>\n",
       "      <td>1055.0</td>\n",
       "      <td>60%</td>\n",
       "      <td>1076.0</td>\n",
       "      <td>63%</td>\n",
       "      <td>1065.0</td>\n",
       "      <td>31%</td>\n",
       "      <td>22.8</td>\n",
       "      <td>27%</td>\n",
       "      <td>22.7</td>\n",
       "      <td>23%</td>\n",
       "      <td>22.6</td>\n",
       "      <td>10957373.7</td>\n",
       "    </tr>\n",
       "  </tbody>\n",
       "</table>\n",
       "</div>"
      ],
      "text/plain": [
       "        State 2017 SAT Participation  2017 SAT Total 2018 SAT Participation  \\\n",
       "0     Alabama                     5%          1165.0                     6%   \n",
       "1      Alaska                    38%          1080.0                    43%   \n",
       "2     Arizona                    30%          1116.0                    29%   \n",
       "3    Arkansas                     3%          1208.0                     5%   \n",
       "4  California                    53%          1055.0                    60%   \n",
       "\n",
       "   2018 SAT Total 2019 SAT Participation  2019 SAT Total  \\\n",
       "0          1166.0                     7%          1143.0   \n",
       "1          1106.0                    41%          1097.0   \n",
       "2          1149.0                    31%          1134.0   \n",
       "3          1169.0                     6%          1141.0   \n",
       "4          1076.0                    63%          1065.0   \n",
       "\n",
       "  2017 ACT Participation 2017 ACT Composite 2018 ACT Participation  \\\n",
       "0                   100%               19.2                   100%   \n",
       "1                    65%               19.8                    33%   \n",
       "2                    62%               19.7                    66%   \n",
       "3                   100%               19.4                   100%   \n",
       "4                    31%               22.8                    27%   \n",
       "\n",
       "   2018 ACT Composite 2019 ACT Participation  2019 ACT Composite  \\\n",
       "0                19.1                   100%                18.9   \n",
       "1                20.8                    38%                20.1   \n",
       "2                19.2                    73%                19.0   \n",
       "3                19.4                   100%                19.3   \n",
       "4                22.7                    23%                22.6   \n",
       "\n",
       "   2019 Total GDP (Millions USD)  \n",
       "0                       813535.6  \n",
       "1                       213345.9  \n",
       "2                      1295577.4  \n",
       "3                       467163.8  \n",
       "4                     10957373.7  "
      ]
     },
     "execution_count": 52,
     "metadata": {},
     "output_type": "execute_result"
    }
   ],
   "source": [
    "# Code\n",
    "merged_gdp_sat_act_df.head()"
   ]
  },
  {
   "cell_type": "code",
   "execution_count": 58,
   "metadata": {},
   "outputs": [
    {
     "data": {
      "text/html": [
       "<div>\n",
       "<style scoped>\n",
       "    .dataframe tbody tr th:only-of-type {\n",
       "        vertical-align: middle;\n",
       "    }\n",
       "\n",
       "    .dataframe tbody tr th {\n",
       "        vertical-align: top;\n",
       "    }\n",
       "\n",
       "    .dataframe thead th {\n",
       "        text-align: right;\n",
       "    }\n",
       "</style>\n",
       "<table border=\"1\" class=\"dataframe\">\n",
       "  <thead>\n",
       "    <tr style=\"text-align: right;\">\n",
       "      <th></th>\n",
       "      <th>2019 SAT Total</th>\n",
       "      <th>2019 Total GDP (Millions USD)</th>\n",
       "    </tr>\n",
       "  </thead>\n",
       "  <tbody>\n",
       "    <tr>\n",
       "      <th>0</th>\n",
       "      <td>1143.0</td>\n",
       "      <td>813535.6</td>\n",
       "    </tr>\n",
       "    <tr>\n",
       "      <th>1</th>\n",
       "      <td>1097.0</td>\n",
       "      <td>213345.9</td>\n",
       "    </tr>\n",
       "    <tr>\n",
       "      <th>2</th>\n",
       "      <td>1134.0</td>\n",
       "      <td>1295577.4</td>\n",
       "    </tr>\n",
       "    <tr>\n",
       "      <th>3</th>\n",
       "      <td>1141.0</td>\n",
       "      <td>467163.8</td>\n",
       "    </tr>\n",
       "    <tr>\n",
       "      <th>4</th>\n",
       "      <td>1065.0</td>\n",
       "      <td>10957373.7</td>\n",
       "    </tr>\n",
       "  </tbody>\n",
       "</table>\n",
       "</div>"
      ],
      "text/plain": [
       "   2019 SAT Total  2019 Total GDP (Millions USD)\n",
       "0          1143.0                       813535.6\n",
       "1          1097.0                       213345.9\n",
       "2          1134.0                      1295577.4\n",
       "3          1141.0                       467163.8\n",
       "4          1065.0                     10957373.7"
      ]
     },
     "execution_count": 58,
     "metadata": {},
     "output_type": "execute_result"
    }
   ],
   "source": [
    "SAT_19 = merged_gdp_sat_act_df.loc[:,['2019 SAT Total','2019 Total GDP (Millions USD)']]\n",
    "SAT_19.head()"
   ]
  },
  {
   "cell_type": "code",
   "execution_count": 62,
   "metadata": {},
   "outputs": [
    {
     "data": {
      "text/html": [
       "<div>\n",
       "<style scoped>\n",
       "    .dataframe tbody tr th:only-of-type {\n",
       "        vertical-align: middle;\n",
       "    }\n",
       "\n",
       "    .dataframe tbody tr th {\n",
       "        vertical-align: top;\n",
       "    }\n",
       "\n",
       "    .dataframe thead th {\n",
       "        text-align: right;\n",
       "    }\n",
       "</style>\n",
       "<table border=\"1\" class=\"dataframe\">\n",
       "  <thead>\n",
       "    <tr style=\"text-align: right;\">\n",
       "      <th></th>\n",
       "      <th>2019 SAT Total</th>\n",
       "      <th>2019 Total GDP (Millions USD)</th>\n",
       "    </tr>\n",
       "  </thead>\n",
       "  <tbody>\n",
       "    <tr>\n",
       "      <th>2019 SAT Total</th>\n",
       "      <td>1.000000</td>\n",
       "      <td>-0.231586</td>\n",
       "    </tr>\n",
       "    <tr>\n",
       "      <th>2019 Total GDP (Millions USD)</th>\n",
       "      <td>-0.231586</td>\n",
       "      <td>1.000000</td>\n",
       "    </tr>\n",
       "  </tbody>\n",
       "</table>\n",
       "</div>"
      ],
      "text/plain": [
       "                               2019 SAT Total  2019 Total GDP (Millions USD)\n",
       "2019 SAT Total                       1.000000                      -0.231586\n",
       "2019 Total GDP (Millions USD)       -0.231586                       1.000000"
      ]
     },
     "execution_count": 62,
     "metadata": {},
     "output_type": "execute_result"
    }
   ],
   "source": [
    "SAT_19.corr()"
   ]
  },
  {
   "cell_type": "code",
   "execution_count": 59,
   "metadata": {},
   "outputs": [
    {
     "data": {
      "text/plain": [
       "<AxesSubplot:>"
      ]
     },
     "execution_count": 59,
     "metadata": {},
     "output_type": "execute_result"
    },
    {
     "data": {
      "image/png": "[encoded data removed]",
      "text/plain": [
       "<Figure size 864x864 with 2 Axes>"
      ]
     },
     "metadata": {
      "needs_background": "light"
     },
     "output_type": "display_data"
    }
   ],
   "source": [
    "plt.figure(figsize=(12,12))\n",
    "sns.heatmap(SAT_19.corr(), annot=True)"
   ]
  },
  {
   "cell_type": "code",
   "execution_count": 61,
   "metadata": {},
   "outputs": [
    {
     "data": {
      "image/png": "[encoded data removed]",
      "text/plain": [
       "<Figure size 1152x648 with 1 Axes>"
      ]
     },
     "metadata": {
      "needs_background": "light"
     },
     "output_type": "display_data"
    }
   ],
   "source": [
    "plt.figure(figsize = (16, 9))\n",
    "\n",
    "# Create scatterplot of high prices versus volume.\n",
    "plt.scatter(SAT_19['2019 SAT Total'],\n",
    "            SAT_19['2019 Total GDP (Millions USD)']);\n",
    "\n",
    "plt.title(\"2019 Average SAT Score Versus State GDP\")\n",
    "plt.ylabel(\"2019 SAT Total\", fontsize = 20)\n",
    "plt.xlabel(\"2019 Total GDP (Millions USD)\", fontsize = 20);"
   ]
  },
  {
   "cell_type": "markdown",
   "metadata": {},
   "source": [
    "## Conclusions and Recommendations"
   ]
  },
  {
   "cell_type": "markdown",
   "metadata": {},
   "source": [
    "Based on your exploration of the data, what are you key takeaways and recommendations? Make sure to answer your question of interest or address your problem statement here."
   ]
  },
  {
   "cell_type": "markdown",
   "metadata": {},
   "source": [
    "**To-Do:** *Edit this cell with your conclusions and recommendations.*"
   ]
  },
  {
   "cell_type": "markdown",
   "metadata": {},
   "source": [
    "Don't forget to create your README!\n",
    "\n",
    "**To-Do:** *If you combine your problem statement, data dictionary, brief summary of your analysis, and conclusions/recommendations, you have an amazing README.md file that quickly aligns your audience to the contents of your project.* Don't forget to cite your data sources!"
   ]
  }
 ],
 "metadata": {
  "anaconda-cloud": {},
  "kernelspec": {
   "display_name": "Python 3.10.5 64-bit",
   "language": "python",
   "name": "python3"
  },
  "language_info": {
   "codemirror_mode": {
    "name": "ipython",
    "version": 3
   },
   "file_extension": ".py",
   "mimetype": "text/x-python",
   "name": "python",
   "nbconvert_exporter": "python",
   "pygments_lexer": "ipython3",
   "version": "3.10.5"
  },
  "vscode": {
   "interpreter": {
    "hash": "f1131d84b9e97d700f196cec3f143c1c5ca4787d89ba01101505d30befb8a4c0"
   }
  }
 },
 "nbformat": 4,
 "nbformat_minor": 4
}
