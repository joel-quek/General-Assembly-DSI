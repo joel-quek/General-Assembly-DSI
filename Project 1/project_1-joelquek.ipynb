{
 "cells": [
  {
   "cell_type": "markdown",
   "metadata": {},
   "source": [
    "<img src=\"http://imgur.com/1ZcRyrc.png\" style=\"float: left; margin: 20px; height: 55px\">\n",
    "\n",
    "# Project 1: A study of the effects of Median Household income on ACT/SAT results in US States."
   ]
  },
  {
   "cell_type": "markdown",
   "metadata": {},
   "source": [
    "## Part 1"
   ]
  },
  {
   "cell_type": "markdown",
   "metadata": {},
   "source": [
    "## Problem Statement"
   ]
  },
  {
   "cell_type": "markdown",
   "metadata": {},
   "source": [
    "It is often said that wealth inequality is a barrier to education and social mobility. As a data scientist, I am keen to find out if that is true. To approach this, I will study if there is a correlation between the Median Houshold Income of each state with their average SAT/ACT scores.\n",
    "\n",
    "And if there is a correlation found between wealth and educational attainment, we will discuss what can be done to bridge that gap, possibly in the form of monetary grants or tuition help.\n",
    "\n",
    "Source: https://www.urban.org/sites/default/files/publication/89976/wealth_and_education_4.pdf "
   ]
  },
  {
   "cell_type": "markdown",
   "metadata": {},
   "source": [
    "### Contents:\n",
    "- [Background](#Background)\n",
    "- [Data Import & Cleaning](#Data-Import-and-Cleaning)\n",
    "- [Exploratory Data Analysis](#Exploratory-Data-Analysis)\n",
    "- [Data Visualization](#Visualize-the-Data)\n",
    "- [Conclusions and Recommendations](#Conclusions-and-Recommendations)"
   ]
  },
  {
   "cell_type": "markdown",
   "metadata": {},
   "source": [
    "## Background"
   ]
  },
  {
   "cell_type": "markdown",
   "metadata": {},
   "source": [
    "The SAT and ACT are standardized tests that many colleges and universities in the United States require for their admissions process. This score is used along with other materials such as grade point average (GPA) and essay responses to determine whether or not a potential student will be accepted to the university.\n",
    "\n",
    "The SAT has two sections of the test: Evidence-Based Reading and Writing and Math ([*source*](https://www.princetonreview.com/college/sat-sections)). The ACT has 4 sections: English, Mathematics, Reading, and Science, with an additional optional writing section ([*source*](https://www.act.org/content/act/en/products-and-services/the-act/scores/understanding-your-scores.html)). They have different score ranges, which you can read more about on their websites or additional outside sources (a quick Google search will help you understand the scores for each test):\n",
    "* [SAT](https://collegereadiness.collegeboard.org/sat)\n",
    "* [ACT](https://www.act.org/content/act/en.html)\n",
    "\n",
    "Standardized tests have long been a controversial topic for students, administrators, and legislators. Since the 1940's, an increasing number of colleges have been using scores from sudents' performances on tests like the SAT and the ACT as a measure for college readiness and aptitude ([*source*](https://www.minotdailynews.com/news/local-news/2017/04/a-brief-history-of-the-sat-and-act/)). Supporters of these tests argue that these scores can be used as an objective measure to determine college admittance. Opponents of these tests claim that these tests are not accurate measures of students potential or ability and serve as an inequitable barrier to entry. Lately, more and more schools are opting to drop the SAT/ACT requirement for their Fall 2021 applications ([*read more about this here*](https://www.cnn.com/2020/04/14/us/coronavirus-colleges-sat-act-test-trnd/index.html))."
   ]
  },
  {
   "cell_type": "markdown",
   "metadata": {},
   "source": [
    "I will be using the data provided by General Assembly, and also online sources like [Ivy League Entry Requirements](https://www.bestcolleges.com/blog/good-sat-score-ivy-league/) and [College Entry Requirements](https://www.compassprep.com/college-profiles/) for my analysis."
   ]
  },
  {
   "cell_type": "markdown",
   "metadata": {},
   "source": [
    "### Choose your Data\n",
    "\n",
    "There are 10 datasets included in the [`data`](./data/) folder for this project. You are required to pick **at least two** of these to complete your analysis. Feel free to use more than two if you would like, or add other relevant datasets you find online.\n",
    "\n",
    "* [`act_2017.csv`](./data/act_2017.csv): 2017 ACT Scores by State\n",
    "* [`act_2018.csv`](./data/act_2018.csv): 2018 ACT Scores by State\n",
    "* [`act_2019.csv`](./data/act_2019.csv): 2019 ACT Scores by State\n",
    "* [`act_2019_ca.csv`](./data/act_2019_ca.csv): 2019 ACT Scores in California by School\n",
    "* [`sat_2017.csv`](./data/sat_2017.csv): 2017 SAT Scores by State\n",
    "* [`sat_2018.csv`](./data/sat_2018.csv): 2018 SAT Scores by State\n",
    "* [`sat_2019.csv`](./data/sat_2019.csv): 2019 SAT Scores by State\n",
    "* [`sat_2019_by_intended_college_major.csv`](./data/sat_2019_by_intended_college_major.csv): 2019 SAT Scores by Intended College Major\n",
    "* [`sat_2019_ca.csv`](./data/sat_2019_ca.csv): 2019 SAT Scores in California by School\n",
    "* [`sat_act_by_college.csv`](./data/sat_act_by_college.csv): Ranges of Accepted ACT & SAT Student Scores by Colleges"
   ]
  },
  {
   "cell_type": "markdown",
   "metadata": {},
   "source": [
    "### I will be using the following datasets in my project:\n",
    "\n",
    "ACT Scores\n",
    "* [`act_2017.csv`](./data/act_2017.csv): 2017 ACT Scores by State\n",
    "* [`act_2018.csv`](./data/act_2018.csv): 2018 ACT Scores by State\n",
    "* [`act_2019.csv`](./data/act_2019.csv): 2019 ACT Scores by State\n",
    "\n",
    "SAT Scores\n",
    "* [`sat_2017.csv`](./data/sat_2017.csv): 2017 SAT Scores by State\n",
    "* [`sat_2018.csv`](./data/sat_2018.csv): 2018 SAT Scores by State\n",
    "* [`sat_2019.csv`](./data/sat_2019.csv): 2019 SAT Scores by State"
   ]
  },
  {
   "cell_type": "markdown",
   "metadata": {},
   "source": [
    "### Outside Research"
   ]
  },
  {
   "cell_type": "markdown",
   "metadata": {},
   "source": [
    "Median Personal Income by States [External Source]\n",
    "* [2017_median_pers_income.csv](./data/2017_median_pers_income.csv): Median Personal Income by States 2017\n",
    "* [2018_median_pers_income.csv](./data/2018_median_pers_income.csv): Median Personal Income by States 2018\n",
    "* [2019_median_pers_income.csv](./data/2019_median_pers_income.csv): Median Personal Income by States 2019\n",
    "\n",
    "Source: https://fred.stlouisfed.org/release/tables?rid=249&eid=259515&od=2019-01-01#"
   ]
  },
  {
   "cell_type": "markdown",
   "metadata": {},
   "source": [
    "### Inspiration\n",
    "\n",
    "My inspiration for the project comes from the article [\"Wealth Inequality Is a Barrier to Education and Social Mobility\"](https://www.urban.org/sites/default/files/publication/89976/wealth_and_education_4.pdf). The author of the article concludes that wealth can help youth attain educational achievement and help access greater opportunities. I would like to conduct my own research into the GDP and Average Personal Income levels of each state to find out if that statement is true.\n",
    "\n",
    "### Median Personal Income Per State\n",
    "\n",
    "Data Source for Median Personal Income: https://fred.stlouisfed.org/release/tables?rid=249&eid=259515&od=2017-01-01#\n",
    "\n",
    "My research online also led me to the St. Louis Fed Economic Data website where they have archived the Real Median Household Income by State annually from 1984 till present. \n",
    "\n",
    "I believe that with the data provided by General Assembly, I will be able to plot any trends (if present) against the GDP and Income data found online."
   ]
  },
  {
   "cell_type": "markdown",
   "metadata": {},
   "source": [
    "### Coding Challenges\n",
    "\n",
    "1. Manually calculate mean:\n",
    "\n",
    "    Write a function that takes in values and returns the mean of the values. Create a list of numbers that you test on your function to check to make sure your function works!\n",
    "    \n",
    "    *Note*: Do not use any mean methods built-in to any Python libraries to do this! This should be done without importing any additional libraries."
   ]
  },
  {
   "cell_type": "code",
   "execution_count": 197,
   "metadata": {},
   "outputs": [],
   "source": [
    "# Code:\n",
    "def my_mean(list_):\n",
    "    count = 0\n",
    "    total = len(list_)\n",
    "    for i in list_: \n",
    "        count+= float(i)\n",
    "    output = count/total\n",
    "    return output"
   ]
  },
  {
   "cell_type": "code",
   "execution_count": 198,
   "metadata": {},
   "outputs": [
    {
     "data": {
      "text/plain": [
       "64.6"
      ]
     },
     "execution_count": 198,
     "metadata": {},
     "output_type": "execute_result"
    }
   ],
   "source": [
    "sample_list = [12, 23, 44, 223, 21]\n",
    "my_mean(sample_list)"
   ]
  },
  {
   "cell_type": "markdown",
   "metadata": {},
   "source": [
    "2. Manually calculate standard deviation:\n",
    "\n",
    "    The formula for standard deviation is below:\n",
    "\n",
    "    $$\\sigma = \\sqrt{\\frac{1}{n}\\sum_{i=1}^n(x_i - \\mu)^2}$$\n",
    "\n",
    "    Where $x_i$ represents each value in the dataset, $\\mu$ represents the mean of all values in the dataset and $n$ represents the number of values in the dataset.\n",
    "\n",
    "    Write a function that takes in values and returns the standard deviation of the values using the formula above. Hint: use the function you wrote above to calculate the mean! Use the list of numbers you created above to test on your function.\n",
    "    \n",
    "    *Note*: Do not use any standard deviation methods built-in to any Python libraries to do this! This should be done without importing any additional libraries."
   ]
  },
  {
   "cell_type": "code",
   "execution_count": 199,
   "metadata": {},
   "outputs": [],
   "source": [
    "# Code:\n",
    "def my_sd(list_):\n",
    "    miu = my_mean(list_)\n",
    "    n = len(list_)\n",
    "    count = 0\n",
    "    for i in list_:\n",
    "        delta = (float(i)-miu)**2\n",
    "        count += delta\n",
    "    sd_ = (count/n)**0.5\n",
    "    return sd_"
   ]
  },
  {
   "cell_type": "code",
   "execution_count": 200,
   "metadata": {},
   "outputs": [
    {
     "data": {
      "text/plain": [
       "79.89142632347979"
      ]
     },
     "execution_count": 200,
     "metadata": {},
     "output_type": "execute_result"
    }
   ],
   "source": [
    "my_sd(sample_list)"
   ]
  },
  {
   "cell_type": "markdown",
   "metadata": {},
   "source": [
    "3. Data cleaning function:\n",
    "    \n",
    "    Write a function that takes in a string that is a number and a percent symbol (ex. '50%', '30.5%', etc.) and converts this to a float that is the decimal approximation of the percent. For example, inputting '50%' in your function should return 0.5, '30.5%' should return 0.305, etc. Make sure to test your function to make sure it works!\n",
    "\n",
    "You will use these functions later on in the project!"
   ]
  },
  {
   "cell_type": "code",
   "execution_count": 201,
   "metadata": {},
   "outputs": [],
   "source": [
    "# Code:\n",
    "def perc_to_dec(x):\n",
    "    x=x.split('%') # '53.5%'.split('%') outputs ['53.5', '']\n",
    "    x=float(x[0])/100\n",
    "    return x"
   ]
  },
  {
   "cell_type": "code",
   "execution_count": 202,
   "metadata": {},
   "outputs": [
    {
     "data": {
      "text/plain": [
       "0.535"
      ]
     },
     "execution_count": 202,
     "metadata": {},
     "output_type": "execute_result"
    }
   ],
   "source": [
    "perc_to_dec(\"53.5%\")"
   ]
  },
  {
   "cell_type": "code",
   "execution_count": 203,
   "metadata": {},
   "outputs": [
    {
     "data": {
      "text/plain": [
       "0.07856"
      ]
     },
     "execution_count": 203,
     "metadata": {},
     "output_type": "execute_result"
    }
   ],
   "source": [
    "perc_to_dec(\"7.856%\")"
   ]
  },
  {
   "cell_type": "markdown",
   "metadata": {},
   "source": [
    "--- \n",
    "# Part 2\n"
   ]
  },
  {
   "cell_type": "markdown",
   "metadata": {},
   "source": [
    "## Data Import and Cleaning"
   ]
  },
  {
   "cell_type": "markdown",
   "metadata": {},
   "source": [
    "### Data Import & Cleaning"
   ]
  },
  {
   "cell_type": "markdown",
   "metadata": {},
   "source": [
    "**Imported Libraries**"
   ]
  },
  {
   "cell_type": "code",
   "execution_count": 204,
   "metadata": {},
   "outputs": [],
   "source": [
    "import numpy as np\n",
    "import pandas as pd\n",
    "import matplotlib.pyplot as plt\n",
    "import seaborn as sns \n",
    "from matplotlib.patches import Rectangle"
   ]
  },
  {
   "cell_type": "markdown",
   "metadata": {},
   "source": [
    "### Separate File for Data Cleaning [Filename: data_clean.ipynb]\n",
    "\n",
    "I have done the data cleaning in the ***attached file*** named data_clean.ipynb\n",
    "\n",
    "- ACT Data Cleaning\n",
    "- SAT Data Cleaning\n",
    "- California Data Cleaning\n",
    "- College Data Cleaning\n",
    "- GDP By States Data Cleaning (https://coast.noaa.gov/digitalcoast/data/gdp.html)\n",
    "- Median Personal Income By States (https://fred.stlouisfed.org/release/tables?rid=249&eid=259515&od=2017-01-01#)"
   ]
  },
  {
   "cell_type": "markdown",
   "metadata": {},
   "source": [
    "I will perform some final cleaning in the cell below"
   ]
  },
  {
   "cell_type": "code",
   "execution_count": 205,
   "metadata": {},
   "outputs": [
    {
     "name": "stderr",
     "output_type": "stream",
     "text": [
      "C:\\Users\\redoc\\AppData\\Local\\Temp\\ipykernel_51844\\4010058533.py:5: SettingWithCopyWarning: \n",
      "A value is trying to be set on a copy of a slice from a DataFrame\n",
      "\n",
      "See the caveats in the documentation: https://pandas.pydata.org/pandas-docs/stable/user_guide/indexing.html#returning-a-view-versus-a-copy\n",
      "  merged_gdp_sat_act_df['2017 ACT Composite'][50]=20.2\n"
     ]
    }
   ],
   "source": [
    "merged_gdp_sat_act_file = 'merged_gdp_sat_act.csv'\n",
    "merged_gdp_sat_act_df = pd.read_csv(merged_gdp_sat_act_file)\n",
    "merged_gdp_sat_act_df = merged_gdp_sat_act_df.drop([\"Unnamed: 0\"], axis=1)\n",
    "# There was one erroneous data that was '20.2x' which made it a string\n",
    "merged_gdp_sat_act_df['2017 ACT Composite'][50]=20.2 \n",
    "merged_gdp_sat_act_df['2017 ACT Composite'] = merged_gdp_sat_act_df['2017 ACT Composite'].astype(float)\n",
    "merged_gdp_sat_act_df = merged_gdp_sat_act_df.dropna()\n",
    "merged_gdp_sat_act_df.drop(['2017 SAT Participation','2018 SAT Participation','2019 SAT Participation','2017 ACT Participation','2018 ACT Participation','2019 ACT Participation','2017 Total GDP (Millions USD)','2018 Total GDP (Millions USD)','2019 Total GDP (Millions USD)'], axis=1, inplace=True)\n",
    "# merged_gdp_sat_act_df.head()"
   ]
  },
  {
   "cell_type": "markdown",
   "metadata": {},
   "source": [
    "### Dataframe Head and Description\n",
    "\n",
    "The Dataframe used for this study includes the:\n",
    "\n",
    "- SAT/ACT Participation Rates for every state\n",
    "- SAT/ACT average total/composite scores for each state\n",
    "- GDP per state\n",
    "- Median Household Income per state\n",
    "\n",
    "For the years 2017, 2018 and 2019.\n",
    "\n",
    "I cleaned all datasets because I was initially unsure of what problem statement to use. \n",
    "\n",
    "After deciding on the Problem Statement, the essential data are consolidated in the dataframe below.\n",
    "\n",
    "Here is the head of the dataframe used in the analysis."
   ]
  },
  {
   "cell_type": "code",
   "execution_count": 206,
   "metadata": {},
   "outputs": [
    {
     "data": {
      "text/html": [
       "<div>\n",
       "<style scoped>\n",
       "    .dataframe tbody tr th:only-of-type {\n",
       "        vertical-align: middle;\n",
       "    }\n",
       "\n",
       "    .dataframe tbody tr th {\n",
       "        vertical-align: top;\n",
       "    }\n",
       "\n",
       "    .dataframe thead th {\n",
       "        text-align: right;\n",
       "    }\n",
       "</style>\n",
       "<table border=\"1\" class=\"dataframe\">\n",
       "  <thead>\n",
       "    <tr style=\"text-align: right;\">\n",
       "      <th></th>\n",
       "      <th>State</th>\n",
       "      <th>2017 SAT Total</th>\n",
       "      <th>2018 SAT Total</th>\n",
       "      <th>2019 SAT Total</th>\n",
       "      <th>2017 ACT Composite</th>\n",
       "      <th>2018 ACT Composite</th>\n",
       "      <th>2019 ACT Composite</th>\n",
       "      <th>2017 Median Income</th>\n",
       "      <th>2018 Median Income</th>\n",
       "      <th>2019 Median Income</th>\n",
       "    </tr>\n",
       "  </thead>\n",
       "  <tbody>\n",
       "    <tr>\n",
       "      <th>0</th>\n",
       "      <td>Alabama</td>\n",
       "      <td>1165.0</td>\n",
       "      <td>1166.0</td>\n",
       "      <td>1143.0</td>\n",
       "      <td>19.2</td>\n",
       "      <td>19.1</td>\n",
       "      <td>18.9</td>\n",
       "      <td>56219</td>\n",
       "      <td>53879</td>\n",
       "      <td>59558</td>\n",
       "    </tr>\n",
       "    <tr>\n",
       "      <th>1</th>\n",
       "      <td>Alaska</td>\n",
       "      <td>1080.0</td>\n",
       "      <td>1106.0</td>\n",
       "      <td>1097.0</td>\n",
       "      <td>19.8</td>\n",
       "      <td>20.8</td>\n",
       "      <td>20.1</td>\n",
       "      <td>86196</td>\n",
       "      <td>74161</td>\n",
       "      <td>83079</td>\n",
       "    </tr>\n",
       "    <tr>\n",
       "      <th>2</th>\n",
       "      <td>Arizona</td>\n",
       "      <td>1116.0</td>\n",
       "      <td>1149.0</td>\n",
       "      <td>1134.0</td>\n",
       "      <td>19.7</td>\n",
       "      <td>19.2</td>\n",
       "      <td>19.0</td>\n",
       "      <td>65984</td>\n",
       "      <td>67201</td>\n",
       "      <td>74897</td>\n",
       "    </tr>\n",
       "    <tr>\n",
       "      <th>3</th>\n",
       "      <td>Arkansas</td>\n",
       "      <td>1208.0</td>\n",
       "      <td>1169.0</td>\n",
       "      <td>1141.0</td>\n",
       "      <td>19.4</td>\n",
       "      <td>19.4</td>\n",
       "      <td>19.3</td>\n",
       "      <td>54988</td>\n",
       "      <td>53712</td>\n",
       "      <td>57799</td>\n",
       "    </tr>\n",
       "    <tr>\n",
       "      <th>4</th>\n",
       "      <td>California</td>\n",
       "      <td>1055.0</td>\n",
       "      <td>1076.0</td>\n",
       "      <td>1065.0</td>\n",
       "      <td>22.8</td>\n",
       "      <td>22.7</td>\n",
       "      <td>22.6</td>\n",
       "      <td>77410</td>\n",
       "      <td>76055</td>\n",
       "      <td>82772</td>\n",
       "    </tr>\n",
       "  </tbody>\n",
       "</table>\n",
       "</div>"
      ],
      "text/plain": [
       "        State  2017 SAT Total  2018 SAT Total  2019 SAT Total  \\\n",
       "0     Alabama          1165.0          1166.0          1143.0   \n",
       "1      Alaska          1080.0          1106.0          1097.0   \n",
       "2     Arizona          1116.0          1149.0          1134.0   \n",
       "3    Arkansas          1208.0          1169.0          1141.0   \n",
       "4  California          1055.0          1076.0          1065.0   \n",
       "\n",
       "   2017 ACT Composite  2018 ACT Composite  2019 ACT Composite  \\\n",
       "0                19.2                19.1                18.9   \n",
       "1                19.8                20.8                20.1   \n",
       "2                19.7                19.2                19.0   \n",
       "3                19.4                19.4                19.3   \n",
       "4                22.8                22.7                22.6   \n",
       "\n",
       "   2017 Median Income  2018 Median Income  2019 Median Income  \n",
       "0               56219               53879               59558  \n",
       "1               86196               74161               83079  \n",
       "2               65984               67201               74897  \n",
       "3               54988               53712               57799  \n",
       "4               77410               76055               82772  "
      ]
     },
     "execution_count": 206,
     "metadata": {},
     "output_type": "execute_result"
    }
   ],
   "source": [
    "merged_gdp_sat_act_df.head()"
   ]
  },
  {
   "cell_type": "code",
   "execution_count": 207,
   "metadata": {},
   "outputs": [
    {
     "name": "stdout",
     "output_type": "stream",
     "text": [
      "<class 'pandas.core.frame.DataFrame'>\n",
      "RangeIndex: 51 entries, 0 to 50\n",
      "Data columns (total 10 columns):\n",
      " #   Column              Non-Null Count  Dtype  \n",
      "---  ------              --------------  -----  \n",
      " 0   State               51 non-null     object \n",
      " 1   2017 SAT Total      51 non-null     float64\n",
      " 2   2018 SAT Total      51 non-null     float64\n",
      " 3   2019 SAT Total      51 non-null     float64\n",
      " 4   2017 ACT Composite  51 non-null     float64\n",
      " 5   2018 ACT Composite  51 non-null     float64\n",
      " 6   2019 ACT Composite  51 non-null     float64\n",
      " 7   2017 Median Income  51 non-null     int64  \n",
      " 8   2018 Median Income  51 non-null     int64  \n",
      " 9   2019 Median Income  51 non-null     int64  \n",
      "dtypes: float64(6), int64(3), object(1)\n",
      "memory usage: 4.1+ KB\n"
     ]
    }
   ],
   "source": [
    "merged_gdp_sat_act_df.info()"
   ]
  },
  {
   "cell_type": "markdown",
   "metadata": {},
   "source": [
    "### Data Dictionary"
   ]
  },
  {
   "cell_type": "markdown",
   "metadata": {},
   "source": [
    "|Feature|Type|Dataset|Description|\n",
    "|---|---|---|---| \n",
    "|2017 SAT Total|float|SAT 2017|The average total score by state in the 2017 SAT. Highest possible score is 1600.|\n",
    "|2018 SAT Total|float|SAT 2018|The average total score by state in the 2018 SAT. Highest possible score is 1600.|\n",
    "|2019 SAT Total|float|SAT 2019|The average total score by state in the 2019 SAT. Highest possible score is 1600.|\n",
    "|2017 ACT Composite|float|ACT 2017|The average composite score by state in the 2017 ACT. Highest possible composite score is 36.|\n",
    "|2018 ACT Composite|float|ACT 2018|The average composite score by state in the 2018 ACT. Highest possible composite score is 36.|\n",
    "|2019 ACT Composite|float|ACT 2019|The average composite score by state in the 2019 ACT. Highest possible composite score is 36.|\n",
    "|2017 Median Income|int|2017 Median Income by State|2017 Median Annual Income by State. In USD.|\n",
    "|2018 Median Income|int|2018 Median Income by State|2018 Median Annual Income by State. In USD.|\n",
    "|2019 Median Income|int|2019 Median Income by State|2019 Median Annual Income by State. In USD.|\n",
    "\n",
    "ACT Source: https://www.princetonreview.com/college-advice/good-act-scores#:~:text=The%20ACT%20is%20scored%20on,of%20your%204%20section%20scores.\n",
    "\n",
    "SAT Source: https://satsuite.collegeboard.org/media/pdf/understanding-sat-scores.pdf \n",
    "\n",
    "Median Personal Income By States (https://fred.stlouisfed.org/release/tables?rid=249&eid=259515&od=2017-01-01#)"
   ]
  },
  {
   "cell_type": "markdown",
   "metadata": {},
   "source": [
    "## Exploratory Data Analysis"
   ]
  },
  {
   "cell_type": "markdown",
   "metadata": {},
   "source": [
    "1. **Summary Statistics**"
   ]
  },
  {
   "cell_type": "code",
   "execution_count": 208,
   "metadata": {},
   "outputs": [
    {
     "data": {
      "text/html": [
       "<div>\n",
       "<style scoped>\n",
       "    .dataframe tbody tr th:only-of-type {\n",
       "        vertical-align: middle;\n",
       "    }\n",
       "\n",
       "    .dataframe tbody tr th {\n",
       "        vertical-align: top;\n",
       "    }\n",
       "\n",
       "    .dataframe thead th {\n",
       "        text-align: right;\n",
       "    }\n",
       "</style>\n",
       "<table border=\"1\" class=\"dataframe\">\n",
       "  <thead>\n",
       "    <tr style=\"text-align: right;\">\n",
       "      <th></th>\n",
       "      <th>2017 SAT Total</th>\n",
       "      <th>2018 SAT Total</th>\n",
       "      <th>2019 SAT Total</th>\n",
       "      <th>2017 ACT Composite</th>\n",
       "      <th>2018 ACT Composite</th>\n",
       "      <th>2019 ACT Composite</th>\n",
       "      <th>2017 Median Income</th>\n",
       "      <th>2018 Median Income</th>\n",
       "      <th>2019 Median Income</th>\n",
       "    </tr>\n",
       "  </thead>\n",
       "  <tbody>\n",
       "    <tr>\n",
       "      <th>count</th>\n",
       "      <td>51.000000</td>\n",
       "      <td>51.000000</td>\n",
       "      <td>51.000000</td>\n",
       "      <td>51.000000</td>\n",
       "      <td>51.000000</td>\n",
       "      <td>51.000000</td>\n",
       "      <td>51.000000</td>\n",
       "      <td>51.000000</td>\n",
       "      <td>51.000000</td>\n",
       "    </tr>\n",
       "    <tr>\n",
       "      <th>mean</th>\n",
       "      <td>1127.313725</td>\n",
       "      <td>1120.725490</td>\n",
       "      <td>1113.823529</td>\n",
       "      <td>21.521569</td>\n",
       "      <td>21.503922</td>\n",
       "      <td>21.480392</td>\n",
       "      <td>67386.666667</td>\n",
       "      <td>68923.745098</td>\n",
       "      <td>73334.549020</td>\n",
       "    </tr>\n",
       "    <tr>\n",
       "      <th>std</th>\n",
       "      <td>90.520382</td>\n",
       "      <td>93.191433</td>\n",
       "      <td>96.259380</td>\n",
       "      <td>2.023395</td>\n",
       "      <td>2.120279</td>\n",
       "      <td>2.212150</td>\n",
       "      <td>10301.737364</td>\n",
       "      <td>10717.145099</td>\n",
       "      <td>11906.642523</td>\n",
       "    </tr>\n",
       "    <tr>\n",
       "      <th>min</th>\n",
       "      <td>996.000000</td>\n",
       "      <td>998.000000</td>\n",
       "      <td>943.000000</td>\n",
       "      <td>17.800000</td>\n",
       "      <td>17.700000</td>\n",
       "      <td>17.900000</td>\n",
       "      <td>47837.000000</td>\n",
       "      <td>46159.000000</td>\n",
       "      <td>47463.000000</td>\n",
       "    </tr>\n",
       "    <tr>\n",
       "      <th>25%</th>\n",
       "      <td>1055.500000</td>\n",
       "      <td>1057.500000</td>\n",
       "      <td>1038.000000</td>\n",
       "      <td>19.800000</td>\n",
       "      <td>19.950000</td>\n",
       "      <td>19.800000</td>\n",
       "      <td>60703.000000</td>\n",
       "      <td>62106.500000</td>\n",
       "      <td>64516.000000</td>\n",
       "    </tr>\n",
       "    <tr>\n",
       "      <th>50%</th>\n",
       "      <td>1107.000000</td>\n",
       "      <td>1098.000000</td>\n",
       "      <td>1097.000000</td>\n",
       "      <td>21.400000</td>\n",
       "      <td>21.300000</td>\n",
       "      <td>21.100000</td>\n",
       "      <td>65984.000000</td>\n",
       "      <td>67201.000000</td>\n",
       "      <td>71474.000000</td>\n",
       "    </tr>\n",
       "    <tr>\n",
       "      <th>75%</th>\n",
       "      <td>1212.000000</td>\n",
       "      <td>1204.000000</td>\n",
       "      <td>1210.000000</td>\n",
       "      <td>23.600000</td>\n",
       "      <td>23.750000</td>\n",
       "      <td>23.900000</td>\n",
       "      <td>75024.000000</td>\n",
       "      <td>75641.500000</td>\n",
       "      <td>78852.500000</td>\n",
       "    </tr>\n",
       "    <tr>\n",
       "      <th>max</th>\n",
       "      <td>1295.000000</td>\n",
       "      <td>1298.000000</td>\n",
       "      <td>1284.000000</td>\n",
       "      <td>25.500000</td>\n",
       "      <td>25.600000</td>\n",
       "      <td>25.500000</td>\n",
       "      <td>90734.000000</td>\n",
       "      <td>93163.000000</td>\n",
       "      <td>101283.000000</td>\n",
       "    </tr>\n",
       "  </tbody>\n",
       "</table>\n",
       "</div>"
      ],
      "text/plain": [
       "       2017 SAT Total  2018 SAT Total  2019 SAT Total  2017 ACT Composite  \\\n",
       "count       51.000000       51.000000       51.000000           51.000000   \n",
       "mean      1127.313725     1120.725490     1113.823529           21.521569   \n",
       "std         90.520382       93.191433       96.259380            2.023395   \n",
       "min        996.000000      998.000000      943.000000           17.800000   \n",
       "25%       1055.500000     1057.500000     1038.000000           19.800000   \n",
       "50%       1107.000000     1098.000000     1097.000000           21.400000   \n",
       "75%       1212.000000     1204.000000     1210.000000           23.600000   \n",
       "max       1295.000000     1298.000000     1284.000000           25.500000   \n",
       "\n",
       "       2018 ACT Composite  2019 ACT Composite  2017 Median Income  \\\n",
       "count           51.000000           51.000000           51.000000   \n",
       "mean            21.503922           21.480392        67386.666667   \n",
       "std              2.120279            2.212150        10301.737364   \n",
       "min             17.700000           17.900000        47837.000000   \n",
       "25%             19.950000           19.800000        60703.000000   \n",
       "50%             21.300000           21.100000        65984.000000   \n",
       "75%             23.750000           23.900000        75024.000000   \n",
       "max             25.600000           25.500000        90734.000000   \n",
       "\n",
       "       2018 Median Income  2019 Median Income  \n",
       "count           51.000000           51.000000  \n",
       "mean         68923.745098        73334.549020  \n",
       "std          10717.145099        11906.642523  \n",
       "min          46159.000000        47463.000000  \n",
       "25%          62106.500000        64516.000000  \n",
       "50%          67201.000000        71474.000000  \n",
       "75%          75641.500000        78852.500000  \n",
       "max          93163.000000       101283.000000  "
      ]
     },
     "execution_count": 208,
     "metadata": {},
     "output_type": "execute_result"
    }
   ],
   "source": [
    "#Code:\n",
    "merged_gdp_sat_act_df.describe()"
   ]
  },
  {
   "cell_type": "markdown",
   "metadata": {},
   "source": [
    "2. Dictionary Comprehension/Standard Deviation"
   ]
  },
  {
   "cell_type": "code",
   "execution_count": 209,
   "metadata": {},
   "outputs": [],
   "source": [
    "sd_dict = {}"
   ]
  },
  {
   "cell_type": "code",
   "execution_count": 210,
   "metadata": {},
   "outputs": [],
   "source": [
    "sd_dict['2017 SAT Total'.rstrip()]=my_sd(merged_gdp_sat_act_df['2017 SAT Total'])\n",
    "sd_dict['2018 SAT Total']=my_sd(merged_gdp_sat_act_df['2018 SAT Total'])\n",
    "sd_dict['2019 SAT Total']=my_sd(merged_gdp_sat_act_df['2019 SAT Total'])\n",
    "sd_dict['2017 ACT Composite']=my_sd(merged_gdp_sat_act_df['2017 ACT Composite'])\n",
    "sd_dict['2018 ACT Composite']=my_sd(merged_gdp_sat_act_df['2018 ACT Composite'])\n",
    "sd_dict['2019 ACT Composite']=my_sd(merged_gdp_sat_act_df['2019 ACT Composite'])\n",
    "\n",
    "\n",
    "sd_dict['2017 Median Income']=my_sd(merged_gdp_sat_act_df['2017 Median Income'])\n",
    "sd_dict['2018 Median Income']=my_sd(merged_gdp_sat_act_df['2018 Median Income'])\n",
    "sd_dict['2019 Median Income']=my_sd(merged_gdp_sat_act_df['2019 Median Income'])"
   ]
  },
  {
   "cell_type": "code",
   "execution_count": 211,
   "metadata": {},
   "outputs": [
    {
     "data": {
      "text/plain": [
       "{'2017 SAT Total': 89.62853410235164,\n",
       " '2018 SAT Total': 92.273268159942,\n",
       " '2019 SAT Total': 95.31098858162156,\n",
       " '2017 ACT Composite': 2.0034591385401597,\n",
       " '2018 ACT Composite': 2.099389340187203,\n",
       " '2019 ACT Composite': 2.1903549365739288,\n",
       " '2017 Median Income': 10200.239938867002,\n",
       " '2018 Median Income': 10611.554887531958,\n",
       " '2019 Median Income': 11789.332839334746}"
      ]
     },
     "execution_count": 211,
     "metadata": {},
     "output_type": "execute_result"
    }
   ],
   "source": [
    "sd_dict # how to get rid of \\t ? By getting rid of the unnecessary space behind"
   ]
  },
  {
   "cell_type": "markdown",
   "metadata": {},
   "source": [
    "3. **Investigate Trends in Data**"
   ]
  },
  {
   "cell_type": "markdown",
   "metadata": {},
   "source": [
    "States that have the highest and lowest mean total/composite scores for the 2017, 2019, or 2019 SAT and ACT?**"
   ]
  },
  {
   "cell_type": "markdown",
   "metadata": {},
   "source": [
    "**Sidenote to Self**: I found out later that there are the functions 'nlargest' and 'nsmallest' which eventually saved me a lot more time."
   ]
  },
  {
   "cell_type": "code",
   "execution_count": 212,
   "metadata": {},
   "outputs": [
    {
     "name": "stdout",
     "output_type": "stream",
     "text": [
      "Minnesota, Wisconsin, Iowa, Missouri, Kansas, North Dakota, Nebraska, Kentucky, Mississippi, Utah, "
     ]
    }
   ],
   "source": [
    "for i in merged_gdp_sat_act_df.nlargest(n=10, columns=['2017 SAT Total','2018 SAT Total', '2019 SAT Total'])['State']:\n",
    "    print (f\"{i}\", end= ', ')"
   ]
  },
  {
   "cell_type": "code",
   "execution_count": 213,
   "metadata": {},
   "outputs": [
    {
     "name": "stdout",
     "output_type": "stream",
     "text": [
      "Delaware, Idaho, Michigan, Maine, Maine, Florida, Texas, Connecticut, Oklahoma, Georgia, "
     ]
    }
   ],
   "source": [
    "for i in merged_gdp_sat_act_df.nsmallest(n=10, columns=['2017 SAT Total','2018 SAT Total', '2019 SAT Total'])['State']:\n",
    "    print (f\"{i}\", end= ', ')"
   ]
  },
  {
   "cell_type": "code",
   "execution_count": 214,
   "metadata": {},
   "outputs": [
    {
     "name": "stdout",
     "output_type": "stream",
     "text": [
      "New Hampshire, Massachusetts, Connecticut, Maine, Maine, New York, Michigan, Delaware, Rhode Island, New Jersey, "
     ]
    }
   ],
   "source": [
    "for i in merged_gdp_sat_act_df.nlargest(n=10, columns=['2017 ACT Composite','2018 ACT Composite', '2019 ACT Composite'])['State']:\n",
    "    print (f\"{i}\", end= ', ')"
   ]
  },
  {
   "cell_type": "code",
   "execution_count": 215,
   "metadata": {},
   "outputs": [
    {
     "name": "stdout",
     "output_type": "stream",
     "text": [
      "Nevada, Mississippi, South Carolina, Hawaii, North Carolina, Alabama, Oklahoma, Arkansas, Louisiana, Arizona, "
     ]
    }
   ],
   "source": [
    "for i in merged_gdp_sat_act_df.nsmallest(n=10, columns=['2017 ACT Composite','2018 ACT Composite', '2019 ACT Composite'])['State']:\n",
    "    print (f\"{i}\", end= ', ')"
   ]
  },
  {
   "cell_type": "markdown",
   "metadata": {},
   "source": [
    "**Findings:**\n",
    "\n",
    "**SAT Total Scores**\n",
    "\n",
    "Minnesota , Wisconsin , Iowa , Missouri , Kansas , North Dakota , Nebraska , Kentucky , Mississippi , Utah have the highest SAT scores.\n",
    "\n",
    "Delaware , Idaho , Michigan , Maine , Maine , Florida , Texas , Connecticut , Oklahoma , Georgia have the lowest SAT scores.\n",
    "\n",
    "**ACT Composite Scores**\n",
    "\n",
    "New Hampshire , Massachusetts , Connecticut , Maine , Maine , New York , Michigan , Delaware , Rhode Island , New Jersey have the highest ACT composite scores.\n",
    "\n",
    "Nevada , Mississippi , South Carolina , Hawaii , North Carolina , Alabama , Oklahoma , Arkansas , Louisiana , Arizona have the lowest ACT composite scores.\n",
    "\n",
    "------"
   ]
  },
  {
   "cell_type": "markdown",
   "metadata": {},
   "source": [
    "## Visualize the Data"
   ]
  },
  {
   "cell_type": "code",
   "execution_count": 216,
   "metadata": {},
   "outputs": [
    {
     "data": {
      "text/html": [
       "<div>\n",
       "<style scoped>\n",
       "    .dataframe tbody tr th:only-of-type {\n",
       "        vertical-align: middle;\n",
       "    }\n",
       "\n",
       "    .dataframe tbody tr th {\n",
       "        vertical-align: top;\n",
       "    }\n",
       "\n",
       "    .dataframe thead th {\n",
       "        text-align: right;\n",
       "    }\n",
       "</style>\n",
       "<table border=\"1\" class=\"dataframe\">\n",
       "  <thead>\n",
       "    <tr style=\"text-align: right;\">\n",
       "      <th></th>\n",
       "      <th>State</th>\n",
       "      <th>2017 SAT Total</th>\n",
       "      <th>2018 SAT Total</th>\n",
       "      <th>2019 SAT Total</th>\n",
       "      <th>2017 ACT Composite</th>\n",
       "      <th>2018 ACT Composite</th>\n",
       "      <th>2019 ACT Composite</th>\n",
       "      <th>2017 Median Income</th>\n",
       "      <th>2018 Median Income</th>\n",
       "      <th>2019 Median Income</th>\n",
       "    </tr>\n",
       "  </thead>\n",
       "  <tbody>\n",
       "    <tr>\n",
       "      <th>0</th>\n",
       "      <td>Alabama</td>\n",
       "      <td>1165.0</td>\n",
       "      <td>1166.0</td>\n",
       "      <td>1143.0</td>\n",
       "      <td>19.2</td>\n",
       "      <td>19.1</td>\n",
       "      <td>18.9</td>\n",
       "      <td>56219</td>\n",
       "      <td>53879</td>\n",
       "      <td>59558</td>\n",
       "    </tr>\n",
       "    <tr>\n",
       "      <th>1</th>\n",
       "      <td>Alaska</td>\n",
       "      <td>1080.0</td>\n",
       "      <td>1106.0</td>\n",
       "      <td>1097.0</td>\n",
       "      <td>19.8</td>\n",
       "      <td>20.8</td>\n",
       "      <td>20.1</td>\n",
       "      <td>86196</td>\n",
       "      <td>74161</td>\n",
       "      <td>83079</td>\n",
       "    </tr>\n",
       "    <tr>\n",
       "      <th>2</th>\n",
       "      <td>Arizona</td>\n",
       "      <td>1116.0</td>\n",
       "      <td>1149.0</td>\n",
       "      <td>1134.0</td>\n",
       "      <td>19.7</td>\n",
       "      <td>19.2</td>\n",
       "      <td>19.0</td>\n",
       "      <td>65984</td>\n",
       "      <td>67201</td>\n",
       "      <td>74897</td>\n",
       "    </tr>\n",
       "    <tr>\n",
       "      <th>3</th>\n",
       "      <td>Arkansas</td>\n",
       "      <td>1208.0</td>\n",
       "      <td>1169.0</td>\n",
       "      <td>1141.0</td>\n",
       "      <td>19.4</td>\n",
       "      <td>19.4</td>\n",
       "      <td>19.3</td>\n",
       "      <td>54988</td>\n",
       "      <td>53712</td>\n",
       "      <td>57799</td>\n",
       "    </tr>\n",
       "    <tr>\n",
       "      <th>4</th>\n",
       "      <td>California</td>\n",
       "      <td>1055.0</td>\n",
       "      <td>1076.0</td>\n",
       "      <td>1065.0</td>\n",
       "      <td>22.8</td>\n",
       "      <td>22.7</td>\n",
       "      <td>22.6</td>\n",
       "      <td>77410</td>\n",
       "      <td>76055</td>\n",
       "      <td>82772</td>\n",
       "    </tr>\n",
       "  </tbody>\n",
       "</table>\n",
       "</div>"
      ],
      "text/plain": [
       "        State  2017 SAT Total  2018 SAT Total  2019 SAT Total  \\\n",
       "0     Alabama          1165.0          1166.0          1143.0   \n",
       "1      Alaska          1080.0          1106.0          1097.0   \n",
       "2     Arizona          1116.0          1149.0          1134.0   \n",
       "3    Arkansas          1208.0          1169.0          1141.0   \n",
       "4  California          1055.0          1076.0          1065.0   \n",
       "\n",
       "   2017 ACT Composite  2018 ACT Composite  2019 ACT Composite  \\\n",
       "0                19.2                19.1                18.9   \n",
       "1                19.8                20.8                20.1   \n",
       "2                19.7                19.2                19.0   \n",
       "3                19.4                19.4                19.3   \n",
       "4                22.8                22.7                22.6   \n",
       "\n",
       "   2017 Median Income  2018 Median Income  2019 Median Income  \n",
       "0               56219               53879               59558  \n",
       "1               86196               74161               83079  \n",
       "2               65984               67201               74897  \n",
       "3               54988               53712               57799  \n",
       "4               77410               76055               82772  "
      ]
     },
     "execution_count": 216,
     "metadata": {},
     "output_type": "execute_result"
    }
   ],
   "source": [
    "# Code\n",
    "merged_gdp_sat_act_df.head()"
   ]
  },
  {
   "cell_type": "code",
   "execution_count": 230,
   "metadata": {},
   "outputs": [
    {
     "data": {
      "text/plain": [
       "<matplotlib.patches.Rectangle at 0x2001924d540>"
      ]
     },
     "execution_count": 230,
     "metadata": {},
     "output_type": "execute_result"
    },
    {
     "data": {
      "image/png": "[encoded data removed]",
      "text/plain": [
       "<Figure size 1080x1080 with 2 Axes>"
      ]
     },
     "metadata": {
      "needs_background": "light"
     },
     "output_type": "display_data"
    }
   ],
   "source": [
    "plot=plt.figure(figsize = (15,15))\n",
    "plot.suptitle(\"Correlation Between Merged Data\",size=24)\n",
    "data_corr=merged_gdp_sat_act_df.corr()\n",
    "mask = np.zeros_like(data_corr)\n",
    "mask[np.triu_indices_from(mask)] = True\n",
    "ax=sns.heatmap(data_corr, mask = mask, square = True, annot = True, fmt=\".1%\", vmin = -1, vmax = 1, linewidths = .5,cmap=\"RdYlGn\")\n",
    "ax.add_patch(Rectangle((0, 6), 1, 1, fill=False, edgecolor='cyan', lw=7, clip_on=False))\n",
    "ax.add_patch(Rectangle((1, 7), 1, 1, fill=False, edgecolor='cyan', lw=7, clip_on=False))\n",
    "ax.add_patch(Rectangle((2, 8), 1, 1, fill=False, edgecolor='cyan', lw=7, clip_on=False))\n",
    "ax.add_patch(Rectangle((3, 6), 1, 1, fill=False, edgecolor='cyan', lw=7, clip_on=False))\n",
    "ax.add_patch(Rectangle((4, 7), 1, 1, fill=False, edgecolor='cyan', lw=7, clip_on=False))\n",
    "ax.add_patch(Rectangle((5, 8), 1, 1, fill=False, edgecolor='cyan', lw=7, clip_on=False))\n",
    "\n",
    "# Source: https://cmdlinetips.com/2020/02/lower-triangle-correlation-heatmap-python/"
   ]
  },
  {
   "cell_type": "markdown",
   "metadata": {},
   "source": [
    "**Initialising the sub datasets**"
   ]
  },
  {
   "cell_type": "code",
   "execution_count": 218,
   "metadata": {},
   "outputs": [],
   "source": [
    "SAT_to_Median_2017 = merged_gdp_sat_act_df.loc[:,['2017 SAT Total','2017 Median Income']]\n",
    "SAT_to_Median_2018 = merged_gdp_sat_act_df.loc[:,['2018 SAT Total','2018 Median Income']]\n",
    "SAT_to_Median_2019 = merged_gdp_sat_act_df.loc[:,['2019 SAT Total','2019 Median Income']]\n",
    "\n",
    "ACT_to_Median_2017 = merged_gdp_sat_act_df.loc[:,['2017 ACT Composite','2017 Median Income']]\n",
    "ACT_to_Median_2018 = merged_gdp_sat_act_df.loc[:,['2018 ACT Composite','2018 Median Income']]\n",
    "ACT_to_Median_2019 = merged_gdp_sat_act_df.loc[:,['2019 ACT Composite','2019 Median Income']]"
   ]
  },
  {
   "cell_type": "markdown",
   "metadata": {},
   "source": [
    "**Average ACT Composite Score Versus Median Income by State by Year**"
   ]
  },
  {
   "cell_type": "code",
   "execution_count": 219,
   "metadata": {},
   "outputs": [
    {
     "data": {
      "image/png": "[encoded data removed]",
      "text/plain": [
       "<Figure size 1152x648 with 3 Axes>"
      ]
     },
     "metadata": {
      "needs_background": "light"
     },
     "output_type": "display_data"
    }
   ],
   "source": [
    "plt.figure(figsize = (16,9))\n",
    "\n",
    "ax1 = plt.subplot(3, 1, 1) # 3 rows by 1 column - the first plot\n",
    "ax1.set_title('2017 Average ACT Composite Score Versus Median Income by State')\n",
    "ax1.set(xlabel='2017 ACT Composite', ylabel='2017 Median Income by State')\n",
    "ax1.text(0.5, 0.8, f'Correlation = {ACT_to_Median_2017.corr().at[\"2017 Median Income\",\"2017 ACT Composite\"]}', horizontalalignment='center', verticalalignment='center', transform=ax1.transAxes)\n",
    "ax1.scatter(ACT_to_Median_2017['2017 ACT Composite'],\n",
    "            ACT_to_Median_2017['2017 Median Income']);\n",
    "\n",
    "ax2 = plt.subplot(3, 1, 2)\n",
    "ax2.set_title('2018 Average ACT Composite Score Versus Median Income by State')\n",
    "ax2.set(xlabel='2018 ACT Composite', ylabel='2018 Median Income by State')\n",
    "ax2.text(0.5, 0.8, f'Correlation = {ACT_to_Median_2018.corr().at[\"2018 Median Income\",\"2018 ACT Composite\"]}', horizontalalignment='center', verticalalignment='center', transform=ax2.transAxes)\n",
    "ax2.scatter(ACT_to_Median_2018['2018 ACT Composite'],\n",
    "            ACT_to_Median_2018['2018 Median Income']);\n",
    "\n",
    "ax3 = plt.subplot(3, 1, 3)\n",
    "ax3.set_title('2019 Average ACT Composite Score Versus Median Income by State')\n",
    "ax3.set(xlabel='2019 ACT Composite', ylabel='2019 Median Income by State')\n",
    "ax3.text(0.5, 0.8, f'Correlation = {ACT_to_Median_2019.corr().at[\"2019 Median Income\",\"2019 ACT Composite\"]}', horizontalalignment='center', verticalalignment='center', transform=ax3.transAxes)\n",
    "ax3.scatter(ACT_to_Median_2019['2019 ACT Composite'],\n",
    "            ACT_to_Median_2019['2019 Median Income']);\n",
    "\n",
    "plt.tight_layout() # adds more space"
   ]
  },
  {
   "cell_type": "markdown",
   "metadata": {},
   "source": [
    "**Average SAT Score Versus Median Income by State by Year**"
   ]
  },
  {
   "cell_type": "code",
   "execution_count": 220,
   "metadata": {},
   "outputs": [
    {
     "data": {
      "image/png": "[encoded data removed]",
      "text/plain": [
       "<Figure size 1152x648 with 3 Axes>"
      ]
     },
     "metadata": {
      "needs_background": "light"
     },
     "output_type": "display_data"
    }
   ],
   "source": [
    "plt.figure(figsize = (16,9))\n",
    "\n",
    "ax1 = plt.subplot(3, 1, 1) # 3 rows by 1 column - the first plot\n",
    "ax1.set_title('2017 Average SAT Score Versus Median Income by State')\n",
    "ax1.set(xlabel='2017 SAT Total', ylabel='2017 Median Income by State')\n",
    "ax1.text(0.5, 0.8, f'Correlation = {SAT_to_Median_2017.corr().at[\"2017 Median Income\",\"2017 SAT Total\"]}', horizontalalignment='center', verticalalignment='center', transform=ax1.transAxes)\n",
    "ax1.scatter(SAT_to_Median_2017['2017 SAT Total'],\n",
    "            SAT_to_Median_2017['2017 Median Income']);\n",
    "\n",
    "ax2 = plt.subplot(3, 1, 2)\n",
    "ax2.set_title('2018 Average SAT Score Versus Median Income by State')\n",
    "ax2.set(xlabel='2018 SAT Total', ylabel='2018 Median Income by State')\n",
    "ax2.text(0.5, 0.8, f'Correlation = {SAT_to_Median_2018.corr().at[\"2018 Median Income\",\"2018 SAT Total\"]}', horizontalalignment='center', verticalalignment='center', transform=ax2.transAxes)\n",
    "ax2.scatter(SAT_to_Median_2018['2018 SAT Total'],\n",
    "            SAT_to_Median_2018['2018 Median Income']);\n",
    "\n",
    "ax3 = plt.subplot(3, 1, 3)\n",
    "ax3.set_title('2019 Average SAT Score Versus Median Income by State')\n",
    "ax3.set(xlabel='2019 SAT Total', ylabel='2019 Median Income by State')\n",
    "ax3.text(0.5, 0.8, f'Correlation = {SAT_to_Median_2019.corr().at[\"2019 Median Income\",\"2019 SAT Total\"]}', horizontalalignment='center', verticalalignment='center', transform=ax3.transAxes)\n",
    "ax3.scatter(SAT_to_Median_2019['2019 SAT Total'],\n",
    "            SAT_to_Median_2019['2019 Median Income']);\n",
    "\n",
    "plt.tight_layout() # adds more space"
   ]
  },
  {
   "cell_type": "markdown",
   "metadata": {},
   "source": [
    "**Summary of Exploratory Data Analysis**\n",
    "\n",
    "The primary data I am concerned with are concentrated on the bottom left of the heatmap.\n",
    "\n",
    "Which I have plotted in the scatter plots.\n",
    "\n",
    "**Median Income against ACT Scores**\n",
    "|Dependent Variable|Independent Variable|Correlation Coefficient|\n",
    "|---|---|---|\n",
    "|2017 Median Income|2017 ACT Composite|49.7%|\n",
    "|2018 Median Income|2018 ACT Composite|55.1%|\n",
    "|2019 Median Income|2019 ACT Composite|53.0%|\n",
    "\n",
    "**Median Income against SAT Scores**\n",
    "|Dependent Variable|Independent Variable|Correlation Coefficient|\n",
    "|---|---|---|\n",
    "|2017 Median Income|2017 SAT Total|-16.5%|\n",
    "|2018 Median Income|2018 SAT Total|-17.2%|\n",
    "|2019 Median Income|2019 SAT Total|-8.8%|"
   ]
  },
  {
   "cell_type": "markdown",
   "metadata": {},
   "source": [
    "**Preliminary Conclusions**\n",
    "\n",
    "There appears to be a weak negative correlation (0 to 0.3) between Median Household income and the SAT Total Scores.\n",
    "\n",
    "There also appears to be a strong positive correlation (0.5 to 1.0) between the median income and the ACT composite scores.\n",
    "\n",
    "Source: https://www.verywellmind.com/what-is-correlation-2794986#:~:text=Correlations%20range%20from%20%2D1.00%20to,between%20the%20two%20variables%20is. \n",
    "_____"
   ]
  },
  {
   "cell_type": "markdown",
   "metadata": {},
   "source": [
    "**Let Us Go Deeper**\n",
    "\n",
    "Earlier in our EDA, we found out which states have the highest/lowest participation rates and the highest/lowest scores for both SAT and ACT."
   ]
  },
  {
   "cell_type": "code",
   "execution_count": 221,
   "metadata": {},
   "outputs": [
    {
     "data": {
      "text/html": [
       "<div>\n",
       "<style scoped>\n",
       "    .dataframe tbody tr th:only-of-type {\n",
       "        vertical-align: middle;\n",
       "    }\n",
       "\n",
       "    .dataframe tbody tr th {\n",
       "        vertical-align: top;\n",
       "    }\n",
       "\n",
       "    .dataframe thead th {\n",
       "        text-align: right;\n",
       "    }\n",
       "</style>\n",
       "<table border=\"1\" class=\"dataframe\">\n",
       "  <thead>\n",
       "    <tr style=\"text-align: right;\">\n",
       "      <th></th>\n",
       "      <th>State</th>\n",
       "      <th>2017 SAT Total</th>\n",
       "      <th>2018 SAT Total</th>\n",
       "      <th>2019 SAT Total</th>\n",
       "      <th>2017 ACT Composite</th>\n",
       "      <th>2018 ACT Composite</th>\n",
       "      <th>2019 ACT Composite</th>\n",
       "      <th>2017 Median Income</th>\n",
       "      <th>2018 Median Income</th>\n",
       "      <th>2019 Median Income</th>\n",
       "    </tr>\n",
       "  </thead>\n",
       "  <tbody>\n",
       "    <tr>\n",
       "      <th>0</th>\n",
       "      <td>Alabama</td>\n",
       "      <td>1165.0</td>\n",
       "      <td>1166.0</td>\n",
       "      <td>1143.0</td>\n",
       "      <td>19.2</td>\n",
       "      <td>19.1</td>\n",
       "      <td>18.9</td>\n",
       "      <td>56219</td>\n",
       "      <td>53879</td>\n",
       "      <td>59558</td>\n",
       "    </tr>\n",
       "    <tr>\n",
       "      <th>1</th>\n",
       "      <td>Alaska</td>\n",
       "      <td>1080.0</td>\n",
       "      <td>1106.0</td>\n",
       "      <td>1097.0</td>\n",
       "      <td>19.8</td>\n",
       "      <td>20.8</td>\n",
       "      <td>20.1</td>\n",
       "      <td>86196</td>\n",
       "      <td>74161</td>\n",
       "      <td>83079</td>\n",
       "    </tr>\n",
       "    <tr>\n",
       "      <th>2</th>\n",
       "      <td>Arizona</td>\n",
       "      <td>1116.0</td>\n",
       "      <td>1149.0</td>\n",
       "      <td>1134.0</td>\n",
       "      <td>19.7</td>\n",
       "      <td>19.2</td>\n",
       "      <td>19.0</td>\n",
       "      <td>65984</td>\n",
       "      <td>67201</td>\n",
       "      <td>74897</td>\n",
       "    </tr>\n",
       "    <tr>\n",
       "      <th>3</th>\n",
       "      <td>Arkansas</td>\n",
       "      <td>1208.0</td>\n",
       "      <td>1169.0</td>\n",
       "      <td>1141.0</td>\n",
       "      <td>19.4</td>\n",
       "      <td>19.4</td>\n",
       "      <td>19.3</td>\n",
       "      <td>54988</td>\n",
       "      <td>53712</td>\n",
       "      <td>57799</td>\n",
       "    </tr>\n",
       "    <tr>\n",
       "      <th>4</th>\n",
       "      <td>California</td>\n",
       "      <td>1055.0</td>\n",
       "      <td>1076.0</td>\n",
       "      <td>1065.0</td>\n",
       "      <td>22.8</td>\n",
       "      <td>22.7</td>\n",
       "      <td>22.6</td>\n",
       "      <td>77410</td>\n",
       "      <td>76055</td>\n",
       "      <td>82772</td>\n",
       "    </tr>\n",
       "  </tbody>\n",
       "</table>\n",
       "</div>"
      ],
      "text/plain": [
       "        State  2017 SAT Total  2018 SAT Total  2019 SAT Total  \\\n",
       "0     Alabama          1165.0          1166.0          1143.0   \n",
       "1      Alaska          1080.0          1106.0          1097.0   \n",
       "2     Arizona          1116.0          1149.0          1134.0   \n",
       "3    Arkansas          1208.0          1169.0          1141.0   \n",
       "4  California          1055.0          1076.0          1065.0   \n",
       "\n",
       "   2017 ACT Composite  2018 ACT Composite  2019 ACT Composite  \\\n",
       "0                19.2                19.1                18.9   \n",
       "1                19.8                20.8                20.1   \n",
       "2                19.7                19.2                19.0   \n",
       "3                19.4                19.4                19.3   \n",
       "4                22.8                22.7                22.6   \n",
       "\n",
       "   2017 Median Income  2018 Median Income  2019 Median Income  \n",
       "0               56219               53879               59558  \n",
       "1               86196               74161               83079  \n",
       "2               65984               67201               74897  \n",
       "3               54988               53712               57799  \n",
       "4               77410               76055               82772  "
      ]
     },
     "execution_count": 221,
     "metadata": {},
     "output_type": "execute_result"
    }
   ],
   "source": [
    "merged_gdp_sat_act_df.head()"
   ]
  },
  {
   "cell_type": "markdown",
   "metadata": {},
   "source": [
    "## ACT Participation and Median Income - Data From States with Highest Participation Rates"
   ]
  },
  {
   "cell_type": "code",
   "execution_count": 222,
   "metadata": {},
   "outputs": [
    {
     "ename": "KeyError",
     "evalue": "'2017 ACT Participation'",
     "output_type": "error",
     "traceback": [
      "\u001b[1;31m---------------------------------------------------------------------------\u001b[0m",
      "\u001b[1;31mKeyError\u001b[0m                                  Traceback (most recent call last)",
      "File \u001b[1;32mc:\\Users\\redoc\\AppData\\Local\\Programs\\Python\\Python310\\lib\\site-packages\\pandas\\core\\indexes\\base.py:3621\u001b[0m, in \u001b[0;36mIndex.get_loc\u001b[1;34m(self, key, method, tolerance)\u001b[0m\n\u001b[0;32m   3620\u001b[0m \u001b[39mtry\u001b[39;00m:\n\u001b[1;32m-> 3621\u001b[0m     \u001b[39mreturn\u001b[39;00m \u001b[39mself\u001b[39;49m\u001b[39m.\u001b[39;49m_engine\u001b[39m.\u001b[39;49mget_loc(casted_key)\n\u001b[0;32m   3622\u001b[0m \u001b[39mexcept\u001b[39;00m \u001b[39mKeyError\u001b[39;00m \u001b[39mas\u001b[39;00m err:\n",
      "File \u001b[1;32mc:\\Users\\redoc\\AppData\\Local\\Programs\\Python\\Python310\\lib\\site-packages\\pandas\\_libs\\index.pyx:136\u001b[0m, in \u001b[0;36mpandas._libs.index.IndexEngine.get_loc\u001b[1;34m()\u001b[0m\n",
      "File \u001b[1;32mc:\\Users\\redoc\\AppData\\Local\\Programs\\Python\\Python310\\lib\\site-packages\\pandas\\_libs\\index.pyx:163\u001b[0m, in \u001b[0;36mpandas._libs.index.IndexEngine.get_loc\u001b[1;34m()\u001b[0m\n",
      "File \u001b[1;32mpandas\\_libs\\hashtable_class_helper.pxi:5198\u001b[0m, in \u001b[0;36mpandas._libs.hashtable.PyObjectHashTable.get_item\u001b[1;34m()\u001b[0m\n",
      "File \u001b[1;32mpandas\\_libs\\hashtable_class_helper.pxi:5206\u001b[0m, in \u001b[0;36mpandas._libs.hashtable.PyObjectHashTable.get_item\u001b[1;34m()\u001b[0m\n",
      "\u001b[1;31mKeyError\u001b[0m: '2017 ACT Participation'",
      "\nThe above exception was the direct cause of the following exception:\n",
      "\u001b[1;31mKeyError\u001b[0m                                  Traceback (most recent call last)",
      "\u001b[1;32mc:\\Users\\redoc\\OneDrive\\Desktop\\DSI-Roughpaper\\0.0 project_1\\code\\project_1-joelquek.ipynb Cell 66\u001b[0m in \u001b[0;36m<cell line: 1>\u001b[1;34m()\u001b[0m\n\u001b[1;32m----> <a href='vscode-notebook-cell:/c%3A/Users/redoc/OneDrive/Desktop/DSI-Roughpaper/0.0%20project_1/code/project_1-joelquek.ipynb#Y200sZmlsZQ%3D%3D?line=0'>1</a>\u001b[0m ACT_participation \u001b[39m=\u001b[39m merged_gdp_sat_act_df\u001b[39m.\u001b[39;49mnlargest(n\u001b[39m=\u001b[39;49m\u001b[39m10\u001b[39;49m, columns\u001b[39m=\u001b[39;49m[\u001b[39m'\u001b[39;49m\u001b[39m2017 ACT Participation\u001b[39;49m\u001b[39m'\u001b[39;49m,\u001b[39m'\u001b[39;49m\u001b[39m2018 ACT Participation\u001b[39;49m\u001b[39m'\u001b[39;49m, \u001b[39m'\u001b[39;49m\u001b[39m2019 ACT Participation\u001b[39;49m\u001b[39m'\u001b[39;49m])\n\u001b[0;32m      <a href='vscode-notebook-cell:/c%3A/Users/redoc/OneDrive/Desktop/DSI-Roughpaper/0.0%20project_1/code/project_1-joelquek.ipynb#Y200sZmlsZQ%3D%3D?line=1'>2</a>\u001b[0m ACT_participation\n",
      "File \u001b[1;32mc:\\Users\\redoc\\AppData\\Local\\Programs\\Python\\Python310\\lib\\site-packages\\pandas\\core\\frame.py:6696\u001b[0m, in \u001b[0;36mDataFrame.nlargest\u001b[1;34m(self, n, columns, keep)\u001b[0m\n\u001b[0;32m   6591\u001b[0m \u001b[39mdef\u001b[39;00m \u001b[39mnlargest\u001b[39m(\u001b[39mself\u001b[39m, n: \u001b[39mint\u001b[39m, columns: IndexLabel, keep: \u001b[39mstr\u001b[39m \u001b[39m=\u001b[39m \u001b[39m\"\u001b[39m\u001b[39mfirst\u001b[39m\u001b[39m\"\u001b[39m) \u001b[39m-\u001b[39m\u001b[39m>\u001b[39m DataFrame:\n\u001b[0;32m   6592\u001b[0m     \u001b[39m\"\"\"\u001b[39;00m\n\u001b[0;32m   6593\u001b[0m \u001b[39m    Return the first `n` rows ordered by `columns` in descending order.\u001b[39;00m\n\u001b[0;32m   6594\u001b[0m \n\u001b[1;32m   (...)\u001b[0m\n\u001b[0;32m   6694\u001b[0m \u001b[39m    Brunei      434000    12128      BN\u001b[39;00m\n\u001b[0;32m   6695\u001b[0m \u001b[39m    \"\"\"\u001b[39;00m\n\u001b[1;32m-> 6696\u001b[0m     \u001b[39mreturn\u001b[39;00m algorithms\u001b[39m.\u001b[39;49mSelectNFrame(\u001b[39mself\u001b[39;49m, n\u001b[39m=\u001b[39;49mn, keep\u001b[39m=\u001b[39;49mkeep, columns\u001b[39m=\u001b[39;49mcolumns)\u001b[39m.\u001b[39;49mnlargest()\n",
      "File \u001b[1;32mc:\\Users\\redoc\\AppData\\Local\\Programs\\Python\\Python310\\lib\\site-packages\\pandas\\core\\algorithms.py:1137\u001b[0m, in \u001b[0;36mSelectN.nlargest\u001b[1;34m(self)\u001b[0m\n\u001b[0;32m   1135\u001b[0m \u001b[39m@final\u001b[39m\n\u001b[0;32m   1136\u001b[0m \u001b[39mdef\u001b[39;00m \u001b[39mnlargest\u001b[39m(\u001b[39mself\u001b[39m):\n\u001b[1;32m-> 1137\u001b[0m     \u001b[39mreturn\u001b[39;00m \u001b[39mself\u001b[39;49m\u001b[39m.\u001b[39;49mcompute(\u001b[39m\"\u001b[39;49m\u001b[39mnlargest\u001b[39;49m\u001b[39m\"\u001b[39;49m)\n",
      "File \u001b[1;32mc:\\Users\\redoc\\AppData\\Local\\Programs\\Python\\Python310\\lib\\site-packages\\pandas\\core\\algorithms.py:1278\u001b[0m, in \u001b[0;36mSelectNFrame.compute\u001b[1;34m(self, method)\u001b[0m\n\u001b[0;32m   1275\u001b[0m columns \u001b[39m=\u001b[39m \u001b[39mself\u001b[39m\u001b[39m.\u001b[39mcolumns\n\u001b[0;32m   1277\u001b[0m \u001b[39mfor\u001b[39;00m column \u001b[39min\u001b[39;00m columns:\n\u001b[1;32m-> 1278\u001b[0m     dtype \u001b[39m=\u001b[39m frame[column]\u001b[39m.\u001b[39mdtype\n\u001b[0;32m   1279\u001b[0m     \u001b[39mif\u001b[39;00m \u001b[39mnot\u001b[39;00m \u001b[39mself\u001b[39m\u001b[39m.\u001b[39mis_valid_dtype_n_method(dtype):\n\u001b[0;32m   1280\u001b[0m         \u001b[39mraise\u001b[39;00m \u001b[39mTypeError\u001b[39;00m(\n\u001b[0;32m   1281\u001b[0m             \u001b[39mf\u001b[39m\u001b[39m\"\u001b[39m\u001b[39mColumn \u001b[39m\u001b[39m{\u001b[39;00m\u001b[39mrepr\u001b[39m(column)\u001b[39m}\u001b[39;00m\u001b[39m has dtype \u001b[39m\u001b[39m{\u001b[39;00mdtype\u001b[39m}\u001b[39;00m\u001b[39m, \u001b[39m\u001b[39m\"\u001b[39m\n\u001b[0;32m   1282\u001b[0m             \u001b[39mf\u001b[39m\u001b[39m\"\u001b[39m\u001b[39mcannot use method \u001b[39m\u001b[39m{\u001b[39;00m\u001b[39mrepr\u001b[39m(method)\u001b[39m}\u001b[39;00m\u001b[39m with this dtype\u001b[39m\u001b[39m\"\u001b[39m\n\u001b[0;32m   1283\u001b[0m         )\n",
      "File \u001b[1;32mc:\\Users\\redoc\\AppData\\Local\\Programs\\Python\\Python310\\lib\\site-packages\\pandas\\core\\frame.py:3505\u001b[0m, in \u001b[0;36mDataFrame.__getitem__\u001b[1;34m(self, key)\u001b[0m\n\u001b[0;32m   3503\u001b[0m \u001b[39mif\u001b[39;00m \u001b[39mself\u001b[39m\u001b[39m.\u001b[39mcolumns\u001b[39m.\u001b[39mnlevels \u001b[39m>\u001b[39m \u001b[39m1\u001b[39m:\n\u001b[0;32m   3504\u001b[0m     \u001b[39mreturn\u001b[39;00m \u001b[39mself\u001b[39m\u001b[39m.\u001b[39m_getitem_multilevel(key)\n\u001b[1;32m-> 3505\u001b[0m indexer \u001b[39m=\u001b[39m \u001b[39mself\u001b[39;49m\u001b[39m.\u001b[39;49mcolumns\u001b[39m.\u001b[39;49mget_loc(key)\n\u001b[0;32m   3506\u001b[0m \u001b[39mif\u001b[39;00m is_integer(indexer):\n\u001b[0;32m   3507\u001b[0m     indexer \u001b[39m=\u001b[39m [indexer]\n",
      "File \u001b[1;32mc:\\Users\\redoc\\AppData\\Local\\Programs\\Python\\Python310\\lib\\site-packages\\pandas\\core\\indexes\\base.py:3623\u001b[0m, in \u001b[0;36mIndex.get_loc\u001b[1;34m(self, key, method, tolerance)\u001b[0m\n\u001b[0;32m   3621\u001b[0m     \u001b[39mreturn\u001b[39;00m \u001b[39mself\u001b[39m\u001b[39m.\u001b[39m_engine\u001b[39m.\u001b[39mget_loc(casted_key)\n\u001b[0;32m   3622\u001b[0m \u001b[39mexcept\u001b[39;00m \u001b[39mKeyError\u001b[39;00m \u001b[39mas\u001b[39;00m err:\n\u001b[1;32m-> 3623\u001b[0m     \u001b[39mraise\u001b[39;00m \u001b[39mKeyError\u001b[39;00m(key) \u001b[39mfrom\u001b[39;00m \u001b[39merr\u001b[39;00m\n\u001b[0;32m   3624\u001b[0m \u001b[39mexcept\u001b[39;00m \u001b[39mTypeError\u001b[39;00m:\n\u001b[0;32m   3625\u001b[0m     \u001b[39m# If we have a listlike key, _check_indexing_error will raise\u001b[39;00m\n\u001b[0;32m   3626\u001b[0m     \u001b[39m#  InvalidIndexError. Otherwise we fall through and re-raise\u001b[39;00m\n\u001b[0;32m   3627\u001b[0m     \u001b[39m#  the TypeError.\u001b[39;00m\n\u001b[0;32m   3628\u001b[0m     \u001b[39mself\u001b[39m\u001b[39m.\u001b[39m_check_indexing_error(key)\n",
      "\u001b[1;31mKeyError\u001b[0m: '2017 ACT Participation'"
     ]
    }
   ],
   "source": [
    "ACT_participation = merged_gdp_sat_act_df.nlargest(n=10, columns=['2017 ACT Participation','2018 ACT Participation', '2019 ACT Participation'])\n",
    "ACT_participation"
   ]
  },
  {
   "cell_type": "code",
   "execution_count": null,
   "metadata": {},
   "outputs": [],
   "source": [
    "plt.figure(figsize = (26,9))\n",
    "\n",
    "ax1 = plt.subplot(1, 3, 1)\n",
    "ax1.set_title('2019 Average ACT Participation Versus Median Income')\n",
    "# ax1.set(xlabel='2019 SAT Participation', ylabel='2017 Total GDP (Millions USD)')\n",
    "merged_gdp_sat_act_df.boxplot(column=['2019 Median Income'])\n",
    "ax1.scatter(ACT_participation['2019 ACT Participation'], ACT_participation['2019 Median Income'])\n",
    "\n",
    "ax2 = plt.subplot(1, 3, 2)\n",
    "ax2.set_title('2018 Average ACT Participation Versus Median Income')\n",
    "merged_gdp_sat_act_df.boxplot(column=['2018 Median Income'])\n",
    "ax2.scatter(ACT_participation['2018 ACT Participation'], ACT_participation['2018 Median Income'])\n",
    "\n",
    "ax3 = plt.subplot(1, 3, 3)\n",
    "ax3.set_title('2017 Average ACT Participation Versus Median Income')\n",
    "merged_gdp_sat_act_df.boxplot(column=['2017 Median Income'])\n",
    "ax3.scatter(ACT_participation['2017 ACT Participation'], ACT_participation['2017 Median Income'])\n",
    "\n",
    "# https://stackoverflow.com/questions/29779079/adding-a-scatter-of-points-to-a-boxplot-using-matplotlib"
   ]
  },
  {
   "cell_type": "markdown",
   "metadata": {},
   "source": [
    "It appears that the states with the highest participation rates in the ACT have **below average**  median household income."
   ]
  },
  {
   "cell_type": "markdown",
   "metadata": {},
   "source": [
    "## SAT Participation and Median Income - Data From States with Highest Participation Rates"
   ]
  },
  {
   "cell_type": "code",
   "execution_count": null,
   "metadata": {},
   "outputs": [],
   "source": [
    "SAT_participation = merged_gdp_sat_act_df.nlargest(n=10, columns=['2017 SAT Participation','2018 SAT Participation', '2019 SAT Participation'])\n",
    "SAT_participation"
   ]
  },
  {
   "cell_type": "code",
   "execution_count": null,
   "metadata": {},
   "outputs": [],
   "source": [
    "plt.figure(figsize = (26,9))\n",
    "\n",
    "ax1 = plt.subplot(1, 3, 1)\n",
    "ax1.set_title('2019 Average SAT Participation Versus Median Income')\n",
    "# ax1.set(xlabel='2019 SAT Participation', ylabel='2017 Total GDP (Millions USD)')\n",
    "merged_gdp_sat_act_df.boxplot(column=['2019 Median Income'])\n",
    "ax1.scatter(SAT_participation['2019 SAT Participation'], SAT_participation['2019 Median Income'])\n",
    "\n",
    "ax2 = plt.subplot(1, 3, 2)\n",
    "ax2.set_title('2018 Average SAT Participation Versus Median Income')\n",
    "merged_gdp_sat_act_df.boxplot(column=['2018 Median Income'])\n",
    "ax2.scatter(SAT_participation['2018 SAT Participation'], SAT_participation['2018 Median Income'])\n",
    "\n",
    "ax3 = plt.subplot(1, 3, 3)\n",
    "ax3.set_title('2017 Average SAT Participation Versus Median Income')\n",
    "merged_gdp_sat_act_df.boxplot(column=['2017 Median Income'])\n",
    "ax3.scatter(SAT_participation['2017 SAT Participation'], SAT_participation['2017 Median Income'])\n",
    "\n",
    "# https://stackoverflow.com/questions/29779079/adding-a-scatter-of-points-to-a-boxplot-using-matplotlib\n",
    "# https://stackoverflow.com/questions/68957917/matplotlib-boxplot-doesnt-align-with-overlaid-scatterplot "
   ]
  },
  {
   "cell_type": "markdown",
   "metadata": {},
   "source": [
    "It appears that the states with the highest participation rates in the SAT come from **average to above average** median household income."
   ]
  },
  {
   "cell_type": "markdown",
   "metadata": {},
   "source": [
    "## ACT Scores and Median Income - Data From States with Highest Scoring Rates"
   ]
  },
  {
   "cell_type": "code",
   "execution_count": null,
   "metadata": {},
   "outputs": [],
   "source": [
    "ACT_high_composite = merged_gdp_sat_act_df.nlargest(n=10, columns=['2017 ACT Composite','2018 ACT Composite', '2019 ACT Composite'])\n",
    "ACT_high_composite['Ones']=1\n",
    "ACT_high_composite"
   ]
  },
  {
   "cell_type": "code",
   "execution_count": null,
   "metadata": {},
   "outputs": [],
   "source": [
    "plt.figure(figsize = (26,9))\n",
    "\n",
    "ax1 = plt.subplot(1, 3, 1)\n",
    "ax1.set_title('2019 Average ACT Composite Versus Median Income')\n",
    "# ax1.set(xlabel='2019 SAT Participation', ylabel='2017 Total GDP (Millions USD)')\n",
    "merged_gdp_sat_act_df.boxplot(column=['2019 Median Income'])\n",
    "ax1.scatter(ACT_high_composite['Ones'], ACT_high_composite['2019 Median Income'])\n",
    "\n",
    "ax2 = plt.subplot(1, 3, 2)\n",
    "ax2.set_title('2018 Average ACT Composite Versus Median Income')\n",
    "merged_gdp_sat_act_df.boxplot(column=['2018 Median Income'])\n",
    "ax2.scatter(ACT_high_composite['Ones'], ACT_high_composite['2018 Median Income'])\n",
    "\n",
    "ax3 = plt.subplot(1, 3, 3)\n",
    "ax3.set_title('2017 Average ACT Composite Versus Median Income')\n",
    "merged_gdp_sat_act_df.boxplot(column=['2017 Median Income'])\n",
    "ax3.scatter(ACT_high_composite['Ones'], ACT_high_composite['2017 Median Income'])\n",
    "# I created a column of ones to keep the scatter points centered"
   ]
  },
  {
   "cell_type": "markdown",
   "metadata": {},
   "source": [
    "It appears that those states with higher ACT composite scores come from the **average to above average** median household income."
   ]
  },
  {
   "cell_type": "markdown",
   "metadata": {},
   "source": [
    "## SAT Scores and Median Income - Data From States with Highest Scoring Rates"
   ]
  },
  {
   "cell_type": "code",
   "execution_count": null,
   "metadata": {},
   "outputs": [],
   "source": [
    "SAT_high_score = merged_gdp_sat_act_df.nlargest(n=10, columns=['2017 SAT Total','2018 SAT Total', '2019 SAT Total'])\n",
    "SAT_high_score['Ones']=1\n",
    "SAT_high_score"
   ]
  },
  {
   "cell_type": "code",
   "execution_count": null,
   "metadata": {},
   "outputs": [],
   "source": [
    "plt.figure(figsize = (26,9))\n",
    "\n",
    "ax1 = plt.subplot(1, 3, 1)\n",
    "ax1.set_title('2019 Average SAT Total Versus Median Income')\n",
    "# ax1.set(xlabel='2019 SAT Participation', ylabel='2017 Total GDP (Millions USD)')\n",
    "merged_gdp_sat_act_df.boxplot(column=['2019 Median Income'])\n",
    "ax1.scatter(SAT_high_score['Ones'], SAT_high_score['2019 Median Income'])\n",
    "\n",
    "ax2 = plt.subplot(1, 3, 2)\n",
    "ax2.set_title('2018 Average SAT Total Versus Median Income')\n",
    "merged_gdp_sat_act_df.boxplot(column=['2018 Median Income'])\n",
    "ax2.scatter(SAT_high_score['Ones'], SAT_high_score['2018 Median Income'])\n",
    "\n",
    "ax3 = plt.subplot(1, 3, 3)\n",
    "ax3.set_title('2017 Average SAT Total Versus Median Income')\n",
    "merged_gdp_sat_act_df.boxplot(column=['2017 Median Income'])\n",
    "ax3.scatter(SAT_high_score['Ones'], SAT_high_score['2017 Median Income'])"
   ]
  },
  {
   "cell_type": "markdown",
   "metadata": {},
   "source": [
    "There appears to be no trend between high SAT scores and median income."
   ]
  },
  {
   "cell_type": "markdown",
   "metadata": {},
   "source": [
    "## Conclusions and Recommendations"
   ]
  },
  {
   "cell_type": "markdown",
   "metadata": {},
   "source": [
    "Based on your exploration of the data, what are you key takeaways and recommendations? Make sure to answer your question of interest or address your problem statement here."
   ]
  },
  {
   "cell_type": "markdown",
   "metadata": {},
   "source": [
    "**Correlation between ACT Scores and Household Income**\n",
    "\n",
    "As mentioned earlier there appears to be a strong positive correlation (0.5 to 1.0) between the median income and the ACT composite scores.\n",
    "\n",
    "This has been studied and I cite a [study by University of Pennsylvania](https://budgetmodel.wharton.upenn.edu/issues/2021/9/28/is-income-implicit-in-measures-of-student-ability#:~:text=The%20ACT%20composite%20score%20has,school%20GPA%20or%20class%20rank.) titled \"Is Income Implicit in Measures of Student Ability?\"\n",
    "\n",
    "---\n",
    "**What about the correlation between SAT Scores and Household Income?**\n",
    "\n",
    "---\n",
    "**What if we go deeper in our analysis to specific states?**\n",
    "\n",
    "---\n",
    "**Question** Are there any policies that skew the participation of states in either SAT or ACT?\n",
    "\n",
    "---"
   ]
  },
  {
   "cell_type": "markdown",
   "metadata": {},
   "source": [
    "Don't forget to create your **README** and **PDF POWERPOINT SLIDES**!\n",
    "\n",
    "**To-Do:** *If you combine your problem statement, data dictionary, brief summary of your analysis, and conclusions/recommendations, you have an amazing README.md file that quickly aligns your audience to the contents of your project.* Don't forget to cite your data sources!"
   ]
  },
  {
   "cell_type": "markdown",
   "metadata": {},
   "source": [
    "### What are my conclusions and recommendations. How do I value add?"
   ]
  }
 ],
 "metadata": {
  "anaconda-cloud": {},
  "kernelspec": {
   "display_name": "Python 3.10.5 64-bit",
   "language": "python",
   "name": "python3"
  },
  "language_info": {
   "codemirror_mode": {
    "name": "ipython",
    "version": 3
   },
   "file_extension": ".py",
   "mimetype": "text/x-python",
   "name": "python",
   "nbconvert_exporter": "python",
   "pygments_lexer": "ipython3",
   "version": "3.10.5"
  },
  "vscode": {
   "interpreter": {
    "hash": "f1131d84b9e97d700f196cec3f143c1c5ca4787d89ba01101505d30befb8a4c0"
   }
  }
 },
 "nbformat": 4,
 "nbformat_minor": 4
}
