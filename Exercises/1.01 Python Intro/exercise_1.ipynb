{
 "cells": [
  {
   "cell_type": "markdown",
   "metadata": {},
   "source": [
    "# Hands-on: Introduction to Python Programming"
   ]
  },
  {
   "cell_type": "markdown",
   "metadata": {},
   "source": [
    "## Exercise 1: Mailing Address\n",
    "Create a program that displays your name and complete mailing address formatted in the manner that you would usually see it on the outside of an envelope. Your program\n",
    "does not need to read any input from the user."
   ]
  },
  {
   "cell_type": "code",
   "execution_count": 1,
   "metadata": {},
   "outputs": [
    {
     "name": "stdout",
     "output_type": "stream",
     "text": [
      "Joel Quek \n",
      "Fake Address Road \n",
      "Block 123Z \n",
      "#13-222 \n",
      "S(123456) \n"
     ]
    }
   ],
   "source": [
    "print(\"Joel Quek \\nFake Address Road \\nBlock 123Z \\n#13-222 \\nS(123456) \")"
   ]
  },
  {
   "cell_type": "markdown",
   "metadata": {},
   "source": [
    "## Exercise 2: Area of a Room\n",
    "Write a program that asks the user to enter the width and length of a room. Once the values have been read, your program should compute and display the area of the room. The length and the width will be entered as floating point numbers. Include units in your prompt and output message; either feet or meters, depending on which\n",
    "unit you are more comfortable working with."
   ]
  },
  {
   "cell_type": "code",
   "execution_count": 3,
   "metadata": {},
   "outputs": [
    {
     "data": {
      "text/plain": [
       "47.0"
      ]
     },
     "execution_count": 3,
     "metadata": {},
     "output_type": "execute_result"
    }
   ],
   "source": [
    "# code for help\n",
    "length = input(\"Enter length of the room in meters: \")\n",
    "length = float(length)\n",
    "length+23\n"
   ]
  },
  {
   "cell_type": "code",
   "execution_count": 4,
   "metadata": {},
   "outputs": [
    {
     "name": "stdout",
     "output_type": "stream",
     "text": [
      "The area of the room is 264.0 meters\n"
     ]
    }
   ],
   "source": [
    "room_width=input(\"What is the width of the room in meters? \")\n",
    "room_length=input(\"What is the length of the room in meters? \")\n",
    "\n",
    "room_area= float(room_width)* float(room_length)\n",
    "\n",
    "print(f\"The area of the room is {room_area} meters\")"
   ]
  },
  {
   "cell_type": "markdown",
   "metadata": {},
   "source": [
    "## Exercise 3: Area of a Field\n",
    "Create a program that reads the length and width of a farmer’s field from the user in\n",
    "feet. Display the area of the field in acres.\n",
    "Hint: There are 43,560 square feet in an acre."
   ]
  },
  {
   "cell_type": "code",
   "execution_count": 5,
   "metadata": {},
   "outputs": [
    {
     "name": "stdout",
     "output_type": "stream",
     "text": [
      "The area of the field is 0.09173553719008265 acres\n"
     ]
    }
   ],
   "source": [
    "field_width=input(\"What is the width of the field in feet? \")\n",
    "field_length=input(\"What is the length of the field in feet? \")\n",
    "\n",
    "square_feet = float(field_length)*float(field_width)\n",
    "field_acres = square_feet/43560\n",
    "\n",
    "print(f\"The area of the field is {field_acres} acres\")"
   ]
  },
  {
   "cell_type": "markdown",
   "metadata": {},
   "source": [
    "## Exercise 4: Bottle Deposits\n",
    "\n",
    "In many jurisdictions a small deposit is added to drink containers to encourage people to recycle them. In one particular jurisdiction, drink containers holding one liter or less have a \\$0.1$ deposit and drink containers holding more than one liter have a $0.25$ deposit.\n",
    "Write a program that reads the number of containers of each size from the user.\n",
    "Your program should continue by computing and displaying the refund that will be received for returning those containers. Format the output so that it includes a dollar sign and always displays exactly two decimal places."
   ]
  },
  {
   "cell_type": "code",
   "execution_count": 2,
   "metadata": {},
   "outputs": [
    {
     "data": {
      "text/plain": [
       "2.57"
      ]
     },
     "execution_count": 2,
     "metadata": {},
     "output_type": "execute_result"
    }
   ],
   "source": [
    "#code for help\n",
    "round(2.5678,2)"
   ]
  },
  {
   "cell_type": "code",
   "execution_count": 9,
   "metadata": {},
   "outputs": [
    {
     "data": {
      "text/plain": [
       "'You have received $9.15. Thank you for recycling!'"
      ]
     },
     "execution_count": 9,
     "metadata": {},
     "output_type": "execute_result"
    }
   ],
   "source": [
    "big_drink = float(input('How many big containers?'))\n",
    "small_drink=float(input('How many small containers?'))\n",
    "\n",
    "big_refund = big_drink*0.25\n",
    "small_refund= small_drink*0.1\n",
    "\n",
    "total_refund = big_refund+small_refund\n",
    "round(total_refund,2)\n",
    "\n",
    "f\"You have received ${total_refund}. Thank you for recycling!\""
   ]
  }
 ],
 "metadata": {
  "kernelspec": {
   "display_name": "Python 3.10.5 64-bit",
   "language": "python",
   "name": "python3"
  },
  "language_info": {
   "codemirror_mode": {
    "name": "ipython",
    "version": 3
   },
   "file_extension": ".py",
   "mimetype": "text/x-python",
   "name": "python",
   "nbconvert_exporter": "python",
   "pygments_lexer": "ipython3",
   "version": "3.10.5"
  },
  "vscode": {
   "interpreter": {
    "hash": "f1131d84b9e97d700f196cec3f143c1c5ca4787d89ba01101505d30befb8a4c0"
   }
  }
 },
 "nbformat": 4,
 "nbformat_minor": 2
}
